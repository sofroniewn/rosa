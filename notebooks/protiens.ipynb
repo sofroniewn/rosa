{
 "cells": [
  {
   "cell_type": "markdown",
   "metadata": {},
   "source": [
    "## Match genes to proteins"
   ]
  },
  {
   "cell_type": "code",
   "execution_count": null,
   "metadata": {},
   "outputs": [],
   "source": [
    "from pyensembl import EnsemblRelease\n",
    "\n",
    "genome = EnsemblRelease(77)\n",
    "# genome.download()\n",
    "# genome.index()"
   ]
  },
  {
   "cell_type": "code",
   "execution_count": null,
   "metadata": {},
   "outputs": [],
   "source": [
    "label = 'ENSG00000002079'"
   ]
  },
  {
   "cell_type": "code",
   "execution_count": null,
   "metadata": {},
   "outputs": [],
   "source": [
    "genome.gene_ids()[0]"
   ]
  },
  {
   "cell_type": "code",
   "execution_count": null,
   "metadata": {},
   "outputs": [],
   "source": [
    "gene = genome.gene_by_id('ENSG00000000003')\n",
    "\n",
    "# Observed and predicted gene expression values were obtained by summing up the observed/predicted CAGE read counts\n",
    "# at all unique TSS locations of the gene. For each TSS location, we used the 128-bp bin overlapping the TSS as well\n",
    "# as the two neighboring bins (3 bins in total).\n",
    "\n",
    "# For each gene, look through all transcipts - protein coding / not, and record offsets from gene start\n",
    "gene.transcripts"
   ]
  },
  {
   "cell_type": "code",
   "execution_count": null,
   "metadata": {},
   "outputs": [],
   "source": [
    "len(genome.protein_ids())"
   ]
  },
  {
   "cell_type": "code",
   "execution_count": null,
   "metadata": {},
   "outputs": [],
   "source": [
    "protein_id = genome.protein_ids()[0]\n",
    "genome.protein_sequence(protein_id)\n",
    "\n",
    "# results = []\n",
    "# for protein_id in genome.protein_ids():\n",
    "#     sequence = genome.protein_sequence(protein_id)\n",
    "#     if '*' not in sequence:\n",
    "#         results.append({\n",
    "#             'protein_id': protein_id,\n",
    "#             'protein_sequence': sequence\n",
    "#         })"
   ]
  },
  {
   "cell_type": "code",
   "execution_count": null,
   "metadata": {},
   "outputs": [],
   "source": [
    "gene.transcripts[0]"
   ]
  },
  {
   "cell_type": "code",
   "execution_count": null,
   "metadata": {},
   "outputs": [],
   "source": [
    "gene"
   ]
  },
  {
   "cell_type": "code",
   "execution_count": null,
   "metadata": {},
   "outputs": [],
   "source": [
    "# !pip install pybiomart"
   ]
  },
  {
   "cell_type": "code",
   "execution_count": null,
   "metadata": {},
   "outputs": [],
   "source": [
    "from pybiomart import Dataset as PyBiomartDataset\n",
    "\n",
    "dataset = PyBiomartDataset(name='hsapiens_gene_ensembl', host='http://www.ensembl.org')"
   ]
  },
  {
   "cell_type": "code",
   "execution_count": null,
   "metadata": {},
   "outputs": [],
   "source": [
    "# dataset.list_attributes().to_clipboard()"
   ]
  },
  {
   "cell_type": "code",
   "execution_count": null,
   "metadata": {},
   "outputs": [],
   "source": [
    "genes_proteins = dataset.query(attributes=['ensembl_gene_id', 'ensembl_peptide_id',\n",
    "                                            'gene_biotype', 'transcript_is_canonical', 'peptide'], filters={})\n",
    "genes_proteins = genes_proteins[genes_proteins['Ensembl Canonical'] == 1.0]"
   ]
  },
  {
   "cell_type": "code",
   "execution_count": null,
   "metadata": {},
   "outputs": [],
   "source": [
    "# genes_proteins.to_csv('gene2protein.csv')"
   ]
  },
  {
   "cell_type": "code",
   "execution_count": null,
   "metadata": {},
   "outputs": [],
   "source": [
    "import anndata as ad\n",
    "\n",
    "ADATA_PATH = '/home/ec2-user/cell_census/tabula_sapiens__sample_donor_id__label_cell_type.h5ad'\n",
    "adata = ad.read_h5ad(ADATA_PATH)"
   ]
  },
  {
   "cell_type": "code",
   "execution_count": null,
   "metadata": {},
   "outputs": [],
   "source": [
    "genes = list(adata.var.index)"
   ]
  },
  {
   "cell_type": "code",
   "execution_count": null,
   "metadata": {},
   "outputs": [],
   "source": [
    "genes"
   ]
  },
  {
   "cell_type": "code",
   "execution_count": null,
   "metadata": {},
   "outputs": [],
   "source": [
    "proteins = []\n",
    "for gene in genes:\n",
    "    prot = genes_proteins[genes_proteins['Gene stable ID'] == gene]\n",
    "    if len(prot) != 1:\n",
    "        raise ValueError(f'Gene {gene} has {len(prot)} proteins')\n",
    "    proteins.append(prot)"
   ]
  },
  {
   "cell_type": "code",
   "execution_count": null,
   "metadata": {},
   "outputs": [],
   "source": [
    "import pandas as pd\n",
    "\n",
    "df = pd.concat(proteins)\n",
    "df = df.set_index('Gene stable ID')\n",
    "df = df[['Peptide', 'Protein stable ID']]\n"
   ]
  },
  {
   "cell_type": "code",
   "execution_count": null,
   "metadata": {},
   "outputs": [],
   "source": [
    "df"
   ]
  },
  {
   "cell_type": "code",
   "execution_count": null,
   "metadata": {},
   "outputs": [],
   "source": [
    "df['Peptide Length'] = df['Peptide'].apply(len)"
   ]
  },
  {
   "cell_type": "code",
   "execution_count": null,
   "metadata": {},
   "outputs": [],
   "source": [
    "(df['Peptide Length'] < 100).sum()"
   ]
  },
  {
   "cell_type": "code",
   "execution_count": null,
   "metadata": {},
   "outputs": [],
   "source": [
    "df.to_csv('gene2protein_coding.csv')"
   ]
  },
  {
   "cell_type": "markdown",
   "metadata": {},
   "source": [
    "## Generate protein embeddins"
   ]
  },
  {
   "cell_type": "code",
   "execution_count": null,
   "metadata": {},
   "outputs": [],
   "source": [
    "!pip install fair-esm"
   ]
  },
  {
   "cell_type": "code",
   "execution_count": null,
   "metadata": {},
   "outputs": [],
   "source": [
    "import pandas as pd\n",
    "\n",
    "df = pd.read_csv('gene2protein_coding.csv', index_col='Gene stable ID')"
   ]
  },
  {
   "cell_type": "code",
   "execution_count": null,
   "metadata": {},
   "outputs": [],
   "source": [
    "import esm\n",
    "\n",
    "\n",
    "# Load ESM-2 model\n",
    "model, alphabet = esm.pretrained.esm2_t33_650M_UR50D()\n",
    "model.eval()  # disables dropout for deterministic results"
   ]
  },
  {
   "cell_type": "code",
   "execution_count": null,
   "metadata": {},
   "outputs": [],
   "source": [
    "from torch.utils.data import DataLoader\n",
    "\n",
    "TRUNCATION_SEQ_LENGTH = 1024\n",
    "TOKENS_PER_BATCH = 2048\n",
    "\n",
    "sequences = df['Peptide'].apply(lambda x: x.replace('*', '')).values\n",
    "genes = df.index.values\n",
    "dataset = esm.data.FastaBatchedDataset(genes, sequences)\n",
    "batches = dataset.get_batch_indices(TOKENS_PER_BATCH, extra_toks_per_seq=1)\n",
    "data_loader = DataLoader(\n",
    "    dataset, collate_fn=alphabet.get_batch_converter(TRUNCATION_SEQ_LENGTH), batch_sampler=batches\n",
    ")"
   ]
  },
  {
   "cell_type": "code",
   "execution_count": null,
   "metadata": {},
   "outputs": [],
   "source": [
    "from tqdm import tqdm\n",
    "import zarr"
   ]
  },
  {
   "cell_type": "code",
   "execution_count": null,
   "metadata": {},
   "outputs": [],
   "source": [
    "NUM_GENES = len(dataset)\n",
    "EMBED_DIM = 1280\n",
    "EMBEDDING_LAYER = 33"
   ]
  },
  {
   "cell_type": "code",
   "execution_count": null,
   "metadata": {},
   "outputs": [],
   "source": [
    "BASE_PT = \"/home/ec2-user/esm\"\n",
    "PROTEIN_EMBED_PATH = BASE_PT + \"/ESM_proteins_embeddings_var_0.zarr\""
   ]
  },
  {
   "cell_type": "code",
   "execution_count": null,
   "metadata": {},
   "outputs": [],
   "source": [
    "z_embedding_prot = zarr.open(\n",
    "    PROTEIN_EMBED_PATH,\n",
    "    mode=\"w\",\n",
    "    # shape=(5 + 2*len(sigmas), NUM_GENES, EMBED_DIM),\n",
    "    shape=(NUM_GENES, 2, EMBED_DIM),\n",
    "    chunks=(1, 2, EMBED_DIM),\n",
    "    dtype=\"float32\",\n",
    ")"
   ]
  },
  {
   "cell_type": "code",
   "execution_count": null,
   "metadata": {},
   "outputs": [],
   "source": [
    "import torch\n",
    "\n",
    "\n",
    "if torch.cuda.is_available():\n",
    "    model = model.to(device=\"cuda\", non_blocking=True)"
   ]
  },
  {
   "cell_type": "code",
   "execution_count": null,
   "metadata": {},
   "outputs": [],
   "source": [
    "for batch_idx, (labels, strs, toks) in tqdm(enumerate(data_loader)):\n",
    "    if torch.cuda.is_available():\n",
    "        toks = toks.to(device=\"cuda\", non_blocking=True)\n",
    "\n",
    "    out = model(toks, repr_layers=[EMBEDDING_LAYER], return_contacts=False)\n",
    "    representations = out[\"representations\"][EMBEDDING_LAYER]\n",
    "    \n",
    "    # Save data for each protein\n",
    "    for i, label in enumerate(labels):\n",
    "        index = df.index.get_loc(label)\n",
    "        truncate_len = min(TRUNCATION_SEQ_LENGTH, len(strs[i]))\n",
    "        bos = representations[i, 0]\n",
    "        mean = representations[i, 1:truncate_len + 1].mean(dim=0)\n",
    "        z_embedding_prot[i, 0, :] = bos.detach().cpu().numpy()\n",
    "        z_embedding_prot[i, 1, :] = mean.detach().cpu().numpy()\n"
   ]
  },
  {
   "cell_type": "markdown",
   "metadata": {},
   "source": [
    "## Add embeddings"
   ]
  },
  {
   "cell_type": "code",
   "execution_count": 1,
   "metadata": {},
   "outputs": [],
   "source": [
    "import zarr\n",
    "\n",
    "z = zarr.open('/home/ec2-user/esm/ESM_proteins_embeddings_var_0.zarr', 'r')\n"
   ]
  },
  {
   "cell_type": "code",
   "execution_count": 2,
   "metadata": {},
   "outputs": [],
   "source": [
    "import anndata as ad\n",
    "\n",
    "PATH = '/home/ec2-user/cell_census/tabula_sapiens__gene_prot__sample_donor_id__label_cell_type.h5ad'\n",
    "\n",
    "adata = ad.read_h5ad(PATH)"
   ]
  },
  {
   "cell_type": "code",
   "execution_count": 3,
   "metadata": {},
   "outputs": [],
   "source": [
    "# for key in list(adata.varm.keys())[1:]:\n",
    "#     del adata.varm[key]"
   ]
  },
  {
   "cell_type": "code",
   "execution_count": 4,
   "metadata": {},
   "outputs": [],
   "source": [
    "import numpy as np"
   ]
  },
  {
   "cell_type": "code",
   "execution_count": 5,
   "metadata": {},
   "outputs": [
    {
     "data": {
      "text/plain": [
       "(19431, 2, 1280)"
      ]
     },
     "execution_count": 5,
     "metadata": {},
     "output_type": "execute_result"
    }
   ],
   "source": [
    "z.shape"
   ]
  },
  {
   "cell_type": "code",
   "execution_count": 6,
   "metadata": {},
   "outputs": [],
   "source": [
    "adata.varm['embedding_prot_bos'] = np.asarray(z[:, 0, :])\n",
    "adata.varm['embedding_prot_mean'] = np.asarray(z[:, 1, :])"
   ]
  },
  {
   "cell_type": "code",
   "execution_count": 7,
   "metadata": {},
   "outputs": [],
   "source": [
    "PATH_NEW = '/home/ec2-user/cell_census/tabula_sapiens__gene_prot__sample_donor_id__label_cell_type.h5ad'\n",
    "\n",
    "adata.write_h5ad(PATH_NEW)"
   ]
  },
  {
   "cell_type": "code",
   "execution_count": 8,
   "metadata": {},
   "outputs": [],
   "source": [
    "import matplotlib.pyplot as plt"
   ]
  },
  {
   "cell_type": "code",
   "execution_count": 9,
   "metadata": {},
   "outputs": [
    {
     "data": {
      "text/plain": [
       "(0.0, 200.0)"
      ]
     },
     "execution_count": 9,
     "metadata": {},
     "output_type": "execute_result"
    },
    {
     "data": {
      "image/png": "[encoded data removed]",
      "text/plain": [
       "<Figure size 640x480 with 1 Axes>"
      ]
     },
     "metadata": {},
     "output_type": "display_data"
    }
   ],
   "source": [
    "plt.plot(z[:, 1, :].max(axis=1));\n",
    "plt.xlim([0, 200])"
   ]
  },
  {
   "cell_type": "code",
   "execution_count": null,
   "metadata": {},
   "outputs": [],
   "source": []
  }
 ],
 "metadata": {
  "kernelspec": {
   "display_name": "pytorch",
   "language": "python",
   "name": "python3"
  },
  "language_info": {
   "codemirror_mode": {
    "name": "ipython",
    "version": 3
   },
   "file_extension": ".py",
   "mimetype": "text/x-python",
   "name": "python",
   "nbconvert_exporter": "python",
   "pygments_lexer": "ipython3",
   "version": "3.9.13"
  },
  "orig_nbformat": 4
 },
 "nbformat": 4,
 "nbformat_minor": 2
}
