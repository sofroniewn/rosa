{
 "cells": [
  {
   "cell_type": "code",
   "execution_count": 9,
   "metadata": {},
   "outputs": [
    {
     "name": "stderr",
     "output_type": "stream",
     "text": [
      "INFO:pyensembl.download_cache:Fetching /home/ec2-user/.cache/pyensembl/GRCh38/ensembl77/Homo_sapiens.GRCh38.77.gtf.gz from URL https://ftp.ensembl.org/pub/release-77/gtf/homo_sapiens/Homo_sapiens.GRCh38.77.gtf.gz\n",
      "INFO:datacache.download:Downloading https://ftp.ensembl.org/pub/release-77/gtf/homo_sapiens/Homo_sapiens.GRCh38.77.gtf.gz to /home/ec2-user/.cache/pyensembl/GRCh38/ensembl77/Homo_sapiens.GRCh38.77.gtf.gz\n",
      "INFO:pyensembl.download_cache:Fetching /home/ec2-user/.cache/pyensembl/GRCh38/ensembl77/Homo_sapiens.GRCh38.cdna.all.fa.gz from URL https://ftp.ensembl.org/pub/release-77/fasta/homo_sapiens/cdna/Homo_sapiens.GRCh38.cdna.all.fa.gz\n",
      "INFO:datacache.download:Downloading https://ftp.ensembl.org/pub/release-77/fasta/homo_sapiens/cdna/Homo_sapiens.GRCh38.cdna.all.fa.gz to /home/ec2-user/.cache/pyensembl/GRCh38/ensembl77/Homo_sapiens.GRCh38.cdna.all.fa.gz\n",
      "INFO:pyensembl.download_cache:Fetching /home/ec2-user/.cache/pyensembl/GRCh38/ensembl77/Homo_sapiens.GRCh38.ncrna.fa.gz from URL https://ftp.ensembl.org/pub/release-77/fasta/homo_sapiens/ncrna/Homo_sapiens.GRCh38.ncrna.fa.gz\n",
      "INFO:datacache.download:Downloading https://ftp.ensembl.org/pub/release-77/fasta/homo_sapiens/ncrna/Homo_sapiens.GRCh38.ncrna.fa.gz to /home/ec2-user/.cache/pyensembl/GRCh38/ensembl77/Homo_sapiens.GRCh38.ncrna.fa.gz\n",
      "INFO:pyensembl.download_cache:Fetching /home/ec2-user/.cache/pyensembl/GRCh38/ensembl77/Homo_sapiens.GRCh38.pep.all.fa.gz from URL https://ftp.ensembl.org/pub/release-77/fasta/homo_sapiens/pep/Homo_sapiens.GRCh38.pep.all.fa.gz\n",
      "INFO:datacache.download:Downloading https://ftp.ensembl.org/pub/release-77/fasta/homo_sapiens/pep/Homo_sapiens.GRCh38.pep.all.fa.gz to /home/ec2-user/.cache/pyensembl/GRCh38/ensembl77/Homo_sapiens.GRCh38.pep.all.fa.gz\n",
      "INFO:pyensembl.database:Creating database: /home/ec2-user/.cache/pyensembl/GRCh38/ensembl77/Homo_sapiens.GRCh38.77.gtf.db\n",
      "INFO:pyensembl.database:Reading GTF from /home/ec2-user/.cache/pyensembl/GRCh38/ensembl77/Homo_sapiens.GRCh38.77.gtf.gz\n",
      "INFO:root:Extracted GTF attributes: ['gene_id', 'gene_version', 'gene_name', 'gene_biotype', 'transcript_id', 'transcript_version', 'transcript_name', 'transcript_biotype', 'exon_number', 'exon_id', 'exon_version', 'ccds_id', 'protein_id', 'protein_version']\n",
      "INFO:datacache.database_helpers:Creating database /home/ec2-user/.cache/pyensembl/GRCh38/ensembl77/Homo_sapiens.GRCh38.77.gtf.db containing: gene, transcript, exon, CDS, stop_codon, start_codon\n",
      "INFO:datacache.database:Running sqlite query: \"CREATE TABLE gene (transcript_biotype TEXT NOT NULL, gene_version TEXT NOT NULL, exon_version TEXT NOT NULL, exon_id TEXT NOT NULL, start INT NOT NULL, transcript_id TEXT NOT NULL, protein_version TEXT NOT NULL, transcript_name TEXT NOT NULL, exon_number TEXT NOT NULL, ccds_id TEXT NOT NULL, end INT NOT NULL, protein_id TEXT NOT NULL, seqname TEXT NOT NULL, feature TEXT NOT NULL, gene_name TEXT NOT NULL, transcript_version TEXT NOT NULL, strand TEXT NOT NULL, gene_biotype TEXT NOT NULL, gene_id TEXT UNIQUE PRIMARY KEY NOT NULL, source TEXT NOT NULL)\"\n",
      "INFO:datacache.database:Inserting 64253 rows into table gene\n",
      "INFO:datacache.database:Creating index on gene (seqname, start, end)\n",
      "INFO:datacache.database:Creating index on gene (gene_name)\n",
      "INFO:datacache.database:Creating index on gene (transcript_id)\n",
      "INFO:datacache.database:Creating index on gene (transcript_name)\n",
      "INFO:datacache.database:Creating index on gene (exon_id)\n",
      "INFO:datacache.database:Creating index on gene (protein_id)\n",
      "INFO:datacache.database:Creating index on gene (ccds_id)\n",
      "INFO:datacache.database:Running sqlite query: \"CREATE TABLE transcript (transcript_biotype TEXT NOT NULL, gene_version TEXT NOT NULL, exon_version TEXT NOT NULL, exon_id TEXT NOT NULL, start INT NOT NULL, transcript_id TEXT UNIQUE PRIMARY KEY NOT NULL, protein_version TEXT NOT NULL, transcript_name TEXT NOT NULL, exon_number TEXT NOT NULL, ccds_id TEXT NOT NULL, end INT NOT NULL, protein_id TEXT NOT NULL, seqname TEXT NOT NULL, feature TEXT NOT NULL, gene_name TEXT NOT NULL, transcript_version TEXT NOT NULL, strand TEXT NOT NULL, gene_biotype TEXT NOT NULL, gene_id TEXT NOT NULL, source TEXT NOT NULL)\"\n",
      "INFO:datacache.database:Inserting 208244 rows into table transcript\n",
      "INFO:datacache.database:Creating index on transcript (seqname, start, end)\n",
      "INFO:datacache.database:Creating index on transcript (gene_name)\n",
      "INFO:datacache.database:Creating index on transcript (gene_id)\n",
      "INFO:datacache.database:Creating index on transcript (transcript_name)\n",
      "INFO:datacache.database:Creating index on transcript (exon_id)\n",
      "INFO:datacache.database:Creating index on transcript (protein_id)\n",
      "INFO:datacache.database:Creating index on transcript (ccds_id)\n",
      "INFO:datacache.database:Running sqlite query: \"CREATE TABLE exon (transcript_biotype TEXT NOT NULL, gene_version TEXT NOT NULL, exon_version TEXT NOT NULL, exon_id TEXT NOT NULL, start INT NOT NULL, transcript_id TEXT NOT NULL, protein_version TEXT NOT NULL, transcript_name TEXT NOT NULL, exon_number TEXT NOT NULL, ccds_id TEXT NOT NULL, end INT NOT NULL, protein_id TEXT NOT NULL, seqname TEXT NOT NULL, feature TEXT NOT NULL, gene_name TEXT NOT NULL, transcript_version TEXT NOT NULL, strand TEXT NOT NULL, gene_biotype TEXT NOT NULL, gene_id TEXT NOT NULL, source TEXT NOT NULL)\"\n",
      "INFO:datacache.database:Inserting 1232660 rows into table exon\n",
      "INFO:datacache.database:Creating index on exon (seqname, start, end)\n",
      "INFO:datacache.database:Creating index on exon (gene_name)\n",
      "INFO:datacache.database:Creating index on exon (gene_id)\n",
      "INFO:datacache.database:Creating index on exon (transcript_id)\n",
      "INFO:datacache.database:Creating index on exon (transcript_name)\n",
      "INFO:datacache.database:Creating index on exon (exon_id)\n",
      "INFO:datacache.database:Creating index on exon (protein_id)\n",
      "INFO:datacache.database:Creating index on exon (ccds_id)\n",
      "INFO:datacache.database:Running sqlite query: \"CREATE TABLE CDS (transcript_biotype TEXT NOT NULL, gene_version TEXT NOT NULL, exon_version TEXT NOT NULL, exon_id TEXT NOT NULL, start INT NOT NULL, transcript_id TEXT NOT NULL, protein_version TEXT NOT NULL, transcript_name TEXT NOT NULL, exon_number TEXT NOT NULL, ccds_id TEXT NOT NULL, end INT NOT NULL, protein_id TEXT NOT NULL, seqname TEXT NOT NULL, feature TEXT NOT NULL, gene_name TEXT NOT NULL, transcript_version TEXT NOT NULL, strand TEXT NOT NULL, gene_biotype TEXT NOT NULL, gene_id TEXT NOT NULL, source TEXT NOT NULL)\"\n",
      "INFO:datacache.database:Inserting 742865 rows into table CDS\n",
      "INFO:datacache.database:Creating index on CDS (seqname, start, end)\n",
      "INFO:datacache.database:Creating index on CDS (gene_name)\n",
      "INFO:datacache.database:Creating index on CDS (gene_id)\n",
      "INFO:datacache.database:Creating index on CDS (transcript_id)\n",
      "INFO:datacache.database:Creating index on CDS (transcript_name)\n",
      "INFO:datacache.database:Creating index on CDS (exon_id)\n",
      "INFO:datacache.database:Creating index on CDS (protein_id)\n",
      "INFO:datacache.database:Creating index on CDS (ccds_id)\n",
      "INFO:datacache.database:Running sqlite query: \"CREATE TABLE stop_codon (transcript_biotype TEXT NOT NULL, gene_version TEXT NOT NULL, exon_version TEXT NOT NULL, exon_id TEXT NOT NULL, start INT NOT NULL, transcript_id TEXT NOT NULL, protein_version TEXT NOT NULL, transcript_name TEXT NOT NULL, exon_number TEXT NOT NULL, ccds_id TEXT NOT NULL, end INT NOT NULL, protein_id TEXT NOT NULL, seqname TEXT NOT NULL, feature TEXT NOT NULL, gene_name TEXT NOT NULL, transcript_version TEXT NOT NULL, strand TEXT NOT NULL, gene_biotype TEXT NOT NULL, gene_id TEXT NOT NULL, source TEXT NOT NULL)\"\n",
      "INFO:datacache.database:Inserting 69189 rows into table stop_codon\n",
      "INFO:datacache.database:Creating index on stop_codon (seqname, start, end)\n",
      "INFO:datacache.database:Creating index on stop_codon (gene_name)\n",
      "INFO:datacache.database:Creating index on stop_codon (gene_id)\n",
      "INFO:datacache.database:Creating index on stop_codon (transcript_id)\n",
      "INFO:datacache.database:Creating index on stop_codon (transcript_name)\n",
      "INFO:datacache.database:Creating index on stop_codon (exon_id)\n",
      "INFO:datacache.database:Creating index on stop_codon (protein_id)\n",
      "INFO:datacache.database:Creating index on stop_codon (ccds_id)\n",
      "INFO:datacache.database:Running sqlite query: \"CREATE TABLE start_codon (transcript_biotype TEXT NOT NULL, gene_version TEXT NOT NULL, exon_version TEXT NOT NULL, exon_id TEXT NOT NULL, start INT NOT NULL, transcript_id TEXT NOT NULL, protein_version TEXT NOT NULL, transcript_name TEXT NOT NULL, exon_number TEXT NOT NULL, ccds_id TEXT NOT NULL, end INT NOT NULL, protein_id TEXT NOT NULL, seqname TEXT NOT NULL, feature TEXT NOT NULL, gene_name TEXT NOT NULL, transcript_version TEXT NOT NULL, strand TEXT NOT NULL, gene_biotype TEXT NOT NULL, gene_id TEXT NOT NULL, source TEXT NOT NULL)\"\n",
      "INFO:datacache.database:Inserting 69070 rows into table start_codon\n",
      "INFO:datacache.database:Creating index on start_codon (seqname, start, end)\n",
      "INFO:datacache.database:Creating index on start_codon (gene_name)\n",
      "INFO:datacache.database:Creating index on start_codon (gene_id)\n",
      "INFO:datacache.database:Creating index on start_codon (transcript_id)\n",
      "INFO:datacache.database:Creating index on start_codon (transcript_name)\n",
      "INFO:datacache.database:Creating index on start_codon (exon_id)\n",
      "INFO:datacache.database:Creating index on start_codon (protein_id)\n",
      "INFO:datacache.database:Creating index on start_codon (ccds_id)\n",
      "INFO:datacache.database:Running sqlite query: \"CREATE TABLE _datacache_metadata (version INT)\"\n",
      "INFO:datacache.database:Running sqlite query: \"INSERT INTO _datacache_metadata VALUES (3)\"\n",
      "INFO:pyensembl.sequence_data:Parsing sequences from FASTA file at /home/ec2-user/.cache/pyensembl/GRCh38/ensembl77/Homo_sapiens.GRCh38.cdna.all.fa.gz\n",
      "INFO:pyensembl.sequence_data:Saving sequence dictionary to /home/ec2-user/.cache/pyensembl/GRCh38/ensembl77/Homo_sapiens.GRCh38.cdna.all.fa.gz.pickle\n",
      "INFO:pyensembl.sequence_data:Parsing sequences from FASTA file at /home/ec2-user/.cache/pyensembl/GRCh38/ensembl77/Homo_sapiens.GRCh38.ncrna.fa.gz\n",
      "INFO:pyensembl.sequence_data:Saving sequence dictionary to /home/ec2-user/.cache/pyensembl/GRCh38/ensembl77/Homo_sapiens.GRCh38.ncrna.fa.gz.pickle\n",
      "INFO:pyensembl.sequence_data:Parsing sequences from FASTA file at /home/ec2-user/.cache/pyensembl/GRCh38/ensembl77/Homo_sapiens.GRCh38.pep.all.fa.gz\n",
      "INFO:pyensembl.sequence_data:Saving sequence dictionary to /home/ec2-user/.cache/pyensembl/GRCh38/ensembl77/Homo_sapiens.GRCh38.pep.all.fa.gz.pickle\n"
     ]
    }
   ],
   "source": [
    "from pyensembl import EnsemblRelease\n",
    "\n",
    "genome = EnsemblRelease(77)\n",
    "genome.download()\n",
    "genome.index()"
   ]
  },
  {
   "cell_type": "code",
   "execution_count": 11,
   "metadata": {},
   "outputs": [],
   "source": [
    "label = 'ENSG00000002079'"
   ]
  },
  {
   "cell_type": "code",
   "execution_count": 18,
   "metadata": {},
   "outputs": [
    {
     "data": {
      "text/plain": [
       "'ENSG00000000003'"
      ]
     },
     "execution_count": 18,
     "metadata": {},
     "output_type": "execute_result"
    }
   ],
   "source": [
    "genome.gene_ids()[0]"
   ]
  },
  {
   "cell_type": "code",
   "execution_count": 19,
   "metadata": {},
   "outputs": [
    {
     "data": {
      "text/plain": [
       "[Transcript(transcript_id='ENST00000612152', transcript_name='TSPAN6-201', gene_id='ENSG00000000003', biotype='protein_coding', contig='X', start=100627109, end=100637104, strand='-', genome='GRCh38'),\n",
       " Transcript(transcript_id='ENST00000373020', transcript_name='TSPAN6-001', gene_id='ENSG00000000003', biotype='protein_coding', contig='X', start=100628670, end=100636806, strand='-', genome='GRCh38'),\n",
       " Transcript(transcript_id='ENST00000614008', transcript_name='TSPAN6-202', gene_id='ENSG00000000003', biotype='protein_coding', contig='X', start=100632063, end=100637104, strand='-', genome='GRCh38'),\n",
       " Transcript(transcript_id='ENST00000496771', transcript_name='TSPAN6-003', gene_id='ENSG00000000003', biotype='processed_transcript', contig='X', start=100632541, end=100636689, strand='-', genome='GRCh38'),\n",
       " Transcript(transcript_id='ENST00000494424', transcript_name='TSPAN6-002', gene_id='ENSG00000000003', biotype='processed_transcript', contig='X', start=100633442, end=100639991, strand='-', genome='GRCh38')]"
      ]
     },
     "execution_count": 19,
     "metadata": {},
     "output_type": "execute_result"
    }
   ],
   "source": [
    "gene = genome.gene_by_id('ENSG00000000003')\n",
    "\n",
    "# Observed and predicted gene expression values were obtained by summing up the observed/predicted CAGE read counts\n",
    "# at all unique TSS locations of the gene. For each TSS location, we used the 128-bp bin overlapping the TSS as well\n",
    "# as the two neighboring bins (3 bins in total).\n",
    "\n",
    "# For each gene, look through all transcipts - protein coding / not, and record offsets from gene start\n",
    "gene.transcripts"
   ]
  },
  {
   "cell_type": "code",
   "execution_count": 13,
   "metadata": {},
   "outputs": [
    {
     "data": {
      "text/plain": [
       "99436"
      ]
     },
     "execution_count": 13,
     "metadata": {},
     "output_type": "execute_result"
    }
   ],
   "source": [
    "len(genome.protein_ids())"
   ]
  },
  {
   "cell_type": "code",
   "execution_count": 14,
   "metadata": {},
   "outputs": [
    {
     "data": {
      "text/plain": [
       "'MGLTVSALFSRIFGKKQMRILMVGLDAAGKTTILYKLKLGEIVTTIPTIGFNVETVEYKNICFTVWDVGGQDKIRPLWRHYFQNTQGLIFVVDSNDRERVQESADELQKMLQEDELRDAVLLVFANKQDMPNAMPVSELTDKLGLQHLRSRTWYVQATCATQGTGLYDGLDWLSHELSKR'"
      ]
     },
     "execution_count": 14,
     "metadata": {},
     "output_type": "execute_result"
    }
   ],
   "source": [
    "protein_id = genome.protein_ids()[0]\n",
    "genome.protein_sequence(protein_id)\n",
    "\n",
    "# results = []\n",
    "# for protein_id in genome.protein_ids():\n",
    "#     sequence = genome.protein_sequence(protein_id)\n",
    "#     if '*' not in sequence:\n",
    "#         results.append({\n",
    "#             'protein_id': protein_id,\n",
    "#             'protein_sequence': sequence\n",
    "#         })"
   ]
  },
  {
   "cell_type": "code",
   "execution_count": 20,
   "metadata": {},
   "outputs": [
    {
     "data": {
      "text/plain": [
       "Transcript(transcript_id='ENST00000612152', transcript_name='TSPAN6-201', gene_id='ENSG00000000003', biotype='protein_coding', contig='X', start=100627109, end=100637104, strand='-', genome='GRCh38')"
      ]
     },
     "execution_count": 20,
     "metadata": {},
     "output_type": "execute_result"
    }
   ],
   "source": [
    "gene.transcripts[0]"
   ]
  },
  {
   "cell_type": "code",
   "execution_count": 21,
   "metadata": {},
   "outputs": [
    {
     "data": {
      "text/plain": [
       "Gene(gene_id='ENSG00000000003', gene_name='TSPAN6', biotype='protein_coding', contig='X', start=100627109, end=100639991, strand='-', genome='GRCh38')"
      ]
     },
     "execution_count": 21,
     "metadata": {},
     "output_type": "execute_result"
    }
   ],
   "source": [
    "gene"
   ]
  },
  {
   "cell_type": "code",
   "execution_count": 22,
   "metadata": {},
   "outputs": [
    {
     "name": "stdout",
     "output_type": "stream",
     "text": [
      "Collecting pybiomart\n",
      "  Downloading pybiomart-0.2.0-py3-none-any.whl (10 kB)\n",
      "Collecting requests-cache\n",
      "  Downloading requests_cache-1.0.1-py3-none-any.whl (58 kB)\n",
      "\u001b[2K     \u001b[90m━━━━━━━━━━━━━━━━━━━━━━━━━━━━━━━━━━━━━━━━\u001b[0m \u001b[32m58.7/58.7 kB\u001b[0m \u001b[31m4.6 MB/s\u001b[0m eta \u001b[36m0:00:00\u001b[0m\n",
      "\u001b[?25hRequirement already satisfied: pandas in /opt/conda/envs/pytorch/lib/python3.9/site-packages (from pybiomart) (1.4.4)\n",
      "Requirement already satisfied: requests in /opt/conda/envs/pytorch/lib/python3.9/site-packages (from pybiomart) (2.28.1)\n",
      "Requirement already satisfied: future in /opt/conda/envs/pytorch/lib/python3.9/site-packages (from pybiomart) (0.18.2)\n",
      "Requirement already satisfied: python-dateutil>=2.8.1 in /opt/conda/envs/pytorch/lib/python3.9/site-packages (from pandas->pybiomart) (2.8.2)\n",
      "Requirement already satisfied: pytz>=2020.1 in /opt/conda/envs/pytorch/lib/python3.9/site-packages (from pandas->pybiomart) (2022.6)\n",
      "Requirement already satisfied: numpy>=1.18.5 in /opt/conda/envs/pytorch/lib/python3.9/site-packages (from pandas->pybiomart) (1.23.4)\n",
      "Requirement already satisfied: idna<4,>=2.5 in /opt/conda/envs/pytorch/lib/python3.9/site-packages (from requests->pybiomart) (3.4)\n",
      "Requirement already satisfied: certifi>=2017.4.17 in /opt/conda/envs/pytorch/lib/python3.9/site-packages (from requests->pybiomart) (2022.9.24)\n",
      "Requirement already satisfied: charset-normalizer<3,>=2 in /opt/conda/envs/pytorch/lib/python3.9/site-packages (from requests->pybiomart) (2.1.1)\n",
      "Requirement already satisfied: urllib3<1.27,>=1.21.1 in /opt/conda/envs/pytorch/lib/python3.9/site-packages (from requests->pybiomart) (1.26.11)\n",
      "Requirement already satisfied: attrs>=21.2 in /opt/conda/envs/pytorch/lib/python3.9/site-packages (from requests-cache->pybiomart) (22.2.0)\n",
      "Requirement already satisfied: platformdirs>=2.5 in /opt/conda/envs/pytorch/lib/python3.9/site-packages (from requests-cache->pybiomart) (2.5.2)\n",
      "Collecting url-normalize>=1.4\n",
      "  Downloading url_normalize-1.4.3-py2.py3-none-any.whl (6.8 kB)\n",
      "Collecting cattrs>=22.2\n",
      "  Downloading cattrs-22.2.0-py3-none-any.whl (35 kB)\n",
      "Collecting exceptiongroup\n",
      "  Downloading exceptiongroup-1.1.1-py3-none-any.whl (14 kB)\n",
      "Requirement already satisfied: six>=1.5 in /opt/conda/envs/pytorch/lib/python3.9/site-packages (from python-dateutil>=2.8.1->pandas->pybiomart) (1.16.0)\n",
      "Installing collected packages: url-normalize, exceptiongroup, cattrs, requests-cache, pybiomart\n",
      "Successfully installed cattrs-22.2.0 exceptiongroup-1.1.1 pybiomart-0.2.0 requests-cache-1.0.1 url-normalize-1.4.3\n"
     ]
    }
   ],
   "source": [
    "!pip install pybiomart"
   ]
  },
  {
   "cell_type": "code",
   "execution_count": 24,
   "metadata": {},
   "outputs": [],
   "source": [
    "from pybiomart import Dataset as PyBiomartDataset\n",
    "\n",
    "dataset = PyBiomartDataset(name='hsapiens_gene_ensembl', host='http://www.ensembl.org')"
   ]
  },
  {
   "cell_type": "code",
   "execution_count": 26,
   "metadata": {},
   "outputs": [],
   "source": [
    "# dataset.list_attributes().to_clipboard()"
   ]
  },
  {
   "cell_type": "code",
   "execution_count": 29,
   "metadata": {},
   "outputs": [],
   "source": [
    "genes_proteins = dataset.query(attributes=['ensembl_gene_id', 'ensembl_peptide_id',\n",
    "                                            'gene_biotype', 'transcript_is_canonical', 'peptide'], filters={})"
   ]
  },
  {
   "cell_type": "code",
   "execution_count": 34,
   "metadata": {},
   "outputs": [],
   "source": [
    "genes_proteins.to_csv('gene2protein.csv')"
   ]
  },
  {
   "cell_type": "code",
   "execution_count": 33,
   "metadata": {},
   "outputs": [
    {
     "data": {
      "text/plain": [
       "0         MRPQELPRLAFPLLLLLLLLLPPPPCPAHSATRFDPTWESLDARQL...\n",
       "1         MQRSPLEKASVVSKLFFSWTRPILRKGYRQRLELSDIYQIPSVDSA...\n",
       "2         MLFEGLDLVSALATLAACLVSVTLLLAVSQQLWQLRWAATRDKSCK...\n",
       "3         MKAARFVLRSAGSLNGAGLVPREVEHFSRYSPSPLSMKQLLDFGSE...\n",
       "4         MGLTVSALFSRIFGKKQMRILMVGLDAAGKTTILYKLKLGEIVTTI...\n",
       "                                ...                        \n",
       "189778    MAVARVDAALPPGEGSVVNWSGQGLQKLGPNLPCEADIHTLILDKN...\n",
       "189779    MNGEADCPTDLEMAAPKGQDRWSQEDMLTLLECMKNNLPSNDSSKF...\n",
       "189780    MASEDIAKLAETLAKTQVAGGQLSFKGKSLKLNTAEDAKDVIKEIE...\n",
       "189781    MGLLSDPVRRRALARLVLRLNAPLCVLSYVAGIAWFLALVFPPLTQ...\n",
       "189782    XESCQNFYKDFTLQIDMAFNVFFLLYFGLRFIAANDKLWFWLEVNS...\n",
       "Name: Peptide, Length: 189783, dtype: object"
      ]
     },
     "execution_count": 33,
     "metadata": {},
     "output_type": "execute_result"
    }
   ],
   "source": [
    "genes_proteins['Peptide']"
   ]
  },
  {
   "cell_type": "code",
   "execution_count": 35,
   "metadata": {},
   "outputs": [
    {
     "data": {
      "text/plain": [
       "1"
      ]
     },
     "execution_count": 35,
     "metadata": {},
     "output_type": "execute_result"
    }
   ],
   "source": [
    "1"
   ]
  },
  {
   "cell_type": "code",
   "execution_count": null,
   "metadata": {},
   "outputs": [],
   "source": []
  }
 ],
 "metadata": {
  "kernelspec": {
   "display_name": "pytorch",
   "language": "python",
   "name": "python3"
  },
  "language_info": {
   "codemirror_mode": {
    "name": "ipython",
    "version": 3
   },
   "file_extension": ".py",
   "mimetype": "text/x-python",
   "name": "python",
   "nbconvert_exporter": "python",
   "pygments_lexer": "ipython3",
   "version": "3.9.13"
  },
  "orig_nbformat": 4
 },
 "nbformat": 4,
 "nbformat_minor": 2
}
