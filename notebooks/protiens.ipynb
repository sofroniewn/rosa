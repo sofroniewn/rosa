{
 "cells": [
  {
   "cell_type": "code",
   "execution_count": 9,
   "metadata": {},
   "outputs": [
    {
     "name": "stderr",
     "output_type": "stream",
     "text": [
      "INFO:pyensembl.download_cache:Fetching /home/ec2-user/.cache/pyensembl/GRCh38/ensembl77/Homo_sapiens.GRCh38.77.gtf.gz from URL https://ftp.ensembl.org/pub/release-77/gtf/homo_sapiens/Homo_sapiens.GRCh38.77.gtf.gz\n",
      "INFO:datacache.download:Downloading https://ftp.ensembl.org/pub/release-77/gtf/homo_sapiens/Homo_sapiens.GRCh38.77.gtf.gz to /home/ec2-user/.cache/pyensembl/GRCh38/ensembl77/Homo_sapiens.GRCh38.77.gtf.gz\n",
      "INFO:pyensembl.download_cache:Fetching /home/ec2-user/.cache/pyensembl/GRCh38/ensembl77/Homo_sapiens.GRCh38.cdna.all.fa.gz from URL https://ftp.ensembl.org/pub/release-77/fasta/homo_sapiens/cdna/Homo_sapiens.GRCh38.cdna.all.fa.gz\n",
      "INFO:datacache.download:Downloading https://ftp.ensembl.org/pub/release-77/fasta/homo_sapiens/cdna/Homo_sapiens.GRCh38.cdna.all.fa.gz to /home/ec2-user/.cache/pyensembl/GRCh38/ensembl77/Homo_sapiens.GRCh38.cdna.all.fa.gz\n",
      "INFO:pyensembl.download_cache:Fetching /home/ec2-user/.cache/pyensembl/GRCh38/ensembl77/Homo_sapiens.GRCh38.ncrna.fa.gz from URL https://ftp.ensembl.org/pub/release-77/fasta/homo_sapiens/ncrna/Homo_sapiens.GRCh38.ncrna.fa.gz\n",
      "INFO:datacache.download:Downloading https://ftp.ensembl.org/pub/release-77/fasta/homo_sapiens/ncrna/Homo_sapiens.GRCh38.ncrna.fa.gz to /home/ec2-user/.cache/pyensembl/GRCh38/ensembl77/Homo_sapiens.GRCh38.ncrna.fa.gz\n",
      "INFO:pyensembl.download_cache:Fetching /home/ec2-user/.cache/pyensembl/GRCh38/ensembl77/Homo_sapiens.GRCh38.pep.all.fa.gz from URL https://ftp.ensembl.org/pub/release-77/fasta/homo_sapiens/pep/Homo_sapiens.GRCh38.pep.all.fa.gz\n",
      "INFO:datacache.download:Downloading https://ftp.ensembl.org/pub/release-77/fasta/homo_sapiens/pep/Homo_sapiens.GRCh38.pep.all.fa.gz to /home/ec2-user/.cache/pyensembl/GRCh38/ensembl77/Homo_sapiens.GRCh38.pep.all.fa.gz\n",
      "INFO:pyensembl.database:Creating database: /home/ec2-user/.cache/pyensembl/GRCh38/ensembl77/Homo_sapiens.GRCh38.77.gtf.db\n",
      "INFO:pyensembl.database:Reading GTF from /home/ec2-user/.cache/pyensembl/GRCh38/ensembl77/Homo_sapiens.GRCh38.77.gtf.gz\n",
      "INFO:root:Extracted GTF attributes: ['gene_id', 'gene_version', 'gene_name', 'gene_biotype', 'transcript_id', 'transcript_version', 'transcript_name', 'transcript_biotype', 'exon_number', 'exon_id', 'exon_version', 'ccds_id', 'protein_id', 'protein_version']\n",
      "INFO:datacache.database_helpers:Creating database /home/ec2-user/.cache/pyensembl/GRCh38/ensembl77/Homo_sapiens.GRCh38.77.gtf.db containing: gene, transcript, exon, CDS, stop_codon, start_codon\n",
      "INFO:datacache.database:Running sqlite query: \"CREATE TABLE gene (transcript_biotype TEXT NOT NULL, gene_version TEXT NOT NULL, exon_version TEXT NOT NULL, exon_id TEXT NOT NULL, start INT NOT NULL, transcript_id TEXT NOT NULL, protein_version TEXT NOT NULL, transcript_name TEXT NOT NULL, exon_number TEXT NOT NULL, ccds_id TEXT NOT NULL, end INT NOT NULL, protein_id TEXT NOT NULL, seqname TEXT NOT NULL, feature TEXT NOT NULL, gene_name TEXT NOT NULL, transcript_version TEXT NOT NULL, strand TEXT NOT NULL, gene_biotype TEXT NOT NULL, gene_id TEXT UNIQUE PRIMARY KEY NOT NULL, source TEXT NOT NULL)\"\n",
      "INFO:datacache.database:Inserting 64253 rows into table gene\n",
      "INFO:datacache.database:Creating index on gene (seqname, start, end)\n",
      "INFO:datacache.database:Creating index on gene (gene_name)\n",
      "INFO:datacache.database:Creating index on gene (transcript_id)\n",
      "INFO:datacache.database:Creating index on gene (transcript_name)\n",
      "INFO:datacache.database:Creating index on gene (exon_id)\n",
      "INFO:datacache.database:Creating index on gene (protein_id)\n",
      "INFO:datacache.database:Creating index on gene (ccds_id)\n",
      "INFO:datacache.database:Running sqlite query: \"CREATE TABLE transcript (transcript_biotype TEXT NOT NULL, gene_version TEXT NOT NULL, exon_version TEXT NOT NULL, exon_id TEXT NOT NULL, start INT NOT NULL, transcript_id TEXT UNIQUE PRIMARY KEY NOT NULL, protein_version TEXT NOT NULL, transcript_name TEXT NOT NULL, exon_number TEXT NOT NULL, ccds_id TEXT NOT NULL, end INT NOT NULL, protein_id TEXT NOT NULL, seqname TEXT NOT NULL, feature TEXT NOT NULL, gene_name TEXT NOT NULL, transcript_version TEXT NOT NULL, strand TEXT NOT NULL, gene_biotype TEXT NOT NULL, gene_id TEXT NOT NULL, source TEXT NOT NULL)\"\n",
      "INFO:datacache.database:Inserting 208244 rows into table transcript\n",
      "INFO:datacache.database:Creating index on transcript (seqname, start, end)\n",
      "INFO:datacache.database:Creating index on transcript (gene_name)\n",
      "INFO:datacache.database:Creating index on transcript (gene_id)\n",
      "INFO:datacache.database:Creating index on transcript (transcript_name)\n",
      "INFO:datacache.database:Creating index on transcript (exon_id)\n",
      "INFO:datacache.database:Creating index on transcript (protein_id)\n",
      "INFO:datacache.database:Creating index on transcript (ccds_id)\n",
      "INFO:datacache.database:Running sqlite query: \"CREATE TABLE exon (transcript_biotype TEXT NOT NULL, gene_version TEXT NOT NULL, exon_version TEXT NOT NULL, exon_id TEXT NOT NULL, start INT NOT NULL, transcript_id TEXT NOT NULL, protein_version TEXT NOT NULL, transcript_name TEXT NOT NULL, exon_number TEXT NOT NULL, ccds_id TEXT NOT NULL, end INT NOT NULL, protein_id TEXT NOT NULL, seqname TEXT NOT NULL, feature TEXT NOT NULL, gene_name TEXT NOT NULL, transcript_version TEXT NOT NULL, strand TEXT NOT NULL, gene_biotype TEXT NOT NULL, gene_id TEXT NOT NULL, source TEXT NOT NULL)\"\n",
      "INFO:datacache.database:Inserting 1232660 rows into table exon\n",
      "INFO:datacache.database:Creating index on exon (seqname, start, end)\n",
      "INFO:datacache.database:Creating index on exon (gene_name)\n",
      "INFO:datacache.database:Creating index on exon (gene_id)\n",
      "INFO:datacache.database:Creating index on exon (transcript_id)\n",
      "INFO:datacache.database:Creating index on exon (transcript_name)\n",
      "INFO:datacache.database:Creating index on exon (exon_id)\n",
      "INFO:datacache.database:Creating index on exon (protein_id)\n",
      "INFO:datacache.database:Creating index on exon (ccds_id)\n",
      "INFO:datacache.database:Running sqlite query: \"CREATE TABLE CDS (transcript_biotype TEXT NOT NULL, gene_version TEXT NOT NULL, exon_version TEXT NOT NULL, exon_id TEXT NOT NULL, start INT NOT NULL, transcript_id TEXT NOT NULL, protein_version TEXT NOT NULL, transcript_name TEXT NOT NULL, exon_number TEXT NOT NULL, ccds_id TEXT NOT NULL, end INT NOT NULL, protein_id TEXT NOT NULL, seqname TEXT NOT NULL, feature TEXT NOT NULL, gene_name TEXT NOT NULL, transcript_version TEXT NOT NULL, strand TEXT NOT NULL, gene_biotype TEXT NOT NULL, gene_id TEXT NOT NULL, source TEXT NOT NULL)\"\n",
      "INFO:datacache.database:Inserting 742865 rows into table CDS\n",
      "INFO:datacache.database:Creating index on CDS (seqname, start, end)\n",
      "INFO:datacache.database:Creating index on CDS (gene_name)\n",
      "INFO:datacache.database:Creating index on CDS (gene_id)\n",
      "INFO:datacache.database:Creating index on CDS (transcript_id)\n",
      "INFO:datacache.database:Creating index on CDS (transcript_name)\n",
      "INFO:datacache.database:Creating index on CDS (exon_id)\n",
      "INFO:datacache.database:Creating index on CDS (protein_id)\n",
      "INFO:datacache.database:Creating index on CDS (ccds_id)\n",
      "INFO:datacache.database:Running sqlite query: \"CREATE TABLE stop_codon (transcript_biotype TEXT NOT NULL, gene_version TEXT NOT NULL, exon_version TEXT NOT NULL, exon_id TEXT NOT NULL, start INT NOT NULL, transcript_id TEXT NOT NULL, protein_version TEXT NOT NULL, transcript_name TEXT NOT NULL, exon_number TEXT NOT NULL, ccds_id TEXT NOT NULL, end INT NOT NULL, protein_id TEXT NOT NULL, seqname TEXT NOT NULL, feature TEXT NOT NULL, gene_name TEXT NOT NULL, transcript_version TEXT NOT NULL, strand TEXT NOT NULL, gene_biotype TEXT NOT NULL, gene_id TEXT NOT NULL, source TEXT NOT NULL)\"\n",
      "INFO:datacache.database:Inserting 69189 rows into table stop_codon\n",
      "INFO:datacache.database:Creating index on stop_codon (seqname, start, end)\n",
      "INFO:datacache.database:Creating index on stop_codon (gene_name)\n",
      "INFO:datacache.database:Creating index on stop_codon (gene_id)\n",
      "INFO:datacache.database:Creating index on stop_codon (transcript_id)\n",
      "INFO:datacache.database:Creating index on stop_codon (transcript_name)\n",
      "INFO:datacache.database:Creating index on stop_codon (exon_id)\n",
      "INFO:datacache.database:Creating index on stop_codon (protein_id)\n",
      "INFO:datacache.database:Creating index on stop_codon (ccds_id)\n",
      "INFO:datacache.database:Running sqlite query: \"CREATE TABLE start_codon (transcript_biotype TEXT NOT NULL, gene_version TEXT NOT NULL, exon_version TEXT NOT NULL, exon_id TEXT NOT NULL, start INT NOT NULL, transcript_id TEXT NOT NULL, protein_version TEXT NOT NULL, transcript_name TEXT NOT NULL, exon_number TEXT NOT NULL, ccds_id TEXT NOT NULL, end INT NOT NULL, protein_id TEXT NOT NULL, seqname TEXT NOT NULL, feature TEXT NOT NULL, gene_name TEXT NOT NULL, transcript_version TEXT NOT NULL, strand TEXT NOT NULL, gene_biotype TEXT NOT NULL, gene_id TEXT NOT NULL, source TEXT NOT NULL)\"\n",
      "INFO:datacache.database:Inserting 69070 rows into table start_codon\n",
      "INFO:datacache.database:Creating index on start_codon (seqname, start, end)\n",
      "INFO:datacache.database:Creating index on start_codon (gene_name)\n",
      "INFO:datacache.database:Creating index on start_codon (gene_id)\n",
      "INFO:datacache.database:Creating index on start_codon (transcript_id)\n",
      "INFO:datacache.database:Creating index on start_codon (transcript_name)\n",
      "INFO:datacache.database:Creating index on start_codon (exon_id)\n",
      "INFO:datacache.database:Creating index on start_codon (protein_id)\n",
      "INFO:datacache.database:Creating index on start_codon (ccds_id)\n",
      "INFO:datacache.database:Running sqlite query: \"CREATE TABLE _datacache_metadata (version INT)\"\n",
      "INFO:datacache.database:Running sqlite query: \"INSERT INTO _datacache_metadata VALUES (3)\"\n",
      "INFO:pyensembl.sequence_data:Parsing sequences from FASTA file at /home/ec2-user/.cache/pyensembl/GRCh38/ensembl77/Homo_sapiens.GRCh38.cdna.all.fa.gz\n",
      "INFO:pyensembl.sequence_data:Saving sequence dictionary to /home/ec2-user/.cache/pyensembl/GRCh38/ensembl77/Homo_sapiens.GRCh38.cdna.all.fa.gz.pickle\n",
      "INFO:pyensembl.sequence_data:Parsing sequences from FASTA file at /home/ec2-user/.cache/pyensembl/GRCh38/ensembl77/Homo_sapiens.GRCh38.ncrna.fa.gz\n",
      "INFO:pyensembl.sequence_data:Saving sequence dictionary to /home/ec2-user/.cache/pyensembl/GRCh38/ensembl77/Homo_sapiens.GRCh38.ncrna.fa.gz.pickle\n",
      "INFO:pyensembl.sequence_data:Parsing sequences from FASTA file at /home/ec2-user/.cache/pyensembl/GRCh38/ensembl77/Homo_sapiens.GRCh38.pep.all.fa.gz\n",
      "INFO:pyensembl.sequence_data:Saving sequence dictionary to /home/ec2-user/.cache/pyensembl/GRCh38/ensembl77/Homo_sapiens.GRCh38.pep.all.fa.gz.pickle\n"
     ]
    }
   ],
   "source": [
    "from pyensembl import EnsemblRelease\n",
    "\n",
    "genome = EnsemblRelease(77)\n",
    "genome.download()\n",
    "genome.index()"
   ]
  },
  {
   "cell_type": "code",
   "execution_count": 11,
   "metadata": {},
   "outputs": [],
   "source": [
    "label = 'ENSG00000002079'"
   ]
  },
  {
   "cell_type": "code",
   "execution_count": 12,
   "metadata": {},
   "outputs": [
    {
     "data": {
      "text/plain": [
       "[Transcript(transcript_id='ENST00000439784', transcript_name='MYH16-001', gene_id='ENSG00000002079', biotype='unitary_pseudogene', contig='7', start=99238794, end=99311130, strand='+', genome='GRCh38'),\n",
       " Transcript(transcript_id='ENST00000453194', transcript_name='MYH16-002', gene_id='ENSG00000002079', biotype='processed_transcript', contig='7', start=99238911, end=99258156, strand='+', genome='GRCh38'),\n",
       " Transcript(transcript_id='ENST00000413734', transcript_name='MYH16-003', gene_id='ENSG00000002079', biotype='processed_transcript', contig='7', start=99258210, end=99261636, strand='+', genome='GRCh38'),\n",
       " Transcript(transcript_id='ENST00000425880', transcript_name='MYH16-004', gene_id='ENSG00000002079', biotype='processed_transcript', contig='7', start=99264267, end=99271049, strand='+', genome='GRCh38'),\n",
       " Transcript(transcript_id='ENST00000452010', transcript_name='MYH16-005', gene_id='ENSG00000002079', biotype='processed_transcript', contig='7', start=99297912, end=99301804, strand='+', genome='GRCh38'),\n",
       " Transcript(transcript_id='ENST00000429079', transcript_name='MYH16-006', gene_id='ENSG00000002079', biotype='retained_intron', contig='7', start=99299417, end=99301774, strand='+', genome='GRCh38'),\n",
       " Transcript(transcript_id='ENST00000453378', transcript_name='MYH16-007', gene_id='ENSG00000002079', biotype='processed_transcript', contig='7', start=99304646, end=99306651, strand='+', genome='GRCh38')]"
      ]
     },
     "execution_count": 12,
     "metadata": {},
     "output_type": "execute_result"
    }
   ],
   "source": [
    "gene = genome.gene_by_id(label)\n",
    "\n",
    "# Observed and predicted gene expression values were obtained by summing up the observed/predicted CAGE read counts\n",
    "# at all unique TSS locations of the gene. For each TSS location, we used the 128-bp bin overlapping the TSS as well\n",
    "# as the two neighboring bins (3 bins in total).\n",
    "\n",
    "# For each gene, look through all transcipts - protein coding / not, and record offsets from gene start\n",
    "gene.transcripts"
   ]
  },
  {
   "cell_type": "code",
   "execution_count": 13,
   "metadata": {},
   "outputs": [
    {
     "data": {
      "text/plain": [
       "99436"
      ]
     },
     "execution_count": 13,
     "metadata": {},
     "output_type": "execute_result"
    }
   ],
   "source": [
    "len(genome.protein_ids())"
   ]
  },
  {
   "cell_type": "code",
   "execution_count": 14,
   "metadata": {},
   "outputs": [
    {
     "data": {
      "text/plain": [
       "'MGLTVSALFSRIFGKKQMRILMVGLDAAGKTTILYKLKLGEIVTTIPTIGFNVETVEYKNICFTVWDVGGQDKIRPLWRHYFQNTQGLIFVVDSNDRERVQESADELQKMLQEDELRDAVLLVFANKQDMPNAMPVSELTDKLGLQHLRSRTWYVQATCATQGTGLYDGLDWLSHELSKR'"
      ]
     },
     "execution_count": 14,
     "metadata": {},
     "output_type": "execute_result"
    }
   ],
   "source": [
    "protein_id = genome.protein_ids()[0]\n",
    "genome.protein_sequence(protein_id)\n",
    "\n",
    "# results = []\n",
    "# for protein_id in genome.protein_ids():\n",
    "#     sequence = genome.protein_sequence(protein_id)\n",
    "#     if '*' not in sequence:\n",
    "#         results.append({\n",
    "#             'protein_id': protein_id,\n",
    "#             'protein_sequence': sequence\n",
    "#         })"
   ]
  },
  {
   "cell_type": "code",
   "execution_count": null,
   "metadata": {},
   "outputs": [],
   "source": []
  }
 ],
 "metadata": {
  "kernelspec": {
   "display_name": "pytorch",
   "language": "python",
   "name": "python3"
  },
  "language_info": {
   "codemirror_mode": {
    "name": "ipython",
    "version": 3
   },
   "file_extension": ".py",
   "mimetype": "text/x-python",
   "name": "python",
   "nbconvert_exporter": "python",
   "pygments_lexer": "ipython3",
   "version": "3.9.13"
  },
  "orig_nbformat": 4
 },
 "nbformat": 4,
 "nbformat_minor": 2
}
