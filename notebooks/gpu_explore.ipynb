{
 "cells": [
  {
   "cell_type": "code",
   "execution_count": 1,
   "metadata": {},
   "outputs": [
    {
     "name": "stderr",
     "output_type": "stream",
     "text": [
      "Global seed set to 0\n",
      "/tmp/ipykernel_29353/3364748425.py:13: UserWarning: \n",
      "The version_base parameter is not specified.\n",
      "Please specify a compatability version level, or None.\n",
      "Will assume defaults for version 1.1\n",
      "  with hydra.initialize_config_dir(config_dir=config_dir):\n"
     ]
    },
    {
     "name": "stdout",
     "output_type": "stream",
     "text": [
      "RosaLightningModule(\n",
      "  (model): RosaFormerModel(\n",
      "    (main): Sequential(\n",
      "      (dual_embed): ParallelEmbed(\n",
      "        (models): ModuleList(\n",
      "          (0): Sequential(\n",
      "            (input_embed_0): MaskedEmbed(\n",
      "              (mask): Linear(in_features=1, out_features=256, bias=True)\n",
      "              (model): Sequential(\n",
      "                (projection): Linear(in_features=1, out_features=256, bias=True)\n",
      "                (layer_norm): Identity()\n",
      "                (dropout): Dropout(p=0, inplace=False)\n",
      "              )\n",
      "            )\n",
      "          )\n",
      "          (1): Sequential(\n",
      "            (layer_norm_1): Identity()\n",
      "            (input_embed_1): InputEmbed(\n",
      "              (model): Sequential(\n",
      "                (projection): Linear(in_features=3072, out_features=256, bias=True)\n",
      "                (layer_norm): Identity()\n",
      "                (dropout): Dropout(p=0, inplace=False)\n",
      "              )\n",
      "            )\n",
      "          )\n",
      "        )\n",
      "      )\n",
      "      (join_embeds): AddEmbeds()\n",
      "      (transformer): Performer(\n",
      "        (net): SequentialSequence(\n",
      "          (layers): ModuleList(\n",
      "            (0): ModuleList(\n",
      "              (0): PreLayerNorm(\n",
      "                (norm): LayerNorm((256,), eps=1e-05, elementwise_affine=True)\n",
      "                (fn): SelfAttention(\n",
      "                  (fast_attention): FastAttention(\n",
      "                    (kernel_fn): ReLU()\n",
      "                  )\n",
      "                  (to_q): Linear(in_features=256, out_features=256, bias=True)\n",
      "                  (to_k): Linear(in_features=256, out_features=256, bias=True)\n",
      "                  (to_v): Linear(in_features=256, out_features=256, bias=True)\n",
      "                  (to_out): Linear(in_features=256, out_features=256, bias=True)\n",
      "                  (dropout): Dropout(p=0.3, inplace=False)\n",
      "                )\n",
      "              )\n",
      "              (1): PreLayerNorm(\n",
      "                (norm): LayerNorm((256,), eps=1e-05, elementwise_affine=True)\n",
      "                (fn): Chunk(\n",
      "                  (fn): FeedForward(\n",
      "                    (w1): Linear(in_features=256, out_features=1024, bias=True)\n",
      "                    (act): GELU(approximate='none')\n",
      "                    (dropout): Dropout(p=0.3, inplace=False)\n",
      "                    (w2): Linear(in_features=1024, out_features=256, bias=True)\n",
      "                  )\n",
      "                )\n",
      "              )\n",
      "            )\n",
      "            (1): ModuleList(\n",
      "              (0): PreLayerNorm(\n",
      "                (norm): LayerNorm((256,), eps=1e-05, elementwise_affine=True)\n",
      "                (fn): SelfAttention(\n",
      "                  (fast_attention): FastAttention(\n",
      "                    (kernel_fn): ReLU()\n",
      "                  )\n",
      "                  (to_q): Linear(in_features=256, out_features=256, bias=True)\n",
      "                  (to_k): Linear(in_features=256, out_features=256, bias=True)\n",
      "                  (to_v): Linear(in_features=256, out_features=256, bias=True)\n",
      "                  (to_out): Linear(in_features=256, out_features=256, bias=True)\n",
      "                  (dropout): Dropout(p=0.3, inplace=False)\n",
      "                )\n",
      "              )\n",
      "              (1): PreLayerNorm(\n",
      "                (norm): LayerNorm((256,), eps=1e-05, elementwise_affine=True)\n",
      "                (fn): Chunk(\n",
      "                  (fn): FeedForward(\n",
      "                    (w1): Linear(in_features=256, out_features=1024, bias=True)\n",
      "                    (act): GELU(approximate='none')\n",
      "                    (dropout): Dropout(p=0.3, inplace=False)\n",
      "                    (w2): Linear(in_features=1024, out_features=256, bias=True)\n",
      "                  )\n",
      "                )\n",
      "              )\n",
      "            )\n",
      "          )\n",
      "        )\n",
      "        (proj_updater): ProjectionUpdater(\n",
      "          (instance): SequentialSequence(\n",
      "            (layers): ModuleList(\n",
      "              (0): ModuleList(\n",
      "                (0): PreLayerNorm(\n",
      "                  (norm): LayerNorm((256,), eps=1e-05, elementwise_affine=True)\n",
      "                  (fn): SelfAttention(\n",
      "                    (fast_attention): FastAttention(\n",
      "                      (kernel_fn): ReLU()\n",
      "                    )\n",
      "                    (to_q): Linear(in_features=256, out_features=256, bias=True)\n",
      "                    (to_k): Linear(in_features=256, out_features=256, bias=True)\n",
      "                    (to_v): Linear(in_features=256, out_features=256, bias=True)\n",
      "                    (to_out): Linear(in_features=256, out_features=256, bias=True)\n",
      "                    (dropout): Dropout(p=0.3, inplace=False)\n",
      "                  )\n",
      "                )\n",
      "                (1): PreLayerNorm(\n",
      "                  (norm): LayerNorm((256,), eps=1e-05, elementwise_affine=True)\n",
      "                  (fn): Chunk(\n",
      "                    (fn): FeedForward(\n",
      "                      (w1): Linear(in_features=256, out_features=1024, bias=True)\n",
      "                      (act): GELU(approximate='none')\n",
      "                      (dropout): Dropout(p=0.3, inplace=False)\n",
      "                      (w2): Linear(in_features=1024, out_features=256, bias=True)\n",
      "                    )\n",
      "                  )\n",
      "                )\n",
      "              )\n",
      "              (1): ModuleList(\n",
      "                (0): PreLayerNorm(\n",
      "                  (norm): LayerNorm((256,), eps=1e-05, elementwise_affine=True)\n",
      "                  (fn): SelfAttention(\n",
      "                    (fast_attention): FastAttention(\n",
      "                      (kernel_fn): ReLU()\n",
      "                    )\n",
      "                    (to_q): Linear(in_features=256, out_features=256, bias=True)\n",
      "                    (to_k): Linear(in_features=256, out_features=256, bias=True)\n",
      "                    (to_v): Linear(in_features=256, out_features=256, bias=True)\n",
      "                    (to_out): Linear(in_features=256, out_features=256, bias=True)\n",
      "                    (dropout): Dropout(p=0.3, inplace=False)\n",
      "                  )\n",
      "                )\n",
      "                (1): PreLayerNorm(\n",
      "                  (norm): LayerNorm((256,), eps=1e-05, elementwise_affine=True)\n",
      "                  (fn): Chunk(\n",
      "                    (fn): FeedForward(\n",
      "                      (w1): Linear(in_features=256, out_features=1024, bias=True)\n",
      "                      (act): GELU(approximate='none')\n",
      "                      (dropout): Dropout(p=0.3, inplace=False)\n",
      "                      (w2): Linear(in_features=1024, out_features=256, bias=True)\n",
      "                    )\n",
      "                  )\n",
      "                )\n",
      "              )\n",
      "            )\n",
      "          )\n",
      "        )\n",
      "      )\n",
      "      (dropout): Dropout(p=0, inplace=False)\n",
      "      (expression_head): ProjectionExpressionHead(\n",
      "        (model): Sequential(\n",
      "          (projection): Linear(in_features=256, out_features=1, bias=True)\n",
      "          (activation): Identity()\n",
      "        )\n",
      "      )\n",
      "    )\n",
      "  )\n",
      ")\n"
     ]
    }
   ],
   "source": [
    "import hydra\n",
    "from omegaconf import OmegaConf\n",
    "from glob import  glob\n",
    "from rosa import  predict\n",
    "from rosa.data import RosaDataModule, create_io_paths\n",
    "from rosa.utils import RosaConfig\n",
    "from rosa.modeling.modules import RosaLightningModule\n",
    "\n",
    "\n",
    "BASE_DIR = \"/home/ec2-user/outputs/2023-03-03/07-28-03\"\n",
    "config_dir = BASE_DIR + \"/.hydra\"\n",
    "\n",
    "with hydra.initialize_config_dir(config_dir=config_dir):\n",
    "    config = hydra.compose(config_name=\"config\", overrides=OmegaConf.load(config_dir + \"/overrides.yaml\"))\n",
    "\n",
    "    _, output_path = create_io_paths(config.paths)\n",
    "    config.data_module.batch_size = 12\n",
    "    config.module.model.layer_norm_1 = None\n",
    "    config.module.model.input_embed.embedding_dim = config.module.model.transformer.dim\n",
    "    config.module.model.input_embed_1.embedding_dim = config.module.model.transformer.dim\n",
    "    # config.module.model.transformer = None\n",
    "    # Create Data Module\n",
    "    rdm = RosaDataModule(\n",
    "        output_path,\n",
    "        config=config.data_module,\n",
    "    )\n",
    "    rdm.setup()\n",
    "\n",
    "    # Load model from checkpoint\n",
    "    rlm = RosaLightningModule(\n",
    "        in_dim=rdm.len_input,\n",
    "        out_dim=rdm.len_target,\n",
    "        config=config.module,\n",
    "        var_input=rdm.predict_dataset.input[1]\n",
    "    )\n",
    "    print(rlm)"
   ]
  },
  {
   "cell_type": "code",
   "execution_count": 26,
   "metadata": {},
   "outputs": [
    {
     "data": {
      "text/plain": [
       "10"
      ]
     },
     "execution_count": 26,
     "metadata": {},
     "output_type": "execute_result"
    }
   ],
   "source": [
    "config.data_module.batch_size"
   ]
  },
  {
   "cell_type": "code",
   "execution_count": 2,
   "metadata": {},
   "outputs": [],
   "source": [
    "from torch.profiler import profile, record_function, ProfilerActivity"
   ]
  },
  {
   "cell_type": "code",
   "execution_count": 16,
   "metadata": {},
   "outputs": [
    {
     "name": "stderr",
     "output_type": "stream",
     "text": [
      "STAGE:2023-03-08 01:18:54 13436:13436 ActivityProfilerController.cpp:294] Completed Stage: Warm Up\n",
      "STAGE:2023-03-08 01:18:54 13436:13436 ActivityProfilerController.cpp:300] Completed Stage: Collection\n",
      "[W collection.cpp:634] Warning: Failed to recover relationship between all profiler and kineto events: 128 vs. 0  reassociated. (function reassociate)\n"
     ]
    }
   ],
   "source": [
    "with profile(activities=[ProfilerActivity.CUDA], profile_memory=True, record_shapes=True) as prof:\n",
    "    batch = next(iter(rdm.train_dataloader()))\n",
    "    rlm.transfer_batch_to_device(batch, 'cuda', 0)\n"
   ]
  },
  {
   "cell_type": "code",
   "execution_count": 19,
   "metadata": {},
   "outputs": [
    {
     "name": "stdout",
     "output_type": "stream",
     "text": [
      "============================================================================================================================================================================================================\n",
      "This report only display top-level ops statistics\n",
      "------------------------------------  ------------  ------------  ------------  ------------  ------------  ------------  ------------  ------------  ------------  ------------  ------------  ------------  \n",
      "                                Name    Self CPU %      Self CPU   CPU total %     CPU total  CPU time avg     Self CUDA   Self CUDA %    CUDA total  CUDA time avg       CPU Mem  Self CPU Mem    # of Calls  \n",
      "------------------------------------  ------------  ------------  ------------  ------------  ------------  ------------  ------------  ------------  ------------  ------------  ------------  ------------  \n",
      "                            [memory]         0.00%       0.000us         0.00%       0.000us       0.000us       0.000us         0.00%       0.000us       0.000us           0 b           0 b           128  \n",
      "               cudaStreamIsCapturing         0.45%      11.000us         0.45%      11.000us       5.500us       0.000us         0.00%       0.000us       0.000us           0 b           0 b             2  \n",
      "                          cudaMalloc        22.62%     557.000us        22.62%     557.000us     278.500us       0.000us         0.00%       0.000us       0.000us           0 b           0 b             2  \n",
      "                     cudaMemcpyAsync        76.56%       1.885ms        76.56%       1.885ms     471.250us       0.000us         0.00%       0.000us       0.000us           0 b           0 b             4  \n",
      "    Memcpy HtoD (Pageable -> Device)         0.00%       0.000us         0.00%       0.000us       0.000us     222.000us       100.00%     222.000us      55.500us           0 b           0 b             4  \n",
      "               cudaDeviceSynchronize         0.37%       9.000us         0.37%       9.000us       9.000us       0.000us         0.00%       0.000us       0.000us           0 b           0 b             1  \n",
      "------------------------------------  ------------  ------------  ------------  ------------  ------------  ------------  ------------  ------------  ------------  ------------  ------------  ------------  \n",
      "Self CPU time total: 2.462ms\n",
      "Self CUDA time total: 222.000us\n",
      "\n"
     ]
    }
   ],
   "source": [
    "print(prof.key_averages().table(sort_by=\"self_cuda_memory_usage\", row_limit=10, top_level_events_only=True))\n"
   ]
  },
  {
   "cell_type": "code",
   "execution_count": 30,
   "metadata": {},
   "outputs": [
    {
     "name": "stderr",
     "output_type": "stream",
     "text": [
      "STAGE:2023-03-08 04:32:19 17149:17149 ActivityProfilerController.cpp:294] Completed Stage: Warm Up\n",
      "STAGE:2023-03-08 04:32:19 17149:17149 ActivityProfilerController.cpp:300] Completed Stage: Collection\n",
      "STAGE:2023-03-08 04:32:19 17149:17149 output_json.cpp:417] Completed Stage: Post Processing\n"
     ]
    }
   ],
   "source": [
    "import torch.profiler as profiler\n",
    "\n",
    "\n",
    "with profiler.profile(# schedule=profiler.schedule(wait=1, warmup=1, active=3, repeat=2),\n",
    "    on_trace_ready=profiler.tensorboard_trace_handler('/home/ec2-user/rosa/notebooks/log/ex0'),\n",
    "    record_shapes=True,\n",
    "    profile_memory=True,\n",
    "    with_stack=True\n",
    ") as prof:\n",
    "    rdm.predict_dataset.input[1].to('cuda')\n",
    "    prof.step()\n",
    "    for i, batch in enumerate(iter(rdm.train_dataloader())):\n",
    "        rlm.transfer_batch_to_device(batch, 'cuda', i)\n",
    "        prof.step()\n",
    "    # batch = next(iter(rdm.train_dataloader()))\n",
    "    # rlm.transfer_batch_to_device(batch, 'cuda', 0)\n",
    "    # prof.step()\n",
    "    "
   ]
  },
  {
   "cell_type": "code",
   "execution_count": 3,
   "metadata": {},
   "outputs": [
    {
     "name": "stderr",
     "output_type": "stream",
     "text": [
      "STAGE:2023-03-08 04:32:53 29353:29353 ActivityProfilerController.cpp:294] Completed Stage: Warm Up\n",
      "[W CPUAllocator.cpp:231] Memory block of unknown size was allocated before the profiling started, profiler results will not include the deallocation event\n",
      "/opt/conda/envs/pytorch/lib/python3.9/site-packages/pytorch_lightning/core/module.py:416: UserWarning: You are trying to `self.log()` but the `self.trainer` reference is not registered on the model yet. This is most likely because the model hasn't been passed to the `Trainer`\n",
      "  rank_zero_warn(\n",
      "STAGE:2023-03-08 04:32:55 29353:29353 ActivityProfilerController.cpp:300] Completed Stage: Collection\n",
      "STAGE:2023-03-08 04:32:57 29353:29353 output_json.cpp:417] Completed Stage: Post Processing\n"
     ]
    }
   ],
   "source": [
    "import torch.profiler as profiler\n",
    "\n",
    "\n",
    "with profiler.profile(# schedule=profiler.schedule(wait=1, warmup=1, active=3, repeat=2),\n",
    "    on_trace_ready=profiler.tensorboard_trace_handler('/home/ec2-user/rosa/notebooks/log/ex8'),\n",
    "    record_shapes=True,\n",
    "    profile_memory=True,\n",
    "    with_stack=True\n",
    ") as prof:\n",
    "    rlm.model.to('cuda')\n",
    "    prof.step()\n",
    "    for i, batch in enumerate(iter(rdm.train_dataloader())):\n",
    "        batch = rlm.transfer_batch_to_device(batch, 'cuda', i)\n",
    "        rlm.training_step(batch, i)\n",
    "        prof.step()\n",
    "    # batch = next(iter(rdm.train_dataloader()))\n",
    "    # rlm.transfer_batch_to_device(batch, 'cuda', 0)\n",
    "    # prof.step()\n",
    "    "
   ]
  },
  {
   "cell_type": "code",
   "execution_count": 4,
   "metadata": {},
   "outputs": [
    {
     "data": {
      "text/plain": [
       "OrderedDict([('active.all.allocated', 1316),\n",
       "             ('active.all.current', 48),\n",
       "             ('active.all.freed', 1268),\n",
       "             ('active.all.peak', 105),\n",
       "             ('active.large_pool.allocated', 842),\n",
       "             ('active.large_pool.current', 3),\n",
       "             ('active.large_pool.freed', 839),\n",
       "             ('active.large_pool.peak', 46),\n",
       "             ('active.small_pool.allocated', 474),\n",
       "             ('active.small_pool.current', 45),\n",
       "             ('active.small_pool.freed', 429),\n",
       "             ('active.small_pool.peak', 60),\n",
       "             ('active_bytes.all.allocated', 244465911296),\n",
       "             ('active_bytes.all.current', 251234816),\n",
       "             ('active_bytes.all.freed', 244214676480),\n",
       "             ('active_bytes.all.peak', 14649931264),\n",
       "             ('active_bytes.large_pool.allocated', 244278289408),\n",
       "             ('active_bytes.large_pool.current', 243421696),\n",
       "             ('active_bytes.large_pool.freed', 244034867712),\n",
       "             ('active_bytes.large_pool.peak', 14636655104),\n",
       "             ('active_bytes.small_pool.allocated', 187621888),\n",
       "             ('active_bytes.small_pool.current', 7813120),\n",
       "             ('active_bytes.small_pool.freed', 179808768),\n",
       "             ('active_bytes.small_pool.peak', 14424064),\n",
       "             ('allocated_bytes.all.allocated', 244465911296),\n",
       "             ('allocated_bytes.all.current', 251234816),\n",
       "             ('allocated_bytes.all.freed', 244214676480),\n",
       "             ('allocated_bytes.all.peak', 14649931264),\n",
       "             ('allocated_bytes.large_pool.allocated', 244278289408),\n",
       "             ('allocated_bytes.large_pool.current', 243421696),\n",
       "             ('allocated_bytes.large_pool.freed', 244034867712),\n",
       "             ('allocated_bytes.large_pool.peak', 14636655104),\n",
       "             ('allocated_bytes.small_pool.allocated', 187621888),\n",
       "             ('allocated_bytes.small_pool.current', 7813120),\n",
       "             ('allocated_bytes.small_pool.freed', 179808768),\n",
       "             ('allocated_bytes.small_pool.peak', 14424064),\n",
       "             ('allocation.all.allocated', 1316),\n",
       "             ('allocation.all.current', 48),\n",
       "             ('allocation.all.freed', 1268),\n",
       "             ('allocation.all.peak', 105),\n",
       "             ('allocation.large_pool.allocated', 842),\n",
       "             ('allocation.large_pool.current', 3),\n",
       "             ('allocation.large_pool.freed', 839),\n",
       "             ('allocation.large_pool.peak', 46),\n",
       "             ('allocation.small_pool.allocated', 474),\n",
       "             ('allocation.small_pool.current', 45),\n",
       "             ('allocation.small_pool.freed', 429),\n",
       "             ('allocation.small_pool.peak', 60),\n",
       "             ('inactive_split.all.allocated', 631),\n",
       "             ('inactive_split.all.current', 4),\n",
       "             ('inactive_split.all.freed', 627),\n",
       "             ('inactive_split.all.peak', 36),\n",
       "             ('inactive_split.large_pool.allocated', 444),\n",
       "             ('inactive_split.large_pool.current', 1),\n",
       "             ('inactive_split.large_pool.freed', 443),\n",
       "             ('inactive_split.large_pool.peak', 29),\n",
       "             ('inactive_split.small_pool.allocated', 187),\n",
       "             ('inactive_split.small_pool.current', 3),\n",
       "             ('inactive_split.small_pool.freed', 184),\n",
       "             ('inactive_split.small_pool.peak', 8),\n",
       "             ('inactive_split_bytes.all.allocated', 52374476800),\n",
       "             ('inactive_split_bytes.all.current', 17200640),\n",
       "             ('inactive_split_bytes.all.freed', 52357276160),\n",
       "             ('inactive_split_bytes.all.peak', 1829613056),\n",
       "             ('inactive_split_bytes.large_pool.allocated', 52149744128),\n",
       "             ('inactive_split_bytes.large_pool.current', 16625152),\n",
       "             ('inactive_split_bytes.large_pool.freed', 52133118976),\n",
       "             ('inactive_split_bytes.large_pool.peak', 1828541440),\n",
       "             ('inactive_split_bytes.small_pool.allocated', 224732672),\n",
       "             ('inactive_split_bytes.small_pool.current', 575488),\n",
       "             ('inactive_split_bytes.small_pool.freed', 224157184),\n",
       "             ('inactive_split_bytes.small_pool.peak', 4728832),\n",
       "             ('max_split_size', -1),\n",
       "             ('num_alloc_retries', 0),\n",
       "             ('num_ooms', 0),\n",
       "             ('oversize_allocations.allocated', 0),\n",
       "             ('oversize_allocations.current', 0),\n",
       "             ('oversize_allocations.freed', 0),\n",
       "             ('oversize_allocations.peak', 0),\n",
       "             ('oversize_segments.allocated', 0),\n",
       "             ('oversize_segments.current', 0),\n",
       "             ('oversize_segments.freed', 0),\n",
       "             ('oversize_segments.peak', 0),\n",
       "             ('reserved_bytes.all.allocated', 15030288384),\n",
       "             ('reserved_bytes.all.current', 15030288384),\n",
       "             ('reserved_bytes.all.freed', 0),\n",
       "             ('reserved_bytes.all.peak', 15030288384),\n",
       "             ('reserved_bytes.large_pool.allocated', 15013511168),\n",
       "             ('reserved_bytes.large_pool.current', 15013511168),\n",
       "             ('reserved_bytes.large_pool.freed', 0),\n",
       "             ('reserved_bytes.large_pool.peak', 15013511168),\n",
       "             ('reserved_bytes.small_pool.allocated', 16777216),\n",
       "             ('reserved_bytes.small_pool.current', 16777216),\n",
       "             ('reserved_bytes.small_pool.freed', 0),\n",
       "             ('reserved_bytes.small_pool.peak', 16777216),\n",
       "             ('segment.all.allocated', 37),\n",
       "             ('segment.all.current', 37),\n",
       "             ('segment.all.freed', 0),\n",
       "             ('segment.all.peak', 37),\n",
       "             ('segment.large_pool.allocated', 29),\n",
       "             ('segment.large_pool.current', 29),\n",
       "             ('segment.large_pool.freed', 0),\n",
       "             ('segment.large_pool.peak', 29),\n",
       "             ('segment.small_pool.allocated', 8),\n",
       "             ('segment.small_pool.current', 8),\n",
       "             ('segment.small_pool.freed', 0),\n",
       "             ('segment.small_pool.peak', 8)])"
      ]
     },
     "execution_count": 4,
     "metadata": {},
     "output_type": "execute_result"
    }
   ],
   "source": [
    "import  torch\n",
    "\n",
    "torch.cuda.memory_stats()"
   ]
  },
  {
   "cell_type": "code",
   "execution_count": 12,
   "metadata": {},
   "outputs": [
    {
     "name": "stdout",
     "output_type": "stream",
     "text": [
      "model size: 9.18MB\n",
      "number of parameters 2.37M\n"
     ]
    }
   ],
   "source": [
    "model = rlm.model\n",
    "param_size = 0\n",
    "n_param = 0\n",
    "for param in model.parameters():\n",
    "    n_param += param.nelement()\n",
    "    param_size += param.nelement() * param.element_size()\n",
    "buffer_size = 0\n",
    "for buffer in model.buffers():\n",
    "    buffer_size += buffer.nelement() * buffer.element_size()\n",
    "\n",
    "size_all_mb = (param_size + buffer_size) / 1024**2\n",
    "print('model size: {:.2f}MB'.format(size_all_mb))\n",
    "print('number of parameters {:.2f}M'.format(n_param / 1e6))"
   ]
  },
  {
   "cell_type": "code",
   "execution_count": 14,
   "metadata": {},
   "outputs": [
    {
     "data": {
      "text/plain": [
       "248.707072"
      ]
     },
     "execution_count": 14,
     "metadata": {},
     "output_type": "execute_result"
    }
   ],
   "source": [
    "import torch\n",
    "\n",
    "torch.cuda.memory_allocated() / 1e6"
   ]
  },
  {
   "cell_type": "code",
   "execution_count": 61,
   "metadata": {},
   "outputs": [
    {
     "data": {
      "text/plain": [
       "RosaFormerModel(\n",
       "  (main): Sequential(\n",
       "    (dual_embed): ParallelEmbed(\n",
       "      (models): ModuleList(\n",
       "        (0): Sequential(\n",
       "          (input_embed_0): MaskedEmbed(\n",
       "            (mask): Linear(in_features=1, out_features=256, bias=True)\n",
       "            (model): Sequential(\n",
       "              (projection): Linear(in_features=1, out_features=256, bias=True)\n",
       "              (layer_norm): Identity()\n",
       "              (dropout): Dropout(p=0, inplace=False)\n",
       "            )\n",
       "          )\n",
       "        )\n",
       "        (1): Sequential(\n",
       "          (layer_norm_1): LayerNorm((3072,), eps=1e-05, elementwise_affine=True)\n",
       "          (input_embed_1): InputEmbed(\n",
       "            (model): Sequential(\n",
       "              (projection): Linear(in_features=3072, out_features=256, bias=True)\n",
       "              (layer_norm): Identity()\n",
       "              (dropout): Dropout(p=0, inplace=False)\n",
       "            )\n",
       "          )\n",
       "        )\n",
       "      )\n",
       "    )\n",
       "    (join_embeds): AddEmbeds()\n",
       "    (transformer): Performer(\n",
       "      (net): SequentialSequence(\n",
       "        (layers): ModuleList(\n",
       "          (0): ModuleList(\n",
       "            (0): PreLayerNorm(\n",
       "              (norm): LayerNorm((256,), eps=1e-05, elementwise_affine=True)\n",
       "              (fn): SelfAttention(\n",
       "                (fast_attention): FastAttention(\n",
       "                  (kernel_fn): ReLU()\n",
       "                )\n",
       "                (to_q): Linear(in_features=256, out_features=256, bias=True)\n",
       "                (to_k): Linear(in_features=256, out_features=256, bias=True)\n",
       "                (to_v): Linear(in_features=256, out_features=256, bias=True)\n",
       "                (to_out): Linear(in_features=256, out_features=256, bias=True)\n",
       "                (dropout): Dropout(p=0.3, inplace=False)\n",
       "              )\n",
       "            )\n",
       "            (1): PreLayerNorm(\n",
       "              (norm): LayerNorm((256,), eps=1e-05, elementwise_affine=True)\n",
       "              (fn): Chunk(\n",
       "                (fn): FeedForward(\n",
       "                  (w1): Linear(in_features=256, out_features=1024, bias=True)\n",
       "                  (act): GELU(approximate='none')\n",
       "                  (dropout): Dropout(p=0.3, inplace=False)\n",
       "                  (w2): Linear(in_features=1024, out_features=256, bias=True)\n",
       "                )\n",
       "              )\n",
       "            )\n",
       "          )\n",
       "          (1): ModuleList(\n",
       "            (0): PreLayerNorm(\n",
       "              (norm): LayerNorm((256,), eps=1e-05, elementwise_affine=True)\n",
       "              (fn): SelfAttention(\n",
       "                (fast_attention): FastAttention(\n",
       "                  (kernel_fn): ReLU()\n",
       "                )\n",
       "                (to_q): Linear(in_features=256, out_features=256, bias=True)\n",
       "                (to_k): Linear(in_features=256, out_features=256, bias=True)\n",
       "                (to_v): Linear(in_features=256, out_features=256, bias=True)\n",
       "                (to_out): Linear(in_features=256, out_features=256, bias=True)\n",
       "                (dropout): Dropout(p=0.3, inplace=False)\n",
       "              )\n",
       "            )\n",
       "            (1): PreLayerNorm(\n",
       "              (norm): LayerNorm((256,), eps=1e-05, elementwise_affine=True)\n",
       "              (fn): Chunk(\n",
       "                (fn): FeedForward(\n",
       "                  (w1): Linear(in_features=256, out_features=1024, bias=True)\n",
       "                  (act): GELU(approximate='none')\n",
       "                  (dropout): Dropout(p=0.3, inplace=False)\n",
       "                  (w2): Linear(in_features=1024, out_features=256, bias=True)\n",
       "                )\n",
       "              )\n",
       "            )\n",
       "          )\n",
       "        )\n",
       "      )\n",
       "      (proj_updater): ProjectionUpdater(\n",
       "        (instance): SequentialSequence(\n",
       "          (layers): ModuleList(\n",
       "            (0): ModuleList(\n",
       "              (0): PreLayerNorm(\n",
       "                (norm): LayerNorm((256,), eps=1e-05, elementwise_affine=True)\n",
       "                (fn): SelfAttention(\n",
       "                  (fast_attention): FastAttention(\n",
       "                    (kernel_fn): ReLU()\n",
       "                  )\n",
       "                  (to_q): Linear(in_features=256, out_features=256, bias=True)\n",
       "                  (to_k): Linear(in_features=256, out_features=256, bias=True)\n",
       "                  (to_v): Linear(in_features=256, out_features=256, bias=True)\n",
       "                  (to_out): Linear(in_features=256, out_features=256, bias=True)\n",
       "                  (dropout): Dropout(p=0.3, inplace=False)\n",
       "                )\n",
       "              )\n",
       "              (1): PreLayerNorm(\n",
       "                (norm): LayerNorm((256,), eps=1e-05, elementwise_affine=True)\n",
       "                (fn): Chunk(\n",
       "                  (fn): FeedForward(\n",
       "                    (w1): Linear(in_features=256, out_features=1024, bias=True)\n",
       "                    (act): GELU(approximate='none')\n",
       "                    (dropout): Dropout(p=0.3, inplace=False)\n",
       "                    (w2): Linear(in_features=1024, out_features=256, bias=True)\n",
       "                  )\n",
       "                )\n",
       "              )\n",
       "            )\n",
       "            (1): ModuleList(\n",
       "              (0): PreLayerNorm(\n",
       "                (norm): LayerNorm((256,), eps=1e-05, elementwise_affine=True)\n",
       "                (fn): SelfAttention(\n",
       "                  (fast_attention): FastAttention(\n",
       "                    (kernel_fn): ReLU()\n",
       "                  )\n",
       "                  (to_q): Linear(in_features=256, out_features=256, bias=True)\n",
       "                  (to_k): Linear(in_features=256, out_features=256, bias=True)\n",
       "                  (to_v): Linear(in_features=256, out_features=256, bias=True)\n",
       "                  (to_out): Linear(in_features=256, out_features=256, bias=True)\n",
       "                  (dropout): Dropout(p=0.3, inplace=False)\n",
       "                )\n",
       "              )\n",
       "              (1): PreLayerNorm(\n",
       "                (norm): LayerNorm((256,), eps=1e-05, elementwise_affine=True)\n",
       "                (fn): Chunk(\n",
       "                  (fn): FeedForward(\n",
       "                    (w1): Linear(in_features=256, out_features=1024, bias=True)\n",
       "                    (act): GELU(approximate='none')\n",
       "                    (dropout): Dropout(p=0.3, inplace=False)\n",
       "                    (w2): Linear(in_features=1024, out_features=256, bias=True)\n",
       "                  )\n",
       "                )\n",
       "              )\n",
       "            )\n",
       "          )\n",
       "        )\n",
       "      )\n",
       "    )\n",
       "    (dropout): Dropout(p=0, inplace=False)\n",
       "    (expression_head): ProjectionExpressionHead(\n",
       "      (model): Sequential(\n",
       "        (projection): Linear(in_features=256, out_features=1, bias=True)\n",
       "        (activation): Identity()\n",
       "      )\n",
       "    )\n",
       "  )\n",
       ")"
      ]
     },
     "execution_count": 61,
     "metadata": {},
     "output_type": "execute_result"
    }
   ],
   "source": [
    "rlm.model.to('cuda')"
   ]
  },
  {
   "cell_type": "code",
   "execution_count": 59,
   "metadata": {},
   "outputs": [
    {
     "ename": "RuntimeError",
     "evalue": "Expected all tensors to be on the same device, but found at least two devices, cuda:0 and cpu! (when checking argument for argument mat2 in method wrapper_mm)",
     "output_type": "error",
     "traceback": [
      "\u001b[0;31m---------------------------------------------------------------------------\u001b[0m",
      "\u001b[0;31mRuntimeError\u001b[0m                              Traceback (most recent call last)",
      "Cell \u001b[0;32mIn [59], line 1\u001b[0m\n\u001b[0;32m----> 1\u001b[0m rlm\u001b[39m.\u001b[39;49mmodel(batch[\u001b[39m0\u001b[39;49m])\n",
      "File \u001b[0;32m/opt/conda/envs/pytorch/lib/python3.9/site-packages/torch/nn/modules/module.py:1190\u001b[0m, in \u001b[0;36mModule._call_impl\u001b[0;34m(self, *input, **kwargs)\u001b[0m\n\u001b[1;32m   1186\u001b[0m \u001b[39m# If we don't have any hooks, we want to skip the rest of the logic in\u001b[39;00m\n\u001b[1;32m   1187\u001b[0m \u001b[39m# this function, and just call forward.\u001b[39;00m\n\u001b[1;32m   1188\u001b[0m \u001b[39mif\u001b[39;00m \u001b[39mnot\u001b[39;00m (\u001b[39mself\u001b[39m\u001b[39m.\u001b[39m_backward_hooks \u001b[39mor\u001b[39;00m \u001b[39mself\u001b[39m\u001b[39m.\u001b[39m_forward_hooks \u001b[39mor\u001b[39;00m \u001b[39mself\u001b[39m\u001b[39m.\u001b[39m_forward_pre_hooks \u001b[39mor\u001b[39;00m _global_backward_hooks\n\u001b[1;32m   1189\u001b[0m         \u001b[39mor\u001b[39;00m _global_forward_hooks \u001b[39mor\u001b[39;00m _global_forward_pre_hooks):\n\u001b[0;32m-> 1190\u001b[0m     \u001b[39mreturn\u001b[39;00m forward_call(\u001b[39m*\u001b[39;49m\u001b[39minput\u001b[39;49m, \u001b[39m*\u001b[39;49m\u001b[39m*\u001b[39;49mkwargs)\n\u001b[1;32m   1191\u001b[0m \u001b[39m# Do not call functions when jit is used\u001b[39;00m\n\u001b[1;32m   1192\u001b[0m full_backward_hooks, non_full_backward_hooks \u001b[39m=\u001b[39m [], []\n",
      "File \u001b[0;32m~/rosa/rosa/modeling/models/transformer.py:126\u001b[0m, in \u001b[0;36mRosaFormerModel.forward\u001b[0;34m(self, x)\u001b[0m\n\u001b[1;32m    124\u001b[0m \u001b[39mif\u001b[39;00m \u001b[39mself\u001b[39m\u001b[39m.\u001b[39mvar_input \u001b[39mis\u001b[39;00m \u001b[39mnot\u001b[39;00m \u001b[39mNone\u001b[39;00m:\n\u001b[1;32m    125\u001b[0m     x \u001b[39m=\u001b[39m (x[\u001b[39m0\u001b[39m], \u001b[39mself\u001b[39m\u001b[39m.\u001b[39mvar_input[x[\u001b[39m1\u001b[39m]]) \u001b[39m# type: ignore\u001b[39;00m\n\u001b[0;32m--> 126\u001b[0m \u001b[39mreturn\u001b[39;00m \u001b[39mself\u001b[39;49m\u001b[39m.\u001b[39;49mmain(x)\n",
      "File \u001b[0;32m/opt/conda/envs/pytorch/lib/python3.9/site-packages/torch/nn/modules/module.py:1190\u001b[0m, in \u001b[0;36mModule._call_impl\u001b[0;34m(self, *input, **kwargs)\u001b[0m\n\u001b[1;32m   1186\u001b[0m \u001b[39m# If we don't have any hooks, we want to skip the rest of the logic in\u001b[39;00m\n\u001b[1;32m   1187\u001b[0m \u001b[39m# this function, and just call forward.\u001b[39;00m\n\u001b[1;32m   1188\u001b[0m \u001b[39mif\u001b[39;00m \u001b[39mnot\u001b[39;00m (\u001b[39mself\u001b[39m\u001b[39m.\u001b[39m_backward_hooks \u001b[39mor\u001b[39;00m \u001b[39mself\u001b[39m\u001b[39m.\u001b[39m_forward_hooks \u001b[39mor\u001b[39;00m \u001b[39mself\u001b[39m\u001b[39m.\u001b[39m_forward_pre_hooks \u001b[39mor\u001b[39;00m _global_backward_hooks\n\u001b[1;32m   1189\u001b[0m         \u001b[39mor\u001b[39;00m _global_forward_hooks \u001b[39mor\u001b[39;00m _global_forward_pre_hooks):\n\u001b[0;32m-> 1190\u001b[0m     \u001b[39mreturn\u001b[39;00m forward_call(\u001b[39m*\u001b[39;49m\u001b[39minput\u001b[39;49m, \u001b[39m*\u001b[39;49m\u001b[39m*\u001b[39;49mkwargs)\n\u001b[1;32m   1191\u001b[0m \u001b[39m# Do not call functions when jit is used\u001b[39;00m\n\u001b[1;32m   1192\u001b[0m full_backward_hooks, non_full_backward_hooks \u001b[39m=\u001b[39m [], []\n",
      "File \u001b[0;32m/opt/conda/envs/pytorch/lib/python3.9/site-packages/torch/nn/modules/container.py:204\u001b[0m, in \u001b[0;36mSequential.forward\u001b[0;34m(self, input)\u001b[0m\n\u001b[1;32m    202\u001b[0m \u001b[39mdef\u001b[39;00m \u001b[39mforward\u001b[39m(\u001b[39mself\u001b[39m, \u001b[39minput\u001b[39m):\n\u001b[1;32m    203\u001b[0m     \u001b[39mfor\u001b[39;00m module \u001b[39min\u001b[39;00m \u001b[39mself\u001b[39m:\n\u001b[0;32m--> 204\u001b[0m         \u001b[39minput\u001b[39m \u001b[39m=\u001b[39m module(\u001b[39minput\u001b[39;49m)\n\u001b[1;32m    205\u001b[0m     \u001b[39mreturn\u001b[39;00m \u001b[39minput\u001b[39m\n",
      "File \u001b[0;32m/opt/conda/envs/pytorch/lib/python3.9/site-packages/torch/nn/modules/module.py:1190\u001b[0m, in \u001b[0;36mModule._call_impl\u001b[0;34m(self, *input, **kwargs)\u001b[0m\n\u001b[1;32m   1186\u001b[0m \u001b[39m# If we don't have any hooks, we want to skip the rest of the logic in\u001b[39;00m\n\u001b[1;32m   1187\u001b[0m \u001b[39m# this function, and just call forward.\u001b[39;00m\n\u001b[1;32m   1188\u001b[0m \u001b[39mif\u001b[39;00m \u001b[39mnot\u001b[39;00m (\u001b[39mself\u001b[39m\u001b[39m.\u001b[39m_backward_hooks \u001b[39mor\u001b[39;00m \u001b[39mself\u001b[39m\u001b[39m.\u001b[39m_forward_hooks \u001b[39mor\u001b[39;00m \u001b[39mself\u001b[39m\u001b[39m.\u001b[39m_forward_pre_hooks \u001b[39mor\u001b[39;00m _global_backward_hooks\n\u001b[1;32m   1189\u001b[0m         \u001b[39mor\u001b[39;00m _global_forward_hooks \u001b[39mor\u001b[39;00m _global_forward_pre_hooks):\n\u001b[0;32m-> 1190\u001b[0m     \u001b[39mreturn\u001b[39;00m forward_call(\u001b[39m*\u001b[39;49m\u001b[39minput\u001b[39;49m, \u001b[39m*\u001b[39;49m\u001b[39m*\u001b[39;49mkwargs)\n\u001b[1;32m   1191\u001b[0m \u001b[39m# Do not call functions when jit is used\u001b[39;00m\n\u001b[1;32m   1192\u001b[0m full_backward_hooks, non_full_backward_hooks \u001b[39m=\u001b[39m [], []\n",
      "File \u001b[0;32m~/rosa/rosa/modeling/models/components/join_embeds.py:15\u001b[0m, in \u001b[0;36mParallelEmbed.forward\u001b[0;34m(self, x)\u001b[0m\n\u001b[1;32m     14\u001b[0m \u001b[39mdef\u001b[39;00m \u001b[39mforward\u001b[39m(\u001b[39mself\u001b[39m, x: Tuple[torch\u001b[39m.\u001b[39mTensor, \u001b[39m.\u001b[39m\u001b[39m.\u001b[39m\u001b[39m.\u001b[39m]) \u001b[39m-\u001b[39m\u001b[39m>\u001b[39m Tuple[torch\u001b[39m.\u001b[39mTensor, \u001b[39m.\u001b[39m\u001b[39m.\u001b[39m\u001b[39m.\u001b[39m]:\n\u001b[0;32m---> 15\u001b[0m     \u001b[39mreturn\u001b[39;00m \u001b[39mtuple\u001b[39m([f(x_) \u001b[39mfor\u001b[39;00m f, x_ \u001b[39min\u001b[39;00m \u001b[39mzip\u001b[39m(\u001b[39mself\u001b[39m\u001b[39m.\u001b[39mmodels, x)])\n",
      "File \u001b[0;32m~/rosa/rosa/modeling/models/components/join_embeds.py:15\u001b[0m, in \u001b[0;36m<listcomp>\u001b[0;34m(.0)\u001b[0m\n\u001b[1;32m     14\u001b[0m \u001b[39mdef\u001b[39;00m \u001b[39mforward\u001b[39m(\u001b[39mself\u001b[39m, x: Tuple[torch\u001b[39m.\u001b[39mTensor, \u001b[39m.\u001b[39m\u001b[39m.\u001b[39m\u001b[39m.\u001b[39m]) \u001b[39m-\u001b[39m\u001b[39m>\u001b[39m Tuple[torch\u001b[39m.\u001b[39mTensor, \u001b[39m.\u001b[39m\u001b[39m.\u001b[39m\u001b[39m.\u001b[39m]:\n\u001b[0;32m---> 15\u001b[0m     \u001b[39mreturn\u001b[39;00m \u001b[39mtuple\u001b[39m([f(x_) \u001b[39mfor\u001b[39;00m f, x_ \u001b[39min\u001b[39;00m \u001b[39mzip\u001b[39m(\u001b[39mself\u001b[39m\u001b[39m.\u001b[39mmodels, x)])\n",
      "File \u001b[0;32m/opt/conda/envs/pytorch/lib/python3.9/site-packages/torch/nn/modules/module.py:1190\u001b[0m, in \u001b[0;36mModule._call_impl\u001b[0;34m(self, *input, **kwargs)\u001b[0m\n\u001b[1;32m   1186\u001b[0m \u001b[39m# If we don't have any hooks, we want to skip the rest of the logic in\u001b[39;00m\n\u001b[1;32m   1187\u001b[0m \u001b[39m# this function, and just call forward.\u001b[39;00m\n\u001b[1;32m   1188\u001b[0m \u001b[39mif\u001b[39;00m \u001b[39mnot\u001b[39;00m (\u001b[39mself\u001b[39m\u001b[39m.\u001b[39m_backward_hooks \u001b[39mor\u001b[39;00m \u001b[39mself\u001b[39m\u001b[39m.\u001b[39m_forward_hooks \u001b[39mor\u001b[39;00m \u001b[39mself\u001b[39m\u001b[39m.\u001b[39m_forward_pre_hooks \u001b[39mor\u001b[39;00m _global_backward_hooks\n\u001b[1;32m   1189\u001b[0m         \u001b[39mor\u001b[39;00m _global_forward_hooks \u001b[39mor\u001b[39;00m _global_forward_pre_hooks):\n\u001b[0;32m-> 1190\u001b[0m     \u001b[39mreturn\u001b[39;00m forward_call(\u001b[39m*\u001b[39;49m\u001b[39minput\u001b[39;49m, \u001b[39m*\u001b[39;49m\u001b[39m*\u001b[39;49mkwargs)\n\u001b[1;32m   1191\u001b[0m \u001b[39m# Do not call functions when jit is used\u001b[39;00m\n\u001b[1;32m   1192\u001b[0m full_backward_hooks, non_full_backward_hooks \u001b[39m=\u001b[39m [], []\n",
      "File \u001b[0;32m/opt/conda/envs/pytorch/lib/python3.9/site-packages/torch/nn/modules/container.py:204\u001b[0m, in \u001b[0;36mSequential.forward\u001b[0;34m(self, input)\u001b[0m\n\u001b[1;32m    202\u001b[0m \u001b[39mdef\u001b[39;00m \u001b[39mforward\u001b[39m(\u001b[39mself\u001b[39m, \u001b[39minput\u001b[39m):\n\u001b[1;32m    203\u001b[0m     \u001b[39mfor\u001b[39;00m module \u001b[39min\u001b[39;00m \u001b[39mself\u001b[39m:\n\u001b[0;32m--> 204\u001b[0m         \u001b[39minput\u001b[39m \u001b[39m=\u001b[39m module(\u001b[39minput\u001b[39;49m)\n\u001b[1;32m    205\u001b[0m     \u001b[39mreturn\u001b[39;00m \u001b[39minput\u001b[39m\n",
      "File \u001b[0;32m/opt/conda/envs/pytorch/lib/python3.9/site-packages/torch/nn/modules/module.py:1190\u001b[0m, in \u001b[0;36mModule._call_impl\u001b[0;34m(self, *input, **kwargs)\u001b[0m\n\u001b[1;32m   1186\u001b[0m \u001b[39m# If we don't have any hooks, we want to skip the rest of the logic in\u001b[39;00m\n\u001b[1;32m   1187\u001b[0m \u001b[39m# this function, and just call forward.\u001b[39;00m\n\u001b[1;32m   1188\u001b[0m \u001b[39mif\u001b[39;00m \u001b[39mnot\u001b[39;00m (\u001b[39mself\u001b[39m\u001b[39m.\u001b[39m_backward_hooks \u001b[39mor\u001b[39;00m \u001b[39mself\u001b[39m\u001b[39m.\u001b[39m_forward_hooks \u001b[39mor\u001b[39;00m \u001b[39mself\u001b[39m\u001b[39m.\u001b[39m_forward_pre_hooks \u001b[39mor\u001b[39;00m _global_backward_hooks\n\u001b[1;32m   1189\u001b[0m         \u001b[39mor\u001b[39;00m _global_forward_hooks \u001b[39mor\u001b[39;00m _global_forward_pre_hooks):\n\u001b[0;32m-> 1190\u001b[0m     \u001b[39mreturn\u001b[39;00m forward_call(\u001b[39m*\u001b[39;49m\u001b[39minput\u001b[39;49m, \u001b[39m*\u001b[39;49m\u001b[39m*\u001b[39;49mkwargs)\n\u001b[1;32m   1191\u001b[0m \u001b[39m# Do not call functions when jit is used\u001b[39;00m\n\u001b[1;32m   1192\u001b[0m full_backward_hooks, non_full_backward_hooks \u001b[39m=\u001b[39m [], []\n",
      "File \u001b[0;32m~/rosa/rosa/modeling/models/components/input_embeds.py:63\u001b[0m, in \u001b[0;36mMaskedEmbed.forward\u001b[0;34m(self, x)\u001b[0m\n\u001b[1;32m     61\u001b[0m x0, mask \u001b[39m=\u001b[39m x\n\u001b[1;32m     62\u001b[0m \u001b[39mif\u001b[39;00m \u001b[39mself\u001b[39m\u001b[39m.\u001b[39min_dim \u001b[39m==\u001b[39m \u001b[39m1\u001b[39m \u001b[39mand\u001b[39;00m \u001b[39mself\u001b[39m\u001b[39m.\u001b[39mmask \u001b[39mis\u001b[39;00m \u001b[39mnot\u001b[39;00m \u001b[39mNone\u001b[39;00m:\n\u001b[0;32m---> 63\u001b[0m     output \u001b[39m=\u001b[39m \u001b[39mself\u001b[39;49m\u001b[39m.\u001b[39;49mmodel(x0\u001b[39m.\u001b[39;49munsqueeze_(\u001b[39m-\u001b[39;49m\u001b[39m1\u001b[39;49m))\u001b[39m.\u001b[39msqueeze(\u001b[39m-\u001b[39m\u001b[39m2\u001b[39m)\n\u001b[1;32m     64\u001b[0m     output[mask] \u001b[39m=\u001b[39m \u001b[39mself\u001b[39m\u001b[39m.\u001b[39mmask\u001b[39m.\u001b[39mweight\u001b[39m.\u001b[39mT\n\u001b[1;32m     65\u001b[0m \u001b[39melse\u001b[39;00m:\n",
      "File \u001b[0;32m/opt/conda/envs/pytorch/lib/python3.9/site-packages/torch/nn/modules/module.py:1190\u001b[0m, in \u001b[0;36mModule._call_impl\u001b[0;34m(self, *input, **kwargs)\u001b[0m\n\u001b[1;32m   1186\u001b[0m \u001b[39m# If we don't have any hooks, we want to skip the rest of the logic in\u001b[39;00m\n\u001b[1;32m   1187\u001b[0m \u001b[39m# this function, and just call forward.\u001b[39;00m\n\u001b[1;32m   1188\u001b[0m \u001b[39mif\u001b[39;00m \u001b[39mnot\u001b[39;00m (\u001b[39mself\u001b[39m\u001b[39m.\u001b[39m_backward_hooks \u001b[39mor\u001b[39;00m \u001b[39mself\u001b[39m\u001b[39m.\u001b[39m_forward_hooks \u001b[39mor\u001b[39;00m \u001b[39mself\u001b[39m\u001b[39m.\u001b[39m_forward_pre_hooks \u001b[39mor\u001b[39;00m _global_backward_hooks\n\u001b[1;32m   1189\u001b[0m         \u001b[39mor\u001b[39;00m _global_forward_hooks \u001b[39mor\u001b[39;00m _global_forward_pre_hooks):\n\u001b[0;32m-> 1190\u001b[0m     \u001b[39mreturn\u001b[39;00m forward_call(\u001b[39m*\u001b[39;49m\u001b[39minput\u001b[39;49m, \u001b[39m*\u001b[39;49m\u001b[39m*\u001b[39;49mkwargs)\n\u001b[1;32m   1191\u001b[0m \u001b[39m# Do not call functions when jit is used\u001b[39;00m\n\u001b[1;32m   1192\u001b[0m full_backward_hooks, non_full_backward_hooks \u001b[39m=\u001b[39m [], []\n",
      "File \u001b[0;32m/opt/conda/envs/pytorch/lib/python3.9/site-packages/torch/nn/modules/container.py:204\u001b[0m, in \u001b[0;36mSequential.forward\u001b[0;34m(self, input)\u001b[0m\n\u001b[1;32m    202\u001b[0m \u001b[39mdef\u001b[39;00m \u001b[39mforward\u001b[39m(\u001b[39mself\u001b[39m, \u001b[39minput\u001b[39m):\n\u001b[1;32m    203\u001b[0m     \u001b[39mfor\u001b[39;00m module \u001b[39min\u001b[39;00m \u001b[39mself\u001b[39m:\n\u001b[0;32m--> 204\u001b[0m         \u001b[39minput\u001b[39m \u001b[39m=\u001b[39m module(\u001b[39minput\u001b[39;49m)\n\u001b[1;32m    205\u001b[0m     \u001b[39mreturn\u001b[39;00m \u001b[39minput\u001b[39m\n",
      "File \u001b[0;32m/opt/conda/envs/pytorch/lib/python3.9/site-packages/torch/nn/modules/module.py:1190\u001b[0m, in \u001b[0;36mModule._call_impl\u001b[0;34m(self, *input, **kwargs)\u001b[0m\n\u001b[1;32m   1186\u001b[0m \u001b[39m# If we don't have any hooks, we want to skip the rest of the logic in\u001b[39;00m\n\u001b[1;32m   1187\u001b[0m \u001b[39m# this function, and just call forward.\u001b[39;00m\n\u001b[1;32m   1188\u001b[0m \u001b[39mif\u001b[39;00m \u001b[39mnot\u001b[39;00m (\u001b[39mself\u001b[39m\u001b[39m.\u001b[39m_backward_hooks \u001b[39mor\u001b[39;00m \u001b[39mself\u001b[39m\u001b[39m.\u001b[39m_forward_hooks \u001b[39mor\u001b[39;00m \u001b[39mself\u001b[39m\u001b[39m.\u001b[39m_forward_pre_hooks \u001b[39mor\u001b[39;00m _global_backward_hooks\n\u001b[1;32m   1189\u001b[0m         \u001b[39mor\u001b[39;00m _global_forward_hooks \u001b[39mor\u001b[39;00m _global_forward_pre_hooks):\n\u001b[0;32m-> 1190\u001b[0m     \u001b[39mreturn\u001b[39;00m forward_call(\u001b[39m*\u001b[39;49m\u001b[39minput\u001b[39;49m, \u001b[39m*\u001b[39;49m\u001b[39m*\u001b[39;49mkwargs)\n\u001b[1;32m   1191\u001b[0m \u001b[39m# Do not call functions when jit is used\u001b[39;00m\n\u001b[1;32m   1192\u001b[0m full_backward_hooks, non_full_backward_hooks \u001b[39m=\u001b[39m [], []\n",
      "File \u001b[0;32m/opt/conda/envs/pytorch/lib/python3.9/site-packages/torch/nn/modules/linear.py:114\u001b[0m, in \u001b[0;36mLinear.forward\u001b[0;34m(self, input)\u001b[0m\n\u001b[1;32m    113\u001b[0m \u001b[39mdef\u001b[39;00m \u001b[39mforward\u001b[39m(\u001b[39mself\u001b[39m, \u001b[39minput\u001b[39m: Tensor) \u001b[39m-\u001b[39m\u001b[39m>\u001b[39m Tensor:\n\u001b[0;32m--> 114\u001b[0m     \u001b[39mreturn\u001b[39;00m F\u001b[39m.\u001b[39;49mlinear(\u001b[39minput\u001b[39;49m, \u001b[39mself\u001b[39;49m\u001b[39m.\u001b[39;49mweight, \u001b[39mself\u001b[39;49m\u001b[39m.\u001b[39;49mbias)\n",
      "\u001b[0;31mRuntimeError\u001b[0m: Expected all tensors to be on the same device, but found at least two devices, cuda:0 and cpu! (when checking argument for argument mat2 in method wrapper_mm)"
     ]
    }
   ],
   "source": [
    "rlm.model(batch[0])"
   ]
  },
  {
   "cell_type": "code",
   "execution_count": 51,
   "metadata": {},
   "outputs": [
    {
     "data": {
      "text/plain": [
       "[[[tensor([[[7.1979e-02],\n",
       "            [2.4573e-02],\n",
       "            [1.6449e-02],\n",
       "            ...,\n",
       "            [0.0000e+00],\n",
       "            [0.0000e+00],\n",
       "            [0.0000e+00]],\n",
       "   \n",
       "           [[2.0022e+00],\n",
       "            [8.7149e-01],\n",
       "            [7.6668e-01],\n",
       "            ...,\n",
       "            [2.5435e-04],\n",
       "            [0.0000e+00],\n",
       "            [0.0000e+00]],\n",
       "   \n",
       "           [[1.4324e-02],\n",
       "            [3.0532e-01],\n",
       "            [4.2370e-02],\n",
       "            ...,\n",
       "            [0.0000e+00],\n",
       "            [0.0000e+00],\n",
       "            [0.0000e+00]],\n",
       "   \n",
       "           ...,\n",
       "   \n",
       "           [[1.2376e+00],\n",
       "            [4.0734e-01],\n",
       "            [8.2620e-02],\n",
       "            ...,\n",
       "            [7.7564e-04],\n",
       "            [7.7564e-04],\n",
       "            [0.0000e+00]],\n",
       "   \n",
       "           [[1.1483e-01],\n",
       "            [6.7977e-01],\n",
       "            [3.1118e-01],\n",
       "            ...,\n",
       "            [0.0000e+00],\n",
       "            [0.0000e+00],\n",
       "            [0.0000e+00]],\n",
       "   \n",
       "           [[4.3647e-01],\n",
       "            [6.5550e-01],\n",
       "            [4.1233e-02],\n",
       "            ...,\n",
       "            [0.0000e+00],\n",
       "            [0.0000e+00],\n",
       "            [0.0000e+00]]], device='cuda:0'),\n",
       "   tensor([[ True, False, False,  ..., False, False, False],\n",
       "           [False,  True,  True,  ..., False, False, False],\n",
       "           [False, False, False,  ..., False, False, False],\n",
       "           ...,\n",
       "           [False, False, False,  ..., False, False, False],\n",
       "           [False, False, False,  ..., False, False, False],\n",
       "           [ True, False, False,  ...,  True,  True, False]], device='cuda:0')],\n",
       "  tensor([[    0,     3,     4,  ..., 19427, 19428, 19429],\n",
       "          [    0,     3,     4,  ..., 19427, 19428, 19429],\n",
       "          [    0,     3,     4,  ..., 19427, 19428, 19429],\n",
       "          ...,\n",
       "          [    0,     3,     4,  ..., 19427, 19428, 19429],\n",
       "          [    0,     3,     4,  ..., 19427, 19428, 19429],\n",
       "          [    0,     3,     4,  ..., 19427, 19428, 19429]], device='cuda:0')],\n",
       " tensor([[7.1979e-02, 2.4573e-02, 1.6449e-02,  ..., 0.0000e+00, 0.0000e+00,\n",
       "          0.0000e+00],\n",
       "         [2.0022e+00, 8.7149e-01, 7.6668e-01,  ..., 2.5435e-04, 0.0000e+00,\n",
       "          0.0000e+00],\n",
       "         [1.4324e-02, 3.0532e-01, 4.2370e-02,  ..., 0.0000e+00, 0.0000e+00,\n",
       "          0.0000e+00],\n",
       "         ...,\n",
       "         [1.2376e+00, 4.0734e-01, 8.2620e-02,  ..., 7.7564e-04, 7.7564e-04,\n",
       "          0.0000e+00],\n",
       "         [1.1483e-01, 6.7977e-01, 3.1118e-01,  ..., 0.0000e+00, 0.0000e+00,\n",
       "          0.0000e+00],\n",
       "         [4.3647e-01, 6.5550e-01, 4.1233e-02,  ..., 0.0000e+00, 0.0000e+00,\n",
       "          0.0000e+00]], device='cuda:0')]"
      ]
     },
     "execution_count": 51,
     "metadata": {},
     "output_type": "execute_result"
    }
   ],
   "source": [
    "batch"
   ]
  },
  {
   "cell_type": "code",
   "execution_count": 21,
   "metadata": {},
   "outputs": [],
   "source": [
    "# !pip install torch-tb-profiler"
   ]
  },
  {
   "cell_type": "code",
   "execution_count": 40,
   "metadata": {},
   "outputs": [
    {
     "data": {
      "text/plain": [
       "torch.Size([19431, 3072])"
      ]
     },
     "execution_count": 40,
     "metadata": {},
     "output_type": "execute_result"
    }
   ],
   "source": [
    "rdm.predict_dataset.input[1].shape"
   ]
  },
  {
   "cell_type": "code",
   "execution_count": 42,
   "metadata": {},
   "outputs": [
    {
     "data": {
      "text/plain": [
       "59.692032"
      ]
     },
     "execution_count": 42,
     "metadata": {},
     "output_type": "execute_result"
    }
   ],
   "source": [
    "19431 * 3072 / 1e6"
   ]
  },
  {
   "cell_type": "code",
   "execution_count": 6,
   "metadata": {},
   "outputs": [],
   "source": [
    "batch = next(iter(rdm.train_dataloader()))"
   ]
  },
  {
   "cell_type": "code",
   "execution_count": 7,
   "metadata": {},
   "outputs": [
    {
     "data": {
      "text/plain": [
       "[[[tensor([[1.2949e+00, 6.6912e-01, 2.5456e-01,  ..., 0.0000e+00, 0.0000e+00,\n",
       "            0.0000e+00],\n",
       "           [1.1483e-01, 6.7977e-01, 3.1118e-01,  ..., 0.0000e+00, 0.0000e+00,\n",
       "            0.0000e+00],\n",
       "           [4.6344e-02, 8.1008e-01, 3.9162e-01,  ..., 5.9092e-04, 0.0000e+00,\n",
       "            0.0000e+00],\n",
       "           ...,\n",
       "           [1.1423e+00, 4.2181e-01, 1.6588e-01,  ..., 0.0000e+00, 0.0000e+00,\n",
       "            0.0000e+00],\n",
       "           [3.1224e+00, 2.9315e-01, 4.1616e-01,  ..., 0.0000e+00, 0.0000e+00,\n",
       "            0.0000e+00],\n",
       "           [3.9322e+00, 1.6058e+00, 1.5700e-01,  ..., 0.0000e+00, 0.0000e+00,\n",
       "            0.0000e+00]]),\n",
       "   tensor([[False, False, False,  ..., False, False, False],\n",
       "           [False, False, False,  ..., False,  True,  True],\n",
       "           [ True, False,  True,  ..., False, False, False],\n",
       "           ...,\n",
       "           [False, False, False,  ..., False, False, False],\n",
       "           [False, False,  True,  ..., False, False, False],\n",
       "           [False, False,  True,  ...,  True, False, False]])],\n",
       "  tensor([[    0,     3,     4,  ..., 19427, 19428, 19429],\n",
       "          [    0,     3,     4,  ..., 19427, 19428, 19429],\n",
       "          [    0,     3,     4,  ..., 19427, 19428, 19429],\n",
       "          ...,\n",
       "          [    0,     3,     4,  ..., 19427, 19428, 19429],\n",
       "          [    0,     3,     4,  ..., 19427, 19428, 19429],\n",
       "          [    0,     3,     4,  ..., 19427, 19428, 19429]])],\n",
       " tensor([[1.2949e+00, 6.6912e-01, 2.5456e-01,  ..., 0.0000e+00, 0.0000e+00,\n",
       "          0.0000e+00],\n",
       "         [1.1483e-01, 6.7977e-01, 3.1118e-01,  ..., 0.0000e+00, 0.0000e+00,\n",
       "          0.0000e+00],\n",
       "         [4.6344e-02, 8.1008e-01, 3.9162e-01,  ..., 5.9092e-04, 0.0000e+00,\n",
       "          0.0000e+00],\n",
       "         ...,\n",
       "         [1.1423e+00, 4.2181e-01, 1.6588e-01,  ..., 0.0000e+00, 0.0000e+00,\n",
       "          0.0000e+00],\n",
       "         [3.1224e+00, 2.9315e-01, 4.1616e-01,  ..., 0.0000e+00, 0.0000e+00,\n",
       "          0.0000e+00],\n",
       "         [3.9322e+00, 1.6058e+00, 1.5700e-01,  ..., 0.0000e+00, 0.0000e+00,\n",
       "          0.0000e+00]])]"
      ]
     },
     "execution_count": 7,
     "metadata": {},
     "output_type": "execute_result"
    }
   ],
   "source": [
    "batch"
   ]
  },
  {
   "cell_type": "code",
   "execution_count": 6,
   "metadata": {},
   "outputs": [
    {
     "data": {
      "text/plain": [
       "True"
      ]
     },
     "execution_count": 6,
     "metadata": {},
     "output_type": "execute_result"
    }
   ],
   "source": [
    "config.module.model.layer_norm_1"
   ]
  },
  {
   "cell_type": "code",
   "execution_count": 9,
   "metadata": {},
   "outputs": [],
   "source": [
    "config.module.model.transformer = None"
   ]
  },
  {
   "cell_type": "code",
   "execution_count": null,
   "metadata": {},
   "outputs": [],
   "source": []
  }
 ],
 "metadata": {
  "kernelspec": {
   "display_name": "pytorch",
   "language": "python",
   "name": "python3"
  },
  "language_info": {
   "codemirror_mode": {
    "name": "ipython",
    "version": 3
   },
   "file_extension": ".py",
   "mimetype": "text/x-python",
   "name": "python",
   "nbconvert_exporter": "python",
   "pygments_lexer": "ipython3",
   "version": "3.9.13"
  },
  "orig_nbformat": 4,
  "vscode": {
   "interpreter": {
    "hash": "2d58e898dde0263bc564c6968b04150abacfd33eed9b19aaa8e45c040360e146"
   }
  }
 },
 "nbformat": 4,
 "nbformat_minor": 2
}
