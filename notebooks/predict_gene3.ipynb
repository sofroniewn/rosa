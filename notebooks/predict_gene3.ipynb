{
 "cells": [
  {
   "cell_type": "code",
   "execution_count": 1,
   "metadata": {},
   "outputs": [
    {
     "name": "stderr",
     "output_type": "stream",
     "text": [
      "/tmp/ipykernel_32105/1380408374.py:10: UserWarning: \n",
      "The version_base parameter is not specified.\n",
      "Please specify a compatability version level, or None.\n",
      "Will assume defaults for version 1.1\n",
      "  with hydra.initialize_config_dir(config_dir=BASE_DIR):\n",
      "/opt/conda/envs/pytorch/lib/python3.9/site-packages/hydra/_internal/defaults_list.py:251: UserWarning: In 'config': Defaults list is missing `_self_`. See https://hydra.cc/docs/1.2/upgrades/1.0_to_1.1/default_composition_order for more information\n",
      "  warnings.warn(msg, UserWarning)\n"
     ]
    },
    {
     "name": "stdout",
     "output_type": "stream",
     "text": [
      "/home/ec2-user/cell_census/tabula_sapiens__gene_prot__sample_donor_id__label_cell_type.h5ad\n"
     ]
    }
   ],
   "source": [
    "import hydra\n",
    "from glob import  glob\n",
    "from rosa.data import  RosaDataModule, create_io_paths\n",
    "from rosa.modeling import  RosaLightningModule\n",
    "import numpy as np\n",
    "\n",
    "\n",
    "BASE_DIR = \"/home/ec2-user/rosa/conf/\" # /Users/nsofroniew/Documents/GitHub/ or /home/ec2-user/\n",
    "\n",
    "with hydra.initialize_config_dir(config_dir=BASE_DIR):\n",
    "    config = hydra.compose(config_name=\"config\")\n",
    "    config.paths.base = '/home/ec2-user/cell_census' # '/Users/nsofroniew/Documents/data/multiomics/cell_census'\n",
    "\n",
    "    _, output_path = create_io_paths(config.paths)\n",
    "\n",
    "    # config.data_module.data.mask = 0.01\n",
    "    # config.data_module.data.n_var_sample = 1000\n",
    "    # Create Data Module\n",
    "    rdm = RosaDataModule(\n",
    "        output_path,\n",
    "        config=config.data_module,\n",
    "    )\n",
    "    rdm.setup()\n",
    "    print(output_path)"
   ]
  },
  {
   "cell_type": "code",
   "execution_count": 2,
   "metadata": {},
   "outputs": [
    {
     "name": "stderr",
     "output_type": "stream",
     "text": [
      "100%|██████████| 369/369 [00:00<00:00, 1962.13it/s]\n"
     ]
    }
   ],
   "source": [
    "from tqdm import tqdm\n",
    "import torch\n",
    "\n",
    "\n",
    "expression = []\n",
    "for item in tqdm(rdm.predict_dataset):\n",
    "    expression.append(item['expression_target'])\n",
    "expression = torch.stack(expression, dim=0)"
   ]
  },
  {
   "cell_type": "code",
   "execution_count": 3,
   "metadata": {},
   "outputs": [],
   "source": [
    "expression = expression.detach().numpy()"
   ]
  },
  {
   "cell_type": "code",
   "execution_count": 4,
   "metadata": {},
   "outputs": [],
   "source": [
    "# from pyensembl import EnsemblRelease\n",
    "\n",
    "# genome = EnsemblRelease(77)\n",
    "\n",
    "# def get_num_tss(gene_id):\n",
    "#     gene = genome.gene_by_id(gene_id)\n",
    "#     transcripts = [ts for ts in gene.transcripts if ts.biotype == 'protein_coding']\n",
    "#     return len(transcripts)\n",
    "# num_tss = [get_num_tss(gene_id) for gene_id in list(rdm.train_dataset.adata.var.index)]\n",
    "# num_tss = np.array(num_tss)\n"
   ]
  },
  {
   "cell_type": "code",
   "execution_count": 5,
   "metadata": {},
   "outputs": [],
   "source": [
    "# import matplotlib.pyplot as plt\n",
    "\n",
    "# plt.hist(num_tss, bins=np.linspace(0, 20, 20));"
   ]
  },
  {
   "cell_type": "code",
   "execution_count": 6,
   "metadata": {},
   "outputs": [
    {
     "data": {
      "text/plain": [
       "['embedding_amax_0', 'embedding_prot_bos', 'embedding_prot_mean']"
      ]
     },
     "execution_count": 6,
     "metadata": {},
     "output_type": "execute_result"
    }
   ],
   "source": [
    "list(rdm.train_dataset.adata.varm.keys())"
   ]
  },
  {
   "cell_type": "code",
   "execution_count": 7,
   "metadata": {},
   "outputs": [],
   "source": [
    "# var_input = rdm.train_dataset.var_input[3]"
   ]
  },
  {
   "cell_type": "code",
   "execution_count": 8,
   "metadata": {},
   "outputs": [],
   "source": [
    "# var_input = var_input / num_tss[:, None]"
   ]
  },
  {
   "cell_type": "code",
   "execution_count": 9,
   "metadata": {},
   "outputs": [],
   "source": [
    "# var_input = rdm.train_dataset.var_input[[0, 3, 5, 8, 4, 6, 7, 1, 13, 12, 10]].swapaxes(0, 1).reshape(19431, -1)\n",
    "# var_input = var_input.detach().numpy()"
   ]
  },
  {
   "cell_type": "code",
   "execution_count": 10,
   "metadata": {},
   "outputs": [],
   "source": [
    "# from sklearn.decomposition import PCA\n",
    "\n",
    "\n",
    "# # fit pca on training data\n",
    "# pca = PCA()\n",
    "# pca.fit(var_input)\n",
    "# pca_embedding = pca.transform(var_input)"
   ]
  },
  {
   "cell_type": "code",
   "execution_count": 11,
   "metadata": {},
   "outputs": [],
   "source": [
    "# np.cumsum(pca.explained_variance_ratio_)"
   ]
  },
  {
   "cell_type": "code",
   "execution_count": 12,
   "metadata": {},
   "outputs": [],
   "source": [
    "# import matplotlib.pyplot as plt\n",
    "\n",
    "# plt.plot(np.cumsum(pca.explained_variance_ratio_))\n",
    "# plt.xlim([0, 512])"
   ]
  },
  {
   "cell_type": "code",
   "execution_count": 13,
   "metadata": {},
   "outputs": [],
   "source": [
    "# np.cumsum(pca.explained_variance_ratio_)[320]"
   ]
  },
  {
   "cell_type": "code",
   "execution_count": 14,
   "metadata": {},
   "outputs": [],
   "source": [
    "# var_input_pca = pca_embedding #[:, :10_000]"
   ]
  },
  {
   "cell_type": "code",
   "execution_count": 15,
   "metadata": {},
   "outputs": [
    {
     "data": {
      "text/plain": [
       "KeysView(AxisArrays with keys: embedding_amax_0, embedding_prot_bos, embedding_prot_mean)"
      ]
     },
     "execution_count": 15,
     "metadata": {},
     "output_type": "execute_result"
    }
   ],
   "source": [
    "rdm.train_dataset.adata.varm.keys()"
   ]
  },
  {
   "cell_type": "code",
   "execution_count": 198,
   "metadata": {},
   "outputs": [],
   "source": [
    "\n",
    "var_input = torch.from_numpy(rdm.train_dataset.adata.varm['embedding_prot_bos'])\n",
    "\n",
    "# var_input = torch.cat([\n",
    "#     torch.from_numpy(rdm.train_dataset.adata.varm['embedding_amax_0']),\n",
    "#     torch.from_numpy(rdm.train_dataset.adata.varm['embedding_prot_bos']),\n",
    "#     torch.from_numpy(rdm.train_dataset.adata.varm['embedding_prot_mean']),\n",
    "# ], dim=1)\n",
    "\n",
    "# var_input = rdm.train_dataset.var_input[0]\n",
    "# var_input = torch.rand(var_input.shape)\n",
    "# var_input = rdm.train_dataset.var_input[[0, 1, 5]].sum(axis=0)\n",
    "# var_input = rdm.train_dataset.var_input[[2, 3, 4]].sum(axis=0)\n",
    "\n",
    "# var_input = rdm.train_dataset.var_input[[0, 3, 6, 9, 12]].swapaxes(0, 1).reshape(19431, -1)\n",
    "# var_input = rdm.train_dataset.var_input[[2, 3, 4]].swapaxes(0, 1).reshape(19431, -1)\n",
    "# var_input = rdm.train_dataset.var_input[:].swapaxes(0, 1).reshape(19431, -1)\n"
   ]
  },
  {
   "cell_type": "code",
   "execution_count": null,
   "metadata": {},
   "outputs": [],
   "source": []
  },
  {
   "cell_type": "code",
   "execution_count": 199,
   "metadata": {},
   "outputs": [],
   "source": [
    "perm = np.random.permutation(19431)\n",
    "var_input = var_input[perm]"
   ]
  },
  {
   "cell_type": "code",
   "execution_count": 200,
   "metadata": {},
   "outputs": [],
   "source": [
    "var_indices_train = rdm.train_dataset.adata.var['train']\n",
    "var_indices_test = 1 - var_indices_train"
   ]
  },
  {
   "cell_type": "code",
   "execution_count": 201,
   "metadata": {},
   "outputs": [],
   "source": [
    "X_predict = var_input\n",
    "X_train = var_input[var_indices_train]\n",
    "X_test = var_input[var_indices_test]\n",
    "y_train = expression[:, var_indices_train].T\n",
    "y_test = expression.T"
   ]
  },
  {
   "cell_type": "code",
   "execution_count": 202,
   "metadata": {},
   "outputs": [],
   "source": [
    "# from sklearn import linear_model\n",
    "# from sklearn.multioutput import MultiOutputClassifier\n",
    "\n",
    "\n",
    "# ALPHA = 100\n",
    "\n",
    "# model = linear_model.Ridge(alpha=ALPHA).fit(X_train, y_train)\n",
    "# # model = MultiOutputClassifier(linear_model.RidgeClassifier(alpha=ALPHA)).fit(X_train, y_train)"
   ]
  },
  {
   "cell_type": "code",
   "execution_count": 203,
   "metadata": {},
   "outputs": [],
   "source": [
    "n_bins = 8\n",
    "ALPHA = 100"
   ]
  },
  {
   "cell_type": "code",
   "execution_count": 204,
   "metadata": {},
   "outputs": [],
   "source": [
    "# import numpy as np\n",
    "\n",
    "\n",
    "# y_predict = model.predict(X_predict)\n",
    "# y_predict = np.round(np.clip(y_predict, 0, n_bins-1))"
   ]
  },
  {
   "cell_type": "code",
   "execution_count": 205,
   "metadata": {},
   "outputs": [],
   "source": [
    "X_inv = torch.inverse(X_train.T @ X_train + ALPHA * torch.eye(X_train.shape[1])) @ X_train.T\n",
    "beta_r = (X_inv @ y_train).type(torch.float)\n",
    "\n",
    "# X_inv = torch.inverse(X_predict.T @ X_predict + ALPHA * torch.eye(X_predict.shape[1])) @ X_predict.T\n",
    "# beta_r = (X_inv @ y_test).type(torch.float)\n",
    "#X_predict @ X_inv @ y_train[:, 0]"
   ]
  },
  {
   "cell_type": "code",
   "execution_count": 206,
   "metadata": {},
   "outputs": [],
   "source": [
    "y_predict = (X_predict @ X_inv @ y_train).detach().numpy()\n",
    "y_predict = np.round(np.clip(y_predict, 0, n_bins-1))"
   ]
  },
  {
   "cell_type": "code",
   "execution_count": 207,
   "metadata": {},
   "outputs": [],
   "source": [
    "# cov = X_predict @ X_train.T\n",
    "# cov_s = torch.softmax(cov, dim=1)\n",
    "# B = cov_s @ y_train\n",
    "\n",
    "# y_predict = (X_predict @ X_inv @ y_train).detach().numpy()\n",
    "# y_predict = np.round(np.clip(y_predict, 0, n_bins-1))\n"
   ]
  },
  {
   "cell_type": "code",
   "execution_count": 208,
   "metadata": {},
   "outputs": [
    {
     "data": {
      "text/plain": [
       "2.0"
      ]
     },
     "execution_count": 208,
     "metadata": {},
     "output_type": "execute_result"
    }
   ],
   "source": [
    "y_predict.max()"
   ]
  },
  {
   "cell_type": "code",
   "execution_count": 209,
   "metadata": {},
   "outputs": [
    {
     "data": {
      "text/plain": [
       "0.0"
      ]
     },
     "execution_count": 209,
     "metadata": {},
     "output_type": "execute_result"
    }
   ],
   "source": [
    "y_predict.min()"
   ]
  },
  {
   "cell_type": "code",
   "execution_count": 210,
   "metadata": {},
   "outputs": [
    {
     "name": "stderr",
     "output_type": "stream",
     "text": [
      "/opt/conda/envs/pytorch/lib/python3.9/site-packages/anndata/compat/_overloaded_dict.py:106: ImplicitModificationWarning: Trying to modify attribute `._uns` of view, initializing view as actual.\n",
      "  self.data[key] = value\n"
     ]
    }
   ],
   "source": [
    "adata = rdm.predict_dataset.adata\n",
    "adata.layers['predicted'] = y_predict.T\n",
    "adata.layers['target'] = expression\n",
    "\n",
    "obs_indices = rdm.val_dataset.obs_indices.detach().numpy()\n",
    "var_bool = rdm.val_dataset.mask_bool.detach().numpy()\n",
    "adata_predict = adata[obs_indices, var_bool]\n",
    "adata_predict.uns['nbins'] = n_bins"
   ]
  },
  {
   "cell_type": "code",
   "execution_count": 211,
   "metadata": {},
   "outputs": [],
   "source": [
    "from rosa.utils import score_predictions"
   ]
  },
  {
   "cell_type": "code",
   "execution_count": 212,
   "metadata": {},
   "outputs": [],
   "source": [
    "target = torch.from_numpy(expression)\n",
    "predicted = torch.from_numpy(y_predict.T)\n",
    "\n",
    "scores = score_predictions(predicted, target, nbins=n_bins)\n"
   ]
  },
  {
   "cell_type": "code",
   "execution_count": 213,
   "metadata": {},
   "outputs": [
    {
     "name": "stdout",
     "output_type": "stream",
     "text": [
      "\n",
      "    mean spearman across genes 0.032\n",
      "    mean spearman across cells 0.279\n",
      "    \n"
     ]
    }
   ],
   "source": [
    "print(\n",
    "    f\"\"\"\n",
    "    mean spearman across genes {scores['spearman_obs_mean']:.3f}\n",
    "    mean spearman across cells {scores['spearman_var_mean']:.3f}\n",
    "    \"\"\"\n",
    ")  "
   ]
  },
  {
   "cell_type": "code",
   "execution_count": 214,
   "metadata": {},
   "outputs": [],
   "source": [
    "# Best TSS ridge regression alpha 100\n",
    "    # mean spearman across genes 0.753\n",
    "    # mean spearman across cells 0.459\n",
    "\n",
    "# Prot BOS ESM - aplha 100\n",
    "    # mean spearman across genes 0.464\n",
    "    # mean spearman across cells 0.254\n",
    "\n",
    "# Prot BOS ESM - aplha 1\n",
    "    # mean spearman across genes 0.545\n",
    "    # mean spearman across cells 0.311\n",
    "\n",
    "# Prot BOS ESM - aplha .01\n",
    "    # mean spearman across genes 0.547\n",
    "    # mean spearman across cells 0.320\n",
    "\n",
    "# Prot MEAN ESM - aplha .01\n",
    "    # mean spearman across genes 0.560\n",
    "    # mean spearman across cells 0.319\n",
    "\n",
    "# cat Best TSS, Prot bos ESM\n",
    "    # mean spearman across genes 0.765\n",
    "    # mean spearman across cells 0.466\n",
    "\n",
    "# cat Best TSS, Prot bos ESM, Prot mean ESM\n",
    "    # mean spearman across genes 0.768\n",
    "    # mean spearman across cells 0.469\n",
    "\n",
    "\n",
    "# perm cat Best TSS, Prot bos ESM, Prot mean ESM\n",
    "#     mean spearman across genes 0.237\n",
    "#     mean spearman across cells 0.312\n",
    "\n",
    "## perm Prot bos ESM\n",
    "    # mean spearman across genes 0.032\n",
    "    # mean spearman across cells 0.279\n",
    "    "
   ]
  },
  {
   "cell_type": "code",
   "execution_count": 215,
   "metadata": {},
   "outputs": [],
   "source": [
    "# Softmax cov matrix\n",
    "    # mean spearman across genes 0.637\n",
    "    # mean spearman across cells 0.393\n",
    "\n",
    "# Best TSS ridge regression alpha 100\n",
    "    # mean spearman across genes 0.753\n",
    "    # mean spearman across cells 0.459"
   ]
  },
  {
   "cell_type": "code",
   "execution_count": 216,
   "metadata": {},
   "outputs": [],
   "source": [
    "# tabula_sapiens__5x_top10_pc__sample_donor_id__label_cell_type.h5ad [:25]\n",
    "# from 5 around top 3 tss\n",
    "\n",
    "# embedding_amax_0 cat : - 5 around top 5 tss - ALPHA 100\n",
    "    # mean spearman across genes 0.864 XXXXX\n",
    "    # mean spearman across cells 0.753 XXXXX\n",
    "\n",
    "# embedding_amax_0 cat : - 5 around top 5 tss - ALPHA 1000\n",
    "    # mean spearman across genes 0.838\n",
    "    # mean spearman across cells 0.640\n",
    "\n",
    "# embedding_amax_0 cat : - 5 around top 5 tss - ALPHA 10\n",
    "    # mean spearman across genes 0.847\n",
    "    # mean spearman across cells 0.770\n",
    "\n",
    "# embedding_amax_0 cat : - 5 around top 5 tss - ALPHA 1\n",
    "    # mean spearman across genes 0.838\n",
    "    # mean spearman across cells 0.766\n",
    "\n",
    "# embedding_amax_0 cat : - 5 around top 5 tss - ALPHA 50\n",
    "    # mean spearman across genes 0.861\n",
    "    # mean spearman across cells 0.766\n",
    "\n",
    "# embedding_amax_0 cat : - 5 around top 5 tss - ALPHA 200\n",
    "    # mean spearman across genes 0.862\n",
    "    # mean spearman across cells 0.728\n",
    "\n",
    "\n",
    "\n",
    "# embedding_amax_0 cat : - 5 around top 3 tss\n",
    "    # mean spearman across genes 0.853\n",
    "    # mean spearman across cells 0.717\n",
    "\n",
    "# embedding_amax_0 cat :5 - 5 around top tss\n",
    "    # mean spearman across genes 0.799\n",
    "    # mean spearman across cells 0.568"
   ]
  },
  {
   "cell_type": "code",
   "execution_count": 217,
   "metadata": {},
   "outputs": [],
   "source": [
    "# tabula_sapiens__5x_top10_pc__sample_donor_id__label_cell_type.h5ad [::5]\n",
    "# from top 10 tss\n",
    "\n",
    "# embedding_amax_0 cat :5\n",
    "    # mean spearman across genes 0.801\n",
    "    # mean spearman across cells 0.574\n",
    "\n",
    "# embedding_amax_0 cat :6\n",
    "    # mean spearman across genes 0.807\n",
    "    # mean spearman across cells 0.590\n",
    "\n",
    "# embedding_amax_0 cat :7\n",
    "    # mean spearman across genes 0.812\n",
    "    # mean spearman across cells 0.603\n",
    "\n",
    "# embedding_amax_0 cat :8\n",
    "    # mean spearman across genes 0.812\n",
    "    # mean spearman across cells 0.603\n",
    "\n",
    "# embedding_amax_0 cat :9\n",
    "    # mean spearman across genes 0.815\n",
    "    # mean spearman across cells 0.612\n",
    "\n",
    "# embedding_amax_0 cat :10\n",
    "    # mean spearman across genes 0.819\n",
    "    # mean spearman across cells 0.623"
   ]
  },
  {
   "cell_type": "code",
   "execution_count": null,
   "metadata": {},
   "outputs": [],
   "source": []
  },
  {
   "cell_type": "code",
   "execution_count": 218,
   "metadata": {},
   "outputs": [],
   "source": [
    "# tabula_sapiens__trio_top5_pc__sample_donor_id__label_cell_type.h5ad\n",
    "\n",
    "# embedding_amax_0 cat [0, 3]\n",
    "    # mean spearman across genes 0.770\n",
    "    # mean spearman across cells 0.497\n",
    "\n",
    "# embedding_amax_0 cat [0, 3, 6]\n",
    "    # mean spearman across genes 0.782\n",
    "    # mean spearman across cells 0.527\n",
    "\n",
    "# embedding_amax_0 cat [0, 3, 6, 9]\n",
    "    # mean spearman across genes 0.793\n",
    "    # mean spearman across cells 0.553\n",
    "\n",
    "# embedding_amax_0 cat [0, 3, 6, 9, 12]\n",
    "    # mean spearman across genes 0.801\n",
    "    # mean spearman across cells 0.574\n",
    "\n",
    "\n",
    "\n",
    "# embedding_amax_0 cat all 15 -- ALPHA 100\n",
    "    # mean spearman across genes 0.850 XXXX\n",
    "    # mean spearman across cells 0.709 XXXX\n",
    "\n",
    "# embedding_amax_0 cat all 15 -- ALPHA 10\n",
    "    # mean spearman across genes 0.839\n",
    "    # mean spearman across cells 0.762\n",
    "\n",
    "# embedding_amax_0 cat all 15 -- ALPHA 10\n",
    "    # mean spearman across genes 0.839\n",
    "    # mean spearman across cells 0.762\n",
    "\n",
    "\n",
    "\n",
    "# embedding_amax_0 cat :12\n",
    "    # mean spearman across genes 0.844\n",
    "    # mean spearman across cells 0.689\n",
    "\n",
    "# embedding_amax_0 cat :6\n",
    "    # mean spearman across genes 0.811\n",
    "    # mean spearman across cells 0.595\n",
    "\n",
    "\n",
    "# embedding_amax_0 0\n",
    "    # mean spearman across genes 0.753\n",
    "    # mean spearman across cells 0.460\n",
    "\n",
    "# embedding_amax_1 3\n",
    "    # mean spearman across genes 0.739\n",
    "    # mean spearman across cells 0.452\n",
    "\n",
    "# embedding_amax_2 6\n",
    "    # mean spearman across genes 0.732\n",
    "    # mean spearman across cells 0.448\n",
    "\n",
    "# embedding_amax_3 9\n",
    "    # mean spearman across genes 0.726\n",
    "    # mean spearman across cells 0.446\n",
    "\n",
    "# embedding_amax_4 12\n",
    "    # mean spearman across genes 0.719\n",
    "    # mean spearman across cells 0.443\n",
    "\n",
    "\n",
    "# random\n",
    "    # mean spearman across genes 0.264\n",
    "    # mean spearman across cells 0.320"
   ]
  },
  {
   "cell_type": "code",
   "execution_count": 219,
   "metadata": {},
   "outputs": [],
   "source": [
    "# tabula_sapiens__trio_pc__sample_donor_id__label_cell_type.h5ad\n",
    "# embedding 0\n",
    "    # mean spearman across genes 0.702\n",
    "    # mean spearman across cells 0.435\n",
    "\n",
    "# embedding_1 1\n",
    "    # mean spearman across genes 0.704\n",
    "    # mean spearman across cells 0.434\n",
    "\n",
    "# embedding_amax 2\n",
    "    # mean spearman across genes 0.753\n",
    "    # mean spearman across cells 0.460\n",
    "\n",
    "# embedding_amax_1 3\n",
    "    # mean spearman across genes 0.746\n",
    "    # mean spearman across cells 0.454\n",
    "\n",
    "# embedding_amax_m1 4\n",
    "    # mean spearman across genes 0.733\n",
    "    # mean spearman across cells 0.447\n",
    "\n",
    "# embedding_m1 5\n",
    "    # mean spearman across genes 0.688\n",
    "    # mean spearman across cells 0.426\n",
    "\n",
    "# sum embedding 0,-1,1 [0, 1, 5]\n",
    "    # mean spearman across genes 0.688?\n",
    "    # mean spearman across cells 0.426?\n",
    "\n",
    "# sum embedding_amax 0,-1,1 [2, 3, 4]\n",
    "    # mean spearman across genes 0.751\n",
    "    # mean spearman across cells 0.465\n",
    "\n",
    "# cat embedding 0,-1,1 [0, 1, 5]\n",
    "    # mean spearman across genes 0.739\n",
    "    # mean spearman across cells 0.497\n",
    "\n",
    "# cat embedding_amax 0,-1,1 [2, 3, 4]\n",
    "    # mean spearman across genes 0.779\n",
    "    # mean spearman across cells 0.518\n",
    "\n",
    "# cat embedding 0 amax 0 [0, 2]\n",
    "    # mean spearman across genes 0.770\n",
    "    # mean spearman across cells 0.492\n",
    "\n",
    "# cat embedding 0 amax 0 all\n",
    "    # mean spearman across genes 0.811\n",
    "    # mean spearman across cells 0.589"
   ]
  },
  {
   "cell_type": "code",
   "execution_count": 220,
   "metadata": {},
   "outputs": [],
   "source": [
    "# tabula_sapiens__all_pc__sample_donor_id__label_cell_type.h5ad\n",
    "# All concat\n",
    "    # mean spearman across genes 0.716\n",
    "    # mean spearman across cells 0.477\n",
    "\n",
    "# Concat [0, 3, 4, 5, 6, 7, 8]\n",
    "    # mean spearman across genes 0.814\n",
    "    # mean spearman across cells 0.609\n",
    "\n",
    "# Concat [3, 4, 5, 6, 7, 8]\n",
    "    # mean spearman across genes 0.801\n",
    "    # mean spearman across cells 0.581\n",
    "\n",
    "# Concat [0, 3]\n",
    "    # mean spearman across genes 0.770\n",
    "    # mean spearman across cells 0.492\n",
    "\n",
    "# Concat [0, 3, 5]\n",
    "    # mean spearman across genes 0.782\n",
    "    # mean spearman across cells 0.521\n",
    "\n",
    "# Concat [0, 3, 5, 8]\n",
    "    # mean spearman across genes 0.791\n",
    "    # mean spearman across cells 0.543\n",
    "\n",
    "# Concat [0, 3, 5, 8, 4]\n",
    "    # mean spearman across genes 0.799\n",
    "    # mean spearman across cells 0.564\n",
    "\n",
    "# Concat [0, 3, 5, 8, 4, 6]\n",
    "    # mean spearman across genes 0.807\n",
    "    # mean spearman across cells 0.586\n",
    "\n",
    "# Concat [0, 3, 5, 8, 4, 7, 1]\n",
    "    # mean spearman across genes 0.823\n",
    "    # mean spearman across cells 0.638\n",
    "\n",
    "# Concat [0, 3, 5, 4, 7]\n",
    "    # mean spearman across genes 0.803\n",
    "    # mean spearman across cells 0.577\n",
    "\n",
    "# Concat [0, 3, 5, 8, 4, 6, 7, 1, 2]\n",
    "    # mean spearman across genes 0.675\n",
    "    # mean spearman across cells 0.440\n",
    "\n",
    "# Concat [0, 3, 5, 8, 4, 6, 7, 1, 13]\n",
    "    # mean spearman across genes 0.831\n",
    "    # mean spearman across cells 0.673\n",
    "\n",
    "# Concat [0, 3, 5, 8, 4, 6, 7, 1, 13, 12]\n",
    "    # mean spearman across genes 0.832\n",
    "    # mean spearman across cells 0.690\n",
    "\n",
    "# Concat [0, 3, 5, 8, 4, 6, 7, 13, 12]\n",
    "    # mean spearman across genes 0.824\n",
    "    # mean spearman across cells 0.663\n",
    "\n",
    "# All but 2 concat\n",
    "    # mean spearman across genes 0.680\n",
    "    # mean spearman across cells 0.416\n",
    "\n",
    "# Concat [0, 3, 5, 8, 4, 6, 7, 1, 13, 12, 10]\n",
    "    # mean spearman across genes 0.831 XXXXX\n",
    "    # mean spearman across cells 0.701 XXXXX\n",
    "\n",
    "# Concat [0, 3, 5, 8, 4, 6, 7, 1, 13, 12, 10, 9]\n",
    "    # mean spearman across genes 0.685\n",
    "    # mean spearman across cells 0.419\n",
    "\n",
    "# Concat [0, 3, 13]\n",
    "    # mean spearman across genes 0.781\n",
    "    # mean spearman across cells 0.534"
   ]
  },
  {
   "cell_type": "code",
   "execution_count": 221,
   "metadata": {},
   "outputs": [],
   "source": [
    "# tabula_sapiens__all_pc__sample_donor_id__label_cell_type.h5ad\n",
    "# embedding 0\n",
    "    # mean spearman across genes 0.702              # .873 for all train genes, test cells  # 0.628 for test cells, test genes\n",
    "    # mean spearman across cells 0.435              # .522                                  # 0.333\n",
    "\n",
    "# embedding_sum 1\n",
    "    # mean spearman across genes 0.540\n",
    "    # mean spearman across cells 0.377\n",
    "\n",
    "# embedding_amax 2\n",
    "    # mean spearman across genes 0.592\n",
    "    # mean spearman across cells 0.416\n",
    "\n",
    "# embedding_tss_amax 3\n",
    "    # mean spearman across genes 0.753              #\n",
    "    # mean spearman across cells 0.460              #\n",
    "\n",
    "# embedding_tss_amax_16 4\n",
    "    # mean spearman across genes 0.724\n",
    "    # mean spearman across cells 0.448\n",
    "\n",
    "# embedding_tss_amax_3 5\n",
    "    # mean spearman across genes 0.741\n",
    "    # mean spearman across cells 0.454\n",
    "\n",
    "# embedding_tss_amax_32 6\n",
    "    # mean spearman across genes 0.708\n",
    "    # mean spearman across cells 0.442\n",
    "\n",
    "# embedding_tss_amax_64 7\n",
    "    # mean spearman across genes 0.675\n",
    "    # mean spearman across cells 0.431\n",
    "\n",
    "# embedding_tss_amax_8 8\n",
    "    # mean spearman across genes 0.734\n",
    "    # mean spearman across cells 0.451\n",
    "\n",
    "# embedding_tss_sum 9\n",
    "    # mean spearman across genes 0.556\n",
    "    # mean spearman across cells 0.318\n",
    "\n",
    "# embedding_tss_sum_16\n",
    "    # mean spearman across genes 0.595\n",
    "    # mean spearman across cells 0.342\n",
    "\n",
    "# embedding_tss_sum_3\n",
    "    # mean spearman across genes 0.577\n",
    "    # mean spearman across cells 0.332\n",
    "\n",
    "# embedding_tss_sum_32\n",
    "    # mean spearman across genes 0.597\n",
    "    # mean spearman across cells 0.342\n",
    "\n",
    "# embedding_tss_sum_64\n",
    "    # mean spearman across genes 0.592\n",
    "    # mean spearman across cells 0.338\n",
    "\n",
    "# embedding_tss_sum_8\n",
    "    # mean spearman across genes 0.590\n",
    "    # mean spearman across cells 0.339\n"
   ]
  },
  {
   "cell_type": "code",
   "execution_count": 222,
   "metadata": {},
   "outputs": [
    {
     "data": {
      "image/png": "[encoded data removed]",
      "text/plain": [
       "<Figure size 1400x800 with 4 Axes>"
      ]
     },
     "metadata": {},
     "output_type": "display_data"
    }
   ],
   "source": [
    "from rosa.utils import plot_expression_and_correlation, plot_marker_gene_heatmap\n",
    "  \n",
    "plot_expression_and_correlation(scores)"
   ]
  },
  {
   "cell_type": "code",
   "execution_count": 223,
   "metadata": {},
   "outputs": [
    {
     "data": {
      "image/png": "[encoded data removed]",
      "text/plain": [
       "<Figure size 1400x1200 with 6 Axes>"
      ]
     },
     "metadata": {},
     "output_type": "display_data"
    }
   ],
   "source": [
    "import scanpy as sc\n",
    "\n",
    "marker_genes_dict = adata_predict.obs.set_index('label').to_dict()['marker_feature_name']\n",
    "sc.tl.dendrogram(adata_predict, groupby=\"label\", use_rep=\"X\")\n",
    "plot_marker_gene_heatmap(adata_predict, marker_genes_dict)"
   ]
  },
  {
   "cell_type": "code",
   "execution_count": null,
   "metadata": {},
   "outputs": [],
   "source": []
  },
  {
   "cell_type": "code",
   "execution_count": null,
   "metadata": {},
   "outputs": [],
   "source": []
  },
  {
   "cell_type": "code",
   "execution_count": null,
   "metadata": {},
   "outputs": [],
   "source": []
  },
  {
   "cell_type": "code",
   "execution_count": null,
   "metadata": {},
   "outputs": [],
   "source": []
  },
  {
   "cell_type": "markdown",
   "metadata": {},
   "source": [
    "## Alternatives"
   ]
  },
  {
   "cell_type": "code",
   "execution_count": null,
   "metadata": {},
   "outputs": [],
   "source": [
    "cov = X_predict @ X_train.T\n",
    "cov_s = torch.softmax(cov, dim=1)\n",
    "B = cov_s @ y_train"
   ]
  },
  {
   "cell_type": "code",
   "execution_count": null,
   "metadata": {},
   "outputs": [],
   "source": []
  },
  {
   "cell_type": "code",
   "execution_count": null,
   "metadata": {},
   "outputs": [],
   "source": [
    "X_train.shape"
   ]
  },
  {
   "cell_type": "code",
   "execution_count": null,
   "metadata": {},
   "outputs": [],
   "source": [
    "B = cov_s @ y_train"
   ]
  },
  {
   "cell_type": "code",
   "execution_count": null,
   "metadata": {},
   "outputs": [],
   "source": [
    "B.shape"
   ]
  },
  {
   "cell_type": "markdown",
   "metadata": {},
   "source": [
    "## ClinVar"
   ]
  },
  {
   "cell_type": "code",
   "execution_count": null,
   "metadata": {},
   "outputs": [],
   "source": [
    "import zarr\n",
    "import polars as pl\n",
    "\n",
    "BASE_PT = \"/home/ec2-user/enformer\"\n",
    "EMBEDDING_PT_TSS = BASE_PT + \"/Homo_sapiens.GRCh38.genes.enformer_embeddings_var_0.zarr\"\n",
    "GENE_INTERVALS_PT = BASE_PT + \"/Homo_sapiens.GRCh38.genes.clinvar.vcf.bed\"\n",
    "EMBEDDING_PT_TSS_INDS = BASE_PT + \"/Homo_sapiens.GRCh38.genes.enformer_embeddings_inds.zarr\"\n",
    "\n",
    "df = pl.read_csv(GENE_INTERVALS_PT, separator='\\t', has_header=False)\n",
    "clinvar_z = zarr.open(EMBEDDING_PT_TSS)"
   ]
  },
  {
   "cell_type": "code",
   "execution_count": null,
   "metadata": {},
   "outputs": [],
   "source": [
    "z_inds = zarr.open(EMBEDDING_PT_TSS_INDS)\n",
    "genes = list(adata.var_names)\n",
    "max_inds_dict = dict(zip(genes, list(z_inds[:])))"
   ]
  },
  {
   "cell_type": "code",
   "execution_count": null,
   "metadata": {},
   "outputs": [],
   "source": [
    "def filter_df_fn(df):\n",
    "    df = df.filter(pl.col(\"column_5\").is_in(list(adata.var_names)))\n",
    "    return df\n",
    "\n",
    "\n",
    "df = filter_df_fn(df)"
   ]
  },
  {
   "cell_type": "code",
   "execution_count": null,
   "metadata": {},
   "outputs": [],
   "source": [
    "len(df)"
   ]
  },
  {
   "cell_type": "code",
   "execution_count": null,
   "metadata": {},
   "outputs": [],
   "source": [
    "df.head()"
   ]
  },
  {
   "cell_type": "code",
   "execution_count": null,
   "metadata": {},
   "outputs": [],
   "source": [
    "adata.varm['embedding_amax_0'].shape"
   ]
  },
  {
   "cell_type": "code",
   "execution_count": null,
   "metadata": {},
   "outputs": [],
   "source": [
    "adata.var.index.get_loc('ENSG00000000005')"
   ]
  },
  {
   "cell_type": "code",
   "execution_count": null,
   "metadata": {},
   "outputs": [],
   "source": [
    "ref_z = []\n",
    "for row in df.rows():\n",
    "    gene = row[4]\n",
    "    index = adata.var.index.get_loc(gene)\n",
    "    ref_z.append(adata.varm['embedding_amax_0'][index])     \n",
    "ref_z = np.array(ref_z) "
   ]
  },
  {
   "cell_type": "code",
   "execution_count": null,
   "metadata": {},
   "outputs": [],
   "source": [
    "used_tss = []\n",
    "for row in df.rows():\n",
    "    gene = row[4]\n",
    "    offset = max_inds_dict[gene]\n",
    "    used_tss.append(offset)     \n",
    "used_tss = np.array(used_tss) "
   ]
  },
  {
   "cell_type": "code",
   "execution_count": null,
   "metadata": {},
   "outputs": [],
   "source": [
    "(row[2] - row[1]) / 896"
   ]
  },
  {
   "cell_type": "code",
   "execution_count": null,
   "metadata": {},
   "outputs": [],
   "source": [
    "used_tss"
   ]
  },
  {
   "cell_type": "code",
   "execution_count": null,
   "metadata": {},
   "outputs": [],
   "source": [
    "clinvar_z.shape"
   ]
  },
  {
   "cell_type": "code",
   "execution_count": null,
   "metadata": {},
   "outputs": [],
   "source": [
    "alt_diff = ref_z - clinvar_z"
   ]
  },
  {
   "cell_type": "code",
   "execution_count": null,
   "metadata": {},
   "outputs": [],
   "source": [
    "alt_diff.shape"
   ]
  },
  {
   "cell_type": "code",
   "execution_count": null,
   "metadata": {},
   "outputs": [],
   "source": [
    "import matplotlib.pyplot as plt"
   ]
  },
  {
   "cell_type": "code",
   "execution_count": null,
   "metadata": {},
   "outputs": [],
   "source": [
    "mean_diff = abs(alt_diff).mean(axis=1)"
   ]
  },
  {
   "cell_type": "code",
   "execution_count": null,
   "metadata": {},
   "outputs": [],
   "source": [
    "plt.hist(mean_diff, bins=np.linspace(0, .005, 50));"
   ]
  },
  {
   "cell_type": "code",
   "execution_count": null,
   "metadata": {},
   "outputs": [],
   "source": [
    "import seaborn as sns"
   ]
  },
  {
   "cell_type": "code",
   "execution_count": null,
   "metadata": {},
   "outputs": [],
   "source": [
    "ax = sns.boxplot(data=df.to_pandas(), x=\"column_17\", y=mean_diff)\n",
    "ax.set_ylim([0, 1e-3]);"
   ]
  },
  {
   "cell_type": "code",
   "execution_count": null,
   "metadata": {},
   "outputs": [],
   "source": [
    "ax = sns.histplot(data=df.to_pandas(), hue=\"column_17\", x=mean_diff, bins=np.linspace(0, 0.002, 1000),\n",
    "                  common_norm=False, stat='density')"
   ]
  },
  {
   "cell_type": "code",
   "execution_count": null,
   "metadata": {},
   "outputs": [],
   "source": [
    "seq_length_full = row[2] - row[1]\n",
    "seq_length_crop = 896 * 128\n",
    "offset = seq_length_full - seq_length_crop"
   ]
  },
  {
   "cell_type": "code",
   "execution_count": null,
   "metadata": {},
   "outputs": [],
   "source": [
    "sign = -1 + 2 * np.array((df[\"column_4\"] == \"-\"))"
   ]
  },
  {
   "cell_type": "code",
   "execution_count": null,
   "metadata": {},
   "outputs": [],
   "source": [
    "ax = sns.scatterplot(data=df.to_pandas(), x=-sign * (df[\"column_2\"] + used_tss * 128 - df[\"column_6\"] + offset/2) / 1e3,\n",
    "                     y=mean_diff, hue=\"column_17\", alpha=0.5);\n",
    "ax.set_xlabel('Distance from tss kB');\n",
    "ax.set_ylabel('Change in enformer embedding');\n",
    "ax.set_xlim([-150, 150]);"
   ]
  },
  {
   "cell_type": "code",
   "execution_count": null,
   "metadata": {},
   "outputs": [],
   "source": [
    "ax = sns.scatterplot(data=df.to_pandas(), x=-sign * (df[\"column_2\"] + used_tss * 128 - df[\"column_6\"] + offset/2) / 1e3,\n",
    "                     y=mean_diff, hue=\"column_17\", alpha=0.5);\n",
    "ax.set_xlabel('Distance from tss kB');\n",
    "ax.set_ylabel('Change in enformer embedding');\n",
    "ax.set_xlim([-2, 2]);"
   ]
  },
  {
   "cell_type": "code",
   "execution_count": null,
   "metadata": {},
   "outputs": [],
   "source": [
    "X_inv = torch.inverse(X_predict.T @ X_predict + ALPHA * torch.eye(X_predict.shape[1])) @ X_predict.T\n",
    "beta_r = (X_inv @ y_test).type(torch.float)"
   ]
  },
  {
   "cell_type": "code",
   "execution_count": null,
   "metadata": {},
   "outputs": [],
   "source": [
    "alt_diff_expression = torch.from_numpy(alt_diff) @ beta_r"
   ]
  },
  {
   "cell_type": "code",
   "execution_count": null,
   "metadata": {},
   "outputs": [],
   "source": [
    "mean_alt_diff_expression = torch.abs(alt_diff_expression).mean(dim=1).detach().numpy()"
   ]
  },
  {
   "cell_type": "code",
   "execution_count": null,
   "metadata": {},
   "outputs": [],
   "source": [
    "ax = sns.boxplot(data=df.to_pandas(), x=\"column_17\", y=mean_alt_diff_expression)\n",
    "ax.set_ylim([0, 5e-3]);"
   ]
  },
  {
   "cell_type": "code",
   "execution_count": null,
   "metadata": {},
   "outputs": [],
   "source": [
    "ax = sns.histplot(data=df.to_pandas(), hue=\"column_17\", x=mean_alt_diff_expression, bins=np.linspace(0, 0.006, 1000),\n",
    "                  common_norm=False, stat='density')"
   ]
  },
  {
   "cell_type": "code",
   "execution_count": null,
   "metadata": {},
   "outputs": [],
   "source": [
    "qv = np.quantile(mean_alt_diff_expression, 0.95)\n",
    "high_diff = mean_alt_diff_expression > qv\n",
    "alt_diff_expression_high = alt_diff_expression[high_diff]"
   ]
  },
  {
   "cell_type": "code",
   "execution_count": null,
   "metadata": {},
   "outputs": [],
   "source": [
    "alt_diff_expression_high.shape"
   ]
  },
  {
   "cell_type": "code",
   "execution_count": null,
   "metadata": {},
   "outputs": [],
   "source": [
    "ax = sns.boxplot(data=df.to_pandas().loc[high_diff], x=\"column_17\", y=mean_alt_diff_expression[high_diff])\n",
    "ax.set_ylim([0, .1]);"
   ]
  },
  {
   "cell_type": "code",
   "execution_count": null,
   "metadata": {},
   "outputs": [],
   "source": [
    "ax = sns.scatterplot(data=df.to_pandas(), x=-sign * (df[\"column_2\"] + used_tss * 128 - df[\"column_6\"] + offset/2) / 1e3,\n",
    "                     y=mean_alt_diff_expression, hue=\"column_17\", alpha=0.5);\n",
    "ax.set_xlabel('Distance from tss kB');\n",
    "ax.set_ylabel('Change in expression');\n",
    "ax.set_xlim([-150, 150]);"
   ]
  },
  {
   "cell_type": "code",
   "execution_count": null,
   "metadata": {},
   "outputs": [],
   "source": [
    "ax = sns.scatterplot(data=df.to_pandas(), x=-sign * (df[\"column_2\"] + used_tss * 128 - df[\"column_6\"] + offset/2) / 1e3,\n",
    "                     y=mean_alt_diff_expression, hue=\"column_17\", alpha=0.5);\n",
    "ax.set_xlabel('Distance from tss kB');\n",
    "ax.set_ylabel('Change in expression');\n",
    "ax.set_xlim([-2, 2]);"
   ]
  },
  {
   "cell_type": "code",
   "execution_count": null,
   "metadata": {},
   "outputs": [],
   "source": [
    "sns.heatmap(alt_diff_expression_high[:100].T, vmin=-0.1, vmax=0.1)"
   ]
  },
  {
   "cell_type": "code",
   "execution_count": null,
   "metadata": {},
   "outputs": [],
   "source": [
    "from scipy.cluster.hierarchy import linkage\n",
    "link = linkage(expression) # D being the measurement\n",
    "sns.clustermap(expression, row_linkage=link, col_linkage=link)"
   ]
  },
  {
   "cell_type": "code",
   "execution_count": null,
   "metadata": {},
   "outputs": [],
   "source": [
    "sns.clustermap(alt_diff_expression_high.T, vmin=-0.1, vmax=0.1, row_linkage=link)"
   ]
  },
  {
   "cell_type": "code",
   "execution_count": null,
   "metadata": {},
   "outputs": [],
   "source": [
    "import anndata as ad\n",
    "\n",
    "# adata_mut = ad.AnnData(X=alt_diff_expression.detach().numpy().T, obs=adata.obs, var=df.to_pandas())\n",
    "adata_mut = ad.AnnData(X=alt_diff_expression_high.detach().numpy().T, obs=adata.obs, var=df.to_pandas().loc[high_diff])"
   ]
  },
  {
   "cell_type": "code",
   "execution_count": null,
   "metadata": {},
   "outputs": [],
   "source": [
    "sc.pl.matrixplot(\n",
    "    adata_mut,\n",
    "    groupby=\"label\",\n",
    "    # gene_symbols=\"column_15\",\n",
    "    var_names=adata_mut.var_names[30:90],\n",
    "    vmin=-0.1,\n",
    "    vmax=0.1,\n",
    "    show=False,\n",
    "    dendrogram=True,\n",
    ")"
   ]
  },
  {
   "cell_type": "code",
   "execution_count": null,
   "metadata": {},
   "outputs": [],
   "source": [
    "gene = adata"
   ]
  },
  {
   "cell_type": "code",
   "execution_count": null,
   "metadata": {},
   "outputs": [],
   "source": []
  },
  {
   "cell_type": "code",
   "execution_count": null,
   "metadata": {},
   "outputs": [],
   "source": []
  },
  {
   "cell_type": "code",
   "execution_count": null,
   "metadata": {},
   "outputs": [],
   "source": []
  },
  {
   "cell_type": "code",
   "execution_count": null,
   "metadata": {},
   "outputs": [],
   "source": [
    "adata_mut.var_names"
   ]
  },
  {
   "cell_type": "code",
   "execution_count": null,
   "metadata": {},
   "outputs": [],
   "source": []
  },
  {
   "cell_type": "code",
   "execution_count": null,
   "metadata": {},
   "outputs": [],
   "source": [
    "sns.heatmap(alt_diff_expression_high[:100], vmin=-0.1, vmax=0.1)"
   ]
  },
  {
   "cell_type": "code",
   "execution_count": null,
   "metadata": {},
   "outputs": [],
   "source": [
    "1111"
   ]
  },
  {
   "cell_type": "code",
   "execution_count": null,
   "metadata": {},
   "outputs": [],
   "source": []
  },
  {
   "cell_type": "code",
   "execution_count": null,
   "metadata": {},
   "outputs": [],
   "source": []
  },
  {
   "cell_type": "code",
   "execution_count": null,
   "metadata": {},
   "outputs": [],
   "source": []
  },
  {
   "cell_type": "code",
   "execution_count": null,
   "metadata": {},
   "outputs": [],
   "source": []
  },
  {
   "cell_type": "markdown",
   "metadata": {},
   "source": [
    "## Explainability"
   ]
  },
  {
   "cell_type": "code",
   "execution_count": null,
   "metadata": {},
   "outputs": [],
   "source": [
    "y_train.shape"
   ]
  },
  {
   "cell_type": "code",
   "execution_count": null,
   "metadata": {},
   "outputs": [],
   "source": [
    "class BilinearModel(torch.nn.Module):\n",
    "    def __init__(self, X_inv, y_train):\n",
    "        super(BilinearModel, self).__init__()\n",
    "\n",
    "        in_features = X_inv.shape[0]\n",
    "        out_features = y_train.shape[1]\n",
    "        beta = X_inv @ y_train\n",
    "        self.linear = torch.nn.Linear(in_features, out_features, bias=False)\n",
    "        self.linear.weight = torch.nn.Parameter(beta.type(torch.float).T)\n",
    "\n",
    "    def forward(self, x):\n",
    "        return self.linear(x)"
   ]
  },
  {
   "cell_type": "code",
   "execution_count": null,
   "metadata": {},
   "outputs": [],
   "source": [
    "model = BilinearModel(X_inv, y_train)"
   ]
  },
  {
   "cell_type": "code",
   "execution_count": null,
   "metadata": {},
   "outputs": [],
   "source": [
    "y_predict = model(X_predict).detach().numpy()\n",
    "y_predict = np.round(np.clip(y_predict, 0, n_bins-1))"
   ]
  },
  {
   "cell_type": "code",
   "execution_count": null,
   "metadata": {},
   "outputs": [],
   "source": [
    "X_predict.shape"
   ]
  },
  {
   "cell_type": "code",
   "execution_count": null,
   "metadata": {},
   "outputs": [],
   "source": [
    "from captum.attr import IntegratedGradients, InputXGradient\n",
    "\n",
    "# ig = IntegratedGradients(model)\n",
    "ig = InputXGradient(model)\n",
    "\n",
    "full_attrs_G = []\n",
    "for targ in tqdm(range(3)):\n",
    "    X_test.requires_grad_()\n",
    "    attr = ig.attribute(X_predict, target=targ)\n",
    "    # sum across all nucleotides (note value 0 for non used value)\n",
    "    attr = attr.sum(dim=-1)\n",
    "    # pool across sliding window\n",
    "    # attr = torch.nn.functional.avg_pool1d(attr, 128)\n",
    "    attr = attr.detach().numpy()\n",
    "    full_attrs_G.append(attr)\n",
    "full_attrs_G = np.stack(full_attrs_G, axis=1)"
   ]
  },
  {
   "cell_type": "code",
   "execution_count": null,
   "metadata": {},
   "outputs": [],
   "source": [
    "full_attrs_G.shape"
   ]
  },
  {
   "cell_type": "code",
   "execution_count": null,
   "metadata": {},
   "outputs": [],
   "source": []
  },
  {
   "cell_type": "code",
   "execution_count": null,
   "metadata": {},
   "outputs": [],
   "source": []
  },
  {
   "cell_type": "code",
   "execution_count": null,
   "metadata": {},
   "outputs": [],
   "source": []
  },
  {
   "cell_type": "code",
   "execution_count": null,
   "metadata": {},
   "outputs": [],
   "source": [
    "a = sc.pl.matrixplot(\n",
    "    adata_predict,\n",
    "    marker_genes_dict,\n",
    "    groupby=\"label\",\n",
    "    gene_symbols=\"feature_name\",\n",
    "    layer=\"predicted\",\n",
    "    vmin=0,\n",
    "    vmax=8,\n",
    "    show=False,\n",
    "    dendrogram=True,\n",
    ")"
   ]
  },
  {
   "cell_type": "code",
   "execution_count": null,
   "metadata": {},
   "outputs": [],
   "source": [
    "adata_predict.layers['predicted'].max()"
   ]
  },
  {
   "cell_type": "code",
   "execution_count": null,
   "metadata": {},
   "outputs": [],
   "source": [
    "sc.pl._matrixplot.MatrixPlot"
   ]
  },
  {
   "cell_type": "code",
   "execution_count": null,
   "metadata": {},
   "outputs": [],
   "source": [
    "from scanpy.plotting._matrixplot import MatrixPlot"
   ]
  },
  {
   "cell_type": "code",
   "execution_count": null,
   "metadata": {},
   "outputs": [],
   "source": [
    "mp_c = MatrixPlot(\n",
    "    adata_predict,\n",
    "    marker_genes_dict,\n",
    "    groupby=\"label\",\n",
    "    gene_symbols=\"feature_name\",\n",
    "    layer=\"confidence\",\n",
    "    vmin=0,\n",
    "    vmax=6,\n",
    "    show=False,\n",
    "    dendrogram=False,\n",
    ")"
   ]
  },
  {
   "cell_type": "code",
   "execution_count": null,
   "metadata": {},
   "outputs": [],
   "source": [
    "mp_p = MatrixPlot(\n",
    "    adata_predict,\n",
    "    marker_genes_dict,\n",
    "    groupby=\"label\",\n",
    "    gene_symbols=\"feature_name\",\n",
    "    layer=\"target\",\n",
    "    vmin=0,\n",
    "    vmax=7,\n",
    "    show=False,\n",
    "    dendrogram=True,\n",
    ")"
   ]
  },
  {
   "cell_type": "code",
   "execution_count": null,
   "metadata": {},
   "outputs": [],
   "source": [
    "import matplotlib.pyplot as plt\n",
    "plt.imshow(mp_p.values_df.values)"
   ]
  },
  {
   "cell_type": "code",
   "execution_count": null,
   "metadata": {},
   "outputs": [],
   "source": [
    "mp_p.add_dendrogram(dendrogram_key=True)\n",
    "\n",
    "_color_df = mp_p.values_df.copy()\n",
    "if mp_p.var_names_idx_order is not None:\n",
    "    _color_df = _color_df.iloc[:, mp_p.var_names_idx_order]\n",
    "\n",
    "if mp_p.categories_order is not None:\n",
    "    _color_df = _color_df.loc[mp_p.categories_order, :]"
   ]
  },
  {
   "cell_type": "code",
   "execution_count": null,
   "metadata": {},
   "outputs": [],
   "source": [
    "import matplotlib.pyplot as plt\n",
    "\n",
    "plt.imshow(_color_df)"
   ]
  },
  {
   "cell_type": "code",
   "execution_count": null,
   "metadata": {},
   "outputs": [],
   "source": []
  },
  {
   "cell_type": "code",
   "execution_count": null,
   "metadata": {},
   "outputs": [],
   "source": [
    "mp_p.categories_order"
   ]
  },
  {
   "cell_type": "code",
   "execution_count": null,
   "metadata": {},
   "outputs": [],
   "source": [
    "mp_p.var_names_idx_order"
   ]
  },
  {
   "cell_type": "code",
   "execution_count": null,
   "metadata": {},
   "outputs": [],
   "source": []
  },
  {
   "cell_type": "code",
   "execution_count": null,
   "metadata": {},
   "outputs": [],
   "source": [
    "adata_predict.obs['label']"
   ]
  },
  {
   "cell_type": "code",
   "execution_count": null,
   "metadata": {},
   "outputs": [],
   "source": []
  },
  {
   "cell_type": "code",
   "execution_count": null,
   "metadata": {},
   "outputs": [],
   "source": []
  },
  {
   "cell_type": "code",
   "execution_count": null,
   "metadata": {},
   "outputs": [],
   "source": [
    "import torch\n",
    "\n",
    "target = torch.from_numpy(adata_predict.layers['target'])\n",
    "preds = torch.from_numpy(adata_predict.layers['predicted'])\n",
    "conf = torch.from_numpy(adata_predict.layers['confidence'])\n",
    "num_classes = adata_predict.uns['nbins']"
   ]
  },
  {
   "cell_type": "code",
   "execution_count": null,
   "metadata": {},
   "outputs": [],
   "source": [
    "unique_mapping = target.to(torch.long) * num_classes + preds.to(torch.long)\n",
    "cm = torch.bincount(unique_mapping.ravel(), minlength=num_classes**2).reshape(num_classes, num_classes).numpy()"
   ]
  },
  {
   "cell_type": "code",
   "execution_count": null,
   "metadata": {},
   "outputs": [],
   "source": [
    "cm_conf = torch.bincount(unique_mapping.ravel(), weights=conf.ravel(), minlength=num_classes**2).reshape(num_classes, num_classes).numpy()\n",
    "cm_conf = cm_conf / cm"
   ]
  },
  {
   "cell_type": "code",
   "execution_count": null,
   "metadata": {},
   "outputs": [],
   "source": [
    "import numpy as np\n",
    "import matplotlib.pyplot as plt\n",
    "\n",
    "\n",
    "bins = np.arange(nbins)\n",
    "xlim = [-0.5, num_classes - 0.5]\n",
    "\n",
    "_, axs = plt.subplots(1, 3, figsize=(12, 6), gridspec_kw={\"wspace\": 0.2})\n",
    "\n",
    "# Subplot with confusion matrix\n",
    "axs[0].imshow(cm / cm.sum(axis=1)[:, np.newaxis], cmap='Blues')\n",
    "axs[0].set_xlim(xlim)\n",
    "axs[0].set_ylim(xlim)\n",
    "axs[0].set_aspect(\"equal\", adjustable=\"box\")\n",
    "axs[0].set_xlabel(\"expression predicted\")\n",
    "axs[0].set_ylabel(\"expression target\")\n",
    "axs[0].set_title(\"confusion matrix\")\n",
    "\n",
    "axs[1].imshow(cm_conf, cmap='Blues')\n",
    "axs[1].set_xlim(xlim)\n",
    "axs[1].set_ylim(xlim)\n",
    "axs[1].set_aspect(\"equal\", adjustable=\"box\")\n",
    "axs[1].set_xlabel(\"expression predicted\")\n",
    "axs[1].set_ylabel(\"expression target\")\n",
    "axs[1].set_title(\"confidence\")\n",
    "\n",
    "axs[2].imshow(cm / cm.sum(axis=1)[:, np.newaxis], alpha=cm_conf, cmap='Blues')\n",
    "axs[2].set_xlim(xlim)\n",
    "axs[2].set_ylim(xlim)\n",
    "axs[2].set_aspect(\"equal\", adjustable=\"box\")\n",
    "axs[2].set_xlabel(\"expression predicted\")\n",
    "axs[2].set_ylabel(\"expression target\")\n",
    "axs[2].set_title(\"confusion matrix with confidence transparency\")"
   ]
  },
  {
   "cell_type": "code",
   "execution_count": null,
   "metadata": {},
   "outputs": [],
   "source": []
  },
  {
   "cell_type": "code",
   "execution_count": null,
   "metadata": {},
   "outputs": [],
   "source": []
  },
  {
   "cell_type": "code",
   "execution_count": null,
   "metadata": {},
   "outputs": [],
   "source": [
    "marker_genes_dict = adata_predict.obs.set_index('label').to_dict()['marker_feature_name']"
   ]
  },
  {
   "cell_type": "code",
   "execution_count": null,
   "metadata": {},
   "outputs": [],
   "source": [
    "marker_genes_dict"
   ]
  },
  {
   "cell_type": "code",
   "execution_count": null,
   "metadata": {},
   "outputs": [],
   "source": [
    "adata_predict.obs['cell_type']"
   ]
  },
  {
   "cell_type": "code",
   "execution_count": null,
   "metadata": {},
   "outputs": [],
   "source": []
  },
  {
   "cell_type": "code",
   "execution_count": null,
   "metadata": {},
   "outputs": [],
   "source": []
  },
  {
   "cell_type": "code",
   "execution_count": null,
   "metadata": {},
   "outputs": [],
   "source": []
  },
  {
   "cell_type": "code",
   "execution_count": null,
   "metadata": {},
   "outputs": [],
   "source": []
  },
  {
   "cell_type": "markdown",
   "metadata": {},
   "source": [
    "## Extras"
   ]
  },
  {
   "cell_type": "code",
   "execution_count": null,
   "metadata": {},
   "outputs": [],
   "source": [
    "# import seaborn as sns\n",
    "# from scipy.cluster.hierarchy import linkage\n",
    "# import sys\n",
    "\n",
    "\n",
    "# sys.setrecursionlimit(100000)"
   ]
  },
  {
   "cell_type": "code",
   "execution_count": null,
   "metadata": {},
   "outputs": [],
   "source": [
    "# row_linkage = linkage(adata_predict.layers['measured']) # D being the measurement\n",
    "# col_linkage = linkage(adata_predict.layers['measured'].T) # D being the measurement\n",
    "# sns.clustermap(adata_predict.layers['measured'], row_linkage=row_linkage, col_linkage=col_linkage)"
   ]
  },
  {
   "cell_type": "code",
   "execution_count": null,
   "metadata": {},
   "outputs": [],
   "source": [
    "# sns.clustermap(adata_predict.layers['predicted'], row_linkage=row_linkage, col_linkage=col_linkage)"
   ]
  },
  {
   "cell_type": "code",
   "execution_count": null,
   "metadata": {},
   "outputs": [],
   "source": [
    "# sns.clustermap(adata_predict.layers['confidence'], row_linkage=row_linkage, col_linkage=col_linkage)"
   ]
  },
  {
   "cell_type": "code",
   "execution_count": null,
   "metadata": {},
   "outputs": [],
   "source": []
  },
  {
   "attachments": {},
   "cell_type": "markdown",
   "metadata": {},
   "source": [
    "## Value histograms"
   ]
  },
  {
   "cell_type": "code",
   "execution_count": null,
   "metadata": {},
   "outputs": [],
   "source": [
    "import numpy as np"
   ]
  },
  {
   "cell_type": "code",
   "execution_count": null,
   "metadata": {},
   "outputs": [],
   "source": [
    "values, counts = np.unique(adata_predict.layers['target'], return_counts=True)"
   ]
  },
  {
   "cell_type": "code",
   "execution_count": null,
   "metadata": {},
   "outputs": [],
   "source": [
    "import matplotlib.pyplot as plt"
   ]
  },
  {
   "cell_type": "code",
   "execution_count": null,
   "metadata": {},
   "outputs": [],
   "source": [
    "plt.plot(values, counts)"
   ]
  },
  {
   "cell_type": "code",
   "execution_count": null,
   "metadata": {},
   "outputs": [],
   "source": [
    "values"
   ]
  },
  {
   "cell_type": "code",
   "execution_count": null,
   "metadata": {},
   "outputs": [],
   "source": [
    "counts"
   ]
  },
  {
   "cell_type": "code",
   "execution_count": null,
   "metadata": {},
   "outputs": [],
   "source": [
    "import torch"
   ]
  },
  {
   "cell_type": "code",
   "execution_count": null,
   "metadata": {},
   "outputs": [],
   "source": [
    "from tqdm import tqdm"
   ]
  },
  {
   "cell_type": "code",
   "execution_count": null,
   "metadata": {},
   "outputs": [],
   "source": [
    "adata_predict.layers['counts'][:5, :5]"
   ]
  },
  {
   "cell_type": "code",
   "execution_count": null,
   "metadata": {},
   "outputs": [],
   "source": [
    "adata_predict.X[:5, :5]"
   ]
  },
  {
   "cell_type": "code",
   "execution_count": null,
   "metadata": {},
   "outputs": [],
   "source": [
    "full_binned = []\n",
    "full_boundaries = []\n",
    "\n",
    "n_bins = 8\n",
    "for i, row in tqdm(enumerate(adata_predict.X)):\n",
    "    tensor = torch.Tensor(row)\n",
    "\n",
    "    boundaries = [torch.tensor(0.0)]\n",
    "    for q in range(n_bins - 2):\n",
    "        data_remaining = tensor[tensor>boundaries[-1]]\n",
    "        n_data_remaining = len(data_remaining)\n",
    "        if n_data_remaining == 0:\n",
    "            next_val = boundaries[-1]\n",
    "        else:\n",
    "            n_bins_remaining = n_bins - q - 1\n",
    "            factor = np.exp(np.log(n_data_remaining) / n_bins_remaining)\n",
    "            next_quantile = 1 / 2\n",
    "            next_val = max(boundaries[-1]+1e-5, torch.quantile(data_remaining, next_quantile))\n",
    "            next_val = torch.quantile(data_remaining, next_quantile)\n",
    "        boundaries.append(next_val)\n",
    "    boundaries = torch.stack(boundaries, dim=0)\n",
    "\n",
    "    full_binned.append(torch.bucketize(tensor, boundaries))\n",
    "    full_boundaries.append(boundaries)\n",
    "full_binned = torch.cat(full_binned, dim=0)\n",
    "full_boundaries = torch.stack(full_boundaries)"
   ]
  },
  {
   "cell_type": "code",
   "execution_count": null,
   "metadata": {},
   "outputs": [],
   "source": [
    "full_boundaries[2]"
   ]
  },
  {
   "cell_type": "code",
   "execution_count": null,
   "metadata": {},
   "outputs": [],
   "source": [
    "full_boundaries[2]"
   ]
  },
  {
   "cell_type": "code",
   "execution_count": null,
   "metadata": {},
   "outputs": [],
   "source": [
    "full_boundaries[12]"
   ]
  },
  {
   "cell_type": "code",
   "execution_count": null,
   "metadata": {},
   "outputs": [],
   "source": [
    "full_boundaries[:, -1]"
   ]
  },
  {
   "cell_type": "code",
   "execution_count": null,
   "metadata": {},
   "outputs": [],
   "source": [
    "values, counts = torch.unique(full_binned, return_counts=True)"
   ]
  },
  {
   "cell_type": "code",
   "execution_count": null,
   "metadata": {},
   "outputs": [],
   "source": [
    "print(values)\n",
    "print(counts)"
   ]
  },
  {
   "cell_type": "code",
   "execution_count": null,
   "metadata": {},
   "outputs": [],
   "source": [
    "plt.plot(counts)"
   ]
  },
  {
   "cell_type": "code",
   "execution_count": null,
   "metadata": {},
   "outputs": [],
   "source": []
  },
  {
   "cell_type": "code",
   "execution_count": null,
   "metadata": {},
   "outputs": [],
   "source": [
    "len(row)"
   ]
  },
  {
   "cell_type": "code",
   "execution_count": null,
   "metadata": {},
   "outputs": [],
   "source": [
    "x = np.exp(np.log(5792) / 16)"
   ]
  },
  {
   "cell_type": "code",
   "execution_count": null,
   "metadata": {},
   "outputs": [],
   "source": [
    "5792 / x**15"
   ]
  },
  {
   "cell_type": "code",
   "execution_count": null,
   "metadata": {},
   "outputs": [],
   "source": [
    "import numpy as np\n",
    "from scipy.optimize import minimize_scalar\n",
    "\n",
    "def geometric_series_r(n, Q):\n",
    "    def series_sum(r):\n",
    "        return (1 - r**n) / (1 - r) - Q\n",
    "\n",
    "    res = minimize_scalar(series_sum, bounds=(0, 1), method='bounded')\n",
    "    return res.x\n",
    "\n",
    "n = 5  # Number of steps\n",
    "Q = 12005  # Sum of the geometric series\n",
    "\n",
    "r = geometric_series_r(n, Q)\n",
    "print(f\"Approximate value of r: {r:.5f}\")\n"
   ]
  },
  {
   "cell_type": "code",
   "execution_count": null,
   "metadata": {},
   "outputs": [],
   "source": [
    "geometric_series_r(16, 5792)"
   ]
  },
  {
   "cell_type": "code",
   "execution_count": null,
   "metadata": {},
   "outputs": [],
   "source": [
    "4.439545990918005e-06 + 4.439545990918005e-06^2"
   ]
  },
  {
   "cell_type": "code",
   "execution_count": null,
   "metadata": {},
   "outputs": [],
   "source": [
    "plt.plot(values, counts)"
   ]
  },
  {
   "cell_type": "code",
   "execution_count": null,
   "metadata": {},
   "outputs": [],
   "source": [
    "values, counts = torch.unique(expression, return_counts=True)\n",
    "nbins = self.transform[-1].n_bins\n",
    "bin_counts = torch.zeros(nbins, dtype=torch.long)\n",
    "bin_counts[values] = counts\n",
    "mask_indices = torch.multinomial(1 / bin_counts[expression], int(self.mask * len(expression)))\n",
    "mask = torch.zeros(expression.shape, dtype=torch.bool)\n",
    "mask[mask_indices] = True\n",
    "\n",
    "mask_type = torch.rand(1)\n",
    "if mask_type < self.pass_through:\n",
    "    pass\n",
    "elif mask_type < self.corrupt:\n",
    "    count_inds = torch.multinomial(counts, len(mask_indices))\n",
    "    expression[mask] = values[count_inds]"
   ]
  },
  {
   "cell_type": "code",
   "execution_count": null,
   "metadata": {},
   "outputs": [],
   "source": []
  },
  {
   "cell_type": "code",
   "execution_count": null,
   "metadata": {},
   "outputs": [],
   "source": [
    "if torch.rand(1) < 0.3:\n",
    "    print('a')"
   ]
  },
  {
   "attachments": {},
   "cell_type": "markdown",
   "metadata": {},
   "source": [
    "## Scanpy plots"
   ]
  },
  {
   "cell_type": "code",
   "execution_count": null,
   "metadata": {},
   "outputs": [],
   "source": [
    "import scanpy as sc"
   ]
  },
  {
   "cell_type": "code",
   "execution_count": null,
   "metadata": {},
   "outputs": [],
   "source": [
    "marker_genes_dict = adata_predict.obs.set_index('label').to_dict()['marker_feature_name']"
   ]
  },
  {
   "cell_type": "code",
   "execution_count": null,
   "metadata": {},
   "outputs": [],
   "source": [
    "sc.pl.matrixplot(\n",
    "    adata_predict,\n",
    "    marker_genes_dict,\n",
    "    groupby=\"label\",\n",
    "    gene_symbols=\"feature_name\",\n",
    "    layer='measured',\n",
    "    vmin=0,\n",
    "    vmax=15,\n",
    "    show=False,\n",
    "    title='measured',\n",
    "    dendrogram=True,\n",
    ")"
   ]
  },
  {
   "cell_type": "code",
   "execution_count": null,
   "metadata": {},
   "outputs": [],
   "source": [
    "sc.pl.matrixplot(\n",
    "    adata_predict,\n",
    "    marker_genes_dict,\n",
    "    groupby=\"label\",\n",
    "    gene_symbols=\"feature_name\",\n",
    "    layer=None,\n",
    "    vmin=0,\n",
    "    vmax=1e2,\n",
    "    show=False,\n",
    "    title='measured',\n",
    "    dendrogram=True,\n",
    ")"
   ]
  },
  {
   "cell_type": "code",
   "execution_count": null,
   "metadata": {},
   "outputs": [],
   "source": []
  },
  {
   "cell_type": "code",
   "execution_count": null,
   "metadata": {},
   "outputs": [],
   "source": []
  },
  {
   "cell_type": "code",
   "execution_count": null,
   "metadata": {},
   "outputs": [],
   "source": [
    "sc.pl.matrixplot(\n",
    "    adata_predict,\n",
    "    marker_genes_dict,\n",
    "    groupby=\"label\",\n",
    "    gene_symbols=\"feature_name\",\n",
    "    layer='confidence',\n",
    "    vmin=0,\n",
    "    vmax=1,\n",
    "    show=False,\n",
    "    title='confidence',\n",
    "    dendrogram=True,\n",
    ")"
   ]
  },
  {
   "cell_type": "code",
   "execution_count": null,
   "metadata": {},
   "outputs": [],
   "source": []
  },
  {
   "cell_type": "code",
   "execution_count": null,
   "metadata": {},
   "outputs": [],
   "source": [
    "sc.pl.dotplot(\n",
    "    adata_predict,\n",
    "    marker_genes_dict,\n",
    "    groupby=\"label\",\n",
    "    gene_symbols=\"feature_name\",\n",
    "    layer='measured',\n",
    "    vmin=0,\n",
    "    vmax=15,\n",
    "    show=False,\n",
    "    title='measured',\n",
    "    dendrogram=True,\n",
    ")"
   ]
  },
  {
   "cell_type": "code",
   "execution_count": null,
   "metadata": {},
   "outputs": [],
   "source": [
    "marker_genes_dict_2 = {}\n",
    "\n",
    "for key, value in list(marker_genes_dict.items())[:20]:\n",
    "    marker_genes_dict_2[key] = value"
   ]
  },
  {
   "cell_type": "code",
   "execution_count": null,
   "metadata": {},
   "outputs": [],
   "source": [
    "sc.pl.matrixplot(\n",
    "    adata_predict,\n",
    "    marker_genes_dict_2,\n",
    "    groupby=\"label\",\n",
    "    gene_symbols=\"feature_name\",\n",
    "    layer='measured',\n",
    "    vmin=0,\n",
    "    vmax=15,\n",
    "    show=False,\n",
    "    title='measured',\n",
    "    dendrogram=True,\n",
    ")"
   ]
  },
  {
   "cell_type": "code",
   "execution_count": null,
   "metadata": {},
   "outputs": [],
   "source": []
  },
  {
   "cell_type": "code",
   "execution_count": null,
   "metadata": {},
   "outputs": [],
   "source": [
    "axes = sc.pl.heatmap(\n",
    "    adata_predict[:1000],\n",
    "    marker_genes_dict_2,\n",
    "    groupby=\"label\",\n",
    "    gene_symbols=\"feature_name\",\n",
    "    layer=\"measured\",\n",
    "    vmin=0,\n",
    "    vmax=15,\n",
    "    show=False,\n",
    "    dendrogram=False,\n",
    ")\n",
    "for l in axes['heatmap_ax'].lines:\n",
    "    l.remove()\n"
   ]
  },
  {
   "cell_type": "code",
   "execution_count": null,
   "metadata": {},
   "outputs": [],
   "source": [
    "axes = sc.pl.heatmap(\n",
    "    adata_predict[:1000],\n",
    "    marker_genes_dict_2,\n",
    "    groupby=\"label\",\n",
    "    gene_symbols=\"feature_name\",\n",
    "    layer=\"predicted\",\n",
    "    vmin=0,\n",
    "    vmax=15,\n",
    "    show=False,\n",
    "    dendrogram=False,\n",
    ")\n",
    "for l in axes['heatmap_ax'].lines:\n",
    "    l.remove()\n"
   ]
  },
  {
   "cell_type": "code",
   "execution_count": null,
   "metadata": {},
   "outputs": [],
   "source": [
    "axes['heatmap_ax'].clear()"
   ]
  },
  {
   "cell_type": "code",
   "execution_count": null,
   "metadata": {},
   "outputs": [],
   "source": []
  },
  {
   "cell_type": "code",
   "execution_count": null,
   "metadata": {},
   "outputs": [],
   "source": [
    "for a in axes['heatmap_ax'].lines:\n",
    "    print(a)"
   ]
  },
  {
   "cell_type": "code",
   "execution_count": null,
   "metadata": {},
   "outputs": [],
   "source": [
    "axes"
   ]
  },
  {
   "cell_type": "code",
   "execution_count": null,
   "metadata": {},
   "outputs": [],
   "source": [
    "del axes['gene_groups_ax']"
   ]
  },
  {
   "cell_type": "code",
   "execution_count": null,
   "metadata": {},
   "outputs": [],
   "source": [
    "sc.pp.filter_cells(adata, min_genes=200)\n",
    "sc.pp.filter_genes(adata, min_cells=3)"
   ]
  }
 ],
 "metadata": {
  "kernelspec": {
   "display_name": "pytorch",
   "language": "python",
   "name": "python3"
  },
  "language_info": {
   "codemirror_mode": {
    "name": "ipython",
    "version": 3
   },
   "file_extension": ".py",
   "mimetype": "text/x-python",
   "name": "python",
   "nbconvert_exporter": "python",
   "pygments_lexer": "ipython3",
   "version": "3.9.13"
  },
  "orig_nbformat": 4,
  "vscode": {
   "interpreter": {
    "hash": "2d58e898dde0263bc564c6968b04150abacfd33eed9b19aaa8e45c040360e146"
   }
  }
 },
 "nbformat": 4,
 "nbformat_minor": 2
}
