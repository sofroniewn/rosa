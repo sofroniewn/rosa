{
 "cells": [
  {
   "cell_type": "code",
   "execution_count": null,
   "metadata": {},
   "outputs": [],
   "source": [
    "import numpy as np\n",
    "import anndata as ad\n",
    "import scanpy as sc\n",
    "from rosa.preprocessing import (\n",
    "    clean_cells_genes,\n",
    ")\n",
    "\n",
    "RAW_ADATA_PT = \"/Users/nsofroniew/Documents/data/multiomics/cell_census/tabula_sapiens_by_features.h5ad\"\n",
    "EMBEDS_ADATA_PT = \"/Users/nsofroniew/Documents/data/multiomics/cell_census/tabula_sapiens_by_features_with_embeds_new_norm.h5ad\"\n"
   ]
  },
  {
   "cell_type": "code",
   "execution_count": null,
   "metadata": {},
   "outputs": [],
   "source": [
    "adata = ad.read_h5ad(EMBEDS_ADATA_PT)"
   ]
  },
  {
   "cell_type": "code",
   "execution_count": null,
   "metadata": {},
   "outputs": [],
   "source": [
    "adata.layers['counts'].sum(axis=1)"
   ]
  },
  {
   "cell_type": "code",
   "execution_count": null,
   "metadata": {},
   "outputs": [],
   "source": [
    "adata.layers['counts_normalized'] = adata.layers['counts'].copy()\n",
    "sc.pp.normalize_total(adata, target_sum=1e5, layer='counts_normalized')"
   ]
  },
  {
   "cell_type": "code",
   "execution_count": null,
   "metadata": {},
   "outputs": [],
   "source": [
    "import matplotlib.pyplot as plt"
   ]
  },
  {
   "cell_type": "code",
   "execution_count": null,
   "metadata": {},
   "outputs": [],
   "source": [
    "plt.hist(adata.layers['counts_normalized'].flatten());"
   ]
  },
  {
   "cell_type": "code",
   "execution_count": null,
   "metadata": {},
   "outputs": [],
   "source": [
    "from rosa.preprocessing import bin_expression, reconstruct_expression"
   ]
  },
  {
   "cell_type": "code",
   "execution_count": null,
   "metadata": {},
   "outputs": [],
   "source": [
    "bin_expression(adata, 128)"
   ]
  },
  {
   "cell_type": "code",
   "execution_count": null,
   "metadata": {},
   "outputs": [],
   "source": [
    "reconstruct_expression(adata)"
   ]
  },
  {
   "cell_type": "code",
   "execution_count": null,
   "metadata": {},
   "outputs": [],
   "source": [
    "((adata.X - adata.layers['reconstructed'])**2).mean()"
   ]
  },
  {
   "cell_type": "code",
   "execution_count": null,
   "metadata": {},
   "outputs": [],
   "source": [
    "# Plot residuals\n",
    "plt.hist((adata.layers['reconstructed'] - adata.X).ravel(), bins=1000);\n",
    "plt.xlim([-.25, .25]);"
   ]
  },
  {
   "cell_type": "code",
   "execution_count": null,
   "metadata": {},
   "outputs": [],
   "source": [
    "# Identify cells and genes not trained on (when possible)\n",
    "adata.layers['prediction'] = adata.layers['reconstructed']\n",
    "test_genes = np.logical_not(adata.var[\"train\"])\n",
    "test_cells = np.logical_not(adata.obs[\"train\"])\n",
    "adata_test = adata[test_cells, test_genes]\n",
    "sc.tl.dendrogram(adata_test, groupby=\"label\", use_rep=\"X\")\n"
   ]
  },
  {
   "cell_type": "code",
   "execution_count": null,
   "metadata": {},
   "outputs": [],
   "source": [
    "from rosa.plotting import plot_marker_gene_heatmap"
   ]
  },
  {
   "cell_type": "code",
   "execution_count": null,
   "metadata": {},
   "outputs": [],
   "source": [
    "marker_genes_dict = adata_test.obs.set_index('label').to_dict()['marker_feature_name']\n",
    "plot_marker_gene_heatmap(adata_test, marker_genes_dict)"
   ]
  },
  {
   "cell_type": "code",
   "execution_count": null,
   "metadata": {},
   "outputs": [],
   "source": [
    "plt.hist(adata.layers['binned'].flatten(), bins=25, density=True);"
   ]
  },
  {
   "cell_type": "code",
   "execution_count": null,
   "metadata": {},
   "outputs": [],
   "source": [
    "plt.hist(adata.X.flatten(), bins=250, density=True);\n",
    "plt.ylim([0, 1]);\n",
    "plt.xlim([0, 8])"
   ]
  },
  {
   "cell_type": "code",
   "execution_count": null,
   "metadata": {},
   "outputs": [],
   "source": [
    "adata.X"
   ]
  },
  {
   "cell_type": "code",
   "execution_count": null,
   "metadata": {},
   "outputs": [],
   "source": []
  },
  {
   "cell_type": "code",
   "execution_count": null,
   "metadata": {},
   "outputs": [],
   "source": [
    "from typing import Union"
   ]
  },
  {
   "cell_type": "code",
   "execution_count": null,
   "metadata": {},
   "outputs": [],
   "source": [
    "adata.layers['X']"
   ]
  },
  {
   "cell_type": "code",
   "execution_count": null,
   "metadata": {},
   "outputs": [],
   "source": [
    "np.empty((10, 0))[0]"
   ]
  },
  {
   "cell_type": "code",
   "execution_count": null,
   "metadata": {},
   "outputs": [],
   "source": [
    "from enum import Enum, auto\n",
    "\n",
    "class EmbeddingType(Enum):\n",
    "    JOINT = auto()\n",
    "    VAR = auto()\n",
    "    OBS = auto()"
   ]
  },
  {
   "cell_type": "code",
   "execution_count": null,
   "metadata": {},
   "outputs": [],
   "source": [
    "EmbeddingType.JOINT"
   ]
  },
  {
   "cell_type": "code",
   "execution_count": null,
   "metadata": {},
   "outputs": [],
   "source": [
    "list(EmbeddingType.__members__)"
   ]
  },
  {
   "cell_type": "code",
   "execution_count": null,
   "metadata": {},
   "outputs": [],
   "source": [
    "adata.X = np.ceil(adata.X)\n",
    "sc.pp.filter_genes(adata, min_cells=1)\n",
    "sc.experimental.pp.normalize_pearson_residuals(adata)\n",
    "adata.X[adata.X<0] = 0"
   ]
  },
  {
   "cell_type": "code",
   "execution_count": null,
   "metadata": {},
   "outputs": [],
   "source": [
    "2**10"
   ]
  },
  {
   "cell_type": "code",
   "execution_count": null,
   "metadata": {},
   "outputs": [],
   "source": [
    "import torch"
   ]
  },
  {
   "cell_type": "code",
   "execution_count": null,
   "metadata": {},
   "outputs": [],
   "source": [
    "np.isinf(adata.X).sum()"
   ]
  },
  {
   "cell_type": "code",
   "execution_count": null,
   "metadata": {},
   "outputs": [],
   "source": [
    "np.isnan(adata.X).sum()"
   ]
  },
  {
   "cell_type": "code",
   "execution_count": null,
   "metadata": {},
   "outputs": [],
   "source": [
    "sc.pp.log1p(adata)"
   ]
  },
  {
   "cell_type": "code",
   "execution_count": null,
   "metadata": {},
   "outputs": [],
   "source": [
    "adata.X"
   ]
  },
  {
   "cell_type": "code",
   "execution_count": null,
   "metadata": {},
   "outputs": [],
   "source": [
    "torch.tensor([0])"
   ]
  },
  {
   "cell_type": "code",
   "execution_count": null,
   "metadata": {},
   "outputs": [],
   "source": [
    "adata.X = np.ceil(adata.X)\n",
    "adata.layers[\"counts\"] = adata.X.copy()"
   ]
  },
  {
   "cell_type": "code",
   "execution_count": null,
   "metadata": {},
   "outputs": [],
   "source": [
    "sc.pp.filter_genes(adata, min_cells=1)"
   ]
  },
  {
   "cell_type": "code",
   "execution_count": null,
   "metadata": {},
   "outputs": [],
   "source": [
    "sc.pp.filter_cells(adata, min_genes=1)"
   ]
  },
  {
   "cell_type": "code",
   "execution_count": null,
   "metadata": {},
   "outputs": [],
   "source": [
    "adata"
   ]
  },
  {
   "cell_type": "code",
   "execution_count": null,
   "metadata": {},
   "outputs": [],
   "source": []
  },
  {
   "cell_type": "code",
   "execution_count": null,
   "metadata": {},
   "outputs": [],
   "source": [
    "import matplotlib.pyplot as plt"
   ]
  },
  {
   "cell_type": "code",
   "execution_count": null,
   "metadata": {},
   "outputs": [],
   "source": [
    "plt.hist(adata.layers['counts'].sum(axis=1));"
   ]
  },
  {
   "cell_type": "code",
   "execution_count": null,
   "metadata": {},
   "outputs": [],
   "source": [
    "print(adata.layers['counts'].sum(axis=1).mean() / 1e5)\n",
    "print(adata.layers['counts'].sum(axis=1).var() / 1e10)"
   ]
  },
  {
   "cell_type": "code",
   "execution_count": null,
   "metadata": {},
   "outputs": [],
   "source": [
    "adata.layers[\"counts_normalized_total\"] = adata.X.copy()\n",
    "sc.pp.normalize_total(adata, 1e5, layer=\"counts_normalized_total\")"
   ]
  },
  {
   "cell_type": "code",
   "execution_count": null,
   "metadata": {},
   "outputs": [],
   "source": [
    "print(adata.layers['counts_normalized_total'].sum(axis=1).mean() / 1e5)\n",
    "print(adata.layers['counts_normalized_total'].sum(axis=1).var() / 1e10)"
   ]
  },
  {
   "cell_type": "code",
   "execution_count": null,
   "metadata": {},
   "outputs": [],
   "source": [
    "adata.layers[\"counts_normalized_pearson\"] = adata.X.copy()\n",
    "adata.layers['counts_normalized_pearson'] = np.ceil(adata.layers['counts_normalized_pearson'])\n",
    "sc.experimental.pp.normalize_pearson_residuals(adata, layer=\"counts_normalized_pearson\", theta=1e2)"
   ]
  },
  {
   "cell_type": "code",
   "execution_count": null,
   "metadata": {},
   "outputs": [],
   "source": [
    "np.isnan(adata.layers['counts_normalized_pearson']).sum()"
   ]
  },
  {
   "cell_type": "code",
   "execution_count": null,
   "metadata": {},
   "outputs": [],
   "source": [
    "print(adata.layers['counts_normalized_pearson'].sum(axis=1).mean())\n",
    "print(adata.layers['counts_normalized_pearson'].sum(axis=1).var())"
   ]
  },
  {
   "cell_type": "code",
   "execution_count": null,
   "metadata": {},
   "outputs": [],
   "source": [
    "plt.hist(adata.layers['counts_normalized_pearson'].flatten(), np.linspace(0, 100, 1000));"
   ]
  },
  {
   "cell_type": "code",
   "execution_count": null,
   "metadata": {},
   "outputs": [],
   "source": [
    "plt.hist(adata.layers['counts'].flatten(), np.linspace(0, 100, 1000));"
   ]
  },
  {
   "cell_type": "code",
   "execution_count": null,
   "metadata": {},
   "outputs": [],
   "source": [
    "np.log1p(0.1)"
   ]
  },
  {
   "cell_type": "code",
   "execution_count": null,
   "metadata": {},
   "outputs": [],
   "source": []
  },
  {
   "cell_type": "code",
   "execution_count": null,
   "metadata": {},
   "outputs": [],
   "source": [
    "(adata.layers['counts_normalized_pearson'] - adata.layers['counts']).max()"
   ]
  },
  {
   "cell_type": "code",
   "execution_count": null,
   "metadata": {},
   "outputs": [],
   "source": [
    "adata.layers['counts_normalized_pearson'] = np.round(adata.layers['counts_normalized_pearson'])"
   ]
  },
  {
   "cell_type": "code",
   "execution_count": null,
   "metadata": {},
   "outputs": [],
   "source": [
    "np.isnan(adata.layers['counts_normalized_pearson'])[0]"
   ]
  },
  {
   "cell_type": "code",
   "execution_count": null,
   "metadata": {},
   "outputs": [],
   "source": [
    "adata.layers['counts_normalized_pearson'].min()"
   ]
  },
  {
   "cell_type": "code",
   "execution_count": null,
   "metadata": {},
   "outputs": [],
   "source": [
    "adata.uns['pearson_residuals_normalization']"
   ]
  },
  {
   "cell_type": "code",
   "execution_count": null,
   "metadata": {},
   "outputs": [],
   "source": [
    "TABULA_SAPIENS_BY_CELL_TYPE_WITH_EMBEDS_PT = \"/Users/nsofroniew/Documents/data/multiomics/cell_census/tabula_sapiens_by_features_with_embeds_new_norm.h5ad\""
   ]
  },
  {
   "cell_type": "code",
   "execution_count": null,
   "metadata": {},
   "outputs": [],
   "source": [
    "adata_norm = ad.read_h5ad(TABULA_SAPIENS_BY_CELL_TYPE_WITH_EMBEDS_PT)"
   ]
  },
  {
   "cell_type": "code",
   "execution_count": null,
   "metadata": {},
   "outputs": [],
   "source": [
    "y = np.exp(adata_norm.X) - 1"
   ]
  },
  {
   "cell_type": "code",
   "execution_count": null,
   "metadata": {},
   "outputs": [],
   "source": [
    "y"
   ]
  },
  {
   "cell_type": "code",
   "execution_count": null,
   "metadata": {},
   "outputs": [],
   "source": [
    "import scanpy as sc"
   ]
  },
  {
   "cell_type": "code",
   "execution_count": null,
   "metadata": {},
   "outputs": [],
   "source": [
    "adata_norm.X = adata_norm.layers['counts'].copy()"
   ]
  },
  {
   "cell_type": "code",
   "execution_count": null,
   "metadata": {},
   "outputs": [],
   "source": [
    "sc.pp.normalize_total(adata_norm, 1e5)"
   ]
  },
  {
   "cell_type": "code",
   "execution_count": null,
   "metadata": {},
   "outputs": [],
   "source": [
    "(abs(adata_norm.X - y)).max()"
   ]
  },
  {
   "cell_type": "code",
   "execution_count": null,
   "metadata": {},
   "outputs": [],
   "source": [
    "# from scipy.special import kl_div\n",
    "\n",
    "# y_hat = np.asarray(adata[keep_cells].X.flatten())\n",
    "# y = np.asarray(adata[keep_cells].layers['prediction'].flatten())\n",
    "\n",
    "# kl_div(y, y_hat).mean()"
   ]
  },
  {
   "cell_type": "code",
   "execution_count": null,
   "metadata": {},
   "outputs": [],
   "source": [
    "from scipy.stats import kstest, poisson\n",
    "\n",
    "y_hat = np.asarray(adata[keep_cells].X.flatten())\n",
    "y = np.asarray(adata[keep_cells].layers['prediction'].flatten())\n",
    "\n",
    "kstest(y_hat, y)"
   ]
  },
  {
   "cell_type": "code",
   "execution_count": null,
   "metadata": {},
   "outputs": [],
   "source": [
    "kstest(y, 'poisson', args=(np.mean(y),))"
   ]
  },
  {
   "cell_type": "code",
   "execution_count": null,
   "metadata": {},
   "outputs": [],
   "source": [
    "from scipy.stats import kstest, poisson\n",
    "\n",
    "poisson_dist = poisson(np.mean(y))"
   ]
  },
  {
   "cell_type": "code",
   "execution_count": null,
   "metadata": {},
   "outputs": [],
   "source": [
    "y_p = poisson_dist.rvs(size=10000)"
   ]
  },
  {
   "cell_type": "code",
   "execution_count": null,
   "metadata": {},
   "outputs": [],
   "source": [
    "hist, _ = np.histogram(y, bins=bins)\n",
    "hist_hat, _ = np.histogram(y_hat, bins=bins)\n",
    "plt.bar(bins[:-1], hist/hist.sum(), width=10/1000)\n",
    "plt.bar(bins[:-1], hist_hat/hist_hat.sum(), alpha=0.5, width=10/1000)\n",
    "plt.ylim([0, 1e-2]);\n",
    "plt.xlim([0, 8]);"
   ]
  },
  {
   "cell_type": "code",
   "execution_count": null,
   "metadata": {},
   "outputs": [],
   "source": [
    "poisson_dist = poisson(np.mean(y))\n",
    "y_new = poisson_dist.rvs(size=10000)\n",
    "\n",
    "\n",
    "hist, _ = np.histogram(y, bins=bins)\n",
    "hist_new, _ = np.histogram(y_new, bins=bins)\n",
    "plt.bar(bins[:-1], hist/hist.sum(), width=10/1000)\n",
    "plt.bar(bins[:-1], hist_new//hist_new.sum(), alpha=0.5, width=10/1000)\n",
    "plt.ylim([0, 1e-2]);\n",
    "plt.xlim([0, 8]);"
   ]
  },
  {
   "cell_type": "code",
   "execution_count": null,
   "metadata": {},
   "outputs": [],
   "source": [
    "initial_params = [.2, 0.1, 1.2, 0.0.001]\n",
    "\n",
    "result = minimize(negative_binomial, initial_params, args=(y,), method='Nelder-Mead')"
   ]
  },
  {
   "cell_type": "code",
   "execution_count": null,
   "metadata": {},
   "outputs": [],
   "source": [
    "# Extract the optimal parameters\n",
    "r1, p1, r2, p2 = result.x\n",
    "data = y"
   ]
  },
  {
   "cell_type": "code",
   "execution_count": null,
   "metadata": {},
   "outputs": [],
   "source": [
    "from scipy.stats import nbinom\n",
    "\n",
    "r1, p1, r2, p2 = (0.1, 0.1, 1.1, 0.1)\n",
    "\n",
    "# nbinom_dist_1 = nbinom(9.1, 0.6)\n",
    "# nbinom_dist_2 = nbinom(1.2, .001)\n",
    "y_new = (nbinom.rvs(.2, 0.1, size=10000) + nbinom.rvs(1.2, 0.001, size=10000)) / 1000\n",
    "\n",
    "\n",
    "hist, _ = np.histogram(y, bins=bins)\n",
    "hist_new, _ = np.histogram(y_new, bins=bins)\n",
    "plt.bar(bins[:-1], hist/hist.sum(), width=10/1000)\n",
    "plt.bar(bins[:-1], hist_new/hist_new.sum(), alpha=0.5, width=10/1000)\n",
    "plt.ylim([0, 1e-2]);\n",
    "plt.xlim([0, 8]);"
   ]
  },
  {
   "cell_type": "code",
   "execution_count": null,
   "metadata": {},
   "outputs": [],
   "source": [
    "import numpy as np\n",
    "from scipy.optimize import minimize\n",
    "from scipy.stats import nbinom\n",
    "import matplotlib.pyplot as plt\n",
    "\n",
    "# Generate sample data\n",
    "data = y\n",
    "\n",
    "# Define the negative binomial function\n",
    "def negative_binomial(params, data):\n",
    "    r1, p1, r2, p2 = params\n",
    "    pmf1 = nbinom.pmf(1000 * data, r1, p1)\n",
    "    pmf2 = nbinom.pmf(1000 * data, r2, p2)\n",
    "    return -np.log(pmf1 + pmf2).sum()\n",
    "\n",
    "# Define the initial values for the parameters\n",
    "initial_params = (0.1, 0.1, 1.1, 0.1)\n",
    "\n",
    "\n",
    "# Minimize the negative binomial function using the Nelder-Mead algorithm\n",
    "result = minimize(negative_binomial, initial_params, args=(data,), method='Nelder-Mead')\n",
    "\n",
    "# Extract the optimal parameters\n",
    "r1, p1, r2, p2 = result.x\n",
    "\n",
    "# Plot the histogram of the data\n",
    "plt.hist(data, bins=30, density=True, alpha=0.5, label='Data')\n",
    "\n",
    "# Plot the sum of the negative binomials\n",
    "x = np.arange(0, data.max())\n",
    "pmf1 = nbinom.pmf(x, r1, p1)\n",
    "pmf2 = nbinom.pmf(x, r2, p2)\n",
    "plt.plot(x, pmf1 + pmf2, 'r-', lw=2, label='Sum of Negative Binomials')\n",
    "\n",
    "plt.xlabel('x')\n",
    "plt.ylabel('Probability')\n",
    "plt.legend()\n",
    "plt.show()\n"
   ]
  },
  {
   "cell_type": "code",
   "execution_count": null,
   "metadata": {},
   "outputs": [],
   "source": []
  },
  {
   "cell_type": "code",
   "execution_count": null,
   "metadata": {},
   "outputs": [],
   "source": [
    "try:\n",
    "  print(x)\n",
    "except NameError:\n",
    "  print(\"Variable x is not defined\")"
   ]
  },
  {
   "cell_type": "code",
   "execution_count": null,
   "metadata": {},
   "outputs": [],
   "source": [
    "import torch"
   ]
  },
  {
   "cell_type": "code",
   "execution_count": null,
   "metadata": {},
   "outputs": [],
   "source": [
    "torch.long"
   ]
  },
  {
   "cell_type": "code",
   "execution_count": null,
   "metadata": {},
   "outputs": [],
   "source": [
    "a = torch.tensor(2.3).type(torch.long)"
   ]
  },
  {
   "cell_type": "code",
   "execution_count": null,
   "metadata": {},
   "outputs": [],
   "source": [
    "adata.varm['embedding'].shape"
   ]
  },
  {
   "cell_type": "code",
   "execution_count": null,
   "metadata": {},
   "outputs": [],
   "source": [
    "import matplotlib.pyplot as plt\n",
    "\n",
    "plt.hist(adata.varm['embedding'].ravel(), bins=2000);\n",
    "plt.xlim([-0.5, 0.5]);"
   ]
  },
  {
   "cell_type": "code",
   "execution_count": null,
   "metadata": {},
   "outputs": [],
   "source": [
    "adata.varm['embedding']"
   ]
  },
  {
   "cell_type": "code",
   "execution_count": null,
   "metadata": {},
   "outputs": [],
   "source": [
    "from sklearn.decomposition import PCA"
   ]
  },
  {
   "cell_type": "code",
   "execution_count": null,
   "metadata": {},
   "outputs": [],
   "source": []
  },
  {
   "cell_type": "code",
   "execution_count": null,
   "metadata": {},
   "outputs": [],
   "source": [
    "# fit pca on training data\n",
    "pca = PCA()\n",
    "pca.fit(adata.varm['embedding'])\n"
   ]
  },
  {
   "cell_type": "code",
   "execution_count": null,
   "metadata": {},
   "outputs": [],
   "source": [
    "E = pca.transform(adata.varm['embedding'])"
   ]
  },
  {
   "cell_type": "code",
   "execution_count": null,
   "metadata": {},
   "outputs": [],
   "source": [
    "plt.plot(np.cumsum(pca.explained_variance_ratio_));\n",
    "plt.xlim([0, 3042])"
   ]
  },
  {
   "cell_type": "code",
   "execution_count": null,
   "metadata": {},
   "outputs": [],
   "source": [
    "np.cumsum(pca.explained_variance_ratio_)[512]"
   ]
  },
  {
   "cell_type": "code",
   "execution_count": null,
   "metadata": {},
   "outputs": [],
   "source": [
    "plt.hist(E[:, :512].ravel(), bins=2000);\n",
    "plt.xlim([-1.5, 1.5]);"
   ]
  },
  {
   "cell_type": "code",
   "execution_count": null,
   "metadata": {},
   "outputs": [],
   "source": [
    "E.shape"
   ]
  },
  {
   "cell_type": "code",
   "execution_count": null,
   "metadata": {},
   "outputs": [],
   "source": [
    "import anndata as ad\n",
    "from rosa.preprocessing import (\n",
    "    calculate_gene_embeddings_pca,\n",
    ")\n",
    "\n",
    "\n",
    "EMBEDS_ADATA_PT = \"/Users/nsofroniew/Documents/data/multiomics/cell_census/tabula_sapiens_by_features_with_embeds_new_norm.h5ad\""
   ]
  },
  {
   "cell_type": "code",
   "execution_count": null,
   "metadata": {},
   "outputs": [],
   "source": [
    "adata = ad.read_h5ad(EMBEDS_ADATA_PT)\n",
    "adata = calculate_gene_embeddings_pca(adata, 256)"
   ]
  },
  {
   "cell_type": "code",
   "execution_count": null,
   "metadata": {},
   "outputs": [],
   "source": [
    "adata.uns[\"embedding_pca\"]"
   ]
  },
  {
   "cell_type": "code",
   "execution_count": null,
   "metadata": {},
   "outputs": [],
   "source": [
    "adata.write_h5ad(EMBEDS_ADATA_PT)"
   ]
  },
  {
   "cell_type": "code",
   "execution_count": null,
   "metadata": {},
   "outputs": [],
   "source": [
    "adata.varm['embedding_pca'].shape"
   ]
  },
  {
   "cell_type": "code",
   "execution_count": null,
   "metadata": {},
   "outputs": [],
   "source": [
    "adata.varm"
   ]
  },
  {
   "cell_type": "code",
   "execution_count": null,
   "metadata": {},
   "outputs": [],
   "source": [
    "ADATA_BULK_PT = \"/Users/nsofroniew/Documents/data/multiomics/cell_census/tabula_sapiens_pbulk.h5ad\"\n",
    "adata = ad.read_h5ad(ADATA_BULK_PT)\n"
   ]
  },
  {
   "cell_type": "code",
   "execution_count": null,
   "metadata": {},
   "outputs": [],
   "source": [
    "adata.var.set_index(\"feature_id\")"
   ]
  },
  {
   "cell_type": "code",
   "execution_count": null,
   "metadata": {},
   "outputs": [],
   "source": [
    "base_pt = '/home/ec2-user/enformer/Homo_sapiens.GRCh38.genes.enformer_embeddings'\n",
    "var_id = 'ENSG00000280445'\n",
    "full_pt = f'{base_pt}/{var_id}.pt'"
   ]
  },
  {
   "cell_type": "code",
   "execution_count": null,
   "metadata": {},
   "outputs": [],
   "source": [
    "import torch"
   ]
  },
  {
   "cell_type": "code",
   "execution_count": null,
   "metadata": {},
   "outputs": [],
   "source": [
    "for i in range(64):\n",
    "    var = torch.load(full_pt, map_location='cpu')['embedding']\n",
    "    var = torch.from_numpy(var).type(torch.float32)"
   ]
  },
  {
   "cell_type": "code",
   "execution_count": null,
   "metadata": {},
   "outputs": [],
   "source": [
    "type(var)"
   ]
  },
  {
   "cell_type": "code",
   "execution_count": null,
   "metadata": {},
   "outputs": [],
   "source": [
    "896 // 2"
   ]
  },
  {
   "cell_type": "code",
   "execution_count": null,
   "metadata": {},
   "outputs": [],
   "source": [
    "a = var.unsqueeze(0).unsqueeze(-3)\n",
    "a.shape"
   ]
  },
  {
   "cell_type": "code",
   "execution_count": null,
   "metadata": {},
   "outputs": [],
   "source": [
    "fc = torch.nn.Conv2d(1, 10, (896, 1))"
   ]
  },
  {
   "cell_type": "code",
   "execution_count": null,
   "metadata": {},
   "outputs": [],
   "source": [
    "fc(a).view(a.shape[0], -1).shape"
   ]
  },
  {
   "cell_type": "code",
   "execution_count": null,
   "metadata": {},
   "outputs": [],
   "source": [
    "view(a.shape[0], -1)"
   ]
  },
  {
   "cell_type": "code",
   "execution_count": null,
   "metadata": {},
   "outputs": [],
   "source": [
    "import torch.nn.functional as F\n",
    "\n",
    "\n",
    "class ToTensor(torch.nn.Module):\n",
    "    \"\"\"Convert ``numpy.ndarray`` to tensor.\n",
    "    \"\"\"\n",
    "    def __init__(self, dtype: torch.dtype = torch.float32) -> None:\n",
    "        super().__init__()\n",
    "        self.dtype = dtype\n",
    "\n",
    "    def forward(self, tensor: np.ndarray) -> torch.Tensor:\n",
    "        return torch.from_numpy(tensor).type(torch.float32)\n",
    "\n",
    "class CountNormalize(torch.nn.Module):\n",
    "    \"\"\"Normalize a tensor to a fixed total counts.\n",
    "    \"\"\"\n",
    "    def __init__(self, total_counts=1):\n",
    "        super().__init__()\n",
    "        self.total_counts = total_counts\n",
    "\n",
    "    def forward(self, tensor: torch.Tensor) -> torch.Tensor:\n",
    "        return self.total_counts * F.normalize(tensor, p=1.0, eps=1e-12)\n",
    "\n",
    "\n",
    "class Log1p(torch.nn.Module):\n",
    "    \"\"\"Log1p normalize a tensor.\n",
    "    \"\"\"\n",
    "    def __init__(self):\n",
    "        super().__init__()\n",
    "\n",
    "    def forward(self, tensor: torch.Tensor) -> torch.Tensor:\n",
    "        return torch.log1p(tensor)\n",
    "\n",
    "\n",
    "class QuantileNormalize(torch.nn.Module):\n",
    "    \"\"\"Normalize a tensor by quantiles.\n",
    "    \"\"\"\n",
    "    def __init__(self, n_bins):\n",
    "        super().__init__()\n",
    "        self.n_bins = n_bins\n",
    "\n",
    "    def forward(self, tensor: torch.Tensor) -> torch.Tensor:\n",
    "        boundaries = torch.quantile(tensor, torch.linspace(0, 1, self.n_bins))\n",
    "        return torch.bucketize(tensor, boundaries)"
   ]
  },
  {
   "cell_type": "code",
   "execution_count": null,
   "metadata": {},
   "outputs": [],
   "source": [
    "class ExpressionTransform(torch.nn.Sequential):\n",
    "    def __init__(self, cfg):\n",
    "        # Add base transform\n",
    "        transforms = [ToTensor()]\n",
    "\n",
    "        if cfg.total_counts is not None:\n",
    "            transforms.append(CountNormalize(cfg.total_counts))\n",
    "\n",
    "        if cfg.log1p:\n",
    "            transforms.append(Log1p())\n",
    "\n",
    "        if cfg.n_bins is not None:\n",
    "            transforms.append(QuantileNormalize(cfg.n_bins))\n",
    "\n",
    "        super().__init__(*transforms)\n",
    "\n",
    "\n",
    "from dataclasses import dataclass\n",
    "from typing import Optional\n",
    "\n",
    "\n",
    "@dataclass\n",
    "class ExpressionTransformConfig:\n",
    "    total_counts: Optional[int] = None\n",
    "    log1p: Optional[bool] = None\n",
    "    n_bins: Optional[int] = None"
   ]
  },
  {
   "cell_type": "code",
   "execution_count": null,
   "metadata": {},
   "outputs": [],
   "source": [
    "exp_cfg = ExpressionTransformConfig(n_bins=10)"
   ]
  },
  {
   "cell_type": "code",
   "execution_count": null,
   "metadata": {},
   "outputs": [],
   "source": [
    "tf = ExpressionTransform(exp_cfg)"
   ]
  },
  {
   "cell_type": "code",
   "execution_count": null,
   "metadata": {},
   "outputs": [],
   "source": [
    "torch.quantile(ToTensor()(X).unsqueeze(0), torch.linspace(0, 1, 5), dim=-1, keepdim=True).shape"
   ]
  },
  {
   "cell_type": "code",
   "execution_count": null,
   "metadata": {},
   "outputs": [],
   "source": [
    "ToTensor()(X).unsqueeze(0).shape"
   ]
  },
  {
   "cell_type": "code",
   "execution_count": null,
   "metadata": {},
   "outputs": [],
   "source": [
    "tf(np.random.rand(20))"
   ]
  },
  {
   "cell_type": "code",
   "execution_count": null,
   "metadata": {},
   "outputs": [],
   "source": [
    "X[1]"
   ]
  },
  {
   "cell_type": "code",
   "execution_count": null,
   "metadata": {},
   "outputs": [],
   "source": []
  },
  {
   "cell_type": "code",
   "execution_count": null,
   "metadata": {},
   "outputs": [],
   "source": [
    "a = torch.nn.Sequential(ToTensor(), CountNormalize(10), Log1p(), QuantileNormalize(10))\n",
    "b = torch.nn.Sequential(ToTensor(), QuantileNormalize(10))"
   ]
  },
  {
   "cell_type": "code",
   "execution_count": null,
   "metadata": {},
   "outputs": [],
   "source": [
    "X = np.random.rand(3, 30)\n",
    "X [0, :3] = 0\n",
    "X [0, :] = X [0, :] * 1000\n",
    "# X = torch.randint(1, 5, size=(3, 3))"
   ]
  },
  {
   "cell_type": "code",
   "execution_count": null,
   "metadata": {},
   "outputs": [],
   "source": [
    "X"
   ]
  },
  {
   "cell_type": "code",
   "execution_count": null,
   "metadata": {},
   "outputs": [],
   "source": [
    "a(X)"
   ]
  },
  {
   "cell_type": "code",
   "execution_count": null,
   "metadata": {},
   "outputs": [],
   "source": [
    "b(X)"
   ]
  },
  {
   "cell_type": "code",
   "execution_count": null,
   "metadata": {},
   "outputs": [],
   "source": []
  },
  {
   "cell_type": "code",
   "execution_count": null,
   "metadata": {},
   "outputs": [],
   "source": [
    "a(X).sum(dim=1)"
   ]
  },
  {
   "cell_type": "code",
   "execution_count": null,
   "metadata": {},
   "outputs": [],
   "source": [
    "20 * 512 / 1e3"
   ]
  },
  {
   "cell_type": "code",
   "execution_count": null,
   "metadata": {},
   "outputs": [],
   "source": [
    "type(torch.float32)"
   ]
  },
  {
   "cell_type": "code",
   "execution_count": null,
   "metadata": {},
   "outputs": [],
   "source": [
    "import numpy as np"
   ]
  },
  {
   "cell_type": "code",
   "execution_count": null,
   "metadata": {},
   "outputs": [],
   "source": [
    "np.unravel_index(10, (9, 2))"
   ]
  },
  {
   "cell_type": "code",
   "execution_count": null,
   "metadata": {},
   "outputs": [],
   "source": [
    "EMBEDS_ADATA_PT = '/Users/nsofroniew/Documents/data/multiomics/cell_census/tabula_sapiens_by_features_with_embeds_new_norm.h5ad'"
   ]
  },
  {
   "cell_type": "code",
   "execution_count": null,
   "metadata": {},
   "outputs": [],
   "source": [
    "EMBEDS_ADATA_PT_2 = \"/Users/nsofroniew/Documents/data/multiomics/cell_census/tabula_sapiens_by_features_raw.h5ad\"\n"
   ]
  },
  {
   "cell_type": "code",
   "execution_count": null,
   "metadata": {},
   "outputs": [],
   "source": [
    "import anndata as ad"
   ]
  },
  {
   "cell_type": "code",
   "execution_count": null,
   "metadata": {},
   "outputs": [],
   "source": [
    "adata = ad.read_h5ad(EMBEDS_ADATA_PT)\n",
    "adata_2 = ad.read_h5ad(EMBEDS_ADATA_PT_2)"
   ]
  },
  {
   "cell_type": "code",
   "execution_count": null,
   "metadata": {},
   "outputs": [],
   "source": [
    "adata.layers['counts'][0, 0]"
   ]
  },
  {
   "cell_type": "code",
   "execution_count": null,
   "metadata": {},
   "outputs": [],
   "source": [
    "adata_2.X.sum(axis=1).mean()"
   ]
  },
  {
   "cell_type": "code",
   "execution_count": null,
   "metadata": {},
   "outputs": [],
   "source": []
  },
  {
   "cell_type": "code",
   "execution_count": null,
   "metadata": {},
   "outputs": [],
   "source": [
    "adata.X[0, 0]"
   ]
  },
  {
   "cell_type": "code",
   "execution_count": null,
   "metadata": {},
   "outputs": [],
   "source": [
    "adata.layers['binned'][0, 0]"
   ]
  },
  {
   "cell_type": "code",
   "execution_count": null,
   "metadata": {},
   "outputs": [],
   "source": [
    "adata_2.X[0, 0]"
   ]
  },
  {
   "cell_type": "code",
   "execution_count": null,
   "metadata": {},
   "outputs": [],
   "source": []
  },
  {
   "cell_type": "code",
   "execution_count": null,
   "metadata": {},
   "outputs": [],
   "source": [
    "from enum import Enum, auto\n",
    "from typing import Optional\n",
    "\n",
    "\n",
    "class ExpressionActivations(Enum):\n",
    "    SOFTPLUS = auto()\n",
    "    SOFTMAX = auto()"
   ]
  },
  {
   "cell_type": "code",
   "execution_count": null,
   "metadata": {},
   "outputs": [],
   "source": [
    "str(ExpressionActivations.SOFTPLUS)"
   ]
  },
  {
   "cell_type": "code",
   "execution_count": null,
   "metadata": {},
   "outputs": [],
   "source": [
    "ExpressionActivations.SOFTPLUS.name.lower()"
   ]
  },
  {
   "cell_type": "code",
   "execution_count": null,
   "metadata": {},
   "outputs": [],
   "source": [
    "import torch.nn as nn"
   ]
  },
  {
   "cell_type": "code",
   "execution_count": null,
   "metadata": {},
   "outputs": [],
   "source": [
    "a=nn.Sequential()"
   ]
  },
  {
   "cell_type": "code",
   "execution_count": null,
   "metadata": {},
   "outputs": [],
   "source": [
    "a.append(nn.Linear(1, 1))"
   ]
  },
  {
   "cell_type": "code",
   "execution_count": null,
   "metadata": {},
   "outputs": [],
   "source": [
    "body = nn.Identity()"
   ]
  },
  {
   "cell_type": "code",
   "execution_count": null,
   "metadata": {},
   "outputs": [],
   "source": [
    "body(torch.rand(10, 10)).shape"
   ]
  },
  {
   "cell_type": "code",
   "execution_count": null,
   "metadata": {},
   "outputs": [],
   "source": [
    "map((body, body), (torch.rand(10, 10), torch.rand(10, 10)))"
   ]
  },
  {
   "cell_type": "code",
   "execution_count": null,
   "metadata": {},
   "outputs": [],
   "source": [
    "torch.add((torch.rand(10, 10), torch.rand(10, 10))).shape"
   ]
  },
  {
   "cell_type": "code",
   "execution_count": null,
   "metadata": {},
   "outputs": [],
   "source": [
    "torch.cat((torch.rand(10, 10), torch.rand(10, 10)), dim=-1).shape"
   ]
  },
  {
   "cell_type": "code",
   "execution_count": null,
   "metadata": {},
   "outputs": [],
   "source": [
    "from typing import Tuple\n",
    "\n",
    "class AttentionEmbeds(nn.Module):\n",
    "    def __init__(self, in_dim: Tuple[int, int], out_dim) -> None:\n",
    "        super(AttentionEmbeds, self).__init__()\n",
    "        \n",
    "        self.value = nn.Parameter(torch.randn(out_dim))\n",
    "        self.activation = nn.GELU()\n",
    "        self.out_dim = out_dim\n",
    "\n",
    "    def forward(self, x: Tuple[torch.Tensor, torch.Tensor]) -> torch.Tensor:\n",
    "        atten = self.activation(torch.einsum('...i, ...i ->...', *x))\n",
    "        return torch.einsum('..., i -> ...i', atten, self.value)"
   ]
  },
  {
   "cell_type": "code",
   "execution_count": null,
   "metadata": {},
   "outputs": [],
   "source": [
    "x_1 = torch.rand((10, 20))\n",
    "x_2 = torch.rand((10, 20))\n",
    "v = torch.rand(20)"
   ]
  },
  {
   "cell_type": "code",
   "execution_count": null,
   "metadata": {},
   "outputs": [],
   "source": [
    "atten = torch.einsum('...i, ...i ->...', x_1, x_2)"
   ]
  },
  {
   "cell_type": "code",
   "execution_count": null,
   "metadata": {},
   "outputs": [],
   "source": [
    "out = torch.einsum('..., i -> ...i', atten, v)"
   ]
  },
  {
   "cell_type": "code",
   "execution_count": null,
   "metadata": {},
   "outputs": [],
   "source": [
    "nn.Parameter(torch.randn(20))"
   ]
  },
  {
   "cell_type": "code",
   "execution_count": null,
   "metadata": {},
   "outputs": [],
   "source": [
    "a = AttentionEmbeds((20, 20), 30)"
   ]
  },
  {
   "cell_type": "code",
   "execution_count": null,
   "metadata": {},
   "outputs": [],
   "source": [
    "a((x_1, x_2)).shape"
   ]
  },
  {
   "cell_type": "code",
   "execution_count": null,
   "metadata": {},
   "outputs": [],
   "source": [
    "X = np.random.rand(100, 896, 3072)"
   ]
  },
  {
   "cell_type": "code",
   "execution_count": null,
   "metadata": {},
   "outputs": [],
   "source": [
    "PT = '/Users/nsofroniew/Documents/data/multiomics/enformer/scratch'"
   ]
  },
  {
   "cell_type": "code",
   "execution_count": null,
   "metadata": {},
   "outputs": [],
   "source": [
    "import zarr"
   ]
  },
  {
   "cell_type": "code",
   "execution_count": null,
   "metadata": {},
   "outputs": [],
   "source": [
    "z1 = zarr.open(PT + '/example.zarr', mode='w', shape=(1000, 896, 3072), chunks=(1, None, None), dtype='float32')"
   ]
  },
  {
   "cell_type": "code",
   "execution_count": null,
   "metadata": {},
   "outputs": [],
   "source": [
    "for i in range(10):\n",
    "    z1[i * 100: (i+1)*100] = X"
   ]
  },
  {
   "cell_type": "code",
   "execution_count": null,
   "metadata": {},
   "outputs": [],
   "source": [
    "z2 = zarr.open(PT + '/example.zarr', mode='r')"
   ]
  },
  {
   "cell_type": "code",
   "execution_count": null,
   "metadata": {},
   "outputs": [],
   "source": [
    "from time import time"
   ]
  },
  {
   "cell_type": "code",
   "execution_count": null,
   "metadata": {},
   "outputs": [],
   "source": [
    "start = time()\n",
    "z2[893]\n",
    "stop = time()\n",
    "print(stop - start)"
   ]
  },
  {
   "cell_type": "code",
   "execution_count": null,
   "metadata": {},
   "outputs": [],
   "source": [
    "torch.save({'results': X[0]}, PT + '/example_0.pt')"
   ]
  },
  {
   "cell_type": "code",
   "execution_count": null,
   "metadata": {},
   "outputs": [],
   "source": [
    "start = time()\n",
    "torch.load(PT + '/example_0.pt')\n",
    "stop = time()\n",
    "print(stop - start)"
   ]
  },
  {
   "cell_type": "code",
   "execution_count": null,
   "metadata": {},
   "outputs": [],
   "source": [
    "class ZarrDataset(torch.utils.data.Dataset):\n",
    "    def __init__(self, path: str):\n",
    "        super(ZarrDataset, self).__init__()\n",
    "\n",
    "        self.path = path\n",
    "\n",
    "        self.array = zarr.open(path, mode='r')\n",
    "\n",
    "    def __len__(self) -> int:\n",
    "        return self.array.shape[0]\n",
    "\n",
    "    def __getitem__(self, idx):\n",
    "        return self.array[idx]"
   ]
  },
  {
   "cell_type": "code",
   "execution_count": null,
   "metadata": {},
   "outputs": [],
   "source": [
    "ds = ZarrDataset(PT + '/example.zarr')\n",
    "dl = torch.utils.data.DataLoader(ds, shuffle=False, num_workers=2)"
   ]
  },
  {
   "cell_type": "code",
   "execution_count": null,
   "metadata": {},
   "outputs": [],
   "source": [
    "start = time()\n",
    "for batch in iter(dl):\n",
    "    pass\n",
    "stop = time()\n",
    "print(stop - start)"
   ]
  },
  {
   "cell_type": "code",
   "execution_count": null,
   "metadata": {},
   "outputs": [],
   "source": [
    "from rosa.datasets import RosaObsDataset, ToTensor, RosaObsVarDataset, RosaJointDataset\n",
    "from rosa.config import ExpressionTransformConfig\n",
    "\n",
    "from torch.utils.data import default_collate\n"
   ]
  },
  {
   "cell_type": "code",
   "execution_count": null,
   "metadata": {},
   "outputs": [],
   "source": [
    "# isinstance(ds, RosaJointDataset)"
   ]
  },
  {
   "cell_type": "code",
   "execution_count": null,
   "metadata": {},
   "outputs": [],
   "source": [
    "import anndata as ad\n",
    "\n",
    "ADATA_PT = \"/Users/nsofroniew/Documents/data/multiomics/cell_census/tabula_sapiens_by_features_with_embeds_new_norm.h5ad\"\n",
    "\n",
    "\n",
    "adata = ad.read_h5ad(ADATA_PT)"
   ]
  },
  {
   "cell_type": "code",
   "execution_count": null,
   "metadata": {},
   "outputs": [],
   "source": [
    "from torch import Tensor\n",
    "from typing import Optional, Tuple, List"
   ]
  },
  {
   "cell_type": "code",
   "execution_count": null,
   "metadata": {},
   "outputs": [],
   "source": [
    "ds = RosaObsDataset(adata, obs_input='embedding')"
   ]
  },
  {
   "cell_type": "code",
   "execution_count": null,
   "metadata": {},
   "outputs": [],
   "source": [
    "ds[0][0].shape"
   ]
  },
  {
   "cell_type": "code",
   "execution_count": null,
   "metadata": {},
   "outputs": [],
   "source": [
    "ds[0][1].shape"
   ]
  },
  {
   "cell_type": "code",
   "execution_count": null,
   "metadata": {},
   "outputs": [],
   "source": [
    "adata.varm['embedding_pca'].shape"
   ]
  },
  {
   "cell_type": "code",
   "execution_count": null,
   "metadata": {},
   "outputs": [],
   "source": [
    "2**14 / 19429"
   ]
  },
  {
   "cell_type": "code",
   "execution_count": null,
   "metadata": {},
   "outputs": [],
   "source": [
    "import torch\n",
    "\n",
    "torch.empty((0, 0))"
   ]
  },
  {
   "cell_type": "code",
   "execution_count": null,
   "metadata": {},
   "outputs": [],
   "source": [
    "# class RosaObsVarDataset(RosaJointDataset):\n",
    "#     def __init__(\n",
    "#         self,\n",
    "#         adata: ad.AnnData,\n",
    "#         *,\n",
    "#         var_input: str,\n",
    "#         obs_input: str,\n",
    "#         expression_layer: Optional[str] = None,\n",
    "#         expression_transform_config: Optional[ExpressionTransformConfig] = None,\n",
    "#     ) -> None:\n",
    "#         super(RosaObsVarDataset, self).__init__(adata, obs_input=obs_input, var_input=var_input, expression_layer=expression_layer, expression_transform_config=expression_transform_config)\n",
    "\n",
    "#     def __len__(self) -> int:\n",
    "#         return self.expression.shape[0]\n",
    "\n",
    "#     def __getitem__(self, idx: int) -> Tuple[Tuple[Tensor, Tensor], Tensor]:\n",
    "#         obs_input = self.input[0][idx]\n",
    "#         expression = self.expression[idx]\n",
    "#         full_input = (obs_input.expand((self.input[1].shape[0], obs_input.shape[0])), torch.empty((self.input[1].shape[0], 0)))\n",
    "#         return full_input, expression\n",
    "\n",
    "#     def collate_fn(self, batch: List[Tuple[Tuple[Tensor, Tensor], Tensor]]) -> Tuple[Tuple[Tensor, Tensor], Tensor]:\n",
    "#         (x0, _), y = default_collate(batch)\n",
    "#         x1 = self.input[1].expand((x0.shape[0],) + self.input[1].shape)\n",
    "#         return (x0.view(-1, x0.shape[-1]), x1.view(-1, x1.shape[-1])), y.view(-1)"
   ]
  },
  {
   "cell_type": "code",
   "execution_count": null,
   "metadata": {},
   "outputs": [],
   "source": [
    "ds = RosaObsVarDataset(adata, obs_input='embedding', var_input='embedding_pca')"
   ]
  },
  {
   "cell_type": "code",
   "execution_count": null,
   "metadata": {},
   "outputs": [],
   "source": [
    "ds[0][0][0].shape"
   ]
  },
  {
   "cell_type": "code",
   "execution_count": null,
   "metadata": {},
   "outputs": [],
   "source": [
    "ds[0][0][1].shape"
   ]
  },
  {
   "cell_type": "code",
   "execution_count": null,
   "metadata": {},
   "outputs": [],
   "source": [
    "ds[0][1].shape"
   ]
  },
  {
   "cell_type": "code",
   "execution_count": null,
   "metadata": {},
   "outputs": [],
   "source": [
    "from torch.utils.data import DataLoader\n",
    "\n",
    "\n",
    "dl = DataLoader(\n",
    "            ds,\n",
    "            batch_size=64,\n",
    "            shuffle=False,\n",
    "            num_workers=0,\n",
    "            # collate_fn=ds.collate_fn,\n",
    "        )"
   ]
  },
  {
   "cell_type": "code",
   "execution_count": null,
   "metadata": {},
   "outputs": [],
   "source": [
    "batch = next(iter(dl))"
   ]
  },
  {
   "cell_type": "code",
   "execution_count": null,
   "metadata": {},
   "outputs": [],
   "source": [
    "batch[0][0].shape"
   ]
  },
  {
   "cell_type": "code",
   "execution_count": null,
   "metadata": {},
   "outputs": [],
   "source": [
    "batch[0][1][0].expand(batch[0][1].shape).shape"
   ]
  },
  {
   "cell_type": "code",
   "execution_count": null,
   "metadata": {},
   "outputs": [],
   "source": [
    "batch[1].shape"
   ]
  },
  {
   "cell_type": "code",
   "execution_count": null,
   "metadata": {},
   "outputs": [],
   "source": [
    "from torch.utils.data import default_collate\n",
    "\n",
    "\n",
    "def obsvar_collate(batch):\n",
    "    (x0, x1), y = default_collate(batch)\n",
    "    return (x0.view(-1, x0.shape[-1]), x1.view(-1, x1.shape[-1])), y.view(-1)"
   ]
  },
  {
   "cell_type": "code",
   "execution_count": null,
   "metadata": {},
   "outputs": [],
   "source": [
    "x = ds[0][0][0]"
   ]
  },
  {
   "cell_type": "code",
   "execution_count": null,
   "metadata": {},
   "outputs": [],
   "source": [
    "x.expand((2000, 110)).shape"
   ]
  },
  {
   "cell_type": "code",
   "execution_count": null,
   "metadata": {},
   "outputs": [],
   "source": [
    "import torch\n",
    "\n",
    "torch.arange(100)"
   ]
  },
  {
   "cell_type": "code",
   "execution_count": null,
   "metadata": {},
   "outputs": [],
   "source": [
    "z = torch.multinomial(torch.arange(100).float(), 10).long()"
   ]
  },
  {
   "cell_type": "code",
   "execution_count": null,
   "metadata": {},
   "outputs": [],
   "source": [
    "x = torch.rand(100, 1000)"
   ]
  },
  {
   "cell_type": "code",
   "execution_count": null,
   "metadata": {},
   "outputs": [],
   "source": [
    "x[z].shape"
   ]
  },
  {
   "cell_type": "code",
   "execution_count": null,
   "metadata": {},
   "outputs": [],
   "source": [
    "from pytorch_lightning.utilities.rank_zero import LightningDeprecationWarning"
   ]
  },
  {
   "cell_type": "code",
   "execution_count": null,
   "metadata": {},
   "outputs": [],
   "source": [
    "import scanpy as sc"
   ]
  },
  {
   "cell_type": "code",
   "execution_count": null,
   "metadata": {},
   "outputs": [],
   "source": [
    "ADATA_PT = \"/Users/nsofroniew/Documents/data/multiomics/cell_census/tabula_sapiens_pbulk.h5ad\""
   ]
  },
  {
   "cell_type": "code",
   "execution_count": null,
   "metadata": {},
   "outputs": [],
   "source": [
    "import anndata as ad"
   ]
  },
  {
   "cell_type": "code",
   "execution_count": null,
   "metadata": {},
   "outputs": [],
   "source": [
    "adata = ad.read_h5ad(ADATA_PT)"
   ]
  },
  {
   "cell_type": "code",
   "execution_count": null,
   "metadata": {},
   "outputs": [],
   "source": [
    "adata_2 = ad.concat([adata, adata])"
   ]
  },
  {
   "cell_type": "code",
   "execution_count": null,
   "metadata": {},
   "outputs": [],
   "source": [
    "adata_2"
   ]
  },
  {
   "cell_type": "code",
   "execution_count": null,
   "metadata": {},
   "outputs": [],
   "source": [
    "adata.uns['log1p']['base'] = None\n",
    "sc.tl.rank_genes_groups(adata_2, 'label', method='wilcoxon')"
   ]
  },
  {
   "cell_type": "code",
   "execution_count": null,
   "metadata": {},
   "outputs": [],
   "source": [
    "adata_3 = adata_2[:adata.n_obs]"
   ]
  },
  {
   "cell_type": "code",
   "execution_count": null,
   "metadata": {},
   "outputs": [],
   "source": [
    "import pandas as pd\n",
    "\n",
    "result = adata_3.uns['rank_genes_groups']\n",
    "groups = result['names'].dtype.names\n",
    "df = pd.DataFrame(\n",
    "    {group + '_' + key[:1]: result[key][group]\n",
    "    for group in groups for key in ['names', 'pvals']})"
   ]
  },
  {
   "cell_type": "code",
   "execution_count": null,
   "metadata": {},
   "outputs": [],
   "source": [
    "adata_3.shape"
   ]
  },
  {
   "cell_type": "code",
   "execution_count": null,
   "metadata": {},
   "outputs": [],
   "source": [
    "df"
   ]
  },
  {
   "cell_type": "code",
   "execution_count": null,
   "metadata": {},
   "outputs": [],
   "source": [
    "logFCs, pvals = dc.get_contrast(adata,\n",
    "                                group_col='cell_type',\n",
    "                                condition_col='disease',\n",
    "                                condition='COVID-19',\n",
    "                                reference='normal',\n",
    "                                method='t-test'\n",
    "                               )"
   ]
  },
  {
   "cell_type": "code",
   "execution_count": null,
   "metadata": {},
   "outputs": [],
   "source": []
  },
  {
   "cell_type": "code",
   "execution_count": null,
   "metadata": {},
   "outputs": [],
   "source": []
  },
  {
   "cell_type": "code",
   "execution_count": 1,
   "metadata": {},
   "outputs": [],
   "source": [
    "ADATA_PT = \"/Users/nsofroniew/Documents/data/multiomics/cell_census/tabula_sapiens.h5ad\""
   ]
  },
  {
   "cell_type": "code",
   "execution_count": 2,
   "metadata": {},
   "outputs": [],
   "source": [
    "import anndata as ad\n",
    "import scanpy as sc"
   ]
  },
  {
   "cell_type": "code",
   "execution_count": 60,
   "metadata": {},
   "outputs": [],
   "source": [
    "adata = ad.read_h5ad(ADATA_PT)"
   ]
  },
  {
   "cell_type": "code",
   "execution_count": 61,
   "metadata": {},
   "outputs": [],
   "source": [
    "adata.var = adata.var.set_index('feature_id')"
   ]
  },
  {
   "cell_type": "code",
   "execution_count": 62,
   "metadata": {},
   "outputs": [
    {
     "name": "stderr",
     "output_type": "stream",
     "text": [
      "/Users/nsofroniew/opt/anaconda3/envs/multiomics/lib/python3.9/site-packages/scanpy/preprocessing/_normalization.py:170: UserWarning: Received a view of an AnnData. Making a copy.\n",
      "  view_to_actual(adata)\n",
      "/Users/nsofroniew/opt/anaconda3/envs/multiomics/lib/python3.9/site-packages/scanpy/preprocessing/_normalization.py:197: UserWarning: Some cells have zero counts\n",
      "  warn(UserWarning('Some cells have zero counts'))\n",
      "/Users/nsofroniew/opt/anaconda3/envs/multiomics/lib/python3.9/site-packages/scanpy/tools/_rank_genes_groups.py:394: PerformanceWarning: DataFrame is highly fragmented.  This is usually the result of calling `frame.insert` many times, which has poor performance.  Consider joining all columns at once using pd.concat(axis=1) instead. To get a de-fragmented frame, use `newframe = frame.copy()`\n",
      "  self.stats[group_name, 'names'] = self.var_names[global_indices]\n",
      "/Users/nsofroniew/opt/anaconda3/envs/multiomics/lib/python3.9/site-packages/scanpy/tools/_rank_genes_groups.py:396: PerformanceWarning: DataFrame is highly fragmented.  This is usually the result of calling `frame.insert` many times, which has poor performance.  Consider joining all columns at once using pd.concat(axis=1) instead. To get a de-fragmented frame, use `newframe = frame.copy()`\n",
      "  self.stats[group_name, 'scores'] = scores[global_indices]\n",
      "/Users/nsofroniew/opt/anaconda3/envs/multiomics/lib/python3.9/site-packages/scanpy/tools/_rank_genes_groups.py:399: PerformanceWarning: DataFrame is highly fragmented.  This is usually the result of calling `frame.insert` many times, which has poor performance.  Consider joining all columns at once using pd.concat(axis=1) instead. To get a de-fragmented frame, use `newframe = frame.copy()`\n",
      "  self.stats[group_name, 'pvals'] = pvals[global_indices]\n",
      "/Users/nsofroniew/opt/anaconda3/envs/multiomics/lib/python3.9/site-packages/scanpy/tools/_rank_genes_groups.py:409: PerformanceWarning: DataFrame is highly fragmented.  This is usually the result of calling `frame.insert` many times, which has poor performance.  Consider joining all columns at once using pd.concat(axis=1) instead. To get a de-fragmented frame, use `newframe = frame.copy()`\n",
      "  self.stats[group_name, 'pvals_adj'] = pvals_adj[global_indices]\n",
      "/Users/nsofroniew/opt/anaconda3/envs/multiomics/lib/python3.9/site-packages/scanpy/tools/_rank_genes_groups.py:420: PerformanceWarning: DataFrame is highly fragmented.  This is usually the result of calling `frame.insert` many times, which has poor performance.  Consider joining all columns at once using pd.concat(axis=1) instead. To get a de-fragmented frame, use `newframe = frame.copy()`\n",
      "  self.stats[group_name, 'logfoldchanges'] = np.log2(\n",
      "/Users/nsofroniew/opt/anaconda3/envs/multiomics/lib/python3.9/site-packages/scanpy/tools/_rank_genes_groups.py:394: PerformanceWarning: DataFrame is highly fragmented.  This is usually the result of calling `frame.insert` many times, which has poor performance.  Consider joining all columns at once using pd.concat(axis=1) instead. To get a de-fragmented frame, use `newframe = frame.copy()`\n",
      "  self.stats[group_name, 'names'] = self.var_names[global_indices]\n",
      "/Users/nsofroniew/opt/anaconda3/envs/multiomics/lib/python3.9/site-packages/scanpy/tools/_rank_genes_groups.py:396: PerformanceWarning: DataFrame is highly fragmented.  This is usually the result of calling `frame.insert` many times, which has poor performance.  Consider joining all columns at once using pd.concat(axis=1) instead. To get a de-fragmented frame, use `newframe = frame.copy()`\n",
      "  self.stats[group_name, 'scores'] = scores[global_indices]\n",
      "/Users/nsofroniew/opt/anaconda3/envs/multiomics/lib/python3.9/site-packages/scanpy/tools/_rank_genes_groups.py:399: PerformanceWarning: DataFrame is highly fragmented.  This is usually the result of calling `frame.insert` many times, which has poor performance.  Consider joining all columns at once using pd.concat(axis=1) instead. To get a de-fragmented frame, use `newframe = frame.copy()`\n",
      "  self.stats[group_name, 'pvals'] = pvals[global_indices]\n",
      "/Users/nsofroniew/opt/anaconda3/envs/multiomics/lib/python3.9/site-packages/scanpy/tools/_rank_genes_groups.py:409: PerformanceWarning: DataFrame is highly fragmented.  This is usually the result of calling `frame.insert` many times, which has poor performance.  Consider joining all columns at once using pd.concat(axis=1) instead. To get a de-fragmented frame, use `newframe = frame.copy()`\n",
      "  self.stats[group_name, 'pvals_adj'] = pvals_adj[global_indices]\n",
      "/Users/nsofroniew/opt/anaconda3/envs/multiomics/lib/python3.9/site-packages/scanpy/tools/_rank_genes_groups.py:420: PerformanceWarning: DataFrame is highly fragmented.  This is usually the result of calling `frame.insert` many times, which has poor performance.  Consider joining all columns at once using pd.concat(axis=1) instead. To get a de-fragmented frame, use `newframe = frame.copy()`\n",
      "  self.stats[group_name, 'logfoldchanges'] = np.log2(\n",
      "/Users/nsofroniew/opt/anaconda3/envs/multiomics/lib/python3.9/site-packages/scanpy/tools/_rank_genes_groups.py:394: PerformanceWarning: DataFrame is highly fragmented.  This is usually the result of calling `frame.insert` many times, which has poor performance.  Consider joining all columns at once using pd.concat(axis=1) instead. To get a de-fragmented frame, use `newframe = frame.copy()`\n",
      "  self.stats[group_name, 'names'] = self.var_names[global_indices]\n",
      "/Users/nsofroniew/opt/anaconda3/envs/multiomics/lib/python3.9/site-packages/scanpy/tools/_rank_genes_groups.py:396: PerformanceWarning: DataFrame is highly fragmented.  This is usually the result of calling `frame.insert` many times, which has poor performance.  Consider joining all columns at once using pd.concat(axis=1) instead. To get a de-fragmented frame, use `newframe = frame.copy()`\n",
      "  self.stats[group_name, 'scores'] = scores[global_indices]\n",
      "/Users/nsofroniew/opt/anaconda3/envs/multiomics/lib/python3.9/site-packages/scanpy/tools/_rank_genes_groups.py:399: PerformanceWarning: DataFrame is highly fragmented.  This is usually the result of calling `frame.insert` many times, which has poor performance.  Consider joining all columns at once using pd.concat(axis=1) instead. To get a de-fragmented frame, use `newframe = frame.copy()`\n",
      "  self.stats[group_name, 'pvals'] = pvals[global_indices]\n",
      "/Users/nsofroniew/opt/anaconda3/envs/multiomics/lib/python3.9/site-packages/scanpy/tools/_rank_genes_groups.py:409: PerformanceWarning: DataFrame is highly fragmented.  This is usually the result of calling `frame.insert` many times, which has poor performance.  Consider joining all columns at once using pd.concat(axis=1) instead. To get a de-fragmented frame, use `newframe = frame.copy()`\n",
      "  self.stats[group_name, 'pvals_adj'] = pvals_adj[global_indices]\n",
      "/Users/nsofroniew/opt/anaconda3/envs/multiomics/lib/python3.9/site-packages/scanpy/tools/_rank_genes_groups.py:420: PerformanceWarning: DataFrame is highly fragmented.  This is usually the result of calling `frame.insert` many times, which has poor performance.  Consider joining all columns at once using pd.concat(axis=1) instead. To get a de-fragmented frame, use `newframe = frame.copy()`\n",
      "  self.stats[group_name, 'logfoldchanges'] = np.log2(\n",
      "/Users/nsofroniew/opt/anaconda3/envs/multiomics/lib/python3.9/site-packages/scanpy/tools/_rank_genes_groups.py:394: PerformanceWarning: DataFrame is highly fragmented.  This is usually the result of calling `frame.insert` many times, which has poor performance.  Consider joining all columns at once using pd.concat(axis=1) instead. To get a de-fragmented frame, use `newframe = frame.copy()`\n",
      "  self.stats[group_name, 'names'] = self.var_names[global_indices]\n",
      "/Users/nsofroniew/opt/anaconda3/envs/multiomics/lib/python3.9/site-packages/scanpy/tools/_rank_genes_groups.py:396: PerformanceWarning: DataFrame is highly fragmented.  This is usually the result of calling `frame.insert` many times, which has poor performance.  Consider joining all columns at once using pd.concat(axis=1) instead. To get a de-fragmented frame, use `newframe = frame.copy()`\n",
      "  self.stats[group_name, 'scores'] = scores[global_indices]\n",
      "/Users/nsofroniew/opt/anaconda3/envs/multiomics/lib/python3.9/site-packages/scanpy/tools/_rank_genes_groups.py:399: PerformanceWarning: DataFrame is highly fragmented.  This is usually the result of calling `frame.insert` many times, which has poor performance.  Consider joining all columns at once using pd.concat(axis=1) instead. To get a de-fragmented frame, use `newframe = frame.copy()`\n",
      "  self.stats[group_name, 'pvals'] = pvals[global_indices]\n",
      "/Users/nsofroniew/opt/anaconda3/envs/multiomics/lib/python3.9/site-packages/scanpy/tools/_rank_genes_groups.py:409: PerformanceWarning: DataFrame is highly fragmented.  This is usually the result of calling `frame.insert` many times, which has poor performance.  Consider joining all columns at once using pd.concat(axis=1) instead. To get a de-fragmented frame, use `newframe = frame.copy()`\n",
      "  self.stats[group_name, 'pvals_adj'] = pvals_adj[global_indices]\n",
      "/Users/nsofroniew/opt/anaconda3/envs/multiomics/lib/python3.9/site-packages/scanpy/tools/_rank_genes_groups.py:420: PerformanceWarning: DataFrame is highly fragmented.  This is usually the result of calling `frame.insert` many times, which has poor performance.  Consider joining all columns at once using pd.concat(axis=1) instead. To get a de-fragmented frame, use `newframe = frame.copy()`\n",
      "  self.stats[group_name, 'logfoldchanges'] = np.log2(\n",
      "/Users/nsofroniew/opt/anaconda3/envs/multiomics/lib/python3.9/site-packages/scanpy/tools/_rank_genes_groups.py:394: PerformanceWarning: DataFrame is highly fragmented.  This is usually the result of calling `frame.insert` many times, which has poor performance.  Consider joining all columns at once using pd.concat(axis=1) instead. To get a de-fragmented frame, use `newframe = frame.copy()`\n",
      "  self.stats[group_name, 'names'] = self.var_names[global_indices]\n",
      "/Users/nsofroniew/opt/anaconda3/envs/multiomics/lib/python3.9/site-packages/scanpy/tools/_rank_genes_groups.py:396: PerformanceWarning: DataFrame is highly fragmented.  This is usually the result of calling `frame.insert` many times, which has poor performance.  Consider joining all columns at once using pd.concat(axis=1) instead. To get a de-fragmented frame, use `newframe = frame.copy()`\n",
      "  self.stats[group_name, 'scores'] = scores[global_indices]\n",
      "/Users/nsofroniew/opt/anaconda3/envs/multiomics/lib/python3.9/site-packages/scanpy/tools/_rank_genes_groups.py:399: PerformanceWarning: DataFrame is highly fragmented.  This is usually the result of calling `frame.insert` many times, which has poor performance.  Consider joining all columns at once using pd.concat(axis=1) instead. To get a de-fragmented frame, use `newframe = frame.copy()`\n",
      "  self.stats[group_name, 'pvals'] = pvals[global_indices]\n",
      "/Users/nsofroniew/opt/anaconda3/envs/multiomics/lib/python3.9/site-packages/scanpy/tools/_rank_genes_groups.py:409: PerformanceWarning: DataFrame is highly fragmented.  This is usually the result of calling `frame.insert` many times, which has poor performance.  Consider joining all columns at once using pd.concat(axis=1) instead. To get a de-fragmented frame, use `newframe = frame.copy()`\n",
      "  self.stats[group_name, 'pvals_adj'] = pvals_adj[global_indices]\n",
      "/Users/nsofroniew/opt/anaconda3/envs/multiomics/lib/python3.9/site-packages/scanpy/tools/_rank_genes_groups.py:420: PerformanceWarning: DataFrame is highly fragmented.  This is usually the result of calling `frame.insert` many times, which has poor performance.  Consider joining all columns at once using pd.concat(axis=1) instead. To get a de-fragmented frame, use `newframe = frame.copy()`\n",
      "  self.stats[group_name, 'logfoldchanges'] = np.log2(\n",
      "/Users/nsofroniew/opt/anaconda3/envs/multiomics/lib/python3.9/site-packages/scanpy/tools/_rank_genes_groups.py:394: PerformanceWarning: DataFrame is highly fragmented.  This is usually the result of calling `frame.insert` many times, which has poor performance.  Consider joining all columns at once using pd.concat(axis=1) instead. To get a de-fragmented frame, use `newframe = frame.copy()`\n",
      "  self.stats[group_name, 'names'] = self.var_names[global_indices]\n",
      "/Users/nsofroniew/opt/anaconda3/envs/multiomics/lib/python3.9/site-packages/scanpy/tools/_rank_genes_groups.py:396: PerformanceWarning: DataFrame is highly fragmented.  This is usually the result of calling `frame.insert` many times, which has poor performance.  Consider joining all columns at once using pd.concat(axis=1) instead. To get a de-fragmented frame, use `newframe = frame.copy()`\n",
      "  self.stats[group_name, 'scores'] = scores[global_indices]\n",
      "/Users/nsofroniew/opt/anaconda3/envs/multiomics/lib/python3.9/site-packages/scanpy/tools/_rank_genes_groups.py:399: PerformanceWarning: DataFrame is highly fragmented.  This is usually the result of calling `frame.insert` many times, which has poor performance.  Consider joining all columns at once using pd.concat(axis=1) instead. To get a de-fragmented frame, use `newframe = frame.copy()`\n",
      "  self.stats[group_name, 'pvals'] = pvals[global_indices]\n",
      "/Users/nsofroniew/opt/anaconda3/envs/multiomics/lib/python3.9/site-packages/scanpy/tools/_rank_genes_groups.py:409: PerformanceWarning: DataFrame is highly fragmented.  This is usually the result of calling `frame.insert` many times, which has poor performance.  Consider joining all columns at once using pd.concat(axis=1) instead. To get a de-fragmented frame, use `newframe = frame.copy()`\n",
      "  self.stats[group_name, 'pvals_adj'] = pvals_adj[global_indices]\n",
      "/Users/nsofroniew/opt/anaconda3/envs/multiomics/lib/python3.9/site-packages/scanpy/tools/_rank_genes_groups.py:420: PerformanceWarning: DataFrame is highly fragmented.  This is usually the result of calling `frame.insert` many times, which has poor performance.  Consider joining all columns at once using pd.concat(axis=1) instead. To get a de-fragmented frame, use `newframe = frame.copy()`\n",
      "  self.stats[group_name, 'logfoldchanges'] = np.log2(\n",
      "/Users/nsofroniew/opt/anaconda3/envs/multiomics/lib/python3.9/site-packages/scanpy/tools/_rank_genes_groups.py:394: PerformanceWarning: DataFrame is highly fragmented.  This is usually the result of calling `frame.insert` many times, which has poor performance.  Consider joining all columns at once using pd.concat(axis=1) instead. To get a de-fragmented frame, use `newframe = frame.copy()`\n",
      "  self.stats[group_name, 'names'] = self.var_names[global_indices]\n",
      "/Users/nsofroniew/opt/anaconda3/envs/multiomics/lib/python3.9/site-packages/scanpy/tools/_rank_genes_groups.py:396: PerformanceWarning: DataFrame is highly fragmented.  This is usually the result of calling `frame.insert` many times, which has poor performance.  Consider joining all columns at once using pd.concat(axis=1) instead. To get a de-fragmented frame, use `newframe = frame.copy()`\n",
      "  self.stats[group_name, 'scores'] = scores[global_indices]\n",
      "/Users/nsofroniew/opt/anaconda3/envs/multiomics/lib/python3.9/site-packages/scanpy/tools/_rank_genes_groups.py:399: PerformanceWarning: DataFrame is highly fragmented.  This is usually the result of calling `frame.insert` many times, which has poor performance.  Consider joining all columns at once using pd.concat(axis=1) instead. To get a de-fragmented frame, use `newframe = frame.copy()`\n",
      "  self.stats[group_name, 'pvals'] = pvals[global_indices]\n",
      "/Users/nsofroniew/opt/anaconda3/envs/multiomics/lib/python3.9/site-packages/scanpy/tools/_rank_genes_groups.py:409: PerformanceWarning: DataFrame is highly fragmented.  This is usually the result of calling `frame.insert` many times, which has poor performance.  Consider joining all columns at once using pd.concat(axis=1) instead. To get a de-fragmented frame, use `newframe = frame.copy()`\n",
      "  self.stats[group_name, 'pvals_adj'] = pvals_adj[global_indices]\n",
      "/Users/nsofroniew/opt/anaconda3/envs/multiomics/lib/python3.9/site-packages/scanpy/tools/_rank_genes_groups.py:420: PerformanceWarning: DataFrame is highly fragmented.  This is usually the result of calling `frame.insert` many times, which has poor performance.  Consider joining all columns at once using pd.concat(axis=1) instead. To get a de-fragmented frame, use `newframe = frame.copy()`\n",
      "  self.stats[group_name, 'logfoldchanges'] = np.log2(\n",
      "/Users/nsofroniew/opt/anaconda3/envs/multiomics/lib/python3.9/site-packages/scanpy/tools/_rank_genes_groups.py:394: PerformanceWarning: DataFrame is highly fragmented.  This is usually the result of calling `frame.insert` many times, which has poor performance.  Consider joining all columns at once using pd.concat(axis=1) instead. To get a de-fragmented frame, use `newframe = frame.copy()`\n",
      "  self.stats[group_name, 'names'] = self.var_names[global_indices]\n",
      "/Users/nsofroniew/opt/anaconda3/envs/multiomics/lib/python3.9/site-packages/scanpy/tools/_rank_genes_groups.py:396: PerformanceWarning: DataFrame is highly fragmented.  This is usually the result of calling `frame.insert` many times, which has poor performance.  Consider joining all columns at once using pd.concat(axis=1) instead. To get a de-fragmented frame, use `newframe = frame.copy()`\n",
      "  self.stats[group_name, 'scores'] = scores[global_indices]\n",
      "/Users/nsofroniew/opt/anaconda3/envs/multiomics/lib/python3.9/site-packages/scanpy/tools/_rank_genes_groups.py:399: PerformanceWarning: DataFrame is highly fragmented.  This is usually the result of calling `frame.insert` many times, which has poor performance.  Consider joining all columns at once using pd.concat(axis=1) instead. To get a de-fragmented frame, use `newframe = frame.copy()`\n",
      "  self.stats[group_name, 'pvals'] = pvals[global_indices]\n",
      "/Users/nsofroniew/opt/anaconda3/envs/multiomics/lib/python3.9/site-packages/scanpy/tools/_rank_genes_groups.py:409: PerformanceWarning: DataFrame is highly fragmented.  This is usually the result of calling `frame.insert` many times, which has poor performance.  Consider joining all columns at once using pd.concat(axis=1) instead. To get a de-fragmented frame, use `newframe = frame.copy()`\n",
      "  self.stats[group_name, 'pvals_adj'] = pvals_adj[global_indices]\n",
      "/Users/nsofroniew/opt/anaconda3/envs/multiomics/lib/python3.9/site-packages/scanpy/tools/_rank_genes_groups.py:420: PerformanceWarning: DataFrame is highly fragmented.  This is usually the result of calling `frame.insert` many times, which has poor performance.  Consider joining all columns at once using pd.concat(axis=1) instead. To get a de-fragmented frame, use `newframe = frame.copy()`\n",
      "  self.stats[group_name, 'logfoldchanges'] = np.log2(\n",
      "/Users/nsofroniew/opt/anaconda3/envs/multiomics/lib/python3.9/site-packages/scanpy/tools/_rank_genes_groups.py:394: PerformanceWarning: DataFrame is highly fragmented.  This is usually the result of calling `frame.insert` many times, which has poor performance.  Consider joining all columns at once using pd.concat(axis=1) instead. To get a de-fragmented frame, use `newframe = frame.copy()`\n",
      "  self.stats[group_name, 'names'] = self.var_names[global_indices]\n",
      "/Users/nsofroniew/opt/anaconda3/envs/multiomics/lib/python3.9/site-packages/scanpy/tools/_rank_genes_groups.py:396: PerformanceWarning: DataFrame is highly fragmented.  This is usually the result of calling `frame.insert` many times, which has poor performance.  Consider joining all columns at once using pd.concat(axis=1) instead. To get a de-fragmented frame, use `newframe = frame.copy()`\n",
      "  self.stats[group_name, 'scores'] = scores[global_indices]\n",
      "/Users/nsofroniew/opt/anaconda3/envs/multiomics/lib/python3.9/site-packages/scanpy/tools/_rank_genes_groups.py:399: PerformanceWarning: DataFrame is highly fragmented.  This is usually the result of calling `frame.insert` many times, which has poor performance.  Consider joining all columns at once using pd.concat(axis=1) instead. To get a de-fragmented frame, use `newframe = frame.copy()`\n",
      "  self.stats[group_name, 'pvals'] = pvals[global_indices]\n",
      "/Users/nsofroniew/opt/anaconda3/envs/multiomics/lib/python3.9/site-packages/scanpy/tools/_rank_genes_groups.py:409: PerformanceWarning: DataFrame is highly fragmented.  This is usually the result of calling `frame.insert` many times, which has poor performance.  Consider joining all columns at once using pd.concat(axis=1) instead. To get a de-fragmented frame, use `newframe = frame.copy()`\n",
      "  self.stats[group_name, 'pvals_adj'] = pvals_adj[global_indices]\n",
      "/Users/nsofroniew/opt/anaconda3/envs/multiomics/lib/python3.9/site-packages/scanpy/tools/_rank_genes_groups.py:420: PerformanceWarning: DataFrame is highly fragmented.  This is usually the result of calling `frame.insert` many times, which has poor performance.  Consider joining all columns at once using pd.concat(axis=1) instead. To get a de-fragmented frame, use `newframe = frame.copy()`\n",
      "  self.stats[group_name, 'logfoldchanges'] = np.log2(\n",
      "/Users/nsofroniew/opt/anaconda3/envs/multiomics/lib/python3.9/site-packages/scanpy/tools/_rank_genes_groups.py:394: PerformanceWarning: DataFrame is highly fragmented.  This is usually the result of calling `frame.insert` many times, which has poor performance.  Consider joining all columns at once using pd.concat(axis=1) instead. To get a de-fragmented frame, use `newframe = frame.copy()`\n",
      "  self.stats[group_name, 'names'] = self.var_names[global_indices]\n",
      "/Users/nsofroniew/opt/anaconda3/envs/multiomics/lib/python3.9/site-packages/scanpy/tools/_rank_genes_groups.py:396: PerformanceWarning: DataFrame is highly fragmented.  This is usually the result of calling `frame.insert` many times, which has poor performance.  Consider joining all columns at once using pd.concat(axis=1) instead. To get a de-fragmented frame, use `newframe = frame.copy()`\n",
      "  self.stats[group_name, 'scores'] = scores[global_indices]\n",
      "/Users/nsofroniew/opt/anaconda3/envs/multiomics/lib/python3.9/site-packages/scanpy/tools/_rank_genes_groups.py:399: PerformanceWarning: DataFrame is highly fragmented.  This is usually the result of calling `frame.insert` many times, which has poor performance.  Consider joining all columns at once using pd.concat(axis=1) instead. To get a de-fragmented frame, use `newframe = frame.copy()`\n",
      "  self.stats[group_name, 'pvals'] = pvals[global_indices]\n",
      "/Users/nsofroniew/opt/anaconda3/envs/multiomics/lib/python3.9/site-packages/scanpy/tools/_rank_genes_groups.py:409: PerformanceWarning: DataFrame is highly fragmented.  This is usually the result of calling `frame.insert` many times, which has poor performance.  Consider joining all columns at once using pd.concat(axis=1) instead. To get a de-fragmented frame, use `newframe = frame.copy()`\n",
      "  self.stats[group_name, 'pvals_adj'] = pvals_adj[global_indices]\n",
      "/Users/nsofroniew/opt/anaconda3/envs/multiomics/lib/python3.9/site-packages/scanpy/tools/_rank_genes_groups.py:420: PerformanceWarning: DataFrame is highly fragmented.  This is usually the result of calling `frame.insert` many times, which has poor performance.  Consider joining all columns at once using pd.concat(axis=1) instead. To get a de-fragmented frame, use `newframe = frame.copy()`\n",
      "  self.stats[group_name, 'logfoldchanges'] = np.log2(\n",
      "/Users/nsofroniew/opt/anaconda3/envs/multiomics/lib/python3.9/site-packages/scanpy/tools/_rank_genes_groups.py:394: PerformanceWarning: DataFrame is highly fragmented.  This is usually the result of calling `frame.insert` many times, which has poor performance.  Consider joining all columns at once using pd.concat(axis=1) instead. To get a de-fragmented frame, use `newframe = frame.copy()`\n",
      "  self.stats[group_name, 'names'] = self.var_names[global_indices]\n",
      "/Users/nsofroniew/opt/anaconda3/envs/multiomics/lib/python3.9/site-packages/scanpy/tools/_rank_genes_groups.py:396: PerformanceWarning: DataFrame is highly fragmented.  This is usually the result of calling `frame.insert` many times, which has poor performance.  Consider joining all columns at once using pd.concat(axis=1) instead. To get a de-fragmented frame, use `newframe = frame.copy()`\n",
      "  self.stats[group_name, 'scores'] = scores[global_indices]\n",
      "/Users/nsofroniew/opt/anaconda3/envs/multiomics/lib/python3.9/site-packages/scanpy/tools/_rank_genes_groups.py:399: PerformanceWarning: DataFrame is highly fragmented.  This is usually the result of calling `frame.insert` many times, which has poor performance.  Consider joining all columns at once using pd.concat(axis=1) instead. To get a de-fragmented frame, use `newframe = frame.copy()`\n",
      "  self.stats[group_name, 'pvals'] = pvals[global_indices]\n",
      "/Users/nsofroniew/opt/anaconda3/envs/multiomics/lib/python3.9/site-packages/scanpy/tools/_rank_genes_groups.py:409: PerformanceWarning: DataFrame is highly fragmented.  This is usually the result of calling `frame.insert` many times, which has poor performance.  Consider joining all columns at once using pd.concat(axis=1) instead. To get a de-fragmented frame, use `newframe = frame.copy()`\n",
      "  self.stats[group_name, 'pvals_adj'] = pvals_adj[global_indices]\n",
      "/Users/nsofroniew/opt/anaconda3/envs/multiomics/lib/python3.9/site-packages/scanpy/tools/_rank_genes_groups.py:420: PerformanceWarning: DataFrame is highly fragmented.  This is usually the result of calling `frame.insert` many times, which has poor performance.  Consider joining all columns at once using pd.concat(axis=1) instead. To get a de-fragmented frame, use `newframe = frame.copy()`\n",
      "  self.stats[group_name, 'logfoldchanges'] = np.log2(\n",
      "/Users/nsofroniew/opt/anaconda3/envs/multiomics/lib/python3.9/site-packages/scanpy/tools/_rank_genes_groups.py:394: PerformanceWarning: DataFrame is highly fragmented.  This is usually the result of calling `frame.insert` many times, which has poor performance.  Consider joining all columns at once using pd.concat(axis=1) instead. To get a de-fragmented frame, use `newframe = frame.copy()`\n",
      "  self.stats[group_name, 'names'] = self.var_names[global_indices]\n",
      "/Users/nsofroniew/opt/anaconda3/envs/multiomics/lib/python3.9/site-packages/scanpy/tools/_rank_genes_groups.py:396: PerformanceWarning: DataFrame is highly fragmented.  This is usually the result of calling `frame.insert` many times, which has poor performance.  Consider joining all columns at once using pd.concat(axis=1) instead. To get a de-fragmented frame, use `newframe = frame.copy()`\n",
      "  self.stats[group_name, 'scores'] = scores[global_indices]\n",
      "/Users/nsofroniew/opt/anaconda3/envs/multiomics/lib/python3.9/site-packages/scanpy/tools/_rank_genes_groups.py:399: PerformanceWarning: DataFrame is highly fragmented.  This is usually the result of calling `frame.insert` many times, which has poor performance.  Consider joining all columns at once using pd.concat(axis=1) instead. To get a de-fragmented frame, use `newframe = frame.copy()`\n",
      "  self.stats[group_name, 'pvals'] = pvals[global_indices]\n",
      "/Users/nsofroniew/opt/anaconda3/envs/multiomics/lib/python3.9/site-packages/scanpy/tools/_rank_genes_groups.py:409: PerformanceWarning: DataFrame is highly fragmented.  This is usually the result of calling `frame.insert` many times, which has poor performance.  Consider joining all columns at once using pd.concat(axis=1) instead. To get a de-fragmented frame, use `newframe = frame.copy()`\n",
      "  self.stats[group_name, 'pvals_adj'] = pvals_adj[global_indices]\n",
      "/Users/nsofroniew/opt/anaconda3/envs/multiomics/lib/python3.9/site-packages/scanpy/tools/_rank_genes_groups.py:420: PerformanceWarning: DataFrame is highly fragmented.  This is usually the result of calling `frame.insert` many times, which has poor performance.  Consider joining all columns at once using pd.concat(axis=1) instead. To get a de-fragmented frame, use `newframe = frame.copy()`\n",
      "  self.stats[group_name, 'logfoldchanges'] = np.log2(\n",
      "/Users/nsofroniew/opt/anaconda3/envs/multiomics/lib/python3.9/site-packages/scanpy/tools/_rank_genes_groups.py:394: PerformanceWarning: DataFrame is highly fragmented.  This is usually the result of calling `frame.insert` many times, which has poor performance.  Consider joining all columns at once using pd.concat(axis=1) instead. To get a de-fragmented frame, use `newframe = frame.copy()`\n",
      "  self.stats[group_name, 'names'] = self.var_names[global_indices]\n",
      "/Users/nsofroniew/opt/anaconda3/envs/multiomics/lib/python3.9/site-packages/scanpy/tools/_rank_genes_groups.py:396: PerformanceWarning: DataFrame is highly fragmented.  This is usually the result of calling `frame.insert` many times, which has poor performance.  Consider joining all columns at once using pd.concat(axis=1) instead. To get a de-fragmented frame, use `newframe = frame.copy()`\n",
      "  self.stats[group_name, 'scores'] = scores[global_indices]\n",
      "/Users/nsofroniew/opt/anaconda3/envs/multiomics/lib/python3.9/site-packages/scanpy/tools/_rank_genes_groups.py:399: PerformanceWarning: DataFrame is highly fragmented.  This is usually the result of calling `frame.insert` many times, which has poor performance.  Consider joining all columns at once using pd.concat(axis=1) instead. To get a de-fragmented frame, use `newframe = frame.copy()`\n",
      "  self.stats[group_name, 'pvals'] = pvals[global_indices]\n",
      "/Users/nsofroniew/opt/anaconda3/envs/multiomics/lib/python3.9/site-packages/scanpy/tools/_rank_genes_groups.py:409: PerformanceWarning: DataFrame is highly fragmented.  This is usually the result of calling `frame.insert` many times, which has poor performance.  Consider joining all columns at once using pd.concat(axis=1) instead. To get a de-fragmented frame, use `newframe = frame.copy()`\n",
      "  self.stats[group_name, 'pvals_adj'] = pvals_adj[global_indices]\n",
      "/Users/nsofroniew/opt/anaconda3/envs/multiomics/lib/python3.9/site-packages/scanpy/tools/_rank_genes_groups.py:420: PerformanceWarning: DataFrame is highly fragmented.  This is usually the result of calling `frame.insert` many times, which has poor performance.  Consider joining all columns at once using pd.concat(axis=1) instead. To get a de-fragmented frame, use `newframe = frame.copy()`\n",
      "  self.stats[group_name, 'logfoldchanges'] = np.log2(\n",
      "/Users/nsofroniew/opt/anaconda3/envs/multiomics/lib/python3.9/site-packages/scanpy/tools/_rank_genes_groups.py:394: PerformanceWarning: DataFrame is highly fragmented.  This is usually the result of calling `frame.insert` many times, which has poor performance.  Consider joining all columns at once using pd.concat(axis=1) instead. To get a de-fragmented frame, use `newframe = frame.copy()`\n",
      "  self.stats[group_name, 'names'] = self.var_names[global_indices]\n",
      "/Users/nsofroniew/opt/anaconda3/envs/multiomics/lib/python3.9/site-packages/scanpy/tools/_rank_genes_groups.py:396: PerformanceWarning: DataFrame is highly fragmented.  This is usually the result of calling `frame.insert` many times, which has poor performance.  Consider joining all columns at once using pd.concat(axis=1) instead. To get a de-fragmented frame, use `newframe = frame.copy()`\n",
      "  self.stats[group_name, 'scores'] = scores[global_indices]\n",
      "/Users/nsofroniew/opt/anaconda3/envs/multiomics/lib/python3.9/site-packages/scanpy/tools/_rank_genes_groups.py:399: PerformanceWarning: DataFrame is highly fragmented.  This is usually the result of calling `frame.insert` many times, which has poor performance.  Consider joining all columns at once using pd.concat(axis=1) instead. To get a de-fragmented frame, use `newframe = frame.copy()`\n",
      "  self.stats[group_name, 'pvals'] = pvals[global_indices]\n",
      "/Users/nsofroniew/opt/anaconda3/envs/multiomics/lib/python3.9/site-packages/scanpy/tools/_rank_genes_groups.py:409: PerformanceWarning: DataFrame is highly fragmented.  This is usually the result of calling `frame.insert` many times, which has poor performance.  Consider joining all columns at once using pd.concat(axis=1) instead. To get a de-fragmented frame, use `newframe = frame.copy()`\n",
      "  self.stats[group_name, 'pvals_adj'] = pvals_adj[global_indices]\n",
      "/Users/nsofroniew/opt/anaconda3/envs/multiomics/lib/python3.9/site-packages/scanpy/tools/_rank_genes_groups.py:420: PerformanceWarning: DataFrame is highly fragmented.  This is usually the result of calling `frame.insert` many times, which has poor performance.  Consider joining all columns at once using pd.concat(axis=1) instead. To get a de-fragmented frame, use `newframe = frame.copy()`\n",
      "  self.stats[group_name, 'logfoldchanges'] = np.log2(\n",
      "/Users/nsofroniew/opt/anaconda3/envs/multiomics/lib/python3.9/site-packages/scanpy/tools/_rank_genes_groups.py:394: PerformanceWarning: DataFrame is highly fragmented.  This is usually the result of calling `frame.insert` many times, which has poor performance.  Consider joining all columns at once using pd.concat(axis=1) instead. To get a de-fragmented frame, use `newframe = frame.copy()`\n",
      "  self.stats[group_name, 'names'] = self.var_names[global_indices]\n",
      "/Users/nsofroniew/opt/anaconda3/envs/multiomics/lib/python3.9/site-packages/scanpy/tools/_rank_genes_groups.py:396: PerformanceWarning: DataFrame is highly fragmented.  This is usually the result of calling `frame.insert` many times, which has poor performance.  Consider joining all columns at once using pd.concat(axis=1) instead. To get a de-fragmented frame, use `newframe = frame.copy()`\n",
      "  self.stats[group_name, 'scores'] = scores[global_indices]\n",
      "/Users/nsofroniew/opt/anaconda3/envs/multiomics/lib/python3.9/site-packages/scanpy/tools/_rank_genes_groups.py:399: PerformanceWarning: DataFrame is highly fragmented.  This is usually the result of calling `frame.insert` many times, which has poor performance.  Consider joining all columns at once using pd.concat(axis=1) instead. To get a de-fragmented frame, use `newframe = frame.copy()`\n",
      "  self.stats[group_name, 'pvals'] = pvals[global_indices]\n",
      "/Users/nsofroniew/opt/anaconda3/envs/multiomics/lib/python3.9/site-packages/scanpy/tools/_rank_genes_groups.py:409: PerformanceWarning: DataFrame is highly fragmented.  This is usually the result of calling `frame.insert` many times, which has poor performance.  Consider joining all columns at once using pd.concat(axis=1) instead. To get a de-fragmented frame, use `newframe = frame.copy()`\n",
      "  self.stats[group_name, 'pvals_adj'] = pvals_adj[global_indices]\n",
      "/Users/nsofroniew/opt/anaconda3/envs/multiomics/lib/python3.9/site-packages/scanpy/tools/_rank_genes_groups.py:420: PerformanceWarning: DataFrame is highly fragmented.  This is usually the result of calling `frame.insert` many times, which has poor performance.  Consider joining all columns at once using pd.concat(axis=1) instead. To get a de-fragmented frame, use `newframe = frame.copy()`\n",
      "  self.stats[group_name, 'logfoldchanges'] = np.log2(\n",
      "/Users/nsofroniew/opt/anaconda3/envs/multiomics/lib/python3.9/site-packages/scanpy/tools/_rank_genes_groups.py:394: PerformanceWarning: DataFrame is highly fragmented.  This is usually the result of calling `frame.insert` many times, which has poor performance.  Consider joining all columns at once using pd.concat(axis=1) instead. To get a de-fragmented frame, use `newframe = frame.copy()`\n",
      "  self.stats[group_name, 'names'] = self.var_names[global_indices]\n",
      "/Users/nsofroniew/opt/anaconda3/envs/multiomics/lib/python3.9/site-packages/scanpy/tools/_rank_genes_groups.py:396: PerformanceWarning: DataFrame is highly fragmented.  This is usually the result of calling `frame.insert` many times, which has poor performance.  Consider joining all columns at once using pd.concat(axis=1) instead. To get a de-fragmented frame, use `newframe = frame.copy()`\n",
      "  self.stats[group_name, 'scores'] = scores[global_indices]\n",
      "/Users/nsofroniew/opt/anaconda3/envs/multiomics/lib/python3.9/site-packages/scanpy/tools/_rank_genes_groups.py:399: PerformanceWarning: DataFrame is highly fragmented.  This is usually the result of calling `frame.insert` many times, which has poor performance.  Consider joining all columns at once using pd.concat(axis=1) instead. To get a de-fragmented frame, use `newframe = frame.copy()`\n",
      "  self.stats[group_name, 'pvals'] = pvals[global_indices]\n",
      "/Users/nsofroniew/opt/anaconda3/envs/multiomics/lib/python3.9/site-packages/scanpy/tools/_rank_genes_groups.py:409: PerformanceWarning: DataFrame is highly fragmented.  This is usually the result of calling `frame.insert` many times, which has poor performance.  Consider joining all columns at once using pd.concat(axis=1) instead. To get a de-fragmented frame, use `newframe = frame.copy()`\n",
      "  self.stats[group_name, 'pvals_adj'] = pvals_adj[global_indices]\n",
      "/Users/nsofroniew/opt/anaconda3/envs/multiomics/lib/python3.9/site-packages/scanpy/tools/_rank_genes_groups.py:420: PerformanceWarning: DataFrame is highly fragmented.  This is usually the result of calling `frame.insert` many times, which has poor performance.  Consider joining all columns at once using pd.concat(axis=1) instead. To get a de-fragmented frame, use `newframe = frame.copy()`\n",
      "  self.stats[group_name, 'logfoldchanges'] = np.log2(\n",
      "/Users/nsofroniew/opt/anaconda3/envs/multiomics/lib/python3.9/site-packages/scanpy/tools/_rank_genes_groups.py:394: PerformanceWarning: DataFrame is highly fragmented.  This is usually the result of calling `frame.insert` many times, which has poor performance.  Consider joining all columns at once using pd.concat(axis=1) instead. To get a de-fragmented frame, use `newframe = frame.copy()`\n",
      "  self.stats[group_name, 'names'] = self.var_names[global_indices]\n",
      "/Users/nsofroniew/opt/anaconda3/envs/multiomics/lib/python3.9/site-packages/scanpy/tools/_rank_genes_groups.py:396: PerformanceWarning: DataFrame is highly fragmented.  This is usually the result of calling `frame.insert` many times, which has poor performance.  Consider joining all columns at once using pd.concat(axis=1) instead. To get a de-fragmented frame, use `newframe = frame.copy()`\n",
      "  self.stats[group_name, 'scores'] = scores[global_indices]\n",
      "/Users/nsofroniew/opt/anaconda3/envs/multiomics/lib/python3.9/site-packages/scanpy/tools/_rank_genes_groups.py:399: PerformanceWarning: DataFrame is highly fragmented.  This is usually the result of calling `frame.insert` many times, which has poor performance.  Consider joining all columns at once using pd.concat(axis=1) instead. To get a de-fragmented frame, use `newframe = frame.copy()`\n",
      "  self.stats[group_name, 'pvals'] = pvals[global_indices]\n",
      "/Users/nsofroniew/opt/anaconda3/envs/multiomics/lib/python3.9/site-packages/scanpy/tools/_rank_genes_groups.py:409: PerformanceWarning: DataFrame is highly fragmented.  This is usually the result of calling `frame.insert` many times, which has poor performance.  Consider joining all columns at once using pd.concat(axis=1) instead. To get a de-fragmented frame, use `newframe = frame.copy()`\n",
      "  self.stats[group_name, 'pvals_adj'] = pvals_adj[global_indices]\n",
      "/Users/nsofroniew/opt/anaconda3/envs/multiomics/lib/python3.9/site-packages/scanpy/tools/_rank_genes_groups.py:420: PerformanceWarning: DataFrame is highly fragmented.  This is usually the result of calling `frame.insert` many times, which has poor performance.  Consider joining all columns at once using pd.concat(axis=1) instead. To get a de-fragmented frame, use `newframe = frame.copy()`\n",
      "  self.stats[group_name, 'logfoldchanges'] = np.log2(\n",
      "/Users/nsofroniew/opt/anaconda3/envs/multiomics/lib/python3.9/site-packages/scanpy/tools/_rank_genes_groups.py:394: PerformanceWarning: DataFrame is highly fragmented.  This is usually the result of calling `frame.insert` many times, which has poor performance.  Consider joining all columns at once using pd.concat(axis=1) instead. To get a de-fragmented frame, use `newframe = frame.copy()`\n",
      "  self.stats[group_name, 'names'] = self.var_names[global_indices]\n",
      "/Users/nsofroniew/opt/anaconda3/envs/multiomics/lib/python3.9/site-packages/scanpy/tools/_rank_genes_groups.py:396: PerformanceWarning: DataFrame is highly fragmented.  This is usually the result of calling `frame.insert` many times, which has poor performance.  Consider joining all columns at once using pd.concat(axis=1) instead. To get a de-fragmented frame, use `newframe = frame.copy()`\n",
      "  self.stats[group_name, 'scores'] = scores[global_indices]\n",
      "/Users/nsofroniew/opt/anaconda3/envs/multiomics/lib/python3.9/site-packages/scanpy/tools/_rank_genes_groups.py:399: PerformanceWarning: DataFrame is highly fragmented.  This is usually the result of calling `frame.insert` many times, which has poor performance.  Consider joining all columns at once using pd.concat(axis=1) instead. To get a de-fragmented frame, use `newframe = frame.copy()`\n",
      "  self.stats[group_name, 'pvals'] = pvals[global_indices]\n",
      "/Users/nsofroniew/opt/anaconda3/envs/multiomics/lib/python3.9/site-packages/scanpy/tools/_rank_genes_groups.py:409: PerformanceWarning: DataFrame is highly fragmented.  This is usually the result of calling `frame.insert` many times, which has poor performance.  Consider joining all columns at once using pd.concat(axis=1) instead. To get a de-fragmented frame, use `newframe = frame.copy()`\n",
      "  self.stats[group_name, 'pvals_adj'] = pvals_adj[global_indices]\n",
      "/Users/nsofroniew/opt/anaconda3/envs/multiomics/lib/python3.9/site-packages/scanpy/tools/_rank_genes_groups.py:420: PerformanceWarning: DataFrame is highly fragmented.  This is usually the result of calling `frame.insert` many times, which has poor performance.  Consider joining all columns at once using pd.concat(axis=1) instead. To get a de-fragmented frame, use `newframe = frame.copy()`\n",
      "  self.stats[group_name, 'logfoldchanges'] = np.log2(\n",
      "/Users/nsofroniew/opt/anaconda3/envs/multiomics/lib/python3.9/site-packages/scanpy/tools/_rank_genes_groups.py:394: PerformanceWarning: DataFrame is highly fragmented.  This is usually the result of calling `frame.insert` many times, which has poor performance.  Consider joining all columns at once using pd.concat(axis=1) instead. To get a de-fragmented frame, use `newframe = frame.copy()`\n",
      "  self.stats[group_name, 'names'] = self.var_names[global_indices]\n",
      "/Users/nsofroniew/opt/anaconda3/envs/multiomics/lib/python3.9/site-packages/scanpy/tools/_rank_genes_groups.py:396: PerformanceWarning: DataFrame is highly fragmented.  This is usually the result of calling `frame.insert` many times, which has poor performance.  Consider joining all columns at once using pd.concat(axis=1) instead. To get a de-fragmented frame, use `newframe = frame.copy()`\n",
      "  self.stats[group_name, 'scores'] = scores[global_indices]\n",
      "/Users/nsofroniew/opt/anaconda3/envs/multiomics/lib/python3.9/site-packages/scanpy/tools/_rank_genes_groups.py:399: PerformanceWarning: DataFrame is highly fragmented.  This is usually the result of calling `frame.insert` many times, which has poor performance.  Consider joining all columns at once using pd.concat(axis=1) instead. To get a de-fragmented frame, use `newframe = frame.copy()`\n",
      "  self.stats[group_name, 'pvals'] = pvals[global_indices]\n",
      "/Users/nsofroniew/opt/anaconda3/envs/multiomics/lib/python3.9/site-packages/scanpy/tools/_rank_genes_groups.py:409: PerformanceWarning: DataFrame is highly fragmented.  This is usually the result of calling `frame.insert` many times, which has poor performance.  Consider joining all columns at once using pd.concat(axis=1) instead. To get a de-fragmented frame, use `newframe = frame.copy()`\n",
      "  self.stats[group_name, 'pvals_adj'] = pvals_adj[global_indices]\n",
      "/Users/nsofroniew/opt/anaconda3/envs/multiomics/lib/python3.9/site-packages/scanpy/tools/_rank_genes_groups.py:420: PerformanceWarning: DataFrame is highly fragmented.  This is usually the result of calling `frame.insert` many times, which has poor performance.  Consider joining all columns at once using pd.concat(axis=1) instead. To get a de-fragmented frame, use `newframe = frame.copy()`\n",
      "  self.stats[group_name, 'logfoldchanges'] = np.log2(\n"
     ]
    }
   ],
   "source": [
    "adata = adata[:20000, :1000]\n",
    "\n",
    "sc.pp.normalize_total(adata, target_sum=1e5)\n",
    "sc.pp.log1p(adata)\n",
    "sc.tl.rank_genes_groups(adata, 'cell_type', method='t-test')"
   ]
  },
  {
   "cell_type": "code",
   "execution_count": 74,
   "metadata": {},
   "outputs": [
    {
     "data": {
      "text/plain": [
       "('ENSG00000107362', 'ENSG00000114779', 'ENSG00000146386', 'ENSG00000248487', 'ENSG00000204574', 'ENSG00000268205', 'ENSG00000265206', 'ENSG00000099204', 'ENSG00000248487', 'ENSG00000140526', 'ENSG00000275700', 'ENSG00000164163', 'ENSG00000128274', 'ENSG00000268205', 'ENSG00000285486', 'ENSG00000128274', 'ENSG00000099204', 'ENSG00000121410', 'ENSG00000117528', 'ENSG00000175164', 'ENSG00000168792', 'ENSG00000140526', 'ENSG00000103222', 'ENSG00000265206', 'ENSG00000275700', 'ENSG00000108798', 'ENSG00000228434', 'ENSG00000163322', 'ENSG00000114779', 'ENSG00000181409', 'ENSG00000108798', 'ENSG00000248487', 'ENSG00000106077', 'ENSG00000284874', 'ENSG00000099204', 'ENSG00000136379', 'ENSG00000008311', 'ENSG00000081760', 'ENSG00000204574')"
      ]
     },
     "execution_count": 74,
     "metadata": {},
     "output_type": "execute_result"
    }
   ],
   "source": [
    "adata.uns['rank_genes_groups']['names'][5]"
   ]
  },
  {
   "cell_type": "code",
   "execution_count": 101,
   "metadata": {},
   "outputs": [],
   "source": [
    "group_names = adata.uns['rank_genes_groups']['names'].dtype.names"
   ]
  },
  {
   "cell_type": "code",
   "execution_count": 104,
   "metadata": {},
   "outputs": [
    {
     "data": {
      "text/plain": [
       "(1000,)"
      ]
     },
     "execution_count": 104,
     "metadata": {},
     "output_type": "execute_result"
    }
   ],
   "source": [
    "adata.uns['rank_genes_groups']['names']['B cell'].shape"
   ]
  },
  {
   "cell_type": "code",
   "execution_count": 105,
   "metadata": {},
   "outputs": [
    {
     "data": {
      "text/plain": [
       "array([ 1.54892235e+01,  9.45605564e+00,  8.55731010e+00,  7.09016609e+00,\n",
       "        7.07610321e+00,  7.05922461e+00,  6.76698065e+00,  6.33519459e+00,\n",
       "        6.15257215e+00,  5.25063181e+00,  4.97421932e+00,  4.91893673e+00,\n",
       "        4.68113804e+00,  4.37397194e+00,  4.00625134e+00,  3.97034192e+00,\n",
       "        3.93682933e+00,  3.90745640e+00,  3.70588017e+00,  3.54302192e+00,\n",
       "        3.52923155e+00,  3.48039198e+00,  3.37411690e+00,  3.01259518e+00,\n",
       "        2.80566049e+00,  2.68220973e+00,  2.60377240e+00,  2.55142856e+00,\n",
       "        2.42716408e+00,  2.34950280e+00,  2.17168593e+00,  2.08693242e+00,\n",
       "        2.07405901e+00,  1.86138582e+00,  1.78469217e+00,  1.73268902e+00,\n",
       "        1.72764540e+00,  1.72319615e+00,  1.71792126e+00,  1.69958472e+00,\n",
       "        1.69796348e+00,  1.65862465e+00,  1.64955914e+00,  1.59679508e+00,\n",
       "        1.57159758e+00,  1.57047760e+00,  1.54041409e+00,  1.48922098e+00,\n",
       "        1.48906887e+00,  1.47987556e+00,  1.46436965e+00,  1.44366527e+00,\n",
       "        1.41408217e+00,  1.36747229e+00,  1.29935086e+00,  1.28542697e+00,\n",
       "        1.27208936e+00,  1.25533926e+00,  1.23556924e+00,  1.23110247e+00,\n",
       "        1.22961664e+00,  1.21552682e+00,  1.17317581e+00,  1.17301965e+00,\n",
       "        1.17085576e+00,  1.12340343e+00,  1.07954681e+00,  1.05183244e+00,\n",
       "        1.04705906e+00,  1.03518343e+00,  1.00111687e+00,  1.00000000e+00,\n",
       "        1.00000000e+00,  9.86057460e-01,  9.77328122e-01,  9.77044344e-01,\n",
       "        9.75871444e-01,  9.73670065e-01,  9.72298741e-01,  9.70387995e-01,\n",
       "        9.65425074e-01,  9.64002192e-01,  9.60260689e-01,  9.57884073e-01,\n",
       "        9.55308020e-01,  9.55169022e-01,  9.52280402e-01,  9.51787353e-01,\n",
       "        9.47510123e-01,  9.40698445e-01,  9.34987485e-01,  9.29221511e-01,\n",
       "        9.27242339e-01,  9.17227805e-01,  9.11165357e-01,  8.97431254e-01,\n",
       "        8.87434304e-01,  8.82810354e-01,  8.82491410e-01,  8.74580204e-01,\n",
       "        8.62014174e-01,  8.54736626e-01,  8.49613070e-01,  8.43679488e-01,\n",
       "        8.22650969e-01,  8.21739376e-01,  8.19002986e-01,  8.10655117e-01,\n",
       "        8.03569794e-01,  7.99257576e-01,  7.95035958e-01,  7.91482210e-01,\n",
       "        7.67246842e-01,  7.57769108e-01,  7.53610194e-01,  7.26423800e-01,\n",
       "        7.15528727e-01,  7.15514719e-01,  7.14539528e-01,  7.13284492e-01,\n",
       "        7.12962031e-01,  7.11050332e-01,  7.09612370e-01,  7.01746106e-01,\n",
       "        6.98809147e-01,  6.84581101e-01,  6.83459461e-01,  6.65180743e-01,\n",
       "        6.54661059e-01,  6.52036905e-01,  6.47933066e-01,  6.45810306e-01,\n",
       "        6.25851393e-01,  5.99909782e-01,  5.97568572e-01,  5.67452848e-01,\n",
       "        5.65562546e-01,  5.49171627e-01,  5.48507929e-01,  5.46022117e-01,\n",
       "        5.45844316e-01,  5.16136467e-01,  5.03943563e-01,  5.00510693e-01,\n",
       "        4.94006068e-01,  4.73856717e-01,  4.70653534e-01,  4.67333227e-01,\n",
       "        4.52859491e-01,  4.43564385e-01,  4.39779371e-01,  4.35676128e-01,\n",
       "        4.35624093e-01,  4.31674391e-01,  3.96730810e-01,  3.89614224e-01,\n",
       "        3.86446595e-01,  3.40529293e-01,  3.29596400e-01,  3.21242303e-01,\n",
       "        3.09428036e-01,  2.83327818e-01,  2.77847588e-01,  2.72358090e-01,\n",
       "        2.47888327e-01,  2.47583866e-01,  2.43946895e-01,  2.39923000e-01,\n",
       "        2.18559876e-01,  2.06608072e-01,  2.03805104e-01,  2.01766789e-01,\n",
       "        1.91540703e-01,  1.91397116e-01,  1.90317199e-01,  1.80479586e-01,\n",
       "        1.48045465e-01,  1.26998335e-01,  1.18093170e-01,  9.75093395e-02,\n",
       "        9.34593976e-02,  6.43445626e-02,  4.76473868e-02,  4.73944992e-02,\n",
       "        3.20846997e-02,  3.17433178e-02,  1.66627974e-03,  0.00000000e+00,\n",
       "        0.00000000e+00,  0.00000000e+00,  0.00000000e+00,  0.00000000e+00,\n",
       "        0.00000000e+00,  0.00000000e+00,  0.00000000e+00,  0.00000000e+00,\n",
       "        0.00000000e+00,  0.00000000e+00,  0.00000000e+00,  0.00000000e+00,\n",
       "        0.00000000e+00,  0.00000000e+00,  0.00000000e+00,  0.00000000e+00,\n",
       "        0.00000000e+00,  0.00000000e+00,  0.00000000e+00,  0.00000000e+00,\n",
       "        0.00000000e+00,  0.00000000e+00,  0.00000000e+00,  0.00000000e+00,\n",
       "        0.00000000e+00,  0.00000000e+00,  0.00000000e+00,  0.00000000e+00,\n",
       "        0.00000000e+00,  0.00000000e+00,  0.00000000e+00,  0.00000000e+00,\n",
       "        0.00000000e+00,  0.00000000e+00,  0.00000000e+00,  0.00000000e+00,\n",
       "        0.00000000e+00,  0.00000000e+00,  0.00000000e+00,  0.00000000e+00,\n",
       "        0.00000000e+00,  0.00000000e+00,  0.00000000e+00,  0.00000000e+00,\n",
       "        0.00000000e+00,  0.00000000e+00,  0.00000000e+00,  0.00000000e+00,\n",
       "        0.00000000e+00,  0.00000000e+00,  0.00000000e+00,  0.00000000e+00,\n",
       "        0.00000000e+00,  0.00000000e+00,  0.00000000e+00,  0.00000000e+00,\n",
       "        0.00000000e+00,  0.00000000e+00,  0.00000000e+00,  0.00000000e+00,\n",
       "        0.00000000e+00,  0.00000000e+00,  0.00000000e+00,  0.00000000e+00,\n",
       "        0.00000000e+00,  0.00000000e+00,  0.00000000e+00,  0.00000000e+00,\n",
       "        0.00000000e+00,  0.00000000e+00,  0.00000000e+00,  0.00000000e+00,\n",
       "        0.00000000e+00,  0.00000000e+00,  0.00000000e+00,  0.00000000e+00,\n",
       "        0.00000000e+00,  0.00000000e+00,  0.00000000e+00,  0.00000000e+00,\n",
       "        0.00000000e+00,  0.00000000e+00,  0.00000000e+00,  0.00000000e+00,\n",
       "        0.00000000e+00,  0.00000000e+00,  0.00000000e+00,  0.00000000e+00,\n",
       "        0.00000000e+00,  0.00000000e+00,  0.00000000e+00,  0.00000000e+00,\n",
       "        0.00000000e+00,  0.00000000e+00,  0.00000000e+00,  0.00000000e+00,\n",
       "        0.00000000e+00,  0.00000000e+00,  0.00000000e+00,  0.00000000e+00,\n",
       "        0.00000000e+00,  0.00000000e+00,  0.00000000e+00,  0.00000000e+00,\n",
       "        0.00000000e+00,  0.00000000e+00,  0.00000000e+00,  0.00000000e+00,\n",
       "        0.00000000e+00,  0.00000000e+00,  0.00000000e+00,  0.00000000e+00,\n",
       "        0.00000000e+00,  0.00000000e+00,  0.00000000e+00,  0.00000000e+00,\n",
       "        0.00000000e+00,  0.00000000e+00,  0.00000000e+00,  0.00000000e+00,\n",
       "        0.00000000e+00,  0.00000000e+00,  0.00000000e+00,  0.00000000e+00,\n",
       "        0.00000000e+00,  0.00000000e+00,  0.00000000e+00,  0.00000000e+00,\n",
       "        0.00000000e+00,  0.00000000e+00,  0.00000000e+00,  0.00000000e+00,\n",
       "        0.00000000e+00,  0.00000000e+00,  0.00000000e+00,  0.00000000e+00,\n",
       "        0.00000000e+00,  0.00000000e+00,  0.00000000e+00,  0.00000000e+00,\n",
       "        0.00000000e+00,  0.00000000e+00,  0.00000000e+00,  0.00000000e+00,\n",
       "        0.00000000e+00,  0.00000000e+00,  0.00000000e+00,  0.00000000e+00,\n",
       "        0.00000000e+00,  0.00000000e+00,  0.00000000e+00,  0.00000000e+00,\n",
       "        0.00000000e+00,  0.00000000e+00,  0.00000000e+00,  0.00000000e+00,\n",
       "        0.00000000e+00,  0.00000000e+00,  0.00000000e+00,  0.00000000e+00,\n",
       "        0.00000000e+00,  0.00000000e+00,  0.00000000e+00,  0.00000000e+00,\n",
       "        0.00000000e+00,  0.00000000e+00,  0.00000000e+00,  0.00000000e+00,\n",
       "        0.00000000e+00,  0.00000000e+00,  0.00000000e+00,  0.00000000e+00,\n",
       "        0.00000000e+00,  0.00000000e+00,  0.00000000e+00,  0.00000000e+00,\n",
       "        0.00000000e+00,  0.00000000e+00,  0.00000000e+00,  0.00000000e+00,\n",
       "        0.00000000e+00,  0.00000000e+00,  0.00000000e+00,  0.00000000e+00,\n",
       "        0.00000000e+00,  0.00000000e+00,  0.00000000e+00,  0.00000000e+00,\n",
       "        0.00000000e+00,  0.00000000e+00,  0.00000000e+00,  0.00000000e+00,\n",
       "        0.00000000e+00,  0.00000000e+00,  0.00000000e+00,  0.00000000e+00,\n",
       "        0.00000000e+00,  0.00000000e+00,  0.00000000e+00,  0.00000000e+00,\n",
       "        0.00000000e+00,  0.00000000e+00,  0.00000000e+00,  0.00000000e+00,\n",
       "        0.00000000e+00,  0.00000000e+00,  0.00000000e+00,  0.00000000e+00,\n",
       "        0.00000000e+00,  0.00000000e+00,  0.00000000e+00,  0.00000000e+00,\n",
       "        0.00000000e+00,  0.00000000e+00,  0.00000000e+00,  0.00000000e+00,\n",
       "        0.00000000e+00,  0.00000000e+00,  0.00000000e+00,  0.00000000e+00,\n",
       "        0.00000000e+00,  0.00000000e+00,  0.00000000e+00,  0.00000000e+00,\n",
       "        0.00000000e+00,  0.00000000e+00,  0.00000000e+00,  0.00000000e+00,\n",
       "        0.00000000e+00,  0.00000000e+00,  0.00000000e+00,  0.00000000e+00,\n",
       "        0.00000000e+00,  0.00000000e+00,  0.00000000e+00,  0.00000000e+00,\n",
       "        0.00000000e+00,  0.00000000e+00,  0.00000000e+00,  0.00000000e+00,\n",
       "        0.00000000e+00,  0.00000000e+00,  0.00000000e+00,  0.00000000e+00,\n",
       "        0.00000000e+00,  0.00000000e+00,  0.00000000e+00,  0.00000000e+00,\n",
       "        0.00000000e+00,  0.00000000e+00,  0.00000000e+00,  0.00000000e+00,\n",
       "        0.00000000e+00,  0.00000000e+00,  0.00000000e+00,  0.00000000e+00,\n",
       "       -2.87783220e-02, -4.40983959e-02, -5.37026078e-02, -8.72862563e-02,\n",
       "       -1.14869058e-01, -2.08670095e-01, -2.11581185e-01, -2.25784168e-01,\n",
       "       -2.38936990e-01, -2.48440295e-01, -2.81175494e-01, -2.88016975e-01,\n",
       "       -2.88281351e-01, -3.10936481e-01, -3.20880949e-01, -3.27384472e-01,\n",
       "       -3.65453511e-01, -3.67615074e-01, -4.65626091e-01, -4.99667972e-01,\n",
       "       -5.38824975e-01, -5.62547863e-01, -5.63927770e-01, -5.96941829e-01,\n",
       "       -6.19170189e-01, -6.29627287e-01, -6.50851548e-01, -6.72010303e-01,\n",
       "       -6.85285807e-01, -7.19531834e-01, -7.32840061e-01, -7.53480434e-01,\n",
       "       -7.58337140e-01, -7.58579612e-01, -7.59580314e-01, -7.59919822e-01,\n",
       "       -7.75331557e-01, -8.26486707e-01, -8.33692729e-01, -8.71947289e-01,\n",
       "       -8.86231244e-01, -8.86347830e-01, -9.60431218e-01, -1.00000000e+00,\n",
       "       -1.00000000e+00, -1.00000000e+00, -1.00000000e+00, -1.00000000e+00,\n",
       "       -1.00000000e+00, -1.00000000e+00, -1.00000000e+00, -1.00000000e+00,\n",
       "       -1.00000000e+00, -1.00000000e+00, -1.00000000e+00, -1.00000000e+00,\n",
       "       -1.00000000e+00, -1.00000000e+00, -1.00000000e+00, -1.00000000e+00,\n",
       "       -1.00000000e+00, -1.00000000e+00, -1.00000000e+00, -1.00000000e+00,\n",
       "       -1.00000000e+00, -1.00000000e+00, -1.00000000e+00, -1.00000000e+00,\n",
       "       -1.00000000e+00, -1.00000000e+00, -1.00000000e+00, -1.00000000e+00,\n",
       "       -1.00000000e+00, -1.00000000e+00, -1.00000000e+00, -1.00000000e+00,\n",
       "       -1.00000000e+00, -1.00000000e+00, -1.00000000e+00, -1.00000000e+00,\n",
       "       -1.00000000e+00, -1.00000000e+00, -1.00000000e+00, -1.00000000e+00,\n",
       "       -1.00000000e+00, -1.00000000e+00, -1.00000000e+00, -1.00000000e+00,\n",
       "       -1.00000000e+00, -1.00000000e+00, -1.00000000e+00, -1.00000000e+00,\n",
       "       -1.00000000e+00, -1.00000000e+00, -1.00000000e+00, -1.00000000e+00,\n",
       "       -1.00000000e+00, -1.00000000e+00, -1.00000000e+00, -1.00000000e+00,\n",
       "       -1.00000000e+00, -1.00000000e+00, -1.00000000e+00, -1.00000000e+00,\n",
       "       -1.00000000e+00, -1.00000000e+00, -1.00000000e+00, -1.00000000e+00,\n",
       "       -1.00000000e+00, -1.00000000e+00, -1.00000000e+00, -1.00000000e+00,\n",
       "       -1.00000000e+00, -1.00000000e+00, -1.00000000e+00, -1.00000000e+00,\n",
       "       -1.00000000e+00, -1.00000000e+00, -1.00000000e+00, -1.00000000e+00,\n",
       "       -1.00000000e+00, -1.00000000e+00, -1.00000000e+00, -1.00000000e+00,\n",
       "       -1.00000000e+00, -1.00000000e+00, -1.00000000e+00, -1.00000000e+00,\n",
       "       -1.00000000e+00, -1.00000000e+00, -1.00000000e+00, -1.00000000e+00,\n",
       "       -1.00000000e+00, -1.00000000e+00, -1.00000000e+00, -1.00000000e+00,\n",
       "       -1.00000000e+00, -1.00000000e+00, -1.00000000e+00, -1.00000000e+00,\n",
       "       -1.00000000e+00, -1.00000000e+00, -1.02963936e+00, -1.03070688e+00,\n",
       "       -1.03382909e+00, -1.04125381e+00, -1.04304409e+00, -1.09267354e+00,\n",
       "       -1.12303400e+00, -1.12390065e+00, -1.16641760e+00, -1.22392774e+00,\n",
       "       -1.29994869e+00, -1.31459534e+00, -1.33032954e+00, -1.33231735e+00,\n",
       "       -1.34306431e+00, -1.38720322e+00, -1.39082551e+00, -1.39248347e+00,\n",
       "       -1.39701366e+00, -1.39716530e+00, -1.39906597e+00, -1.40198970e+00,\n",
       "       -1.40261269e+00, -1.40406549e+00, -1.40429342e+00, -1.40657341e+00,\n",
       "       -1.40750730e+00, -1.40751469e+00, -1.40755153e+00, -1.40834820e+00,\n",
       "       -1.40899765e+00, -1.40924907e+00, -1.40983391e+00, -1.41016185e+00,\n",
       "       -1.41068351e+00, -1.41075528e+00, -1.41205442e+00, -1.41208410e+00,\n",
       "       -1.41217077e+00, -1.41217995e+00, -1.41223383e+00, -1.41225505e+00,\n",
       "       -1.41281664e+00, -1.41282582e+00, -1.41283703e+00, -1.41310799e+00,\n",
       "       -1.41310954e+00, -1.41325188e+00, -1.41326725e+00, -1.41343772e+00,\n",
       "       -1.41347551e+00, -1.41352642e+00, -1.41372001e+00, -1.41386127e+00,\n",
       "       -1.41405475e+00, -1.41407681e+00, -1.41410387e+00, -1.41412854e+00,\n",
       "       -1.41417551e+00, -1.41418469e+00, -1.41421497e+00, -1.41421819e+00,\n",
       "       -1.41421843e+00, -1.41422033e+00, -1.41423345e+00, -1.41424012e+00,\n",
       "       -1.41424251e+00, -1.41424847e+00, -1.41424954e+00, -1.50138402e+00,\n",
       "       -1.57152426e+00, -1.58698142e+00, -1.59067953e+00, -1.59846807e+00,\n",
       "       -1.60971892e+00, -1.63376558e+00, -1.66896486e+00, -1.68593407e+00,\n",
       "       -1.69087267e+00, -1.71158433e+00, -1.71175146e+00, -1.71649837e+00,\n",
       "       -1.71712720e+00, -1.71936798e+00, -1.72107100e+00, -1.72378349e+00,\n",
       "       -1.72419322e+00, -1.72472513e+00, -1.72520041e+00, -1.72522414e+00,\n",
       "       -1.72585964e+00, -1.72611701e+00, -1.72613752e+00, -1.72616386e+00,\n",
       "       -1.72640991e+00, -1.72665739e+00, -1.72725916e+00, -1.72778094e+00,\n",
       "       -1.72783732e+00, -1.72824013e+00, -1.72826076e+00, -1.72882605e+00,\n",
       "       -1.72893345e+00, -1.72907162e+00, -1.72923100e+00, -1.72983599e+00,\n",
       "       -1.73043847e+00, -1.73147702e+00, -1.73153377e+00, -1.73197448e+00,\n",
       "       -1.74180603e+00, -1.89196265e+00, -1.89497936e+00, -1.91303360e+00,\n",
       "       -1.93478382e+00, -1.94932473e+00, -1.96137869e+00, -1.96724784e+00,\n",
       "       -1.97434247e+00, -1.97980738e+00, -1.98181415e+00, -1.98380721e+00,\n",
       "       -1.98392594e+00, -1.98501396e+00, -1.98801434e+00, -1.98909104e+00,\n",
       "       -1.99008894e+00, -1.99077106e+00, -1.99132311e+00, -1.99157619e+00,\n",
       "       -1.99180257e+00, -1.99195218e+00, -1.99203730e+00, -1.99301887e+00,\n",
       "       -1.99401724e+00, -1.99475706e+00, -1.99515295e+00, -1.99535024e+00,\n",
       "       -1.99596059e+00, -1.99610841e+00, -1.99623370e+00, -1.99644732e+00,\n",
       "       -1.99770594e+00, -1.99825680e+00, -1.99870300e+00, -1.99903440e+00,\n",
       "       -1.99968028e+00, -1.99971926e+00, -2.04519892e+00, -2.06210518e+00,\n",
       "       -2.14178109e+00, -2.20893979e+00, -2.21498990e+00, -2.21630502e+00,\n",
       "       -2.21644378e+00, -2.22139406e+00, -2.22376609e+00, -2.22452497e+00,\n",
       "       -2.22562337e+00, -2.22630119e+00, -2.22700500e+00, -2.22822785e+00,\n",
       "       -2.22957206e+00, -2.23072767e+00, -2.23106790e+00, -2.23116255e+00,\n",
       "       -2.23184705e+00, -2.23263407e+00, -2.23269582e+00, -2.23381329e+00,\n",
       "       -2.23586655e+00, -2.32190847e+00, -2.33876157e+00, -2.36472607e+00,\n",
       "       -2.38964176e+00, -2.40803123e+00, -2.43443704e+00, -2.43456197e+00,\n",
       "       -2.43879628e+00, -2.43916321e+00, -2.44128203e+00, -2.44149446e+00,\n",
       "       -2.44160771e+00, -2.44279814e+00, -2.44412208e+00, -2.44541264e+00,\n",
       "       -2.44610834e+00, -2.44781995e+00, -2.44808435e+00, -2.44816232e+00,\n",
       "       -2.46282911e+00, -2.51527858e+00, -2.53864384e+00, -2.60979605e+00,\n",
       "       -2.62142658e+00, -2.63008332e+00, -2.63125300e+00, -2.63368654e+00,\n",
       "       -2.63761091e+00, -2.63777733e+00, -2.63825274e+00, -2.63965654e+00,\n",
       "       -2.64137506e+00, -2.64258552e+00, -2.64374638e+00, -2.68662071e+00,\n",
       "       -2.74039745e+00, -2.77358389e+00, -2.80389452e+00, -2.80624700e+00,\n",
       "       -2.80800223e+00, -2.81059051e+00, -2.81342530e+00, -2.81402993e+00,\n",
       "       -2.81868839e+00, -2.81933928e+00, -2.82101822e+00, -2.82329965e+00,\n",
       "       -2.82385087e+00, -2.82592225e+00, -2.82604718e+00, -2.84208798e+00,\n",
       "       -2.96536303e+00, -2.97184825e+00, -2.97527719e+00, -2.97714925e+00,\n",
       "       -2.97838783e+00, -2.98003983e+00, -2.98341417e+00, -2.98491120e+00,\n",
       "       -2.98641109e+00, -2.99142551e+00, -2.99811864e+00, -3.08536792e+00,\n",
       "       -3.14661407e+00, -3.14979911e+00, -3.15131116e+00, -3.15162206e+00,\n",
       "       -3.15721369e+00, -3.15971923e+00, -3.28578424e+00, -3.28603148e+00,\n",
       "       -3.29706001e+00, -3.29882455e+00, -3.30134106e+00, -3.30917454e+00,\n",
       "       -3.40247822e+00, -3.42876625e+00, -3.44596839e+00, -3.44638538e+00,\n",
       "       -3.45861530e+00, -3.45994496e+00, -3.51424432e+00, -3.56073880e+00,\n",
       "       -3.57040310e+00, -3.58174777e+00, -3.58261204e+00, -3.58270717e+00,\n",
       "       -3.58278608e+00, -3.58397150e+00, -3.58778787e+00, -3.59219098e+00,\n",
       "       -3.59370613e+00, -3.59482837e+00, -3.59776545e+00, -3.71220183e+00,\n",
       "       -3.71666312e+00, -3.71781826e+00, -3.72450924e+00, -3.72594714e+00,\n",
       "       -3.72811556e+00, -3.72926903e+00, -3.73302650e+00, -3.82370949e+00,\n",
       "       -3.83640146e+00, -3.85243726e+00, -3.85491943e+00, -3.86201930e+00,\n",
       "       -3.86238718e+00, -3.86361551e+00, -3.86924815e+00, -3.98993039e+00,\n",
       "       -3.99560499e+00, -4.02436590e+00, -4.09230375e+00, -4.10673761e+00,\n",
       "       -4.20369911e+00, -4.22589970e+00, -4.22928190e+00, -4.23164320e+00,\n",
       "       -4.25944853e+00, -4.33843708e+00, -4.34065342e+00, -4.34375715e+00,\n",
       "       -4.35165977e+00, -4.43836069e+00, -4.45157766e+00, -4.54748154e+00,\n",
       "       -4.56925344e+00, -4.57426167e+00, -4.65312290e+00, -4.66408968e+00,\n",
       "       -4.67125416e+00, -4.67485714e+00, -4.67782068e+00, -4.74620628e+00,\n",
       "       -4.76830673e+00, -4.76889277e+00, -4.77517509e+00, -4.77549124e+00,\n",
       "       -4.83063650e+00, -4.85640907e+00, -4.87022638e+00, -4.87362719e+00,\n",
       "       -4.88497877e+00, -4.88848639e+00, -5.07596827e+00, -5.16043472e+00,\n",
       "       -5.16226482e+00, -5.16498947e+00, -5.26847696e+00, -5.27435160e+00,\n",
       "       -5.27886724e+00, -5.27910328e+00, -5.29293871e+00, -5.32276630e+00,\n",
       "       -5.36500692e+00, -5.37693262e+00, -5.37815428e+00, -5.43319035e+00,\n",
       "       -5.43913460e+00, -5.45825768e+00, -5.62707996e+00, -5.63517141e+00,\n",
       "       -5.63852262e+00, -5.63965702e+00, -5.71733284e+00, -5.73612165e+00,\n",
       "       -5.74336100e+00, -5.78365803e+00, -5.79002333e+00, -5.80967712e+00,\n",
       "       -5.91999960e+00, -5.97232580e+00, -5.97895336e+00, -6.03654671e+00,\n",
       "       -6.05366087e+00, -6.06758690e+00, -6.07663250e+00, -6.12363768e+00,\n",
       "       -6.14196396e+00, -6.19660950e+00, -6.19726038e+00, -6.22055960e+00,\n",
       "       -6.22997141e+00, -6.23466158e+00, -6.30004072e+00, -6.30010462e+00,\n",
       "       -6.34305429e+00, -6.37108898e+00, -6.37441730e+00, -6.38820219e+00,\n",
       "       -6.44276762e+00, -6.46077633e+00, -6.57150459e+00, -6.60679436e+00,\n",
       "       -6.73326731e+00, -6.76945496e+00, -6.77225161e+00, -6.88152838e+00,\n",
       "       -6.95434666e+00, -7.09289265e+00, -7.12668657e+00, -7.27220154e+00,\n",
       "       -7.61955357e+00, -7.77096605e+00, -7.96479607e+00, -8.07499790e+00,\n",
       "       -8.09695911e+00, -8.28392220e+00, -8.61355019e+00, -8.63773251e+00,\n",
       "       -8.79753494e+00, -8.94024563e+00, -8.96461296e+00, -8.98282623e+00,\n",
       "       -9.26283264e+00, -9.41658401e+00, -9.73002052e+00, -9.78552818e+00,\n",
       "       -9.85551071e+00, -1.00852051e+01, -1.03930464e+01, -1.05340605e+01,\n",
       "       -1.08870306e+01, -1.14333620e+01, -1.14436131e+01, -1.16420116e+01,\n",
       "       -1.17204380e+01, -1.19185810e+01, -1.23480844e+01, -1.24076777e+01,\n",
       "       -1.24533653e+01, -1.29679251e+01, -1.50340834e+01, -1.58445807e+01,\n",
       "       -1.65307617e+01, -1.67637062e+01, -1.68862877e+01, -2.03908081e+01,\n",
       "       -2.05508671e+01, -2.19722958e+01, -2.39411106e+01, -2.61769772e+01],\n",
       "      dtype=float32)"
      ]
     },
     "execution_count": 105,
     "metadata": {},
     "output_type": "execute_result"
    }
   ],
   "source": [
    "adata.uns['rank_genes_groups']['scores']['B cell']"
   ]
  },
  {
   "cell_type": "code",
   "execution_count": 109,
   "metadata": {},
   "outputs": [
    {
     "data": {
      "text/plain": [
       "array([ 5.2094507e+00,  4.8909335e+00,  2.8564801e+00,  2.3101621e+00,\n",
       "        2.3332534e+00,  2.5318687e+00,  2.1926687e+00,  2.7848787e+00,\n",
       "        2.0098469e+00,  1.6829197e+00,  1.8435516e+00,  1.5641372e+00,\n",
       "        3.8566883e+00,  1.4610239e+00,  1.2858261e+00,  1.2994709e+00,\n",
       "        1.2295771e+00,  1.2332904e+00,  1.4777619e+00,  1.9577641e+00,\n",
       "        4.0750661e+00,  1.2231256e+00,  1.9953816e+00,  1.2196643e+00,\n",
       "        1.4211061e+00,  1.1131777e+00,  1.3143189e+00,  1.3172687e+00,\n",
       "        1.4634844e+00,  8.8572782e-01,  1.7527899e+00,  1.4204648e+00,\n",
       "        1.7760317e+00,  8.0562890e-01,  7.0459825e-01,  1.4335918e+00,\n",
       "        5.8261824e-01,  1.8081175e+00,  1.0666671e+00,  5.7121527e-01,\n",
       "        2.1054552e+00,  5.4306853e-01,  1.6674036e+00,  5.6704587e-01,\n",
       "        1.3554325e+00,  1.2369736e+00,  2.1650369e+00,  2.0095432e+00,\n",
       "        1.6270305e+00,  1.9844443e+00,  4.8799771e-01,  7.7658045e-01,\n",
       "        2.5273359e+01,  2.2831244e+00,  1.2996391e+00,  9.2486668e-01,\n",
       "        4.4257960e-01,  1.4631200e+00,  1.2039373e+00,  1.8434767e+00,\n",
       "        2.9659650e+00,  2.8717508e+00,  2.5895188e+00,  3.5805088e-01,\n",
       "        2.5673544e+00,  3.3843899e-01,  1.4388369e+00,  1.9939238e+00,\n",
       "        7.0992339e-01,  1.0865043e+00,  1.8075958e+00,  2.4230671e+01,\n",
       "        2.4158821e+01,  1.2451385e+00,  5.4914970e+00,  1.7255211e+00,\n",
       "        5.4025464e+00,  5.2775841e+00,  5.2066469e+00,  1.7040759e+00,\n",
       "        8.4936655e-01,  1.6857710e+00,  4.6803107e+00,  1.1894813e+00,\n",
       "        4.5123868e+00,  4.5079250e+00,  1.1804681e+00,  4.4026980e+00,\n",
       "        9.5916510e-01,  4.1027007e+00,  4.6147093e-01,  3.8478575e+00,\n",
       "        3.8094733e+00,  3.6207552e+00,  3.5189147e+00,  3.3105557e+00,\n",
       "        1.4501683e+00,  8.6894184e-01,  3.1167321e+00,  6.6905677e-01,\n",
       "        2.8836434e+00,  6.5050977e-01,  4.6642628e-01,  2.7028773e+00,\n",
       "        5.6862491e-01,  2.5120392e+00,  2.4904811e+00,  1.2521284e+00,\n",
       "        2.3718994e+00,  1.2271451e+00,  1.2157952e+00,  2.2855134e+00,\n",
       "        2.1258419e+00,  5.6183040e-01,  2.0436103e+00,  1.8912262e+00,\n",
       "        1.8349192e+00,  1.8351208e+00,  1.0350139e+00,  1.8241549e+00,\n",
       "        7.8872418e-01,  1.8129339e+00,  1.8049309e+00,  1.7667276e+00,\n",
       "        5.0979114e-01,  3.6648333e-01,  1.6801325e+00,  1.5988592e+00,\n",
       "        7.0517504e-01,  4.3429184e-01,  1.5252874e+00,  1.5160693e+00,\n",
       "        8.6353987e-01,  1.3394223e+00,  8.0995071e-01,  1.8731634e-01,\n",
       "        5.8726203e-01,  1.1653783e+00,  1.1628673e+00,  7.1975952e-01,\n",
       "        3.1333521e-01,  2.2132319e-01,  6.5234041e-01,  6.4520645e-01,\n",
       "        6.3496965e-01,  6.0244435e-01,  9.3161857e-01,  9.2268944e-01,\n",
       "        3.8632774e-01,  3.0593857e-01,  8.4923375e-01,  8.3798027e-01,\n",
       "        8.3842182e-01,  8.2799178e-01,  7.4074811e-01,  4.7697687e-01,\n",
       "        2.6263234e-01,  4.0936682e-01,  5.8684546e-01,  5.6873512e-01,\n",
       "        5.4317385e-01,  2.2993883e-01,  4.7806078e-01,  4.6667579e-01,\n",
       "        7.6574154e-02,  2.8520024e-01,  4.1095966e-01,  1.9255090e-01,\n",
       "        2.4876849e-01,  3.4003025e-01,  3.3487645e-01,  3.3112243e-01,\n",
       "        3.1247315e-01,  3.1209126e-01,  1.0847656e-01,  1.0907695e-01,\n",
       "        2.3564173e-01,  1.9975831e-01,  1.8474375e-01,  2.9673291e-02,\n",
       "        1.4437006e-01,  2.0160772e-02,  7.1878113e-02,  3.6211297e-02,\n",
       "        4.7987230e-02,  4.7519658e-02,  2.4562296e-03,  0.0000000e+00,\n",
       "        0.0000000e+00,  0.0000000e+00,  0.0000000e+00,  0.0000000e+00,\n",
       "        0.0000000e+00,  0.0000000e+00,  0.0000000e+00,  0.0000000e+00,\n",
       "        0.0000000e+00,  0.0000000e+00,  0.0000000e+00,  0.0000000e+00,\n",
       "        0.0000000e+00,  0.0000000e+00,  0.0000000e+00,  0.0000000e+00,\n",
       "        0.0000000e+00,  0.0000000e+00,  0.0000000e+00,  0.0000000e+00,\n",
       "        0.0000000e+00,  0.0000000e+00,  0.0000000e+00,  0.0000000e+00,\n",
       "        0.0000000e+00,  0.0000000e+00,  0.0000000e+00,  0.0000000e+00,\n",
       "        0.0000000e+00,  0.0000000e+00,  0.0000000e+00,  0.0000000e+00,\n",
       "        0.0000000e+00,  0.0000000e+00,  0.0000000e+00,  0.0000000e+00,\n",
       "        0.0000000e+00,  0.0000000e+00,  0.0000000e+00,  0.0000000e+00,\n",
       "        0.0000000e+00,  0.0000000e+00,  0.0000000e+00,  0.0000000e+00,\n",
       "        0.0000000e+00,  0.0000000e+00,  0.0000000e+00,  0.0000000e+00,\n",
       "        0.0000000e+00,  0.0000000e+00,  0.0000000e+00,  0.0000000e+00,\n",
       "        0.0000000e+00,  0.0000000e+00,  0.0000000e+00,  0.0000000e+00,\n",
       "        0.0000000e+00,  0.0000000e+00,  0.0000000e+00,  0.0000000e+00,\n",
       "        0.0000000e+00,  0.0000000e+00,  0.0000000e+00,  0.0000000e+00,\n",
       "        0.0000000e+00,  0.0000000e+00,  0.0000000e+00,  0.0000000e+00,\n",
       "        0.0000000e+00,  0.0000000e+00,  0.0000000e+00,  0.0000000e+00,\n",
       "        0.0000000e+00,  0.0000000e+00,  0.0000000e+00,  0.0000000e+00,\n",
       "        0.0000000e+00,  0.0000000e+00,  0.0000000e+00,  0.0000000e+00,\n",
       "        0.0000000e+00,  0.0000000e+00,  0.0000000e+00,  0.0000000e+00,\n",
       "        0.0000000e+00,  0.0000000e+00,  0.0000000e+00,  0.0000000e+00,\n",
       "        0.0000000e+00,  0.0000000e+00,  0.0000000e+00,  0.0000000e+00,\n",
       "        0.0000000e+00,  0.0000000e+00,  0.0000000e+00,  0.0000000e+00,\n",
       "        0.0000000e+00,  0.0000000e+00,  0.0000000e+00,  0.0000000e+00,\n",
       "        0.0000000e+00,  0.0000000e+00,  0.0000000e+00,  0.0000000e+00,\n",
       "        0.0000000e+00,  0.0000000e+00,  0.0000000e+00,  0.0000000e+00,\n",
       "        0.0000000e+00,  0.0000000e+00,  0.0000000e+00,  0.0000000e+00,\n",
       "        0.0000000e+00,  0.0000000e+00,  0.0000000e+00,  0.0000000e+00,\n",
       "        0.0000000e+00,  0.0000000e+00,  0.0000000e+00,  0.0000000e+00,\n",
       "        0.0000000e+00,  0.0000000e+00,  0.0000000e+00,  0.0000000e+00,\n",
       "        0.0000000e+00,  0.0000000e+00,  0.0000000e+00,  0.0000000e+00,\n",
       "        0.0000000e+00,  0.0000000e+00,  0.0000000e+00,  0.0000000e+00,\n",
       "        0.0000000e+00,  0.0000000e+00,  0.0000000e+00,  0.0000000e+00,\n",
       "        0.0000000e+00,  0.0000000e+00,  0.0000000e+00,  0.0000000e+00,\n",
       "        0.0000000e+00,  0.0000000e+00,  0.0000000e+00,  0.0000000e+00,\n",
       "        0.0000000e+00,  0.0000000e+00,  0.0000000e+00,  0.0000000e+00,\n",
       "        0.0000000e+00,  0.0000000e+00,  0.0000000e+00,  0.0000000e+00,\n",
       "        0.0000000e+00,  0.0000000e+00,  0.0000000e+00,  0.0000000e+00,\n",
       "        0.0000000e+00,  0.0000000e+00,  0.0000000e+00,  0.0000000e+00,\n",
       "        0.0000000e+00,  0.0000000e+00,  0.0000000e+00,  0.0000000e+00,\n",
       "        0.0000000e+00,  0.0000000e+00,  0.0000000e+00,  0.0000000e+00,\n",
       "        0.0000000e+00,  0.0000000e+00,  0.0000000e+00,  0.0000000e+00,\n",
       "        0.0000000e+00,  0.0000000e+00,  0.0000000e+00,  0.0000000e+00,\n",
       "        0.0000000e+00,  0.0000000e+00,  0.0000000e+00,  0.0000000e+00,\n",
       "        0.0000000e+00,  0.0000000e+00,  0.0000000e+00,  0.0000000e+00,\n",
       "        0.0000000e+00,  0.0000000e+00,  0.0000000e+00,  0.0000000e+00,\n",
       "        0.0000000e+00,  0.0000000e+00,  0.0000000e+00,  0.0000000e+00,\n",
       "        0.0000000e+00,  0.0000000e+00,  0.0000000e+00,  0.0000000e+00,\n",
       "        0.0000000e+00,  0.0000000e+00,  0.0000000e+00,  0.0000000e+00,\n",
       "        0.0000000e+00,  0.0000000e+00,  0.0000000e+00,  0.0000000e+00,\n",
       "        0.0000000e+00,  0.0000000e+00,  0.0000000e+00,  0.0000000e+00,\n",
       "        0.0000000e+00,  0.0000000e+00,  0.0000000e+00,  0.0000000e+00,\n",
       "        0.0000000e+00,  0.0000000e+00,  0.0000000e+00,  0.0000000e+00,\n",
       "        0.0000000e+00,  0.0000000e+00,  0.0000000e+00,  0.0000000e+00,\n",
       "        0.0000000e+00,  0.0000000e+00,  0.0000000e+00,  0.0000000e+00,\n",
       "        0.0000000e+00,  0.0000000e+00,  0.0000000e+00,  0.0000000e+00,\n",
       "        0.0000000e+00,  0.0000000e+00,  0.0000000e+00,  0.0000000e+00,\n",
       "        0.0000000e+00,  0.0000000e+00,  0.0000000e+00,  0.0000000e+00,\n",
       "        0.0000000e+00,  0.0000000e+00,  0.0000000e+00,  0.0000000e+00,\n",
       "        0.0000000e+00,  0.0000000e+00,  0.0000000e+00,  0.0000000e+00,\n",
       "        0.0000000e+00,  0.0000000e+00,  0.0000000e+00,  0.0000000e+00,\n",
       "        0.0000000e+00,  0.0000000e+00,  0.0000000e+00,  0.0000000e+00,\n",
       "        0.0000000e+00,  0.0000000e+00,  0.0000000e+00,  0.0000000e+00,\n",
       "       -2.4747746e-02, -4.5571614e-02, -7.7109694e-02, -2.6122473e-02,\n",
       "       -5.9241503e-02, -2.7983835e-01, -2.8322613e-01, -7.6963954e-02,\n",
       "       -2.3248444e-01, -3.2744119e-01, -1.0128692e-01, -3.7383321e-01,\n",
       "       -3.7359801e-01, -1.6376857e-01, -1.0860824e-01, -1.3230385e-01,\n",
       "       -2.5525329e-01, -1.5493765e-01, -2.9057559e-01, -3.3948424e-01,\n",
       "       -6.3751918e-01, -3.2076883e-01, -6.6220659e-01, -6.9339275e-01,\n",
       "       -1.9838764e-01, -7.2385329e-01, -7.4407810e-01, -2.1725416e-01,\n",
       "       -4.4883606e-01, -2.1303849e-01, -4.3794888e-01, -2.3414619e-01,\n",
       "       -6.4278424e-01, -8.3686298e-01, -8.3813798e-01, -2.6873365e-01,\n",
       "       -5.5904150e-01, -5.8948529e-01, -2.4389771e-01, -2.6418328e-01,\n",
       "       -9.4210368e-01, -2.8994602e-01, -4.8689157e-01, -1.8901571e+01,\n",
       "       -1.8709997e+01, -1.8831741e+01, -1.8581379e+01, -1.8733866e+01,\n",
       "       -1.8831741e+01, -1.8709997e+01, -1.8682117e+01, -1.8831741e+01,\n",
       "       -1.8382782e+01, -1.8709997e+01, -1.8831741e+01, -1.8751604e+01,\n",
       "       -1.8831741e+01, -1.8682117e+01, -1.8581379e+01, -1.8751604e+01,\n",
       "       -1.8781792e+01, -1.8519032e+01, -1.8781792e+01, -1.8565924e+01,\n",
       "       -1.8522074e+01, -1.8245731e+01, -1.8555010e+01, -1.8602394e+01,\n",
       "       -1.8245731e+01, -1.8504396e+01, -1.8338820e+01, -1.8625719e+01,\n",
       "       -1.8246759e+01, -1.8522074e+01, -1.8565924e+01, -1.8761135e+01,\n",
       "       -1.8460590e+01, -1.8507250e+01, -1.8519032e+01, -1.8725578e+01,\n",
       "       -1.8761135e+01, -1.8585421e+01, -1.8625719e+01, -1.8548023e+01,\n",
       "       -1.8585421e+01, -1.8620842e+01, -1.8560400e+01, -1.8695566e+01,\n",
       "       -1.8725578e+01, -1.8598024e+01, -1.8513065e+01, -1.8338820e+01,\n",
       "       -1.9079140e+01, -1.8846750e+01, -1.8616077e+01, -1.8702648e+01,\n",
       "       -1.8349129e+01, -1.8635826e+01, -1.8761135e+01, -1.8702648e+01,\n",
       "       -1.8742529e+01, -1.8646452e+01, -1.8725578e+01, -1.8555010e+01,\n",
       "       -1.8528286e+01, -1.8602394e+01, -1.8528286e+01, -1.8817902e+01,\n",
       "       -1.8528286e+01, -1.8725578e+01, -1.8817902e+01, -1.8427683e+01,\n",
       "       -1.8630711e+01, -1.8781792e+01, -1.8669518e+01, -1.8462954e+01,\n",
       "       -1.8817902e+01, -1.8781792e+01, -1.8846750e+01, -1.8725578e+01,\n",
       "       -1.8496044e+01, -1.8742529e+01, -1.8555010e+01, -1.8771177e+01,\n",
       "       -1.8387974e+01, -1.8115345e+01, -1.8510139e+01, -1.8326132e+01,\n",
       "       -1.8419613e+01, -1.8771177e+01, -1.8231714e+01, -1.8688728e+01,\n",
       "       -1.8805052e+01, -1.8881290e+01, -1.8593740e+01, -1.8924637e+01,\n",
       "       -1.8688728e+01, -1.8688728e+01, -1.8881290e+01, -1.8805052e+01,\n",
       "       -1.8302439e+01, -1.8278341e+01, -1.0522361e+00, -5.4704499e-01,\n",
       "       -1.0557411e+00, -8.2909232e-01, -1.0631658e+00, -5.4538685e-01,\n",
       "       -1.1190531e+00, -3.4428242e-01, -1.1497817e+00, -4.2800155e-01,\n",
       "       -1.2390164e+00, -3.9907828e-01, -1.2611207e+00, -1.2610862e+00,\n",
       "       -5.9763187e-01, -1.9818274e+01, -1.9925013e+01, -1.9596256e+01,\n",
       "       -1.9582203e+01, -1.9465733e+01, -1.9572645e+01, -1.9554556e+01,\n",
       "       -1.9507208e+01, -1.9524622e+01, -1.9571535e+01, -1.9532423e+01,\n",
       "       -1.9697147e+01, -1.9790131e+01, -1.9506868e+01, -1.9755085e+01,\n",
       "       -1.9632290e+01, -1.9785086e+01, -1.9814972e+01, -1.9726089e+01,\n",
       "       -1.9747887e+01, -1.9653694e+01, -1.9664499e+01, -1.9470476e+01,\n",
       "       -1.9404167e+01, -1.9658054e+01, -1.9743080e+01, -1.9677156e+01,\n",
       "       -1.9707897e+01, -1.9818235e+01, -1.9755077e+01, -1.9537134e+01,\n",
       "       -1.9442209e+01, -1.9848671e+01, -1.9718653e+01, -1.9783957e+01,\n",
       "       -1.9276630e+01, -1.9403921e+01, -1.9703861e+01, -1.9468403e+01,\n",
       "       -1.9758347e+01, -1.9711781e+01, -1.9772799e+01, -1.9645027e+01,\n",
       "       -1.9345392e+01, -1.9650024e+01, -1.9631283e+01, -1.9621386e+01,\n",
       "       -1.9679457e+01, -1.9752178e+01, -1.9825171e+01, -1.9641443e+01,\n",
       "       -1.9611761e+01, -1.9579678e+01, -1.9552641e+01, -1.0901147e+00,\n",
       "       -1.1266332e+00, -6.8661046e-01, -1.1369855e+00, -7.8914893e-01,\n",
       "       -6.7048550e-01, -8.5182875e-01, -1.0287348e+00, -4.8700407e-01,\n",
       "       -2.0073427e+01, -2.0468168e+01, -2.0380781e+01, -2.0039017e+01,\n",
       "       -2.0220457e+01, -2.0163008e+01, -2.0046080e+01, -2.0151207e+01,\n",
       "       -2.0090347e+01, -2.0083593e+01, -6.0712665e-01, -2.0099718e+01,\n",
       "       -2.0255550e+01, -2.0270315e+01, -2.0285240e+01, -2.0205080e+01,\n",
       "       -2.0281244e+01, -2.0209301e+01, -2.0278091e+01, -2.0240471e+01,\n",
       "       -2.0252653e+01, -2.0291775e+01, -2.0180777e+01, -2.0296684e+01,\n",
       "       -2.0306347e+01, -2.0350288e+01, -2.0168024e+01, -2.0017021e+01,\n",
       "       -2.0240614e+01, -2.0379545e+01, -2.0223539e+01, -2.0329271e+01,\n",
       "       -9.6727806e-01, -5.3862363e-01, -1.0296383e+00, -7.3253310e-01,\n",
       "       -1.3043920e+00, -7.6309037e-01, -6.6626012e-01, -5.9764838e-01,\n",
       "       -2.0595667e+01, -2.0563654e+01, -2.0680798e+01, -2.0460331e+01,\n",
       "       -2.0518839e+01, -2.0617556e+01, -2.0649647e+01, -2.0684275e+01,\n",
       "       -2.0565184e+01, -2.0670250e+01, -2.0698299e+01, -2.0557384e+01,\n",
       "       -2.0541302e+01, -2.0691147e+01, -2.0570362e+01, -2.0703232e+01,\n",
       "       -2.0453636e+01, -2.0537275e+01, -2.0684429e+01, -2.0367159e+01,\n",
       "       -2.0564596e+01, -2.0559444e+01, -2.0575603e+01, -2.0603607e+01,\n",
       "       -2.0757351e+01, -2.0712423e+01, -2.0698692e+01, -2.0578051e+01,\n",
       "       -2.0658381e+01, -2.0706171e+01, -6.7158198e-01, -7.6402831e-01,\n",
       "       -7.5853682e-01, -2.0965300e+01, -2.0955616e+01, -6.4701355e-01,\n",
       "       -2.1045816e+01, -2.1145060e+01, -2.0895277e+01, -2.0922733e+01,\n",
       "       -2.0997915e+01, -2.0812447e+01, -2.0936110e+01, -2.0887074e+01,\n",
       "       -2.0946001e+01, -2.0922157e+01, -2.1050522e+01, -2.0956741e+01,\n",
       "       -2.0949926e+01, -2.0881023e+01, -2.0981638e+01, -2.0988859e+01,\n",
       "       -2.1051119e+01, -1.1975838e+00, -1.4823216e+00, -1.3220199e+00,\n",
       "       -1.1415360e+00, -2.1197634e+01, -2.1462420e+01, -2.1211655e+01,\n",
       "       -2.1239691e+01, -2.1297028e+01, -2.0986477e+01, -2.1333738e+01,\n",
       "       -2.1251160e+01, -2.1313433e+01, -2.1088137e+01, -2.1280676e+01,\n",
       "       -2.1191570e+01, -2.1282217e+01, -2.1298676e+01, -2.1404808e+01,\n",
       "       -8.4953570e-01, -1.8906648e+00, -7.5059974e-01, -2.1503901e+01,\n",
       "       -2.1312429e+01, -2.1391203e+01, -2.1463669e+01, -2.1513363e+01,\n",
       "       -2.1374790e+01, -2.1409204e+01, -2.1459818e+01, -2.1484327e+01,\n",
       "       -2.1491735e+01, -2.1486837e+01, -2.1527361e+01, -9.5495045e-01,\n",
       "       -8.1098920e-01, -1.9999657e+00, -2.1591501e+01, -2.1554350e+01,\n",
       "       -2.1651016e+01, -2.1643457e+01, -2.1629171e+01, -2.1618723e+01,\n",
       "       -2.1715099e+01, -2.1649620e+01, -2.1644934e+01, -2.1595795e+01,\n",
       "       -2.1726881e+01, -2.1666662e+01, -2.1692019e+01, -2.0267019e+00,\n",
       "       -2.2012602e+01, -2.1747761e+01, -2.1790165e+01, -2.1910131e+01,\n",
       "       -1.4241168e+00, -2.1787014e+01, -2.1850109e+01, -2.1782637e+01,\n",
       "       -2.1956623e+01, -2.1627249e+01, -1.1755373e+00, -2.1249261e+00,\n",
       "       -2.2023598e+01, -2.1909527e+01, -2.1909554e+01, -2.2187550e+01,\n",
       "       -2.1889601e+01, -2.2060089e+01, -2.2125135e+01, -2.2018091e+01,\n",
       "       -2.2192253e+01, -2.2104799e+01, -2.1852970e+01, -2.2033489e+01,\n",
       "       -1.3959301e+00, -2.2532902e+00, -2.2297846e+01, -2.2223976e+01,\n",
       "       -2.2054991e+01, -2.2281940e+01, -1.2241005e+00, -2.2433935e+01,\n",
       "       -2.2375431e+01, -2.2410833e+01, -2.2676039e+01, -2.2363291e+01,\n",
       "       -2.2238899e+01, -2.2349598e+01, -2.2372581e+01, -2.2150135e+01,\n",
       "       -2.2425707e+01, -2.2387026e+01, -2.2435228e+01, -2.2423887e+01,\n",
       "       -2.2466896e+01, -2.2432657e+01, -2.2469578e+01, -2.2469973e+01,\n",
       "       -2.2605310e+01, -2.2509762e+01, -2.2504021e+01, -2.2540964e+01,\n",
       "       -2.2532351e+01, -2.2526894e+01, -2.2497625e+01, -2.2622492e+01,\n",
       "       -2.2618151e+01, -2.2627275e+01, -2.2619661e+01, -2.2562485e+01,\n",
       "       -2.2720615e+01, -2.2648041e+01, -2.2751314e+01, -2.2690567e+01,\n",
       "       -1.1494478e+00, -2.2814465e+01, -2.2785189e+01, -2.2768780e+01,\n",
       "       -2.5244677e+00, -2.2941307e+01, -2.2927481e+01, -2.2893745e+01,\n",
       "       -2.3008505e+01, -1.2780054e+00, -2.2923018e+01, -2.3103769e+01,\n",
       "       -2.2981844e+01, -2.3129505e+01, -2.3013611e+01, -2.3066357e+01,\n",
       "       -2.3039415e+01, -2.3187906e+01, -2.3121935e+01, -1.3876477e+00,\n",
       "       -2.3219734e+01, -2.3006895e+01, -2.3208433e+01, -2.3119993e+01,\n",
       "       -1.5548263e+00, -2.3274191e+01, -2.3417297e+01, -2.3282253e+01,\n",
       "       -2.3339268e+01, -2.3315046e+01, -2.3363680e+01, -2.3842108e+00,\n",
       "       -2.3453047e+01, -2.3396893e+01, -2.3391802e+01, -2.3331596e+01,\n",
       "       -2.3496820e+01, -2.3394110e+01, -1.4610310e+00, -2.8195910e+00,\n",
       "       -2.3480303e+01, -2.3488419e+01, -2.3574982e+01, -2.3629959e+01,\n",
       "       -2.3540718e+01, -2.3592089e+01, -2.3783718e+01, -2.3690866e+01,\n",
       "       -2.3703825e+01, -2.3578878e+01, -2.3654959e+01, -2.3774046e+01,\n",
       "       -1.8729043e+00, -2.3556532e+01, -2.3590921e+01, -2.4115093e+01,\n",
       "       -2.1048505e+00, -2.3849777e+01, -2.3874023e+01, -2.3757082e+01,\n",
       "       -2.3897926e+01, -2.3790522e+01, -2.3951532e+01, -2.3908504e+01,\n",
       "       -2.4005985e+01, -2.3870802e+01, -2.3804770e+01, -2.3908487e+01,\n",
       "       -2.3920103e+01, -2.4030334e+01, -2.4005634e+01, -2.4036709e+01,\n",
       "       -2.3975510e+01, -2.1233137e+00, -1.8576046e+00, -1.9930955e+00,\n",
       "       -2.4049463e+01, -2.4006674e+01, -2.4113003e+01, -2.4173908e+01,\n",
       "       -2.4282364e+01, -2.4223225e+01, -2.4206005e+01, -2.4238140e+01,\n",
       "       -2.4158783e+01, -2.4283375e+01, -2.4265316e+01, -2.4443483e+01,\n",
       "       -1.9461745e+00, -2.4789846e+01, -3.4084356e+00, -2.4797079e+01,\n",
       "       -3.4688716e+00, -2.4782972e+01, -2.4986050e+01, -2.4988148e+01,\n",
       "       -2.3216403e+00, -2.2723548e+00, -2.9488075e+00, -2.5065125e+01,\n",
       "       -2.5104673e+01, -2.5175695e+01, -2.5257402e+01, -2.5307266e+01,\n",
       "       -2.3770292e+00, -2.5436388e+01, -2.5460443e+01, -2.5522589e+01,\n",
       "       -2.5633610e+01, -3.9970875e+00, -2.5748075e+01, -2.5680025e+01,\n",
       "       -2.5828115e+01, -2.5918602e+01, -2.6051222e+01, -2.6022276e+01,\n",
       "       -2.6025316e+01, -2.6118753e+01, -4.4953303e+00, -4.5910120e+00,\n",
       "       -2.6900354e+01, -2.6906544e+01, -2.6940544e+01, -2.7741039e+01,\n",
       "       -2.7549026e+01, -5.2657466e+00, -2.8046608e+01, -5.1543155e+00],\n",
       "      dtype=float32)"
      ]
     },
     "execution_count": 109,
     "metadata": {},
     "output_type": "execute_result"
    }
   ],
   "source": [
    "adata.uns['rank_genes_groups']['logfoldchanges']['B cell']"
   ]
  },
  {
   "cell_type": "code",
   "execution_count": 112,
   "metadata": {},
   "outputs": [
    {
     "data": {
      "text/plain": [
       "array(['ENSG00000265206', 'ENSG00000005471', 'ENSG00000114779',\n",
       "       'ENSG00000146386', 'ENSG00000146109', 'ENSG00000107362',\n",
       "       'ENSG00000164163', 'ENSG00000237513', 'ENSG00000099204',\n",
       "       'ENSG00000158122'], dtype=object)"
      ]
     },
     "execution_count": 112,
     "metadata": {},
     "output_type": "execute_result"
    }
   ],
   "source": [
    "adata.uns['rank_genes_groups']['names']['B cell'][:10]"
   ]
  },
  {
   "cell_type": "code",
   "execution_count": null,
   "metadata": {},
   "outputs": [],
   "source": []
  },
  {
   "cell_type": "code",
   "execution_count": null,
   "metadata": {},
   "outputs": [],
   "source": []
  },
  {
   "cell_type": "code",
   "execution_count": null,
   "metadata": {},
   "outputs": [],
   "source": []
  },
  {
   "cell_type": "code",
   "execution_count": 102,
   "metadata": {},
   "outputs": [
    {
     "data": {
      "text/plain": [
       "('B cell',\n",
       " 'CD4-positive, alpha-beta T cell',\n",
       " 'CD4-positive, alpha-beta memory T cell',\n",
       " 'CD8-positive, alpha-beta T cell',\n",
       " 'CD8-positive, alpha-beta cytokine secreting effector T cell',\n",
       " 'CD141-positive myeloid dendritic cell',\n",
       " 'T cell',\n",
       " 'basal cell',\n",
       " 'basophil',\n",
       " 'ciliated cell',\n",
       " 'classical monocyte',\n",
       " 'double-positive, alpha-beta thymocyte',\n",
       " 'endothelial cell',\n",
       " 'endothelial cell of hepatic sinusoid',\n",
       " 'erythrocyte',\n",
       " 'fibroblast',\n",
       " 'hematopoietic stem cell',\n",
       " 'hepatocyte',\n",
       " 'intrahepatic cholangiocyte',\n",
       " 'ionocyte',\n",
       " 'liver dendritic cell',\n",
       " 'macrophage',\n",
       " 'mast cell',\n",
       " 'mature NK T cell',\n",
       " 'memory B cell',\n",
       " 'monocyte',\n",
       " 'mucus secreting cell',\n",
       " 'naive B cell',\n",
       " 'naive thymus-derived CD4-positive, alpha-beta T cell',\n",
       " 'neutrophil',\n",
       " 'non-classical monocyte',\n",
       " 'plasma cell',\n",
       " 'plasmacytoid dendritic cell',\n",
       " 'platelet',\n",
       " 'secretory cell',\n",
       " 'serous cell of epithelium of trachea',\n",
       " 'smooth muscle cell',\n",
       " 'tracheal goblet cell',\n",
       " 'type I NK T cell')"
      ]
     },
     "execution_count": 102,
     "metadata": {},
     "output_type": "execute_result"
    }
   ],
   "source": [
    "group_names"
   ]
  },
  {
   "cell_type": "code",
   "execution_count": 100,
   "metadata": {},
   "outputs": [
    {
     "data": {
      "text/plain": [
       "39"
      ]
     },
     "execution_count": 100,
     "metadata": {},
     "output_type": "execute_result"
    }
   ],
   "source": [
    "len(adata.uns['rank_genes_groups']['names'].dtype.names)"
   ]
  },
  {
   "cell_type": "code",
   "execution_count": 63,
   "metadata": {},
   "outputs": [
    {
     "data": {
      "text/plain": [
       "1000"
      ]
     },
     "execution_count": 63,
     "metadata": {},
     "output_type": "execute_result"
    }
   ],
   "source": [
    "len(adata.uns['rank_genes_groups']['names'])"
   ]
  },
  {
   "cell_type": "code",
   "execution_count": 32,
   "metadata": {},
   "outputs": [
    {
     "data": {
      "text/plain": [
       "160"
      ]
     },
     "execution_count": 32,
     "metadata": {},
     "output_type": "execute_result"
    }
   ],
   "source": [
    "len(adata.uns['rank_genes_groups']['names'][1])"
   ]
  },
  {
   "cell_type": "code",
   "execution_count": 57,
   "metadata": {},
   "outputs": [
    {
     "data": {
      "text/html": [
       "<div>\n",
       "<style scoped>\n",
       "    .dataframe tbody tr th:only-of-type {\n",
       "        vertical-align: middle;\n",
       "    }\n",
       "\n",
       "    .dataframe tbody tr th {\n",
       "        vertical-align: top;\n",
       "    }\n",
       "\n",
       "    .dataframe thead th {\n",
       "        text-align: right;\n",
       "    }\n",
       "</style>\n",
       "<table border=\"1\" class=\"dataframe\">\n",
       "  <thead>\n",
       "    <tr style=\"text-align: right;\">\n",
       "      <th></th>\n",
       "      <th>soma_joinid</th>\n",
       "      <th>feature_name</th>\n",
       "      <th>feature_length</th>\n",
       "    </tr>\n",
       "    <tr>\n",
       "      <th>feature_id</th>\n",
       "      <th></th>\n",
       "      <th></th>\n",
       "      <th></th>\n",
       "    </tr>\n",
       "  </thead>\n",
       "  <tbody>\n",
       "    <tr>\n",
       "      <th>ENSG00000121410</th>\n",
       "      <td>0</td>\n",
       "      <td>A1BG</td>\n",
       "      <td>3999</td>\n",
       "    </tr>\n",
       "    <tr>\n",
       "      <th>ENSG00000268895</th>\n",
       "      <td>1</td>\n",
       "      <td>A1BG-AS1</td>\n",
       "      <td>3374</td>\n",
       "    </tr>\n",
       "    <tr>\n",
       "      <th>ENSG00000148584</th>\n",
       "      <td>2</td>\n",
       "      <td>A1CF</td>\n",
       "      <td>9603</td>\n",
       "    </tr>\n",
       "    <tr>\n",
       "      <th>ENSG00000175899</th>\n",
       "      <td>3</td>\n",
       "      <td>A2M</td>\n",
       "      <td>6318</td>\n",
       "    </tr>\n",
       "    <tr>\n",
       "      <th>ENSG00000245105</th>\n",
       "      <td>4</td>\n",
       "      <td>A2M-AS1</td>\n",
       "      <td>2948</td>\n",
       "    </tr>\n",
       "    <tr>\n",
       "      <th>...</th>\n",
       "      <td>...</td>\n",
       "      <td>...</td>\n",
       "      <td>...</td>\n",
       "    </tr>\n",
       "    <tr>\n",
       "      <th>ENSG00000286406</th>\n",
       "      <td>60633</td>\n",
       "      <td>RP11-1277N13.1</td>\n",
       "      <td>4210</td>\n",
       "    </tr>\n",
       "    <tr>\n",
       "      <th>ENSG00000287924</th>\n",
       "      <td>60634</td>\n",
       "      <td>RP11-732B24.1</td>\n",
       "      <td>1109</td>\n",
       "    </tr>\n",
       "    <tr>\n",
       "      <th>ENSG00000288153</th>\n",
       "      <td>60635</td>\n",
       "      <td>CTA-963H5.7</td>\n",
       "      <td>335</td>\n",
       "    </tr>\n",
       "    <tr>\n",
       "      <th>ENSG00000287751</th>\n",
       "      <td>60636</td>\n",
       "      <td>RP11-434D2.14</td>\n",
       "      <td>507</td>\n",
       "    </tr>\n",
       "    <tr>\n",
       "      <th>ENSG00000288643</th>\n",
       "      <td>60637</td>\n",
       "      <td>RP11-95I19.4</td>\n",
       "      <td>759</td>\n",
       "    </tr>\n",
       "  </tbody>\n",
       "</table>\n",
       "<p>60638 rows × 3 columns</p>\n",
       "</div>"
      ],
      "text/plain": [
       "                 soma_joinid    feature_name  feature_length\n",
       "feature_id                                                  \n",
       "ENSG00000121410            0            A1BG            3999\n",
       "ENSG00000268895            1        A1BG-AS1            3374\n",
       "ENSG00000148584            2            A1CF            9603\n",
       "ENSG00000175899            3             A2M            6318\n",
       "ENSG00000245105            4         A2M-AS1            2948\n",
       "...                      ...             ...             ...\n",
       "ENSG00000286406        60633  RP11-1277N13.1            4210\n",
       "ENSG00000287924        60634   RP11-732B24.1            1109\n",
       "ENSG00000288153        60635     CTA-963H5.7             335\n",
       "ENSG00000287751        60636   RP11-434D2.14             507\n",
       "ENSG00000288643        60637    RP11-95I19.4             759\n",
       "\n",
       "[60638 rows x 3 columns]"
      ]
     },
     "execution_count": 57,
     "metadata": {},
     "output_type": "execute_result"
    }
   ],
   "source": [
    "adata.var.set_index('feature_id')"
   ]
  },
  {
   "cell_type": "code",
   "execution_count": null,
   "metadata": {},
   "outputs": [],
   "source": []
  },
  {
   "cell_type": "code",
   "execution_count": 37,
   "metadata": {},
   "outputs": [
    {
     "data": {
      "text/plain": [
       "array([('17566', '17566', '18556', '18556', '18556', '12500', '23580', '11122', '13950', '17566', '13950', '27300', '29331', '17566', '13158', '31887', '13950', '27538', '11116', '14173', '19390', '13299', '13565', '19367', '27930', '6684', '17935', '17952', '30586', '29604', '30312', '15214', '21910', '15072', '17623', '13299', '11771', '19390', '30509', '18239', '19394', '25126', '12614', '12614', '17952', '17952', '27484', '29965', '28917', '36488', '25188', '34819', '17145', '13299', '15214', '17300', '17300', '12024', '7046', '30587', '19634', '14173', '36488', '14173', '36488', '26296', '17952', '27302', '10595', '13950', '13950', '31433', '25254', '34819', '15214', '24931', '34819', '9889', '19394', '27462', '27866', '13706', '23014', '19361', '17568', '19298', '38762', '12180', '28917', '31433', '30701', '11122', '21826', '11303', '12630', '17566', '14173', '27866', '17566', '21910', '15072', '11632', '31433', '17559', '14755', '12112', '29604', '18087', '27538', '18556', '11122', '27473', '31433', '31313', '24931', '25866', '13564', '28449', '18020', '19406', '19406', '18020', '23102', '23166', '23166', '12639', '25093', '19366', '19390', '16200', '32106', '31826', '13158', '28917', '13161', '31313', '18030', '15072', '25254', '19638', '28917', '13161', '29962', '12112', '17145', '19390', '10594', '18020', '14173', '27295', '19361', '23020', '25188', '25188', '18622', '12614', '17658', '27929', '18020', '25053')],\n",
       "      dtype=[('B cell', 'O'), ('CD1c-positive myeloid dendritic cell', 'O'), ('CD4-positive helper T cell', 'O'), ('CD4-positive, alpha-beta T cell', 'O'), ('CD4-positive, alpha-beta memory T cell', 'O'), ('CD8-positive, alpha-beta T cell', 'O'), ('CD8-positive, alpha-beta cytokine secreting effector T cell', 'O'), ('CD8-positive, alpha-beta cytotoxic T cell', 'O'), ('CD8-positive, alpha-beta memory T cell', 'O'), ('CD141-positive myeloid dendritic cell', 'O'), ('DN1 thymic pro-T cell', 'O'), ('DN3 thymocyte', 'O'), ('DN4 thymocyte', 'O'), ('Langerhans cell', 'O'), ('Mueller cell', 'O'), ('Schwann cell', 'O'), ('T cell', 'O'), ('T follicular helper cell', 'O'), ('acinar cell of salivary gland', 'O'), ('adventitial cell', 'O'), ('basal cell', 'O'), ('basal cell of prostate epithelium', 'O'), ('basophil', 'O'), ('bladder urothelial cell', 'O'), ('blood vessel endothelial cell', 'O'), ('bronchial smooth muscle cell', 'O'), ('capillary endothelial cell', 'O'), ('cardiac endothelial cell', 'O'), ('cardiac muscle cell', 'O'), ('cell of skeletal muscle', 'O'), ('ciliated cell', 'O'), ('ciliated epithelial cell', 'O'), ('classical monocyte', 'O'), ('club cell', 'O'), ('common myeloid progenitor', 'O'), ('conjunctival epithelial cell', 'O'), ('connective tissue cell', 'O'), ('corneal epithelial cell', 'O'), ('dendritic cell', 'O'), ('double-positive, alpha-beta thymocyte', 'O'), ('duct epithelial cell', 'O'), ('duodenum glandular cell', 'O'), ('effector CD4-positive, alpha-beta T cell', 'O'), ('effector CD8-positive, alpha-beta T cell', 'O'), ('endothelial cell', 'O'), ('endothelial cell of artery', 'O'), ('endothelial cell of hepatic sinusoid', 'O'), ('endothelial cell of lymphatic vessel', 'O'), ('endothelial cell of vascular tree', 'O'), ('enterocyte', 'O'), ('enterocyte of epithelium of large intestine', 'O'), ('enterocyte of epithelium of small intestine', 'O'), ('epithelial cell', 'O'), ('epithelial cell of lacrimal sac', 'O'), ('epithelial cell of uterus', 'O'), ('erythrocyte', 'O'), ('erythroid lineage cell', 'O'), ('erythroid progenitor cell', 'O'), ('eye photoreceptor cell', 'O'), ('fast muscle cell', 'O'), ('fat cell', 'O'), ('fibroblast', 'O'), ('fibroblast of breast', 'O'), ('fibroblast of cardiac tissue', 'O'), ('goblet cell', 'O'), ('granulocyte', 'O'), ('gut endothelial cell', 'O'), ('hematopoietic stem cell', 'O'), ('hepatocyte', 'O'), ('immature natural killer cell', 'O'), ('innate lymphoid cell', 'O'), ('intermediate monocyte', 'O'), ('intestinal crypt stem cell', 'O'), ('intestinal crypt stem cell of large intestine', 'O'), ('intestinal crypt stem cell of small intestine', 'O'), ('intestinal enteroendocrine cell', 'O'), ('intestinal tuft cell', 'O'), ('intrahepatic cholangiocyte', 'O'), ('ionocyte', 'O'), ('keratinocyte', 'O'), ('keratocyte', 'O'), ('kidney epithelial cell', 'O'), ('large intestine goblet cell', 'O'), ('leukocyte', 'O'), ('liver dendritic cell', 'O'), ('luminal cell of prostate epithelium', 'O'), ('luminal epithelial cell of mammary gland', 'O'), ('lung ciliated cell', 'O'), ('lung microvascular endothelial cell', 'O'), ('macrophage', 'O'), ('mast cell', 'O'), ('mature NK T cell', 'O'), ('mature conventional dendritic cell', 'O'), ('medullary thymic epithelial cell', 'O'), ('melanocyte', 'O'), ('memory B cell', 'O'), ('mesenchymal stem cell', 'O'), ('mesothelial cell', 'O'), ('microglial cell', 'O'), ('monocyte', 'O'), ('mucus secreting cell', 'O'), ('muscle cell', 'O'), ('myeloid cell', 'O'), ('myeloid dendritic cell', 'O'), ('myoepithelial cell', 'O'), ('myofibroblast cell', 'O'), ('myometrial cell', 'O'), ('naive B cell', 'O'), ('naive regulatory T cell', 'O'), ('naive thymus-derived CD4-positive, alpha-beta T cell', 'O'), ('naive thymus-derived CD8-positive, alpha-beta T cell', 'O'), ('neutrophil', 'O'), ('non-classical monocyte', 'O'), ('pancreatic A cell', 'O'), ('pancreatic D cell', 'O'), ('pancreatic PP cell', 'O'), ('pancreatic acinar cell', 'O'), ('pancreatic ductal cell', 'O'), ('pancreatic stellate cell', 'O'), ('paneth cell of colon', 'O'), ('paneth cell of epithelium of small intestine', 'O'), ('pericyte', 'O'), ('pigmented ciliary epithelial cell', 'O'), ('plasma cell', 'O'), ('plasmablast', 'O'), ('plasmacytoid dendritic cell', 'O'), ('platelet', 'O'), ('pulmonary ionocyte', 'O'), ('radial glial cell', 'O'), ('regulatory T cell', 'O'), ('respiratory goblet cell', 'O'), ('retina horizontal cell', 'O'), ('retinal bipolar neuron', 'O'), ('retinal blood vessel endothelial cell', 'O'), ('retinal ganglion cell', 'O'), ('retinal pigment epithelial cell', 'O'), ('salivary gland cell', 'O'), ('secretory cell', 'O'), ('serous cell of epithelium of bronchus', 'O'), ('serous cell of epithelium of trachea', 'O'), ('skeletal muscle satellite stem cell', 'O'), ('slow muscle cell', 'O'), ('small intestine goblet cell', 'O'), ('smooth muscle cell', 'O'), ('sperm', 'O'), ('stem cell', 'O'), ('stromal cell', 'O'), ('surface ectodermal cell', 'O'), ('tendon cell', 'O'), ('thymocyte', 'O'), ('tongue muscle cell', 'O'), ('tracheal goblet cell', 'O'), ('transit amplifying cell of colon', 'O'), ('transit amplifying cell of small intestine', 'O'), ('type B pancreatic cell', 'O'), ('type I NK T cell', 'O'), ('type I pneumocyte', 'O'), ('type II pneumocyte', 'O'), ('vascular associated smooth muscle cell', 'O'), ('vein endothelial cell', 'O')])"
      ]
     },
     "execution_count": 37,
     "metadata": {},
     "output_type": "execute_result"
    }
   ],
   "source": [
    "import numpy as np\n",
    "\n",
    "np.unique(adata.uns['rank_genes_groups']['names'][0])"
   ]
  },
  {
   "cell_type": "code",
   "execution_count": 39,
   "metadata": {},
   "outputs": [
    {
     "data": {
      "text/plain": [
       "numpy.void"
      ]
     },
     "execution_count": 39,
     "metadata": {},
     "output_type": "execute_result"
    }
   ],
   "source": [
    "type(adata.uns['rank_genes_groups']['names'][1])"
   ]
  },
  {
   "cell_type": "code",
   "execution_count": 56,
   "metadata": {},
   "outputs": [
    {
     "data": {
      "text/plain": [
       "(5.881035, 7.205521, 6.43951, 6.727491, 6.1591105, 6.761284, 8.745455, 1.7795879, 4.956738, 6.8631206, 5.3377604, 2.862865, 6.4997497, 8.401167, 8.230047, 3.4946938, 4.5523076, 4.3963137, 9.129167, 9.724476, 9.29179, 6.536508, 12.214147, 7.9974265, 8.399494, 10.637169, 7.6713486, 5.4094505, 13.255723, 10.627888, 13.459865, 6.5944223, 8.022387, 6.506741, 2.854675, 7.483746, 7.670808, 10.706106, 2.3602629, 5.400573, 7.3365636, 13.430292, 5.6759124, 5.8657303, 4.2147803, 4.888867, 8.478251, 6.3236265, 7.2032638, 5.902944, 10.565244, 3.4587846, 4.6770825, 7.0351105, 6.2996755, 16.338106, 15.4042015, 10.227097, 16.038496, 12.70416, 12.378877, 9.206963, 6.2106586, 9.326288, 4.9740214, 1.8804623, 3.9595134, 1.9119495, 6.3516264, 4.9400215, 5.212997, 5.848224, 9.114564, 4.2106786, 8.072676, 11.309373, 3.2371514, 7.1129985, 8.435274, 8.793837, 6.0914145, 9.231887, 13.09219, 8.813252, 10.285228, 16.430239, 7.8629756, 10.1334915, 8.104783, 6.4785833, 13.814871, 1.7891961, 4.6703143, 4.148885, 5.021286, 5.8699102, 9.397692, 6.4063277, 5.845886, 7.7663827, 7.009339, 8.621583, 5.98478, 8.048887, 6.9453726, 5.976985, 9.962446, 8.470841, 3.8188403, 6.1803536, 2.0058796, 9.7579975, 6.1938424, 17.381435, 11.585463, 22.957005, 13.450766, 10.239355, 7.755394, 7.158412, 6.5559044, 7.0234756, 7.4650464, 9.697349, 8.628851, 5.4007783, 13.150728, 6.7683997, 9.984338, 10.285196, 9.679787, 5.669756, 8.479086, 7.121512, 13.401433, 16.677052, 5.110919, 6.5394545, 9.421049, 9.902085, 6.2136383, 14.7225485, 12.353412, 7.284845, 5.2022123, 9.724746, 7.014251, 6.5855036, 8.824209, 3.923311, 8.840094, 9.792402, 10.142718, 9.8987665, 19.453104, 5.5001907, 8.344516, 13.586624, 7.3064556, 6.550133)"
      ]
     },
     "execution_count": 56,
     "metadata": {},
     "output_type": "execute_result"
    }
   ],
   "source": [
    "adata.uns['rank_genes_groups']['logfoldchanges']"
   ]
  },
  {
   "cell_type": "code",
   "execution_count": null,
   "metadata": {},
   "outputs": [],
   "source": []
  },
  {
   "cell_type": "code",
   "execution_count": null,
   "metadata": {},
   "outputs": [],
   "source": []
  },
  {
   "cell_type": "code",
   "execution_count": 12,
   "metadata": {},
   "outputs": [
    {
     "data": {
      "text/plain": [
       "(60638,)"
      ]
     },
     "execution_count": 12,
     "metadata": {},
     "output_type": "execute_result"
    }
   ],
   "source": [
    "adata.uns['rank_genes_groups']['scores'].shape"
   ]
  },
  {
   "cell_type": "code",
   "execution_count": 18,
   "metadata": {},
   "outputs": [
    {
     "data": {
      "text/plain": [
       "160"
      ]
     },
     "execution_count": 18,
     "metadata": {},
     "output_type": "execute_result"
    }
   ],
   "source": [
    "len(adata.uns['rank_genes_groups']['logfoldchanges'][0])"
   ]
  },
  {
   "cell_type": "code",
   "execution_count": 22,
   "metadata": {},
   "outputs": [
    {
     "data": {
      "text/plain": [
       "60638"
      ]
     },
     "execution_count": 22,
     "metadata": {},
     "output_type": "execute_result"
    }
   ],
   "source": [
    "len(adata.uns['rank_genes_groups']['names'])"
   ]
  },
  {
   "cell_type": "code",
   "execution_count": 23,
   "metadata": {},
   "outputs": [
    {
     "data": {
      "text/plain": [
       "160"
      ]
     },
     "execution_count": 23,
     "metadata": {},
     "output_type": "execute_result"
    }
   ],
   "source": [
    "len(adata.uns['rank_genes_groups']['names'][0])"
   ]
  },
  {
   "cell_type": "code",
   "execution_count": 27,
   "metadata": {},
   "outputs": [
    {
     "data": {
      "text/plain": [
       "('12640', '17559', '27296', '12614', '11122', '26327', '17299', '11506', '26327', '17559', '27300', '27244', '17600', '14072', '22046', '19388', '11506', '27301', '28566', '11768', '29573', '32106', '30701', '15072', '17952', '30681', '12265', '28917', '23097', '23102', '31190', '15072', '27473', '32106', '27307', '19390', '13463', '29573', '29127', '12020', '28566', '36488', '13950', '11506', '17935', '30154', '27835', '17952', '30154', '25254', '34842', '25188', '12589', '27464', '12589', '17298', '17298', '17301', '16804', '32241', '21910', '13463', '10594', '13781', '25254', '27036', '16793', '26531', '31313', '22009', '27296', '15904', '15214', '15072', '19406', '27616', '27975', '27835', '29953', '25070', '15825', '16335', '29962', '29067', '17566', '11116', '36488', '21789', '17952', '13869', '29127', '23580', '26811', '19406', '12633', '12626', '10594', '17952', '12639', '13879', '23007', '18020', '12569', '10521', '12112', '11632', '23102', '12640', '27230', '13950', '12500', '18505', '16302', '27601', '27603', '13035', '26806', '12987', '28917', '13204', '15214', '28917', '13776', '27710', '22316', '18852', '18762', '27930', '25070', '11122', '13940', '11529', '27761', '17952', '27304', '27013', '18239', '19367', '28566', '28566', '22924', '14814', '34819', '29604', '27791', '27913', '13877', '16793', '27866', '14213', '22924', '23021', '19702', '22907', '13574', '11506', '12652', '27928', '29604', '17952')"
      ]
     },
     "execution_count": 27,
     "metadata": {},
     "output_type": "execute_result"
    }
   ],
   "source": [
    "adata.uns['rank_genes_groups']['names'][2]"
   ]
  },
  {
   "cell_type": "code",
   "execution_count": 29,
   "metadata": {},
   "outputs": [
    {
     "data": {
      "text/plain": [
       "soma_joinid                 34842\n",
       "feature_id        ENSG00000211459\n",
       "feature_name              MT-RNR1\n",
       "feature_length                954\n",
       "Name: 34842, dtype: object"
      ]
     },
     "execution_count": 29,
     "metadata": {},
     "output_type": "execute_result"
    }
   ],
   "source": [
    "adata.var.loc['34842']"
   ]
  },
  {
   "cell_type": "code",
   "execution_count": null,
   "metadata": {},
   "outputs": [],
   "source": [
    "adata_raw = ad.read_h5ad(ADATA_PT)"
   ]
  },
  {
   "cell_type": "code",
   "execution_count": null,
   "metadata": {},
   "outputs": [],
   "source": [
    "adata_raw.uns['rank_genes_groups'] = adata.uns['rank_genes_groups']"
   ]
  },
  {
   "cell_type": "code",
   "execution_count": null,
   "metadata": {},
   "outputs": [],
   "source": [
    "adata_raw.write_h5ad(ADATA_PT)"
   ]
  },
  {
   "cell_type": "code",
   "execution_count": null,
   "metadata": {},
   "outputs": [],
   "source": []
  }
 ],
 "metadata": {
  "kernelspec": {
   "display_name": "multiomics",
   "language": "python",
   "name": "python3"
  },
  "language_info": {
   "codemirror_mode": {
    "name": "ipython",
    "version": 3
   },
   "file_extension": ".py",
   "mimetype": "text/x-python",
   "name": "python",
   "nbconvert_exporter": "python",
   "pygments_lexer": "ipython3",
   "version": "3.9.13"
  },
  "orig_nbformat": 4,
  "vscode": {
   "interpreter": {
    "hash": "5c78ef6e1dc348573331f887aa1706c62aacac0373dba7ce1cc27999251039c5"
   }
  }
 },
 "nbformat": 4,
 "nbformat_minor": 2
}
