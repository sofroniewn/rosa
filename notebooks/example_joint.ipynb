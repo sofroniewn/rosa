{
 "cells": [
  {
   "cell_type": "code",
   "execution_count": 5,
   "metadata": {},
   "outputs": [],
   "source": [
    "\n",
    "from rosa import JointAnnDataModule, JointEmbedding2ExpressionModel\n",
    "import numpy as np\n",
    "from glob import glob\n",
    "\n",
    "\n",
    "BASE_PT = '/Users/nsofroniew/Documents/data/multiomics/enformer'\n",
    "TABULA_SAPIENS_BY_CELL_TYPE_WITH_EMBEDS_PT = '/Users/nsofroniew/Documents/data/multiomics/cell_census/tabula_sapiens_by_features_with_embeds_new_norm.h5ad'"
   ]
  },
  {
   "cell_type": "code",
   "execution_count": 6,
   "metadata": {},
   "outputs": [
    {
     "data": {
      "text/plain": [
       "JointEmbedding2ExpressionModel(\n",
       "  (model): ConcatHead(\n",
       "    (fc): SingleHead(\n",
       "      (model): MLP(\n",
       "        (fc1): Linear(in_features=3182, out_features=512, bias=True)\n",
       "        (act1): Softplus(beta=1, threshold=20)\n",
       "        (dropout1): Dropout(p=0.5, inplace=False)\n",
       "        (fc2): Linear(in_features=512, out_features=512, bias=True)\n",
       "        (act2): Softplus(beta=1, threshold=20)\n",
       "        (dropout2): Dropout(p=0.5, inplace=False)\n",
       "        (fc3): Linear(in_features=512, out_features=1, bias=True)\n",
       "      )\n",
       "    )\n",
       "    (act): Softplus(beta=1, threshold=20)\n",
       "  )\n",
       ")"
      ]
     },
     "execution_count": 6,
     "metadata": {},
     "output_type": "execute_result"
    }
   ],
   "source": [
    "\n",
    "CHKP_PT_BASE = 'Embedding2ExpressionModel'\n",
    "CHKP_PT_V = 49\n",
    "CHKP_PT_F = 1\n",
    "\n",
    "# CHKP_PT = None\n",
    "RANK = 16\n",
    "HEAD_1 = 'MLP'\n",
    "HEAD_2 = 'Linear'\n",
    "METHOD = 'concat'\n",
    "\n",
    "\n",
    "checkpoint_pt = f\"{BASE_PT}/{CHKP_PT_BASE}/lightning_logs/version_{CHKP_PT_V}/checkpoints/*.ckpt\"\n",
    "checkpoint_files = glob(checkpoint_pt)\n",
    "\n",
    "dm = JointAnnDataModule(TABULA_SAPIENS_BY_CELL_TYPE_WITH_EMBEDS_PT)\n",
    "dm.setup()\n",
    "model = JointEmbedding2ExpressionModel.load_from_checkpoint(checkpoint_files[CHKP_PT_F], in_dim_1=dm.n_input_1, in_dim_2=dm.n_input_2, head_1=HEAD_1, head_2=HEAD_2, rank=RANK, method=METHOD)\n",
    "adata = dm.predict_dataset.adata\n",
    "\n",
    "model"
   ]
  },
  {
   "cell_type": "code",
   "execution_count": 7,
   "metadata": {},
   "outputs": [
    {
     "name": "stderr",
     "output_type": "stream",
     "text": [
      "GPU available: True (mps), used: False\n",
      "TPU available: False, using: 0 TPU cores\n",
      "IPU available: False, using: 0 IPUs\n",
      "HPU available: False, using: 0 HPUs\n",
      "/Users/nsofroniew/opt/anaconda3/envs/multiomics/lib/python3.9/site-packages/pytorch_lightning/trainer/trainer.py:1789: UserWarning: MPS available but not used. Set `accelerator` and `devices` using `Trainer(accelerator='mps', devices=1)`.\n",
      "  rank_zero_warn(\n",
      "Missing logger folder: /Users/nsofroniew/Documents/GitHub/rosa/notebooks/lightning_logs\n",
      "/Users/nsofroniew/opt/anaconda3/envs/multiomics/lib/python3.9/site-packages/pytorch_lightning/trainer/connectors/data_connector.py:236: PossibleUserWarning: The dataloader, predict_dataloader 0, does not have many workers which may be a bottleneck. Consider increasing the value of the `num_workers` argument` (try 10 which is the number of cpus on this machine) in the `DataLoader` init to improve performance.\n",
      "  rank_zero_warn(\n"
     ]
    },
    {
     "data": {
      "application/vnd.jupyter.widget-view+json": {
       "model_id": "4821be4770bd4247ad45bbcf9f54b930",
       "version_major": 2,
       "version_minor": 0
      },
      "text/plain": [
       "Predicting: 0it [00:00, ?it/s]"
      ]
     },
     "metadata": {},
     "output_type": "display_data"
    }
   ],
   "source": [
    "from pytorch_lightning import Trainer\n",
    "import torch\n",
    "\n",
    "trainer = Trainer()\n",
    "predictions = trainer.predict(model, dm)\n",
    "adata.layers['prediction'] = torch.concat(predictions).numpy().reshape(dm.predict_dataset.n_cells, dm.predict_dataset.n_genes)"
   ]
  },
  {
   "cell_type": "code",
   "execution_count": 4,
   "metadata": {},
   "outputs": [
    {
     "ename": "ValueError",
     "evalue": "groupby has to be a valid observation. Given value: label, valid observations: ['cell_type', 'count', 'tissue', 'train']",
     "output_type": "error",
     "traceback": [
      "\u001b[0;31m---------------------------------------------------------------------------\u001b[0m",
      "\u001b[0;31mValueError\u001b[0m                                Traceback (most recent call last)",
      "Cell \u001b[0;32mIn [4], line 5\u001b[0m\n\u001b[1;32m      1\u001b[0m \u001b[39mfrom\u001b[39;00m \u001b[39mrosa\u001b[39;00m\u001b[39m.\u001b[39;00m\u001b[39mscore\u001b[39;00m \u001b[39mimport\u001b[39;00m score_predictions\n\u001b[1;32m      2\u001b[0m \u001b[39mfrom\u001b[39;00m \u001b[39mrosa\u001b[39;00m\u001b[39m.\u001b[39;00m\u001b[39mplotting\u001b[39;00m \u001b[39mimport\u001b[39;00m plot_expression_and_correlation, plot_marker_gene_heatmap\n\u001b[0;32m----> 5\u001b[0m adata_test, results \u001b[39m=\u001b[39m score_predictions(adata)\n",
      "File \u001b[0;32m~/Documents/GitHub/rosa/rosa/score.py:17\u001b[0m, in \u001b[0;36mscore_predictions\u001b[0;34m(adata)\u001b[0m\n\u001b[1;32m     15\u001b[0m test_cells \u001b[39m=\u001b[39m np\u001b[39m.\u001b[39mlogical_not(adata\u001b[39m.\u001b[39mobs[\u001b[39m'\u001b[39m\u001b[39mtrain\u001b[39m\u001b[39m'\u001b[39m])\n\u001b[1;32m     16\u001b[0m adata_test \u001b[39m=\u001b[39m adata[test_cells, test_genes]\n\u001b[0;32m---> 17\u001b[0m sc\u001b[39m.\u001b[39;49mtl\u001b[39m.\u001b[39;49mdendrogram(adata_test, groupby\u001b[39m=\u001b[39;49m\u001b[39m'\u001b[39;49m\u001b[39mlabel\u001b[39;49m\u001b[39m'\u001b[39;49m, use_rep\u001b[39m=\u001b[39;49m\u001b[39m'\u001b[39;49m\u001b[39mX\u001b[39;49m\u001b[39m'\u001b[39;49m)\n\u001b[1;32m     19\u001b[0m \u001b[39m# Extract measured and predicted expression\u001b[39;00m\n\u001b[1;32m     20\u001b[0m X_meas \u001b[39m=\u001b[39m adata_test\u001b[39m.\u001b[39mX\n",
      "File \u001b[0;32m~/opt/anaconda3/envs/multiomics/lib/python3.9/site-packages/scanpy/tools/_dendrogram.py:101\u001b[0m, in \u001b[0;36mdendrogram\u001b[0;34m(adata, groupby, n_pcs, use_rep, var_names, use_raw, cor_method, linkage_method, optimal_ordering, key_added, inplace)\u001b[0m\n\u001b[1;32m     99\u001b[0m \u001b[39mfor\u001b[39;00m group \u001b[39min\u001b[39;00m groupby:\n\u001b[1;32m    100\u001b[0m     \u001b[39mif\u001b[39;00m group \u001b[39mnot\u001b[39;00m \u001b[39min\u001b[39;00m adata\u001b[39m.\u001b[39mobs_keys():\n\u001b[0;32m--> 101\u001b[0m         \u001b[39mraise\u001b[39;00m \u001b[39mValueError\u001b[39;00m(\n\u001b[1;32m    102\u001b[0m             \u001b[39m'\u001b[39m\u001b[39mgroupby has to be a valid observation. \u001b[39m\u001b[39m'\u001b[39m\n\u001b[1;32m    103\u001b[0m             \u001b[39mf\u001b[39m\u001b[39m'\u001b[39m\u001b[39mGiven value: \u001b[39m\u001b[39m{\u001b[39;00mgroup\u001b[39m}\u001b[39;00m\u001b[39m, valid observations: \u001b[39m\u001b[39m{\u001b[39;00madata\u001b[39m.\u001b[39mobs_keys()\u001b[39m}\u001b[39;00m\u001b[39m'\u001b[39m\n\u001b[1;32m    104\u001b[0m         )\n\u001b[1;32m    105\u001b[0m     \u001b[39mif\u001b[39;00m \u001b[39mnot\u001b[39;00m is_categorical_dtype(adata\u001b[39m.\u001b[39mobs[group]):\n\u001b[1;32m    106\u001b[0m         \u001b[39mraise\u001b[39;00m \u001b[39mValueError\u001b[39;00m(\n\u001b[1;32m    107\u001b[0m             \u001b[39m'\u001b[39m\u001b[39mgroupby has to be a categorical observation. \u001b[39m\u001b[39m'\u001b[39m\n\u001b[1;32m    108\u001b[0m             \u001b[39mf\u001b[39m\u001b[39m'\u001b[39m\u001b[39mGiven value: \u001b[39m\u001b[39m{\u001b[39;00mgroup\u001b[39m}\u001b[39;00m\u001b[39m, Column type: \u001b[39m\u001b[39m{\u001b[39;00madata\u001b[39m.\u001b[39mobs[group]\u001b[39m.\u001b[39mdtype\u001b[39m}\u001b[39;00m\u001b[39m'\u001b[39m\n\u001b[1;32m    109\u001b[0m         )\n",
      "\u001b[0;31mValueError\u001b[0m: groupby has to be a valid observation. Given value: label, valid observations: ['cell_type', 'count', 'tissue', 'train']"
     ]
    }
   ],
   "source": [
    "from rosa.score import score_predictions\n",
    "from rosa.plotting import plot_expression_and_correlation, plot_marker_gene_heatmap\n",
    "\n",
    "\n",
    "adata_test, results = score_predictions(adata)"
   ]
  },
  {
   "cell_type": "code",
   "execution_count": null,
   "metadata": {},
   "outputs": [],
   "source": [
    "plot_expression_and_correlation(adata_test, results)"
   ]
  },
  {
   "cell_type": "code",
   "execution_count": null,
   "metadata": {},
   "outputs": [],
   "source": [
    "marker_genes = adata_test.var[adata_test.var['highly_variable']]['feature_name'].values\n",
    "np.random.seed(42)\n",
    "marker_genes = np.random.choice(marker_genes, 50)\n",
    "\n",
    "plot_marker_gene_heatmap(adata_test, marker_genes)"
   ]
  },
  {
   "cell_type": "code",
   "execution_count": null,
   "metadata": {},
   "outputs": [],
   "source": [
    "marker_genes_dict = adata_test.obs.set_index('label').to_dict()['marker_feature_name']\n",
    "plot_marker_gene_heatmap(adata_test, marker_genes_dict)"
   ]
  }
 ],
 "metadata": {
  "kernelspec": {
   "display_name": "multiomics",
   "language": "python",
   "name": "python3"
  },
  "language_info": {
   "codemirror_mode": {
    "name": "ipython",
    "version": 3
   },
   "file_extension": ".py",
   "mimetype": "text/x-python",
   "name": "python",
   "nbconvert_exporter": "python",
   "pygments_lexer": "ipython3",
   "version": "3.9.13"
  },
  "orig_nbformat": 4,
  "vscode": {
   "interpreter": {
    "hash": "5c78ef6e1dc348573331f887aa1706c62aacac0373dba7ce1cc27999251039c5"
   }
  }
 },
 "nbformat": 4,
 "nbformat_minor": 2
}
