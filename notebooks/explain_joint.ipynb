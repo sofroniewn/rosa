{
 "cells": [
  {
   "cell_type": "code",
   "execution_count": 1,
   "metadata": {},
   "outputs": [
    {
     "name": "stderr",
     "output_type": "stream",
     "text": [
      "Global seed set to 0\n",
      "/Users/nsofroniew/opt/anaconda3/envs/multiomics/lib/python3.9/site-packages/pytorch_lightning/utilities/warnings.py:53: LightningDeprecationWarning: pytorch_lightning.utilities.warnings.rank_zero_deprecation has been deprecated in v1.6 and will be removed in v1.8. Use the equivalent function from the pytorch_lightning.utilities.rank_zero module instead.\n",
      "  new_rank_zero_deprecation(\n",
      "/Users/nsofroniew/opt/anaconda3/envs/multiomics/lib/python3.9/site-packages/pytorch_lightning/utilities/warnings.py:58: LightningDeprecationWarning: The `pytorch_lightning.loggers.base.rank_zero_experiment` is deprecated in v1.7 and will be removed in v1.9. Please use `pytorch_lightning.loggers.logger.rank_zero_experiment` instead.\n",
      "  return new_rank_zero_deprecation(*args, **kwargs)\n",
      "/var/folders/6n/b_zkz2ns3_l02s3g4lnlklxr0000gq/T/ipykernel_55110/4235644688.py:13: UserWarning: \n",
      "The version_base parameter is not specified.\n",
      "Please specify a compatability version level, or None.\n",
      "Will assume defaults for version 1.1\n",
      "  with hydra.initialize_config_dir(config_dir=config_dir):\n"
     ]
    },
    {
     "name": "stdout",
     "output_type": "stream",
     "text": [
      "RosaLightningModule(\n",
      "  (model): RosaJointModel(\n",
      "    (main): Sequential(\n",
      "      (dual_embed): ParallelEmbed(\n",
      "        (models): ModuleList(\n",
      "          (0): Sequential(\n",
      "            (layer_norm_0): LayerNorm((256,), eps=1e-05, elementwise_affine=True)\n",
      "            (input_embed_0): Identity()\n",
      "          )\n",
      "          (1): Sequential(\n",
      "            (layer_norm_1): LayerNorm((3072,), eps=1e-05, elementwise_affine=True)\n",
      "            (input_embed_1): InputEmbed(\n",
      "              (model): Sequential(\n",
      "                (projection): Linear(in_features=3072, out_features=256, bias=True)\n",
      "                (layer_norm): LayerNorm((256,), eps=1e-05, elementwise_affine=True)\n",
      "                (dropout): Dropout(p=0.5, inplace=False)\n",
      "              )\n",
      "            )\n",
      "          )\n",
      "        )\n",
      "      )\n",
      "      (join_embeds): DotEmbeds()\n",
      "      (feed_forward): Identity()\n",
      "      (dropout): Dropout(p=0, inplace=False)\n",
      "      (expression_head): ProjectionExpressionHead(\n",
      "        (model): Sequential(\n",
      "          (projection): Identity()\n",
      "          (activation): Softplus(beta=1, threshold=20)\n",
      "        )\n",
      "      )\n",
      "    )\n",
      "  )\n",
      ")\n"
     ]
    }
   ],
   "source": [
    "import hydra\n",
    "from omegaconf import OmegaConf\n",
    "from glob import  glob\n",
    "# from rosa import  predict\n",
    "from rosa.data import create_io_paths, RosaDataModule\n",
    "from rosa.modeling.modules import RosaLightningModule\n",
    "from pytorch_lightning import Trainer\n",
    "\n",
    "\n",
    "BASE_DIR = \"/Users/nsofroniew/Documents/data/rosa/outputs/2023-02-13/11-35-55\"\n",
    "config_dir = BASE_DIR + \"/.hydra\"\n",
    "\n",
    "with hydra.initialize_config_dir(config_dir=config_dir):\n",
    "    config = hydra.compose(config_name=\"config\", overrides=OmegaConf.load(config_dir + \"/overrides.yaml\"))\n",
    "\n",
    "    chkpts = BASE_DIR + \"/checkpoints/*.ckpt\"\n",
    "    chkpt = glob(chkpts)[1]\n",
    "\n",
    "    _, output_path = create_io_paths(config.paths)\n",
    "\n",
    "    # Create Data Module\n",
    "    rdm = RosaDataModule(\n",
    "        output_path,\n",
    "        config=config.data_module,\n",
    "    )\n",
    "    rdm.setup()\n",
    "\n",
    "    # Load model from checkpoint\n",
    "    rlm = RosaLightningModule.load_from_checkpoint(\n",
    "        chkpt,\n",
    "        in_dim=rdm.len_input,\n",
    "        out_dim=rdm.len_target,\n",
    "        config=config.module,\n",
    "    )\n",
    "    print(rlm)\n",
    "\n",
    "    # trainer = Trainer()\n",
    "    # predictions = trainer.predict(rlm, rdm)\n",
    "    # rdm.predict_dataset.predict(predictions)\n",
    "    # adata = rdm.predict_dataset.adata\n",
    "    # adata = predict(config, chkpt)\n",
    "\n",
    "# display(adata)"
   ]
  },
  {
   "cell_type": "code",
   "execution_count": 2,
   "metadata": {},
   "outputs": [
    {
     "data": {
      "text/plain": [
       "{'data': {'expression_layer': None, 'var_input': 'embedding', 'obs_input': 'embedding', 'expression_transform': None, 'n_var_sample': 10000}, 'batch_size': 32, 'num_workers': 0}"
      ]
     },
     "execution_count": 2,
     "metadata": {},
     "output_type": "execute_result"
    }
   ],
   "source": [
    "config.data_module"
   ]
  },
  {
   "cell_type": "code",
   "execution_count": 3,
   "metadata": {},
   "outputs": [],
   "source": [
    "import matplotlib.pyplot as plt\n",
    "import numpy as np\n",
    "from tqdm import tqdm\n",
    "from captum.attr import IntegratedGradients, InputXGradient"
   ]
  },
  {
   "cell_type": "code",
   "execution_count": 4,
   "metadata": {},
   "outputs": [],
   "source": [
    "adata = rdm.predict_dataset.adata\n",
    "test_obs = np.logical_not(adata.obs['train'])\n",
    "test_var = np.logical_not(adata.var['train'])"
   ]
  },
  {
   "cell_type": "code",
   "execution_count": 5,
   "metadata": {},
   "outputs": [],
   "source": [
    "import torch.nn as nn\n",
    "\n",
    "class FullModel(nn.Module):\n",
    "    def __init__(self, rlm):\n",
    "        super(FullModel, self).__init__()\n",
    "        self.model = rlm.model\n",
    "\n",
    "    def forward(self, x1, x2):\n",
    "        return self.model((x1, x2))"
   ]
  },
  {
   "cell_type": "code",
   "execution_count": 6,
   "metadata": {},
   "outputs": [],
   "source": [
    "model = FullModel(rlm)\n",
    "ixg = InputXGradient(model)"
   ]
  },
  {
   "cell_type": "code",
   "execution_count": 7,
   "metadata": {},
   "outputs": [],
   "source": [
    "x, y = next(iter(rdm.predict_dataloader(batch_size=1)))"
   ]
  },
  {
   "cell_type": "code",
   "execution_count": 8,
   "metadata": {},
   "outputs": [
    {
     "data": {
      "text/plain": [
       "torch.Size([1, 19431])"
      ]
     },
     "execution_count": 8,
     "metadata": {},
     "output_type": "execute_result"
    }
   ],
   "source": [
    "model(*x).shape"
   ]
  },
  {
   "cell_type": "code",
   "execution_count": 9,
   "metadata": {},
   "outputs": [
    {
     "data": {
      "text/plain": [
       "torch.Size([1, 19431])"
      ]
     },
     "execution_count": 9,
     "metadata": {},
     "output_type": "execute_result"
    }
   ],
   "source": [
    "y.shape"
   ]
  },
  {
   "cell_type": "code",
   "execution_count": 10,
   "metadata": {},
   "outputs": [],
   "source": [
    "x_r = tuple(x_ind.reshape(-1, x_ind.shape[-1]).requires_grad_() for x_ind in x)"
   ]
  },
  {
   "cell_type": "code",
   "execution_count": 11,
   "metadata": {},
   "outputs": [
    {
     "data": {
      "text/plain": [
       "torch.Size([19431, 3072])"
      ]
     },
     "execution_count": 11,
     "metadata": {},
     "output_type": "execute_result"
    }
   ],
   "source": [
    "x_r[1].shape"
   ]
  },
  {
   "cell_type": "code",
   "execution_count": 12,
   "metadata": {},
   "outputs": [],
   "source": [
    "attribution_r = ixg.attribute(x_r)"
   ]
  },
  {
   "cell_type": "code",
   "execution_count": 13,
   "metadata": {},
   "outputs": [],
   "source": [
    "\n",
    "attribution = tuple(a.reshape(x[0].shape[0], x[0].shape[1], -1) for a in attribution_r)"
   ]
  },
  {
   "cell_type": "code",
   "execution_count": 14,
   "metadata": {},
   "outputs": [
    {
     "data": {
      "text/plain": [
       "torch.Size([1, 19431, 256])"
      ]
     },
     "execution_count": 14,
     "metadata": {},
     "output_type": "execute_result"
    }
   ],
   "source": [
    "attribution[0].shape"
   ]
  },
  {
   "cell_type": "code",
   "execution_count": 15,
   "metadata": {},
   "outputs": [
    {
     "data": {
      "text/plain": [
       "torch.Size([1, 19431, 3072])"
      ]
     },
     "execution_count": 15,
     "metadata": {},
     "output_type": "execute_result"
    }
   ],
   "source": [
    "attribution[1].shape"
   ]
  },
  {
   "cell_type": "code",
   "execution_count": 16,
   "metadata": {},
   "outputs": [],
   "source": [
    "attr = next(iter(rlm.explain_iter(rdm.predict_dataloader(batch_size=1), ixg)))"
   ]
  },
  {
   "cell_type": "code",
   "execution_count": 17,
   "metadata": {},
   "outputs": [
    {
     "data": {
      "text/plain": [
       "torch.Size([1, 19431, 256])"
      ]
     },
     "execution_count": 17,
     "metadata": {},
     "output_type": "execute_result"
    }
   ],
   "source": [
    "attr[0].shape"
   ]
  },
  {
   "cell_type": "code",
   "execution_count": 22,
   "metadata": {},
   "outputs": [
    {
     "name": "stderr",
     "output_type": "stream",
     "text": [
      "369it [03:38,  1.69it/s]\n"
     ]
    }
   ],
   "source": [
    "import zarr\n",
    "\n",
    "# results_shape = tuple((len(rdm.predict_dataset), rdm.len_target, r) for r in rdm.len_input) # rdm.len_target\n",
    "results_shape = tuple(rdm.predict_dataset.adata.shape + (r,) for r in rdm.len_input) # rdm.len_target\n",
    "# results_shape = rdm.predict_dataset.adata.shape + (rdm.len_input,)\n",
    "z = tuple(zarr.open(f'data/joint_attribution{i}.zarr', mode='w', shape=r, chunks=(1, None, None), dtype=np.float32) for i, r in enumerate(results_shape))\n",
    "\n",
    "ind = 0\n",
    "dl = rdm.predict_dataloader(batch_size=1)\n",
    "for attribution in tqdm(iter(rlm.explain_iter(dl, ixg)), total=len(dl)):\n",
    "    for i, a in enumerate(attribution):\n",
    "        z[i][ind:ind+len(a), :, :] = a.detach().numpy() # for joint\n",
    "    ind += len(a)"
   ]
  },
  {
   "cell_type": "code",
   "execution_count": 42,
   "metadata": {},
   "outputs": [],
   "source": [
    "import dask.array as da\n",
    "\n",
    "z = tuple(da.from_zarr(f'data/joint_attribution{i}.zarr') for i in range(2))\n"
   ]
  },
  {
   "cell_type": "code",
   "execution_count": 40,
   "metadata": {},
   "outputs": [
    {
     "data": {
      "text/html": [
       "<table>\n",
       "    <tr>\n",
       "        <td>\n",
       "            <table style=\"border-collapse: collapse;\">\n",
       "                <thead>\n",
       "                    <tr>\n",
       "                        <td> </td>\n",
       "                        <th> Array </th>\n",
       "                        <th> Chunk </th>\n",
       "                    </tr>\n",
       "                </thead>\n",
       "                <tbody>\n",
       "                    \n",
       "                    <tr>\n",
       "                        <th> Bytes </th>\n",
       "                        <td> 6.84 GiB </td>\n",
       "                        <td> 18.98 MiB </td>\n",
       "                    </tr>\n",
       "                    \n",
       "                    <tr>\n",
       "                        <th> Shape </th>\n",
       "                        <td> (369, 19431, 256) </td>\n",
       "                        <td> (1, 19431, 256) </td>\n",
       "                    </tr>\n",
       "                    <tr>\n",
       "                        <th> Dask graph </th>\n",
       "                        <td colspan=\"2\"> 369 chunks in 2 graph layers </td>\n",
       "                    </tr>\n",
       "                    <tr>\n",
       "                        <th> Data type </th>\n",
       "                        <td colspan=\"2\"> float32 numpy.ndarray </td>\n",
       "                    </tr>\n",
       "                </tbody>\n",
       "            </table>\n",
       "        </td>\n",
       "        <td>\n",
       "        <svg width=\"103\" height=\"186\" style=\"stroke:rgb(0,0,0);stroke-width:1\" >\n",
       "\n",
       "  <!-- Horizontal lines -->\n",
       "  <line x1=\"10\" y1=\"0\" x2=\"26\" y2=\"16\" style=\"stroke-width:2\" />\n",
       "  <line x1=\"10\" y1=\"120\" x2=\"26\" y2=\"136\" style=\"stroke-width:2\" />\n",
       "\n",
       "  <!-- Vertical lines -->\n",
       "  <line x1=\"10\" y1=\"0\" x2=\"10\" y2=\"120\" style=\"stroke-width:2\" />\n",
       "  <line x1=\"10\" y1=\"0\" x2=\"10\" y2=\"120\" />\n",
       "  <line x1=\"11\" y1=\"1\" x2=\"11\" y2=\"121\" />\n",
       "  <line x1=\"12\" y1=\"2\" x2=\"12\" y2=\"122\" />\n",
       "  <line x1=\"13\" y1=\"3\" x2=\"13\" y2=\"123\" />\n",
       "  <line x1=\"14\" y1=\"4\" x2=\"14\" y2=\"124\" />\n",
       "  <line x1=\"15\" y1=\"5\" x2=\"15\" y2=\"125\" />\n",
       "  <line x1=\"16\" y1=\"6\" x2=\"16\" y2=\"126\" />\n",
       "  <line x1=\"17\" y1=\"7\" x2=\"17\" y2=\"127\" />\n",
       "  <line x1=\"17\" y1=\"7\" x2=\"17\" y2=\"127\" />\n",
       "  <line x1=\"18\" y1=\"8\" x2=\"18\" y2=\"128\" />\n",
       "  <line x1=\"19\" y1=\"9\" x2=\"19\" y2=\"129\" />\n",
       "  <line x1=\"20\" y1=\"10\" x2=\"20\" y2=\"130\" />\n",
       "  <line x1=\"21\" y1=\"11\" x2=\"21\" y2=\"131\" />\n",
       "  <line x1=\"22\" y1=\"12\" x2=\"22\" y2=\"132\" />\n",
       "  <line x1=\"23\" y1=\"13\" x2=\"23\" y2=\"133\" />\n",
       "  <line x1=\"24\" y1=\"14\" x2=\"24\" y2=\"134\" />\n",
       "  <line x1=\"25\" y1=\"15\" x2=\"25\" y2=\"135\" />\n",
       "  <line x1=\"25\" y1=\"15\" x2=\"25\" y2=\"135\" />\n",
       "  <line x1=\"26\" y1=\"16\" x2=\"26\" y2=\"136\" style=\"stroke-width:2\" />\n",
       "\n",
       "  <!-- Colored Rectangle -->\n",
       "  <polygon points=\"10.0,0.0 26.906197841487014,16.906197841487014 26.906197841487014,136.90619784148703 10.0,120.0\" style=\"fill:#8B4903A0;stroke-width:0\"/>\n",
       "\n",
       "  <!-- Horizontal lines -->\n",
       "  <line x1=\"10\" y1=\"0\" x2=\"36\" y2=\"0\" style=\"stroke-width:2\" />\n",
       "  <line x1=\"10\" y1=\"0\" x2=\"37\" y2=\"0\" />\n",
       "  <line x1=\"11\" y1=\"1\" x2=\"38\" y2=\"1\" />\n",
       "  <line x1=\"12\" y1=\"2\" x2=\"39\" y2=\"2\" />\n",
       "  <line x1=\"13\" y1=\"3\" x2=\"40\" y2=\"3\" />\n",
       "  <line x1=\"14\" y1=\"4\" x2=\"41\" y2=\"4\" />\n",
       "  <line x1=\"15\" y1=\"5\" x2=\"42\" y2=\"5\" />\n",
       "  <line x1=\"16\" y1=\"6\" x2=\"42\" y2=\"6\" />\n",
       "  <line x1=\"17\" y1=\"7\" x2=\"43\" y2=\"7\" />\n",
       "  <line x1=\"17\" y1=\"7\" x2=\"44\" y2=\"7\" />\n",
       "  <line x1=\"18\" y1=\"8\" x2=\"45\" y2=\"8\" />\n",
       "  <line x1=\"19\" y1=\"9\" x2=\"46\" y2=\"9\" />\n",
       "  <line x1=\"20\" y1=\"10\" x2=\"47\" y2=\"10\" />\n",
       "  <line x1=\"21\" y1=\"11\" x2=\"48\" y2=\"11\" />\n",
       "  <line x1=\"22\" y1=\"12\" x2=\"49\" y2=\"12\" />\n",
       "  <line x1=\"23\" y1=\"13\" x2=\"50\" y2=\"13\" />\n",
       "  <line x1=\"24\" y1=\"14\" x2=\"50\" y2=\"14\" />\n",
       "  <line x1=\"25\" y1=\"15\" x2=\"51\" y2=\"15\" />\n",
       "  <line x1=\"25\" y1=\"15\" x2=\"52\" y2=\"15\" />\n",
       "  <line x1=\"26\" y1=\"16\" x2=\"53\" y2=\"16\" style=\"stroke-width:2\" />\n",
       "\n",
       "  <!-- Vertical lines -->\n",
       "  <line x1=\"10\" y1=\"0\" x2=\"26\" y2=\"16\" style=\"stroke-width:2\" />\n",
       "  <line x1=\"36\" y1=\"0\" x2=\"53\" y2=\"16\" style=\"stroke-width:2\" />\n",
       "\n",
       "  <!-- Colored Rectangle -->\n",
       "  <polygon points=\"10.0,0.0 36.78113130309062,0.0 53.68732914457763,16.906197841487014 26.906197841487014,16.906197841487014\" style=\"fill:#8B4903A0;stroke-width:0\"/>\n",
       "\n",
       "  <!-- Horizontal lines -->\n",
       "  <line x1=\"26\" y1=\"16\" x2=\"53\" y2=\"16\" style=\"stroke-width:2\" />\n",
       "  <line x1=\"26\" y1=\"136\" x2=\"53\" y2=\"136\" style=\"stroke-width:2\" />\n",
       "\n",
       "  <!-- Vertical lines -->\n",
       "  <line x1=\"26\" y1=\"16\" x2=\"26\" y2=\"136\" style=\"stroke-width:2\" />\n",
       "  <line x1=\"53\" y1=\"16\" x2=\"53\" y2=\"136\" style=\"stroke-width:2\" />\n",
       "\n",
       "  <!-- Colored Rectangle -->\n",
       "  <polygon points=\"26.906197841487014,16.906197841487014 53.68732914457763,16.906197841487014 53.68732914457763,136.90619784148703 26.906197841487014,136.90619784148703\" style=\"fill:#ECB172A0;stroke-width:0\"/>\n",
       "\n",
       "  <!-- Text -->\n",
       "  <text x=\"40.296763\" y=\"156.906198\" font-size=\"1.0rem\" font-weight=\"100\" text-anchor=\"middle\" >256</text>\n",
       "  <text x=\"73.687329\" y=\"76.906198\" font-size=\"1.0rem\" font-weight=\"100\" text-anchor=\"middle\" transform=\"rotate(-90,73.687329,76.906198)\">19431</text>\n",
       "  <text x=\"8.453099\" y=\"148.453099\" font-size=\"1.0rem\" font-weight=\"100\" text-anchor=\"middle\" transform=\"rotate(45,8.453099,148.453099)\">369</text>\n",
       "</svg>\n",
       "        </td>\n",
       "    </tr>\n",
       "</table>"
      ],
      "text/plain": [
       "dask.array<from-zarr, shape=(369, 19431, 256), dtype=float32, chunksize=(1, 19431, 256), chunktype=numpy.ndarray>"
      ]
     },
     "execution_count": 40,
     "metadata": {},
     "output_type": "execute_result"
    }
   ],
   "source": [
    "z[0]"
   ]
  },
  {
   "cell_type": "code",
   "execution_count": 41,
   "metadata": {},
   "outputs": [
    {
     "data": {
      "text/html": [
       "<table>\n",
       "    <tr>\n",
       "        <td>\n",
       "            <table style=\"border-collapse: collapse;\">\n",
       "                <thead>\n",
       "                    <tr>\n",
       "                        <td> </td>\n",
       "                        <th> Array </th>\n",
       "                        <th> Chunk </th>\n",
       "                    </tr>\n",
       "                </thead>\n",
       "                <tbody>\n",
       "                    \n",
       "                    <tr>\n",
       "                        <th> Bytes </th>\n",
       "                        <td> 82.05 GiB </td>\n",
       "                        <td> 227.71 MiB </td>\n",
       "                    </tr>\n",
       "                    \n",
       "                    <tr>\n",
       "                        <th> Shape </th>\n",
       "                        <td> (369, 19431, 3072) </td>\n",
       "                        <td> (1, 19431, 3072) </td>\n",
       "                    </tr>\n",
       "                    <tr>\n",
       "                        <th> Dask graph </th>\n",
       "                        <td colspan=\"2\"> 369 chunks in 2 graph layers </td>\n",
       "                    </tr>\n",
       "                    <tr>\n",
       "                        <th> Data type </th>\n",
       "                        <td colspan=\"2\"> float32 numpy.ndarray </td>\n",
       "                    </tr>\n",
       "                </tbody>\n",
       "            </table>\n",
       "        </td>\n",
       "        <td>\n",
       "        <svg width=\"117\" height=\"186\" style=\"stroke:rgb(0,0,0);stroke-width:1\" >\n",
       "\n",
       "  <!-- Horizontal lines -->\n",
       "  <line x1=\"10\" y1=\"0\" x2=\"26\" y2=\"16\" style=\"stroke-width:2\" />\n",
       "  <line x1=\"10\" y1=\"120\" x2=\"26\" y2=\"136\" style=\"stroke-width:2\" />\n",
       "\n",
       "  <!-- Vertical lines -->\n",
       "  <line x1=\"10\" y1=\"0\" x2=\"10\" y2=\"120\" style=\"stroke-width:2\" />\n",
       "  <line x1=\"10\" y1=\"0\" x2=\"10\" y2=\"120\" />\n",
       "  <line x1=\"11\" y1=\"1\" x2=\"11\" y2=\"121\" />\n",
       "  <line x1=\"12\" y1=\"2\" x2=\"12\" y2=\"122\" />\n",
       "  <line x1=\"13\" y1=\"3\" x2=\"13\" y2=\"123\" />\n",
       "  <line x1=\"14\" y1=\"4\" x2=\"14\" y2=\"124\" />\n",
       "  <line x1=\"15\" y1=\"5\" x2=\"15\" y2=\"125\" />\n",
       "  <line x1=\"16\" y1=\"6\" x2=\"16\" y2=\"126\" />\n",
       "  <line x1=\"17\" y1=\"7\" x2=\"17\" y2=\"127\" />\n",
       "  <line x1=\"17\" y1=\"7\" x2=\"17\" y2=\"127\" />\n",
       "  <line x1=\"18\" y1=\"8\" x2=\"18\" y2=\"128\" />\n",
       "  <line x1=\"19\" y1=\"9\" x2=\"19\" y2=\"129\" />\n",
       "  <line x1=\"20\" y1=\"10\" x2=\"20\" y2=\"130\" />\n",
       "  <line x1=\"21\" y1=\"11\" x2=\"21\" y2=\"131\" />\n",
       "  <line x1=\"22\" y1=\"12\" x2=\"22\" y2=\"132\" />\n",
       "  <line x1=\"23\" y1=\"13\" x2=\"23\" y2=\"133\" />\n",
       "  <line x1=\"24\" y1=\"14\" x2=\"24\" y2=\"134\" />\n",
       "  <line x1=\"25\" y1=\"15\" x2=\"25\" y2=\"135\" />\n",
       "  <line x1=\"25\" y1=\"15\" x2=\"25\" y2=\"135\" />\n",
       "  <line x1=\"26\" y1=\"16\" x2=\"26\" y2=\"136\" style=\"stroke-width:2\" />\n",
       "\n",
       "  <!-- Colored Rectangle -->\n",
       "  <polygon points=\"10.0,0.0 26.906197841487014,16.906197841487014 26.906197841487014,136.90619784148703 10.0,120.0\" style=\"fill:#8B4903A0;stroke-width:0\"/>\n",
       "\n",
       "  <!-- Horizontal lines -->\n",
       "  <line x1=\"10\" y1=\"0\" x2=\"50\" y2=\"0\" style=\"stroke-width:2\" />\n",
       "  <line x1=\"10\" y1=\"0\" x2=\"51\" y2=\"0\" />\n",
       "  <line x1=\"11\" y1=\"1\" x2=\"52\" y2=\"1\" />\n",
       "  <line x1=\"12\" y1=\"2\" x2=\"53\" y2=\"2\" />\n",
       "  <line x1=\"13\" y1=\"3\" x2=\"54\" y2=\"3\" />\n",
       "  <line x1=\"14\" y1=\"4\" x2=\"55\" y2=\"4\" />\n",
       "  <line x1=\"15\" y1=\"5\" x2=\"56\" y2=\"5\" />\n",
       "  <line x1=\"16\" y1=\"6\" x2=\"57\" y2=\"6\" />\n",
       "  <line x1=\"17\" y1=\"7\" x2=\"58\" y2=\"7\" />\n",
       "  <line x1=\"17\" y1=\"7\" x2=\"58\" y2=\"7\" />\n",
       "  <line x1=\"18\" y1=\"8\" x2=\"59\" y2=\"8\" />\n",
       "  <line x1=\"19\" y1=\"9\" x2=\"60\" y2=\"9\" />\n",
       "  <line x1=\"20\" y1=\"10\" x2=\"61\" y2=\"10\" />\n",
       "  <line x1=\"21\" y1=\"11\" x2=\"62\" y2=\"11\" />\n",
       "  <line x1=\"22\" y1=\"12\" x2=\"63\" y2=\"12\" />\n",
       "  <line x1=\"23\" y1=\"13\" x2=\"64\" y2=\"13\" />\n",
       "  <line x1=\"24\" y1=\"14\" x2=\"65\" y2=\"14\" />\n",
       "  <line x1=\"25\" y1=\"15\" x2=\"66\" y2=\"15\" />\n",
       "  <line x1=\"25\" y1=\"15\" x2=\"66\" y2=\"15\" />\n",
       "  <line x1=\"26\" y1=\"16\" x2=\"67\" y2=\"16\" style=\"stroke-width:2\" />\n",
       "\n",
       "  <!-- Vertical lines -->\n",
       "  <line x1=\"10\" y1=\"0\" x2=\"26\" y2=\"16\" style=\"stroke-width:2\" />\n",
       "  <line x1=\"50\" y1=\"0\" x2=\"67\" y2=\"16\" style=\"stroke-width:2\" />\n",
       "\n",
       "  <!-- Colored Rectangle -->\n",
       "  <polygon points=\"10.0,0.0 50.957449184247885,0.0 67.8636470257349,16.906197841487014 26.906197841487014,16.906197841487014\" style=\"fill:#8B4903A0;stroke-width:0\"/>\n",
       "\n",
       "  <!-- Horizontal lines -->\n",
       "  <line x1=\"26\" y1=\"16\" x2=\"67\" y2=\"16\" style=\"stroke-width:2\" />\n",
       "  <line x1=\"26\" y1=\"136\" x2=\"67\" y2=\"136\" style=\"stroke-width:2\" />\n",
       "\n",
       "  <!-- Vertical lines -->\n",
       "  <line x1=\"26\" y1=\"16\" x2=\"26\" y2=\"136\" style=\"stroke-width:2\" />\n",
       "  <line x1=\"67\" y1=\"16\" x2=\"67\" y2=\"136\" style=\"stroke-width:2\" />\n",
       "\n",
       "  <!-- Colored Rectangle -->\n",
       "  <polygon points=\"26.906197841487014,16.906197841487014 67.8636470257349,16.906197841487014 67.8636470257349,136.90619784148703 26.906197841487014,136.90619784148703\" style=\"fill:#ECB172A0;stroke-width:0\"/>\n",
       "\n",
       "  <!-- Text -->\n",
       "  <text x=\"47.384922\" y=\"156.906198\" font-size=\"1.0rem\" font-weight=\"100\" text-anchor=\"middle\" >3072</text>\n",
       "  <text x=\"87.863647\" y=\"76.906198\" font-size=\"1.0rem\" font-weight=\"100\" text-anchor=\"middle\" transform=\"rotate(-90,87.863647,76.906198)\">19431</text>\n",
       "  <text x=\"8.453099\" y=\"148.453099\" font-size=\"1.0rem\" font-weight=\"100\" text-anchor=\"middle\" transform=\"rotate(45,8.453099,148.453099)\">369</text>\n",
       "</svg>\n",
       "        </td>\n",
       "    </tr>\n",
       "</table>"
      ],
      "text/plain": [
       "dask.array<from-zarr, shape=(369, 19431, 3072), dtype=float32, chunksize=(1, 19431, 3072), chunktype=numpy.ndarray>"
      ]
     },
     "execution_count": 41,
     "metadata": {},
     "output_type": "execute_result"
    }
   ],
   "source": [
    "z[1]"
   ]
  },
  {
   "cell_type": "code",
   "execution_count": 27,
   "metadata": {},
   "outputs": [
    {
     "data": {
      "text/html": [
       "<table>\n",
       "    <tr>\n",
       "        <td>\n",
       "            <table style=\"border-collapse: collapse;\">\n",
       "                <thead>\n",
       "                    <tr>\n",
       "                        <td> </td>\n",
       "                        <th> Array </th>\n",
       "                        <th> Chunk </th>\n",
       "                    </tr>\n",
       "                </thead>\n",
       "                <tbody>\n",
       "                    \n",
       "                    <tr>\n",
       "                        <th> Bytes </th>\n",
       "                        <td> 12.00 kiB </td>\n",
       "                        <td> 12.00 kiB </td>\n",
       "                    </tr>\n",
       "                    \n",
       "                    <tr>\n",
       "                        <th> Shape </th>\n",
       "                        <td> (3072,) </td>\n",
       "                        <td> (3072,) </td>\n",
       "                    </tr>\n",
       "                    <tr>\n",
       "                        <th> Dask graph </th>\n",
       "                        <td colspan=\"2\"> 1 chunks in 13 graph layers </td>\n",
       "                    </tr>\n",
       "                    <tr>\n",
       "                        <th> Data type </th>\n",
       "                        <td colspan=\"2\"> float32 numpy.ndarray </td>\n",
       "                    </tr>\n",
       "                </tbody>\n",
       "            </table>\n",
       "        </td>\n",
       "        <td>\n",
       "        <svg width=\"170\" height=\"75\" style=\"stroke:rgb(0,0,0);stroke-width:1\" >\n",
       "\n",
       "  <!-- Horizontal lines -->\n",
       "  <line x1=\"0\" y1=\"0\" x2=\"120\" y2=\"0\" style=\"stroke-width:2\" />\n",
       "  <line x1=\"0\" y1=\"25\" x2=\"120\" y2=\"25\" style=\"stroke-width:2\" />\n",
       "\n",
       "  <!-- Vertical lines -->\n",
       "  <line x1=\"0\" y1=\"0\" x2=\"0\" y2=\"25\" style=\"stroke-width:2\" />\n",
       "  <line x1=\"120\" y1=\"0\" x2=\"120\" y2=\"25\" style=\"stroke-width:2\" />\n",
       "\n",
       "  <!-- Colored Rectangle -->\n",
       "  <polygon points=\"0.0,0.0 120.0,0.0 120.0,25.412616514582485 0.0,25.412616514582485\" style=\"fill:#ECB172A0;stroke-width:0\"/>\n",
       "\n",
       "  <!-- Text -->\n",
       "  <text x=\"60.000000\" y=\"45.412617\" font-size=\"1.0rem\" font-weight=\"100\" text-anchor=\"middle\" >3072</text>\n",
       "  <text x=\"140.000000\" y=\"12.706308\" font-size=\"1.0rem\" font-weight=\"100\" text-anchor=\"middle\" transform=\"rotate(0,140.000000,12.706308)\">1</text>\n",
       "</svg>\n",
       "        </td>\n",
       "    </tr>\n",
       "</table>"
      ],
      "text/plain": [
       "dask.array<mean_agg-aggregate, shape=(3072,), dtype=float32, chunksize=(3072,), chunktype=numpy.ndarray>"
      ]
     },
     "execution_count": 27,
     "metadata": {},
     "output_type": "execute_result"
    }
   ],
   "source": [
    "np.mean(np.abs(z[1]), axis=(0, 1))"
   ]
  },
  {
   "cell_type": "code",
   "execution_count": 28,
   "metadata": {},
   "outputs": [],
   "source": [
    "z_avg = tuple(np.asarray(da.abs(z_i).mean(axis=(0, 1))) for z_i in z)"
   ]
  },
  {
   "cell_type": "code",
   "execution_count": 29,
   "metadata": {},
   "outputs": [
    {
     "data": {
      "text/plain": [
       "(369, 19431, 3072)"
      ]
     },
     "execution_count": 29,
     "metadata": {},
     "output_type": "execute_result"
    }
   ],
   "source": [
    "z[1].shape"
   ]
  },
  {
   "cell_type": "code",
   "execution_count": 30,
   "metadata": {},
   "outputs": [
    {
     "data": {
      "image/png": "[encoded data removed]",
      "text/plain": [
       "<Figure size 640x480 with 1 Axes>"
      ]
     },
     "metadata": {},
     "output_type": "display_data"
    }
   ],
   "source": [
    "plt.plot(np.arange(len(z_avg[0])), z_avg[0]);\n",
    "plt.xlabel('n PC');\n",
    "plt.ylabel('mean attribution score');"
   ]
  },
  {
   "cell_type": "code",
   "execution_count": 31,
   "metadata": {},
   "outputs": [
    {
     "data": {
      "image/png": "[encoded data removed]",
      "text/plain": [
       "<Figure size 640x480 with 1 Axes>"
      ]
     },
     "metadata": {},
     "output_type": "display_data"
    }
   ],
   "source": [
    "plt.plot(np.arange(len(z_avg[1])), np.sort(z_avg[1])[::-1]);\n",
    "plt.xlabel('embed dim');\n",
    "plt.ylabel('mean attribution score');"
   ]
  },
  {
   "cell_type": "code",
   "execution_count": 43,
   "metadata": {},
   "outputs": [],
   "source": [
    "indices = np.argsort(z_avg[1])[::-1]\n",
    "z = (z[0], z[1][:, :, indices])"
   ]
  },
  {
   "cell_type": "code",
   "execution_count": 44,
   "metadata": {},
   "outputs": [],
   "source": [
    "z = tuple(np.asarray(z_ind[:, :, :50]) for z_ind in z)"
   ]
  },
  {
   "cell_type": "code",
   "execution_count": 45,
   "metadata": {},
   "outputs": [
    {
     "name": "stderr",
     "output_type": "stream",
     "text": [
      "100%|██████████| 50/50 [00:04<00:00, 10.01it/s]\n",
      "100%|██████████| 50/50 [00:04<00:00, 10.65it/s]\n",
      "100%|██████████| 50/50 [00:04<00:00, 10.43it/s]\n",
      "100%|██████████| 50/50 [00:04<00:00, 11.20it/s]\n",
      "100%|██████████| 50/50 [00:04<00:00, 10.94it/s]\n",
      "100%|██████████| 50/50 [00:04<00:00, 11.03it/s]\n",
      "100%|██████████| 50/50 [00:04<00:00, 11.18it/s]\n",
      "100%|██████████| 50/50 [00:04<00:00, 10.72it/s]\n",
      "100%|██████████| 50/50 [00:04<00:00, 10.71it/s]\n",
      "100%|██████████| 50/50 [00:04<00:00, 10.40it/s]\n",
      "100%|██████████| 50/50 [00:04<00:00, 10.46it/s]\n",
      "100%|██████████| 50/50 [00:04<00:00, 10.63it/s]\n",
      "100%|██████████| 50/50 [00:04<00:00, 10.90it/s]\n",
      "100%|██████████| 50/50 [00:04<00:00, 11.34it/s]\n",
      "100%|██████████| 50/50 [00:04<00:00, 10.59it/s]\n",
      "100%|██████████| 50/50 [00:04<00:00, 10.83it/s]\n",
      "100%|██████████| 50/50 [00:04<00:00, 11.03it/s]\n",
      "100%|██████████| 50/50 [00:04<00:00, 11.25it/s]\n",
      "100%|██████████| 50/50 [00:04<00:00, 10.35it/s]\n",
      "100%|██████████| 50/50 [00:04<00:00, 10.76it/s]\n",
      "100%|██████████| 50/50 [00:04<00:00, 10.43it/s]\n",
      "100%|██████████| 50/50 [00:04<00:00, 10.66it/s]\n",
      "100%|██████████| 50/50 [00:04<00:00, 11.19it/s]\n",
      "100%|██████████| 50/50 [00:04<00:00, 10.89it/s]\n",
      "100%|██████████| 50/50 [00:04<00:00, 10.69it/s]\n",
      "100%|██████████| 50/50 [00:04<00:00, 10.52it/s]\n",
      "100%|██████████| 50/50 [00:04<00:00, 10.71it/s]\n",
      "100%|██████████| 50/50 [00:04<00:00, 10.86it/s]\n",
      "100%|██████████| 50/50 [00:04<00:00, 11.43it/s]\n",
      "100%|██████████| 50/50 [00:04<00:00, 11.43it/s]\n",
      "100%|██████████| 50/50 [00:04<00:00, 11.45it/s]\n",
      "100%|██████████| 50/50 [00:04<00:00, 10.69it/s]\n",
      "100%|██████████| 50/50 [00:04<00:00, 10.95it/s]\n",
      "100%|██████████| 50/50 [00:04<00:00, 11.24it/s]\n",
      "100%|██████████| 50/50 [00:04<00:00, 10.87it/s]\n",
      "100%|██████████| 50/50 [00:04<00:00, 10.57it/s]\n",
      "100%|██████████| 50/50 [00:04<00:00, 10.89it/s]\n",
      "100%|██████████| 50/50 [00:04<00:00, 10.88it/s]\n",
      "100%|██████████| 50/50 [00:04<00:00, 10.67it/s]\n",
      "100%|██████████| 50/50 [00:04<00:00, 11.40it/s]\n",
      "100%|██████████| 50/50 [00:04<00:00, 11.45it/s]\n",
      "100%|██████████| 50/50 [00:04<00:00, 11.45it/s]\n",
      "100%|██████████| 50/50 [00:04<00:00, 11.36it/s]\n",
      "100%|██████████| 50/50 [00:04<00:00, 11.50it/s]\n",
      "100%|██████████| 50/50 [00:04<00:00, 11.33it/s]\n",
      "100%|██████████| 50/50 [00:04<00:00, 11.43it/s]\n",
      "100%|██████████| 50/50 [00:04<00:00, 11.46it/s]\n",
      "100%|██████████| 50/50 [00:04<00:00, 11.46it/s]\n",
      "100%|██████████| 50/50 [00:04<00:00, 11.46it/s]\n",
      "100%|██████████| 50/50 [00:04<00:00, 11.31it/s]\n",
      "100%|██████████| 50/50 [03:48<00:00,  4.57s/it]\n"
     ]
    }
   ],
   "source": [
    "C = np.zeros((z[0].shape[2], z[1].shape[2]))\n",
    "\n",
    "for t in tqdm(range(z[0].shape[2])):\n",
    "    for s in tqdm(range(z[1].shape[2])):\n",
    "        C[t, s] = np.corrcoef(z[0][test_obs][:, test_var, t].flatten(), z[1][test_obs][:, test_var, s].flatten())[0, 1]"
   ]
  },
  {
   "cell_type": "code",
   "execution_count": 46,
   "metadata": {},
   "outputs": [],
   "source": [
    "import seaborn as sns"
   ]
  },
  {
   "cell_type": "code",
   "execution_count": 47,
   "metadata": {},
   "outputs": [
    {
     "data": {
      "text/plain": [
       "<matplotlib.image.AxesImage at 0x3493a2be0>"
      ]
     },
     "execution_count": 47,
     "metadata": {},
     "output_type": "execute_result"
    },
    {
     "data": {
      "image/png": "[encoded data removed]",
      "text/plain": [
       "<Figure size 640x480 with 1 Axes>"
      ]
     },
     "metadata": {},
     "output_type": "display_data"
    }
   ],
   "source": [
    "plt.imshow(C)"
   ]
  },
  {
   "cell_type": "code",
   "execution_count": 48,
   "metadata": {},
   "outputs": [
    {
     "data": {
      "text/plain": [
       "<seaborn.matrix.ClusterGrid at 0x3492e9160>"
      ]
     },
     "execution_count": 48,
     "metadata": {},
     "output_type": "execute_result"
    },
    {
     "data": {
      "image/png": "[encoded data removed]",
      "text/plain": [
       "<Figure size 1000x1000 with 4 Axes>"
      ]
     },
     "metadata": {},
     "output_type": "display_data"
    }
   ],
   "source": [
    "sns.clustermap(C)"
   ]
  },
  {
   "cell_type": "markdown",
   "metadata": {},
   "source": [
    "## Full model"
   ]
  },
  {
   "cell_type": "code",
   "execution_count": 13,
   "metadata": {},
   "outputs": [],
   "source": [
    "from sklearn.decomposition import PCA\n",
    "\n",
    "\n",
    "train_cells = adata.obs['train']\n",
    "train_genes = adata.var['train']\n",
    "adata_split = adata[train_cells, train_genes]\n",
    "\n",
    "# fit pca on training data\n",
    "pca = PCA()\n",
    "pca.fit(adata_split.X)\n",
    "\n",
    "# compute scores for all cells\n",
    "pca_expression = pca.transform(adata[:, train_genes].X)\n",
    "\n",
    "# # add cell embeddings to obsm\n",
    "# n_pcs = config.pcs\n",
    "# n_pcs = min(n_pcs, pca_expression.shape[1] - 1)\n",
    "# adata.obsm[\"embedding\"] = pca_expression[:, :n_pcs]\n",
    "# adata.uns[\"obs_embedding_pca\"] = {\n",
    "#     \"explained_variance\": np.cumsum(pca.explained_variance_ratio_)[n_pcs]\n",
    "# }"
   ]
  },
  {
   "cell_type": "code",
   "execution_count": 14,
   "metadata": {},
   "outputs": [],
   "source": [
    "from enformer_pytorch import Enformer\n",
    "\n",
    "\n",
    "MODEL_PT = \"EleutherAI/enformer-official-rough\"\n",
    "SEQ_EMBED_DIM = 896\n",
    "EMBED_DIM = 3072\n",
    "TSS = int(SEQ_EMBED_DIM // 2)"
   ]
  },
  {
   "cell_type": "code",
   "execution_count": 15,
   "metadata": {},
   "outputs": [],
   "source": [
    "import torch.nn as nn\n",
    "import torch\n",
    "\n",
    "class FullJointModel(nn.Module):\n",
    "    def __init__(self, rlm, pca, indices=None):\n",
    "        super(FullJointModel, self).__init__()\n",
    "        self.input_mean = torch.from_numpy(pca.mean_)\n",
    "        self.input_weights = torch.from_numpy(pca.components_[:256])\n",
    "        self.enformer = Enformer.from_pretrained(MODEL_PT, output_heads=dict(), use_checkpointing=False)\n",
    "        self.tss = TSS\n",
    "        self.model = rlm.model\n",
    "        self.indices = indices\n",
    "\n",
    "    def forward(self, x1, x2):\n",
    "        if self.indices is not None:\n",
    "            x1 = x1[:, self.indices]\n",
    "        x1 = x1 - self.input_mean\n",
    "        x1 = torch.einsum('ij, kj -> ik', x1, self.input_weights)\n",
    "        _, x2 = self.enformer(x2, return_embeddings=True)\n",
    "        x2 = x2[:, self.tss]\n",
    "        return self.model((x1, x2))"
   ]
  },
  {
   "cell_type": "code",
   "execution_count": 16,
   "metadata": {},
   "outputs": [],
   "source": [
    "BASE_PT = \"/Users/nsofroniew/Documents/data/multiomics/enformer\"\n",
    "FASTA_PT = BASE_PT + \"/Homo_sapiens.GRCh38.dna.toplevel.fa\"\n",
    "\n",
    "config.data_module.data.var_input = FASTA_PT\n",
    "config.data_module.data.obs_input = 'X'"
   ]
  },
  {
   "cell_type": "code",
   "execution_count": 17,
   "metadata": {},
   "outputs": [],
   "source": [
    "# Create Data Module\n",
    "rdm = RosaDataModule(\n",
    "    output_path,\n",
    "    config=config.data_module,\n",
    ")\n",
    "rdm.setup()"
   ]
  },
  {
   "cell_type": "code",
   "execution_count": 26,
   "metadata": {},
   "outputs": [
    {
     "name": "stderr",
     "output_type": "stream",
     "text": [
      "Some weights of the model checkpoint at EleutherAI/enformer-official-rough were not used when initializing Enformer: ['_heads.human.0.weight', '_heads.mouse.0.bias', '_heads.mouse.0.weight', '_heads.human.0.bias']\n",
      "- This IS expected if you are initializing Enformer from the checkpoint of a model trained on another task or with another architecture (e.g. initializing a BertForSequenceClassification model from a BertForPreTraining model).\n",
      "- This IS NOT expected if you are initializing Enformer from the checkpoint of a model that you expect to be exactly identical (initializing a BertForSequenceClassification model from a BertForSequenceClassification model).\n"
     ]
    }
   ],
   "source": [
    "import zarr\n",
    "\n",
    "test_indices = np.where(np.logical_not(rdm.test_dataset.adata.var['train']))[0]\n",
    "train_indices = np.where(rdm.test_dataset.adata.var['train'])[0]\n",
    "results_shape = tuple((len(rdm.test_dataset), len(test_indices), r,) for r in rdm.len_input) # rdm.len_target\n",
    "z = tuple(zarr.open(f'data/joint_attribution{i}.zarr', mode='w', shape=r, chunks=(1, None, None), dtype=np.float32) for i, r in enumerate(results_shape))\n",
    "\n",
    "# results_shape = (len(rdm.test_dataset), len(test_indices), len(train_indices))\n",
    "z = tuple(zarr.open(f'data/joint_attribution_full{i}.zarr', mode='w', shape=r, chunks=(1, None, None), dtype=np.float32) for i, r in enumerate(results_shape))\n",
    "dl = rdm.test_dataloader(batch_size=1)\n",
    "\n",
    "model = FullJointModel(rlm, pca, indices=train_indices)\n",
    "ixg = InputXGradient(model)\n"
   ]
  },
  {
   "cell_type": "code",
   "execution_count": 27,
   "metadata": {},
   "outputs": [
    {
     "data": {
      "text/plain": [
       "(<zarr.core.Array (97, 5792, 19431) float32>,\n",
       " <zarr.core.Array (97, 5792, 196608) float32>)"
      ]
     },
     "execution_count": 27,
     "metadata": {},
     "output_type": "execute_result"
    }
   ],
   "source": [
    "z"
   ]
  },
  {
   "cell_type": "code",
   "execution_count": 29,
   "metadata": {},
   "outputs": [
    {
     "data": {
      "text/plain": [
       "441.836371968"
      ]
     },
     "execution_count": 29,
     "metadata": {},
     "output_type": "execute_result"
    }
   ],
   "source": [
    "z[1].nbytes / 1e9"
   ]
  },
  {
   "cell_type": "code",
   "execution_count": 30,
   "metadata": {},
   "outputs": [
    {
     "name": "stderr",
     "output_type": "stream",
     "text": [
      "  0%|          | 0/97 [00:00<?, ?it/s]"
     ]
    }
   ],
   "source": [
    "ind = 0\n",
    "for attribution in tqdm(iter(rlm.explain_iter(dl, ixg)), total=len(dl)):\n",
    "    for i, a in enumerate(attribution):\n",
    "        z[i][ind:ind+len(a), :, :] = a.detach().numpy() # for joint\n",
    "    ind += len(a)"
   ]
  },
  {
   "cell_type": "code",
   "execution_count": null,
   "metadata": {},
   "outputs": [],
   "source": []
  },
  {
   "cell_type": "code",
   "execution_count": null,
   "metadata": {},
   "outputs": [],
   "source": []
  },
  {
   "cell_type": "code",
   "execution_count": null,
   "metadata": {},
   "outputs": [],
   "source": []
  },
  {
   "cell_type": "code",
   "execution_count": null,
   "metadata": {},
   "outputs": [],
   "source": [
    "from rosa.utils import score_predictions, plot_expression_and_correlation, plot_marker_gene_heatmap\n",
    "\n",
    "\n",
    "adata_test, results = score_predictions(adata)"
   ]
  },
  {
   "cell_type": "code",
   "execution_count": null,
   "metadata": {},
   "outputs": [],
   "source": [
    "plot_expression_and_correlation(adata_test, results)"
   ]
  },
  {
   "cell_type": "code",
   "execution_count": null,
   "metadata": {},
   "outputs": [],
   "source": [
    "import numpy as np\n",
    "\n",
    "\n",
    "marker_genes = adata_test.var[adata_test.var['highly_variable']]['feature_name'].values\n",
    "np.random.seed(42)\n",
    "marker_genes = np.random.choice(marker_genes, 50)\n",
    "\n",
    "plot_marker_gene_heatmap(adata_test, marker_genes)"
   ]
  },
  {
   "cell_type": "code",
   "execution_count": null,
   "metadata": {},
   "outputs": [],
   "source": [
    "marker_genes_dict = adata_test.obs.set_index('label').to_dict()['marker_feature_name']\n",
    "plot_marker_gene_heatmap(adata_test, marker_genes_dict)"
   ]
  },
  {
   "cell_type": "code",
   "execution_count": null,
   "metadata": {},
   "outputs": [],
   "source": []
  },
  {
   "cell_type": "code",
   "execution_count": null,
   "metadata": {},
   "outputs": [],
   "source": []
  }
 ],
 "metadata": {
  "kernelspec": {
   "display_name": "multiomics",
   "language": "python",
   "name": "python3"
  },
  "language_info": {
   "codemirror_mode": {
    "name": "ipython",
    "version": 3
   },
   "file_extension": ".py",
   "mimetype": "text/x-python",
   "name": "python",
   "nbconvert_exporter": "python",
   "pygments_lexer": "ipython3",
   "version": "3.9.13"
  },
  "orig_nbformat": 4,
  "vscode": {
   "interpreter": {
    "hash": "5c78ef6e1dc348573331f887aa1706c62aacac0373dba7ce1cc27999251039c5"
   }
  }
 },
 "nbformat": 4,
 "nbformat_minor": 2
}
