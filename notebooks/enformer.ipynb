{
 "cells": [
  {
   "cell_type": "code",
   "execution_count": 1,
   "metadata": {},
   "outputs": [
    {
     "name": "stdout",
     "output_type": "stream",
     "text": [
      "Converting fasta file\n",
      "Fasta file done\n"
     ]
    },
    {
     "name": "stderr",
     "output_type": "stream",
     "text": [
      "Some weights of the model checkpoint at EleutherAI/enformer-official-rough were not used when initializing Enformer: ['_heads.mouse.0.bias', '_heads.mouse.0.weight']\n",
      "- This IS expected if you are initializing Enformer from the checkpoint of a model trained on another task or with another architecture (e.g. initializing a BertForSequenceClassification model from a BertForPreTraining model).\n",
      "- This IS NOT expected if you are initializing Enformer from the checkpoint of a model that you expect to be exactly identical (initializing a BertForSequenceClassification model from a BertForSequenceClassification model).\n"
     ]
    }
   ],
   "source": [
    "import anndata as ad\n",
    "\n",
    "# PATH = '/home/ec2-user/cell_census/tabula_sapiens__sample_single_cell__label_cell_type__processed.h5ad'\n",
    "PATH = '/home/ec2-user/cell_census/tabula_sapiens__sample_donor_id__label_cell_type.h5ad'\n",
    "\n",
    "adata = ad.read_h5ad(PATH)\n",
    "\n",
    "from enformer_pytorch import GenomeIntervalDataset\n",
    "\n",
    "class MyGenomeIntervalDataset(GenomeIntervalDataset):\n",
    "    def __init__(self, **kwargs):\n",
    "        super(MyGenomeIntervalDataset, self).__init__(**kwargs)\n",
    "\n",
    "    def __getitem__(self, ind):\n",
    "        item = super().__getitem__(ind)\n",
    "        label = self.df.row(ind)[4]\n",
    "        return label, item\n",
    "\n",
    "\n",
    "import torch\n",
    "import polars as pl\n",
    "import zarr\n",
    "from enformer_pytorch import Enformer\n",
    "from torch.utils.data import DataLoader\n",
    "from tqdm import tqdm\n",
    "import pyfaidx\n",
    "from pathlib import Path\n",
    "\n",
    "torch.multiprocessing.freeze_support()\n",
    "\n",
    "BASE_PT = \"/home/ec2-user/enformer\"\n",
    "DEVICE = \"cuda:0\"\n",
    "\n",
    "# BASE_PT = \"/Users/nsofroniew/Documents/data/multiomics/enformer\"\n",
    "# DEVICE = \"cpu\"\n",
    "\n",
    "FASTA_PT = BASE_PT + \"/Homo_sapiens.GRCh38.dna.toplevel.fa\"\n",
    "GENE_INTERVALS_PT = BASE_PT + \"/Homo_sapiens.GRCh38.genes.bed\"\n",
    "EMBEDDING_PT = BASE_PT + \"/Homo_sapiens.GRCh38.genes.enformer_embeddings.zarr\"\n",
    "EMBEDDING_PT_TSS = BASE_PT + \"/Homo_sapiens.GRCh38.genes.enformer_embeddings_tss.zarr\"\n",
    "MODEL_PT = \"EleutherAI/enformer-official-rough\"\n",
    "\n",
    "def filter_df_fn(df):\n",
    "    return df.filter(pl.col(\"column_5\").is_in(list(adata.var_names)))\n",
    "\n",
    "print(\"Converting fasta file\")\n",
    "pyfaidx.Faidx(FASTA_PT)\n",
    "print(\"Fasta file done\")\n",
    "\n",
    "model = Enformer.from_pretrained(MODEL_PT, output_heads=dict(human = 5313), use_checkpointing = False)\n",
    "model.to(DEVICE)\n",
    "\n",
    "ds = MyGenomeIntervalDataset(\n",
    "    bed_file=GENE_INTERVALS_PT,  # bed file - columns 0, 1, 2 must be <chromosome>, <start position>, <end position>\n",
    "    fasta_file=FASTA_PT,  # path to fasta file\n",
    "    return_seq_indices=False,  # return nucleotide indices (ACGTN) or one hot encodings\n",
    "    rc_aug=False,\n",
    "    shift_augs=(1, 1),\n",
    "    filter_df_fn=filter_df_fn,\n",
    ")\n",
    "dl = DataLoader(ds, batch_size=2, shuffle=False, num_workers=0) # type: DataLoader\n",
    "\n",
    "# Create zarr files\n",
    "SEQ_EMBED_DIM = 896\n",
    "EMBED_DIM = 3072\n",
    "NUM_GENES = len(ds)\n",
    "TSS = int(SEQ_EMBED_DIM // 2)\n",
    "\n",
    "paths = (Path(EMBEDDING_PT), Path(EMBEDDING_PT_TSS))"
   ]
  },
  {
   "cell_type": "code",
   "execution_count": 94,
   "metadata": {},
   "outputs": [],
   "source": [
    "from random import randrange"
   ]
  },
  {
   "cell_type": "code",
   "execution_count": 95,
   "metadata": {},
   "outputs": [
    {
     "ename": "ValueError",
     "evalue": "empty range for randrange() (40245, 2, -40243)",
     "output_type": "error",
     "traceback": [
      "\u001b[0;31m---------------------------------------------------------------------------\u001b[0m",
      "\u001b[0;31mValueError\u001b[0m                                Traceback (most recent call last)",
      "\u001b[1;32m/home/ec2-user/rosa/notebooks/enformer.ipynb Cell 3\u001b[0m in \u001b[0;36m1\n\u001b[0;32m----> <a href='vscode-notebook-cell://ssh-remote%2Baws-ec2-1/home/ec2-user/rosa/notebooks/enformer.ipynb#X61sdnNjb2RlLXJlbW90ZQ%3D%3D?line=0'>1</a>\u001b[0m randrange(\u001b[39m40245\u001b[39;49m, \u001b[39m2\u001b[39;49m)\n",
      "File \u001b[0;32m/opt/conda/envs/pytorch/lib/python3.9/random.py:316\u001b[0m, in \u001b[0;36mRandom.randrange\u001b[0;34m(self, start, stop, step)\u001b[0m\n\u001b[1;32m    314\u001b[0m     \u001b[39mreturn\u001b[39;00m istart \u001b[39m+\u001b[39m \u001b[39mself\u001b[39m\u001b[39m.\u001b[39m_randbelow(width)\n\u001b[1;32m    315\u001b[0m \u001b[39mif\u001b[39;00m step \u001b[39m==\u001b[39m \u001b[39m1\u001b[39m:\n\u001b[0;32m--> 316\u001b[0m     \u001b[39mraise\u001b[39;00m \u001b[39mValueError\u001b[39;00m(\u001b[39m\"\u001b[39m\u001b[39mempty range for randrange() (\u001b[39m\u001b[39m%d\u001b[39;00m\u001b[39m, \u001b[39m\u001b[39m%d\u001b[39;00m\u001b[39m, \u001b[39m\u001b[39m%d\u001b[39;00m\u001b[39m)\u001b[39m\u001b[39m\"\u001b[39m \u001b[39m%\u001b[39m (istart, istop, width))\n\u001b[1;32m    318\u001b[0m \u001b[39m# Non-unit step argument supplied.\u001b[39;00m\n\u001b[1;32m    319\u001b[0m istep \u001b[39m=\u001b[39m \u001b[39mint\u001b[39m(step)\n",
      "\u001b[0;31mValueError\u001b[0m: empty range for randrange() (40245, 2, -40243)"
     ]
    }
   ],
   "source": [
    "randrange(40245, 2)"
   ]
  },
  {
   "cell_type": "code",
   "execution_count": 2,
   "metadata": {},
   "outputs": [
    {
     "ename": "ValueError",
     "evalue": "empty range for randrange() (40245, 2, -40243)",
     "output_type": "error",
     "traceback": [
      "\u001b[0;31m---------------------------------------------------------------------------\u001b[0m",
      "\u001b[0;31mValueError\u001b[0m                                Traceback (most recent call last)",
      "\u001b[1;32m/home/ec2-user/rosa/notebooks/enformer.ipynb Cell 4\u001b[0m in \u001b[0;36m1\n\u001b[0;32m----> <a href='vscode-notebook-cell://ssh-remote%2Baws-ec2-1/home/ec2-user/rosa/notebooks/enformer.ipynb#W3sdnNjb2RlLXJlbW90ZQ%3D%3D?line=0'>1</a>\u001b[0m ds[\u001b[39m181\u001b[39;49m]\n",
      "\u001b[1;32m/home/ec2-user/rosa/notebooks/enformer.ipynb Cell 4\u001b[0m in \u001b[0;36m1\n\u001b[1;32m     <a href='vscode-notebook-cell://ssh-remote%2Baws-ec2-1/home/ec2-user/rosa/notebooks/enformer.ipynb#W3sdnNjb2RlLXJlbW90ZQ%3D%3D?line=13'>14</a>\u001b[0m \u001b[39mdef\u001b[39;00m \u001b[39m__getitem__\u001b[39m(\u001b[39mself\u001b[39m, ind):\n\u001b[0;32m---> <a href='vscode-notebook-cell://ssh-remote%2Baws-ec2-1/home/ec2-user/rosa/notebooks/enformer.ipynb#W3sdnNjb2RlLXJlbW90ZQ%3D%3D?line=14'>15</a>\u001b[0m     item \u001b[39m=\u001b[39m \u001b[39msuper\u001b[39;49m()\u001b[39m.\u001b[39;49m\u001b[39m__getitem__\u001b[39;49m(ind)\n\u001b[1;32m     <a href='vscode-notebook-cell://ssh-remote%2Baws-ec2-1/home/ec2-user/rosa/notebooks/enformer.ipynb#W3sdnNjb2RlLXJlbW90ZQ%3D%3D?line=15'>16</a>\u001b[0m     label \u001b[39m=\u001b[39m \u001b[39mself\u001b[39m\u001b[39m.\u001b[39mdf\u001b[39m.\u001b[39mrow(ind)[\u001b[39m4\u001b[39m]\n\u001b[1;32m     <a href='vscode-notebook-cell://ssh-remote%2Baws-ec2-1/home/ec2-user/rosa/notebooks/enformer.ipynb#W3sdnNjb2RlLXJlbW90ZQ%3D%3D?line=16'>17</a>\u001b[0m     \u001b[39mreturn\u001b[39;00m label, item\n",
      "File \u001b[0;32m/opt/conda/envs/pytorch/lib/python3.9/site-packages/enformer_pytorch/data.py:214\u001b[0m, in \u001b[0;36mGenomeIntervalDataset.__getitem__\u001b[0;34m(self, ind)\u001b[0m\n\u001b[1;32m    212\u001b[0m chr_name, start, end \u001b[39m=\u001b[39m (interval[\u001b[39m0\u001b[39m], interval[\u001b[39m1\u001b[39m], interval[\u001b[39m2\u001b[39m])\n\u001b[1;32m    213\u001b[0m chr_name \u001b[39m=\u001b[39m \u001b[39mself\u001b[39m\u001b[39m.\u001b[39mchr_bed_to_fasta_map\u001b[39m.\u001b[39mget(chr_name, chr_name)\n\u001b[0;32m--> 214\u001b[0m \u001b[39mreturn\u001b[39;00m \u001b[39mself\u001b[39;49m\u001b[39m.\u001b[39;49mfasta(chr_name, start, end, return_augs \u001b[39m=\u001b[39;49m \u001b[39mself\u001b[39;49m\u001b[39m.\u001b[39;49mreturn_augs)\n",
      "File \u001b[0;32m/opt/conda/envs/pytorch/lib/python3.9/site-packages/enformer_pytorch/data.py:122\u001b[0m, in \u001b[0;36mFastaInterval.__call__\u001b[0;34m(self, chr_name, start, end, return_augs)\u001b[0m\n\u001b[1;32m    119\u001b[0m min_shift \u001b[39m=\u001b[39m \u001b[39mmax\u001b[39m(start \u001b[39m+\u001b[39m min_shift, \u001b[39m0\u001b[39m) \u001b[39m-\u001b[39m start\n\u001b[1;32m    120\u001b[0m max_shift \u001b[39m=\u001b[39m \u001b[39mmin\u001b[39m(end \u001b[39m+\u001b[39m max_shift, chromosome_length) \u001b[39m-\u001b[39m end\n\u001b[0;32m--> 122\u001b[0m rand_shift \u001b[39m=\u001b[39m randrange(min_shift, max_shift)\n\u001b[1;32m    123\u001b[0m start \u001b[39m+\u001b[39m\u001b[39m=\u001b[39m rand_shift\n\u001b[1;32m    124\u001b[0m end \u001b[39m+\u001b[39m\u001b[39m=\u001b[39m rand_shift\n",
      "File \u001b[0;32m/opt/conda/envs/pytorch/lib/python3.9/random.py:316\u001b[0m, in \u001b[0;36mRandom.randrange\u001b[0;34m(self, start, stop, step)\u001b[0m\n\u001b[1;32m    314\u001b[0m     \u001b[39mreturn\u001b[39;00m istart \u001b[39m+\u001b[39m \u001b[39mself\u001b[39m\u001b[39m.\u001b[39m_randbelow(width)\n\u001b[1;32m    315\u001b[0m \u001b[39mif\u001b[39;00m step \u001b[39m==\u001b[39m \u001b[39m1\u001b[39m:\n\u001b[0;32m--> 316\u001b[0m     \u001b[39mraise\u001b[39;00m \u001b[39mValueError\u001b[39;00m(\u001b[39m\"\u001b[39m\u001b[39mempty range for randrange() (\u001b[39m\u001b[39m%d\u001b[39;00m\u001b[39m, \u001b[39m\u001b[39m%d\u001b[39;00m\u001b[39m, \u001b[39m\u001b[39m%d\u001b[39;00m\u001b[39m)\u001b[39m\u001b[39m\"\u001b[39m \u001b[39m%\u001b[39m (istart, istop, width))\n\u001b[1;32m    318\u001b[0m \u001b[39m# Non-unit step argument supplied.\u001b[39;00m\n\u001b[1;32m    319\u001b[0m istep \u001b[39m=\u001b[39m \u001b[39mint\u001b[39m(step)\n",
      "\u001b[0;31mValueError\u001b[0m: empty range for randrange() (40245, 2, -40243)"
     ]
    }
   ],
   "source": [
    "ds[181]"
   ]
  },
  {
   "cell_type": "code",
   "execution_count": 15,
   "metadata": {},
   "outputs": [],
   "source": [
    "ds.df = ds.df.with_columns([\n",
    "    (pl.col(\"column_2\") + 1),\n",
    "    (pl.col(\"column_3\") + 1),\n",
    "])"
   ]
  },
  {
   "cell_type": "code",
   "execution_count": 16,
   "metadata": {},
   "outputs": [
    {
     "data": {
      "text/html": [
       "<div><style>\n",
       ".dataframe > thead > tr > th,\n",
       ".dataframe > tbody > tr > td {\n",
       "  text-align: right;\n",
       "}\n",
       "</style>\n",
       "<small>shape: (19431, 5)</small><table border=\"1\" class=\"dataframe\"><thead><tr><th>column_1</th><th>column_2</th><th>column_3</th><th>column_4</th><th>column_5</th></tr><tr><td>str</td><td>i64</td><td>i64</td><td>str</td><td>str</td></tr></thead><tbody><tr><td>&quot;X&quot;</td><td>100528806</td><td>100725414</td><td>&quot;-&quot;</td><td>&quot;ENSG0000000000...</td></tr><tr><td>&quot;X&quot;</td><td>100486499</td><td>100683107</td><td>&quot;+&quot;</td><td>&quot;ENSG0000000000...</td></tr><tr><td>&quot;20&quot;</td><td>50836564</td><td>51033172</td><td>&quot;-&quot;</td><td>&quot;ENSG0000000041...</td></tr><tr><td>&quot;1&quot;</td><td>169751328</td><td>169947936</td><td>&quot;-&quot;</td><td>&quot;ENSG0000000045...</td></tr><tr><td>&quot;1&quot;</td><td>169563704</td><td>169760312</td><td>&quot;+&quot;</td><td>&quot;ENSG0000000046...</td></tr><tr><td>&quot;1&quot;</td><td>27513761</td><td>27710369</td><td>&quot;-&quot;</td><td>&quot;ENSG0000000093...</td></tr><tr><td>&quot;1&quot;</td><td>196553575</td><td>196750183</td><td>&quot;+&quot;</td><td>&quot;ENSG0000000097...</td></tr><tr><td>&quot;6&quot;</td><td>143396508</td><td>143593116</td><td>&quot;-&quot;</td><td>&quot;ENSG0000000103...</td></tr><tr><td>&quot;6&quot;</td><td>53399038</td><td>53595646</td><td>&quot;-&quot;</td><td>&quot;ENSG0000000108...</td></tr><tr><td>&quot;6&quot;</td><td>40974642</td><td>41171250</td><td>&quot;+&quot;</td><td>&quot;ENSG0000000116...</td></tr><tr><td>&quot;1&quot;</td><td>24258696</td><td>24455304</td><td>&quot;-&quot;</td><td>&quot;ENSG0000000146...</td></tr><tr><td>&quot;1&quot;</td><td>24317491</td><td>24514099</td><td>&quot;+&quot;</td><td>&quot;ENSG0000000146...</td></tr><tr><td>&hellip;</td><td>&hellip;</td><td>&hellip;</td><td>&hellip;</td><td>&hellip;</td></tr><tr><td>&quot;2&quot;</td><td>48533988</td><td>48730596</td><td>&quot;-&quot;</td><td>&quot;ENSG0000027995...</td></tr><tr><td>&quot;11&quot;</td><td>56318955</td><td>56515563</td><td>&quot;-&quot;</td><td>&quot;ENSG0000027996...</td></tr><tr><td>&quot;5&quot;</td><td>141125069</td><td>141321677</td><td>&quot;+&quot;</td><td>&quot;ENSG0000027998...</td></tr><tr><td>&quot;11&quot;</td><td>4670676</td><td>4867284</td><td>&quot;-&quot;</td><td>&quot;ENSG0000028002...</td></tr><tr><td>&quot;11&quot;</td><td>124325601</td><td>124522209</td><td>&quot;-&quot;</td><td>&quot;ENSG0000028009...</td></tr><tr><td>&quot;9&quot;</td><td>122530276</td><td>122726884</td><td>&quot;-&quot;</td><td>&quot;ENSG0000028009...</td></tr><tr><td>&quot;6&quot;</td><td>143759015</td><td>143955623</td><td>&quot;+&quot;</td><td>&quot;ENSG0000028014...</td></tr><tr><td>&quot;13&quot;</td><td>61311382</td><td>61507990</td><td>&quot;-&quot;</td><td>&quot;ENSG0000028016...</td></tr><tr><td>&quot;11&quot;</td><td>58116442</td><td>58313050</td><td>&quot;+&quot;</td><td>&quot;ENSG0000028020...</td></tr><tr><td>&quot;6&quot;</td><td>29298252</td><td>29494860</td><td>&quot;+&quot;</td><td>&quot;ENSG0000028023...</td></tr><tr><td>&quot;1&quot;</td><td>12951173</td><td>13147781</td><td>&quot;-&quot;</td><td>&quot;ENSG0000028026...</td></tr><tr><td>&quot;11&quot;</td><td>56220004</td><td>56416612</td><td>&quot;+&quot;</td><td>&quot;ENSG0000028031...</td></tr></tbody></table></div>"
      ],
      "text/plain": [
       "shape: (19431, 5)\n",
       "┌──────────┬───────────┬───────────┬──────────┬─────────────────┐\n",
       "│ column_1 ┆ column_2  ┆ column_3  ┆ column_4 ┆ column_5        │\n",
       "│ ---      ┆ ---       ┆ ---       ┆ ---      ┆ ---             │\n",
       "│ str      ┆ i64       ┆ i64       ┆ str      ┆ str             │\n",
       "╞══════════╪═══════════╪═══════════╪══════════╪═════════════════╡\n",
       "│ X        ┆ 100528806 ┆ 100725414 ┆ -        ┆ ENSG00000000003 │\n",
       "│ X        ┆ 100486499 ┆ 100683107 ┆ +        ┆ ENSG00000000005 │\n",
       "│ 20       ┆ 50836564  ┆ 51033172  ┆ -        ┆ ENSG00000000419 │\n",
       "│ 1        ┆ 169751328 ┆ 169947936 ┆ -        ┆ ENSG00000000457 │\n",
       "│ …        ┆ …         ┆ …         ┆ …        ┆ …               │\n",
       "│ 11       ┆ 58116442  ┆ 58313050  ┆ +        ┆ ENSG00000280204 │\n",
       "│ 6        ┆ 29298252  ┆ 29494860  ┆ +        ┆ ENSG00000280236 │\n",
       "│ 1        ┆ 12951173  ┆ 13147781  ┆ -        ┆ ENSG00000280267 │\n",
       "│ 11       ┆ 56220004  ┆ 56416612  ┆ +        ┆ ENSG00000280314 │\n",
       "└──────────┴───────────┴───────────┴──────────┴─────────────────┘"
      ]
     },
     "execution_count": 16,
     "metadata": {},
     "output_type": "execute_result"
    }
   ],
   "source": [
    "ds.df"
   ]
  },
  {
   "cell_type": "code",
   "execution_count": null,
   "metadata": {},
   "outputs": [],
   "source": []
  },
  {
   "cell_type": "code",
   "execution_count": null,
   "metadata": {},
   "outputs": [],
   "source": []
  },
  {
   "cell_type": "code",
   "execution_count": 2,
   "metadata": {},
   "outputs": [],
   "source": [
    "import pandas as pd\n",
    "import numpy as np\n",
    "\n",
    "# targets_txt = 'https://raw.githubusercontent.com/calico/basenji/0.5/manuscripts/cross2020/targets_human.txt'\n",
    "# df_targets = pd.read_csv(targets_txt, sep='\\t')\n",
    "df_targets = pd.read_csv(BASE_PT + '/targets_human.txt')\n",
    "df_targets.shape  # (5313, 8) With rows match output shape above.\n",
    "cage_indices = np.where(df_targets['description'].str.startswith('CAGE:'))[0]"
   ]
  },
  {
   "cell_type": "code",
   "execution_count": 3,
   "metadata": {},
   "outputs": [],
   "source": [
    "# z_embedding_full = zarr.open(\n",
    "#     EMBEDDING_PT,\n",
    "#     mode=\"w\",\n",
    "#     shape=(NUM_GENES, SEQ_EMBED_DIM, EMBED_DIM),\n",
    "#     chunks=(1, SEQ_EMBED_DIM, EMBED_DIM),\n",
    "#     dtype='float32',\n",
    "# )\n",
    "\n",
    "# z_embedding_tss = zarr.open(\n",
    "#     EMBEDDING_PT_TSS,\n",
    "#     mode=\"w\",\n",
    "#     shape=(NUM_GENES, EMBED_DIM),\n",
    "#     chunks=(1, EMBED_DIM),\n",
    "#     dtype='float32',\n",
    "# )\n",
    "\n",
    "# index = 0\n",
    "# for labels, batch in tqdm(dl):\n",
    "#     # calculate embedding\n",
    "#     with torch.no_grad():\n",
    "#         output, embeddings = model(batch.to(DEVICE), return_embeddings=True)\n",
    "#         embeddings = embeddings.detach().cpu().numpy()\n",
    "\n",
    "#     tss_embedding = embeddings[:, TSS]\n",
    "\n",
    "#     # save full and reduced embeddings\n",
    "#     batch_size = len(embeddings)\n",
    "#     z_embedding_full[index : index + batch_size] = embeddings\n",
    "#     z_embedding_tss[index : index + batch_size] = tss_embedding\n",
    "#     index += batch_size"
   ]
  },
  {
   "cell_type": "code",
   "execution_count": null,
   "metadata": {},
   "outputs": [],
   "source": []
  },
  {
   "cell_type": "code",
   "execution_count": 91,
   "metadata": {},
   "outputs": [],
   "source": [
    "labels, batch = next(iter(dl))"
   ]
  },
  {
   "cell_type": "code",
   "execution_count": 92,
   "metadata": {},
   "outputs": [
    {
     "data": {
      "text/plain": [
       "tensor([[1., 0., 0., 0.],\n",
       "        [0., 0., 1., 0.],\n",
       "        [0., 1., 0., 0.],\n",
       "        [1., 0., 0., 0.],\n",
       "        [0., 1., 0., 0.],\n",
       "        [0., 1., 0., 0.],\n",
       "        [1., 0., 0., 0.],\n",
       "        [0., 0., 0., 1.],\n",
       "        [1., 0., 0., 0.],\n",
       "        [1., 0., 0., 0.]])"
      ]
     },
     "execution_count": 92,
     "metadata": {},
     "output_type": "execute_result"
    }
   ],
   "source": [
    "batch[0, :10, :]"
   ]
  },
  {
   "cell_type": "code",
   "execution_count": 89,
   "metadata": {},
   "outputs": [
    {
     "data": {
      "text/plain": [
       "tensor([[0., 0., 1., 0.],\n",
       "        [0., 1., 0., 0.],\n",
       "        [1., 0., 0., 0.],\n",
       "        [0., 1., 0., 0.],\n",
       "        [0., 1., 0., 0.],\n",
       "        [1., 0., 0., 0.],\n",
       "        [0., 0., 0., 1.],\n",
       "        [1., 0., 0., 0.],\n",
       "        [1., 0., 0., 0.],\n",
       "        [0., 0., 0., 1.]])"
      ]
     },
     "execution_count": 89,
     "metadata": {},
     "output_type": "execute_result"
    }
   ],
   "source": [
    "batch[0, :10, :]"
   ]
  },
  {
   "cell_type": "code",
   "execution_count": 50,
   "metadata": {},
   "outputs": [],
   "source": [
    "with torch.no_grad():\n",
    "    output, embeddings = model(batch.to(DEVICE), return_embeddings=True)\n",
    "    cage_expression = output['human'][:, :, cage_indices].mean(dim=-1)\n",
    "    max_inds = torch.argmax(cage_expression, dim=-1)\n",
    "    batch_size = len(embeddings)\n",
    "    tss_embedding = embeddings[torch.arange(batch_size), max_inds]"
   ]
  },
  {
   "cell_type": "code",
   "execution_count": 44,
   "metadata": {},
   "outputs": [
    {
     "data": {
      "text/plain": [
       "tensor([523, 853], device='cuda:0')"
      ]
     },
     "execution_count": 44,
     "metadata": {},
     "output_type": "execute_result"
    }
   ],
   "source": [
    "max_inds"
   ]
  },
  {
   "cell_type": "code",
   "execution_count": 51,
   "metadata": {},
   "outputs": [
    {
     "data": {
      "text/plain": [
       "torch.Size([2, 3072])"
      ]
     },
     "execution_count": 51,
     "metadata": {},
     "output_type": "execute_result"
    }
   ],
   "source": [
    "tss_embedding.shape"
   ]
  },
  {
   "cell_type": "code",
   "execution_count": 45,
   "metadata": {},
   "outputs": [],
   "source": [
    "result = embeddings[torch.arange(2), :, max_inds]\n"
   ]
  },
  {
   "cell_type": "code",
   "execution_count": 47,
   "metadata": {},
   "outputs": [
    {
     "data": {
      "text/plain": [
       "torch.Size([2, 896])"
      ]
     },
     "execution_count": 47,
     "metadata": {},
     "output_type": "execute_result"
    }
   ],
   "source": [
    "result.shape"
   ]
  },
  {
   "cell_type": "code",
   "execution_count": 28,
   "metadata": {},
   "outputs": [
    {
     "data": {
      "text/plain": [
       "tensor([[523],\n",
       "        [853]], device='cuda:0')"
      ]
     },
     "execution_count": 28,
     "metadata": {},
     "output_type": "execute_result"
    }
   ],
   "source": [
    "a"
   ]
  },
  {
   "cell_type": "code",
   "execution_count": 25,
   "metadata": {},
   "outputs": [
    {
     "data": {
      "text/plain": [
       "torch.Size([2, 896])"
      ]
     },
     "execution_count": 25,
     "metadata": {},
     "output_type": "execute_result"
    }
   ],
   "source": [
    "cage_expression.shape"
   ]
  },
  {
   "cell_type": "code",
   "execution_count": 185,
   "metadata": {},
   "outputs": [],
   "source": [
    "label, seq = ds[20]"
   ]
  },
  {
   "cell_type": "code",
   "execution_count": 186,
   "metadata": {},
   "outputs": [
    {
     "data": {
      "text/plain": [
       "tensor([[0., 0., 0., 1.],\n",
       "        [0., 0., 0., 1.],\n",
       "        [1., 0., 0., 0.],\n",
       "        ...,\n",
       "        [1., 0., 0., 0.],\n",
       "        [0., 0., 0., 1.],\n",
       "        [0., 0., 0., 1.]])"
      ]
     },
     "execution_count": 186,
     "metadata": {},
     "output_type": "execute_result"
    }
   ],
   "source": [
    "seq"
   ]
  },
  {
   "cell_type": "code",
   "execution_count": 213,
   "metadata": {},
   "outputs": [],
   "source": [
    "with torch.no_grad():\n",
    "    output, embeddings = model(seq.to(DEVICE), return_embeddings=True)\n",
    "    cage_expression = output['human'][:, cage_indices].mean(dim=1)\n",
    "    max_ind = torch.argmax(cage_expression)\n",
    "    tss_embedding = embeddings[max_ind]"
   ]
  },
  {
   "cell_type": "code",
   "execution_count": 217,
   "metadata": {},
   "outputs": [
    {
     "data": {
      "text/plain": [
       "torch.Size([896, 3072])"
      ]
     },
     "execution_count": 217,
     "metadata": {},
     "output_type": "execute_result"
    }
   ],
   "source": [
    "embeddings.shape"
   ]
  },
  {
   "cell_type": "code",
   "execution_count": null,
   "metadata": {},
   "outputs": [],
   "source": []
  },
  {
   "cell_type": "code",
   "execution_count": 212,
   "metadata": {},
   "outputs": [
    {
     "data": {
      "text/plain": [
       "tensor(746, device='cuda:0')"
      ]
     },
     "execution_count": 212,
     "metadata": {},
     "output_type": "execute_result"
    }
   ],
   "source": [
    "max_ind = torch.argmax(cage_expression)"
   ]
  },
  {
   "cell_type": "code",
   "execution_count": 215,
   "metadata": {},
   "outputs": [
    {
     "data": {
      "text/plain": [
       "torch.Size([3072])"
      ]
     },
     "execution_count": 215,
     "metadata": {},
     "output_type": "execute_result"
    }
   ],
   "source": [
    "tss_embedding.shape"
   ]
  },
  {
   "cell_type": "code",
   "execution_count": 188,
   "metadata": {},
   "outputs": [
    {
     "data": {
      "text/plain": [
       "torch.Size([896, 3072])"
      ]
     },
     "execution_count": 188,
     "metadata": {},
     "output_type": "execute_result"
    }
   ],
   "source": [
    "embeddings.shape"
   ]
  },
  {
   "cell_type": "code",
   "execution_count": 189,
   "metadata": {},
   "outputs": [
    {
     "data": {
      "text/plain": [
       "torch.Size([896, 5313])"
      ]
     },
     "execution_count": 189,
     "metadata": {},
     "output_type": "execute_result"
    }
   ],
   "source": [
    "output['human'].shape"
   ]
  },
  {
   "cell_type": "code",
   "execution_count": 190,
   "metadata": {},
   "outputs": [],
   "source": [
    "import matplotlib.pyplot as plt"
   ]
  },
  {
   "cell_type": "code",
   "execution_count": 193,
   "metadata": {},
   "outputs": [
    {
     "data": {
      "image/png": "[encoded data removed]",
      "text/plain": [
       "<Figure size 640x480 with 1 Axes>"
      ]
     },
     "metadata": {},
     "output_type": "display_data"
    }
   ],
   "source": [
    "plt.plot([TSS, TSS], [0, 100]);\n",
    "plt.plot(output['human'][:, cage_indices].mean(dim=1).cpu());"
   ]
  },
  {
   "cell_type": "code",
   "execution_count": 194,
   "metadata": {},
   "outputs": [],
   "source": [
    "# !pip install pyensembl"
   ]
  },
  {
   "cell_type": "code",
   "execution_count": 195,
   "metadata": {},
   "outputs": [],
   "source": [
    "# from pyensembl import Genome\n",
    "\n",
    "# gtf_file_path = BASE_PT + '/Homo_sapiens.GRCh38.77.gtf'\n",
    "\n",
    "# genome = Genome(reference_name='GRCh38',\n",
    "#     annotation_name='my_genome_features',\n",
    "#     gtf_path_or_url=gtf_file_path)\n",
    "# # genome.index()"
   ]
  },
  {
   "cell_type": "code",
   "execution_count": 196,
   "metadata": {},
   "outputs": [
    {
     "data": {
      "text/plain": [
       "'ENSG00000002079'"
      ]
     },
     "execution_count": 196,
     "metadata": {},
     "output_type": "execute_result"
    }
   ],
   "source": [
    "label"
   ]
  },
  {
   "cell_type": "code",
   "execution_count": 197,
   "metadata": {},
   "outputs": [
    {
     "data": {
      "text/plain": [
       "[Transcript(transcript_id='ENST00000439784', transcript_name='MYH16-001', gene_id='ENSG00000002079', biotype='unitary_pseudogene', contig='7', start=99238794, end=99311130, strand='+', genome='GRCh38'),\n",
       " Transcript(transcript_id='ENST00000453194', transcript_name='MYH16-002', gene_id='ENSG00000002079', biotype='processed_transcript', contig='7', start=99238911, end=99258156, strand='+', genome='GRCh38'),\n",
       " Transcript(transcript_id='ENST00000413734', transcript_name='MYH16-003', gene_id='ENSG00000002079', biotype='processed_transcript', contig='7', start=99258210, end=99261636, strand='+', genome='GRCh38'),\n",
       " Transcript(transcript_id='ENST00000425880', transcript_name='MYH16-004', gene_id='ENSG00000002079', biotype='processed_transcript', contig='7', start=99264267, end=99271049, strand='+', genome='GRCh38'),\n",
       " Transcript(transcript_id='ENST00000452010', transcript_name='MYH16-005', gene_id='ENSG00000002079', biotype='processed_transcript', contig='7', start=99297912, end=99301804, strand='+', genome='GRCh38'),\n",
       " Transcript(transcript_id='ENST00000429079', transcript_name='MYH16-006', gene_id='ENSG00000002079', biotype='retained_intron', contig='7', start=99299417, end=99301774, strand='+', genome='GRCh38'),\n",
       " Transcript(transcript_id='ENST00000453378', transcript_name='MYH16-007', gene_id='ENSG00000002079', biotype='processed_transcript', contig='7', start=99304646, end=99306651, strand='+', genome='GRCh38')]"
      ]
     },
     "execution_count": 197,
     "metadata": {},
     "output_type": "execute_result"
    }
   ],
   "source": [
    "gene = genome.gene_by_id(label)\n",
    "\n",
    "# Observed and predicted gene expression values were obtained by summing up the observed/predicted CAGE read counts\n",
    "# at all unique TSS locations of the gene. For each TSS location, we used the 128-bp bin overlapping the TSS as well\n",
    "# as the two neighboring bins (3 bins in total).\n",
    "\n",
    "# For each gene, look through all transcipts - protein coding / not, and record offsets from gene start\n",
    "gene.transcripts"
   ]
  },
  {
   "cell_type": "code",
   "execution_count": 203,
   "metadata": {},
   "outputs": [],
   "source": [
    "start_diffs = [TSS + np.round((ts.start - gene.start) / 128) for ts in gene.transcripts]"
   ]
  },
  {
   "cell_type": "code",
   "execution_count": 204,
   "metadata": {},
   "outputs": [
    {
     "data": {
      "text/plain": [
       "(0.0, 20.0)"
      ]
     },
     "execution_count": 204,
     "metadata": {},
     "output_type": "execute_result"
    },
    {
     "data": {
      "image/png": "[encoded data removed]",
      "text/plain": [
       "<Figure size 640x480 with 1 Axes>"
      ]
     },
     "metadata": {},
     "output_type": "display_data"
    }
   ],
   "source": [
    "for st in start_diffs:\n",
    "    plt.plot([st, st], [0, 100], color='k');\n",
    "plt.plot(output['human'][:, cage_indices].mean(dim=1).cpu());\n",
    "plt.ylim([0, 20])"
   ]
  },
  {
   "cell_type": "code",
   "execution_count": 200,
   "metadata": {},
   "outputs": [
    {
     "data": {
      "text/plain": [
       "[448.0, 449.0, 600.0, 647.0, 910.0, 922.0, 962.0]"
      ]
     },
     "execution_count": 200,
     "metadata": {},
     "output_type": "execute_result"
    }
   ],
   "source": [
    "start_diffs"
   ]
  },
  {
   "cell_type": "code",
   "execution_count": null,
   "metadata": {},
   "outputs": [],
   "source": []
  }
 ],
 "metadata": {
  "kernelspec": {
   "display_name": "pytorch",
   "language": "python",
   "name": "python3"
  },
  "language_info": {
   "codemirror_mode": {
    "name": "ipython",
    "version": 3
   },
   "file_extension": ".py",
   "mimetype": "text/x-python",
   "name": "python",
   "nbconvert_exporter": "python",
   "pygments_lexer": "ipython3",
   "version": "3.9.13"
  },
  "orig_nbformat": 4
 },
 "nbformat": 4,
 "nbformat_minor": 2
}
