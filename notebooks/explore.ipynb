{
 "cells": [
  {
   "cell_type": "code",
   "execution_count": 37,
   "metadata": {},
   "outputs": [
    {
     "name": "stderr",
     "output_type": "stream",
     "text": [
      "/tmp/ipykernel_27940/3882991456.py:9: UserWarning: \n",
      "The version_base parameter is not specified.\n",
      "Please specify a compatability version level, or None.\n",
      "Will assume defaults for version 1.1\n",
      "  with hydra.initialize_config_dir(config_dir=BASE_DIR):\n",
      "/opt/conda/envs/pytorch/lib/python3.9/site-packages/hydra/_internal/defaults_list.py:251: UserWarning: In 'config': Defaults list is missing `_self_`. See https://hydra.cc/docs/1.2/upgrades/1.0_to_1.1/default_composition_order for more information\n",
      "  warnings.warn(msg, UserWarning)\n"
     ]
    },
    {
     "name": "stdout",
     "output_type": "stream",
     "text": [
      "RosaLightningModule(\n",
      "  (model): RosaTransformer(\n",
      "    (expression_embedding): BinnedEmbed(\n",
      "      (model): Sequential(\n",
      "        (embedding): Embedding(9, 128)\n",
      "        (layer_norm): LayerNorm((128,), eps=1e-05, elementwise_affine=True)\n",
      "        (dropout): Dropout(p=0.1, inplace=False)\n",
      "      )\n",
      "    )\n",
      "    (var_embedding): Sequential(\n",
      "      (layer_norm_1): LayerNorm((3072,), eps=1e-05, elementwise_affine=True)\n",
      "      (input_embed_1): InputEmbed(\n",
      "        (model): Sequential(\n",
      "          (projection): Linear(in_features=3072, out_features=128, bias=True)\n",
      "          (layer_norm): LayerNorm((128,), eps=1e-05, elementwise_affine=True)\n",
      "          (dropout): Dropout(p=0.1, inplace=False)\n",
      "        )\n",
      "      )\n",
      "    )\n",
      "    (transformer): Performer(\n",
      "      (net): SequentialSequence(\n",
      "        (layers): ModuleList(\n",
      "          (0): ModuleList(\n",
      "            (0): PreLayerNorm(\n",
      "              (norm): LayerNorm((128,), eps=1e-05, elementwise_affine=True)\n",
      "              (fn): SelfAttention(\n",
      "                (fast_attention): FastAttention(\n",
      "                  (kernel_fn): ReLU()\n",
      "                )\n",
      "                (to_q): Linear(in_features=128, out_features=128, bias=True)\n",
      "                (to_k): Linear(in_features=128, out_features=128, bias=True)\n",
      "                (to_v): Linear(in_features=128, out_features=128, bias=True)\n",
      "                (to_out): Linear(in_features=128, out_features=128, bias=True)\n",
      "                (dropout): Dropout(p=0.1, inplace=False)\n",
      "              )\n",
      "            )\n",
      "            (1): PreLayerNorm(\n",
      "              (norm): LayerNorm((128,), eps=1e-05, elementwise_affine=True)\n",
      "              (fn): Chunk(\n",
      "                (fn): FeedForward(\n",
      "                  (w1): Linear(in_features=128, out_features=512, bias=True)\n",
      "                  (act): GELU(approximate='none')\n",
      "                  (dropout): Dropout(p=0.1, inplace=False)\n",
      "                  (w2): Linear(in_features=512, out_features=128, bias=True)\n",
      "                )\n",
      "              )\n",
      "            )\n",
      "          )\n",
      "          (1): ModuleList(\n",
      "            (0): PreLayerNorm(\n",
      "              (norm): LayerNorm((128,), eps=1e-05, elementwise_affine=True)\n",
      "              (fn): SelfAttention(\n",
      "                (fast_attention): FastAttention(\n",
      "                  (kernel_fn): ReLU()\n",
      "                )\n",
      "                (to_q): Linear(in_features=128, out_features=128, bias=True)\n",
      "                (to_k): Linear(in_features=128, out_features=128, bias=True)\n",
      "                (to_v): Linear(in_features=128, out_features=128, bias=True)\n",
      "                (to_out): Linear(in_features=128, out_features=128, bias=True)\n",
      "                (dropout): Dropout(p=0.1, inplace=False)\n",
      "              )\n",
      "            )\n",
      "            (1): PreLayerNorm(\n",
      "              (norm): LayerNorm((128,), eps=1e-05, elementwise_affine=True)\n",
      "              (fn): Chunk(\n",
      "                (fn): FeedForward(\n",
      "                  (w1): Linear(in_features=128, out_features=512, bias=True)\n",
      "                  (act): GELU(approximate='none')\n",
      "                  (dropout): Dropout(p=0.1, inplace=False)\n",
      "                  (w2): Linear(in_features=512, out_features=128, bias=True)\n",
      "                )\n",
      "              )\n",
      "            )\n",
      "          )\n",
      "          (2): ModuleList(\n",
      "            (0): PreLayerNorm(\n",
      "              (norm): LayerNorm((128,), eps=1e-05, elementwise_affine=True)\n",
      "              (fn): SelfAttention(\n",
      "                (fast_attention): FastAttention(\n",
      "                  (kernel_fn): ReLU()\n",
      "                )\n",
      "                (to_q): Linear(in_features=128, out_features=128, bias=True)\n",
      "                (to_k): Linear(in_features=128, out_features=128, bias=True)\n",
      "                (to_v): Linear(in_features=128, out_features=128, bias=True)\n",
      "                (to_out): Linear(in_features=128, out_features=128, bias=True)\n",
      "                (dropout): Dropout(p=0.1, inplace=False)\n",
      "              )\n",
      "            )\n",
      "            (1): PreLayerNorm(\n",
      "              (norm): LayerNorm((128,), eps=1e-05, elementwise_affine=True)\n",
      "              (fn): Chunk(\n",
      "                (fn): FeedForward(\n",
      "                  (w1): Linear(in_features=128, out_features=512, bias=True)\n",
      "                  (act): GELU(approximate='none')\n",
      "                  (dropout): Dropout(p=0.1, inplace=False)\n",
      "                  (w2): Linear(in_features=512, out_features=128, bias=True)\n",
      "                )\n",
      "              )\n",
      "            )\n",
      "          )\n",
      "          (3): ModuleList(\n",
      "            (0): PreLayerNorm(\n",
      "              (norm): LayerNorm((128,), eps=1e-05, elementwise_affine=True)\n",
      "              (fn): SelfAttention(\n",
      "                (fast_attention): FastAttention(\n",
      "                  (kernel_fn): ReLU()\n",
      "                )\n",
      "                (to_q): Linear(in_features=128, out_features=128, bias=True)\n",
      "                (to_k): Linear(in_features=128, out_features=128, bias=True)\n",
      "                (to_v): Linear(in_features=128, out_features=128, bias=True)\n",
      "                (to_out): Linear(in_features=128, out_features=128, bias=True)\n",
      "                (dropout): Dropout(p=0.1, inplace=False)\n",
      "              )\n",
      "            )\n",
      "            (1): PreLayerNorm(\n",
      "              (norm): LayerNorm((128,), eps=1e-05, elementwise_affine=True)\n",
      "              (fn): Chunk(\n",
      "                (fn): FeedForward(\n",
      "                  (w1): Linear(in_features=128, out_features=512, bias=True)\n",
      "                  (act): GELU(approximate='none')\n",
      "                  (dropout): Dropout(p=0.1, inplace=False)\n",
      "                  (w2): Linear(in_features=512, out_features=128, bias=True)\n",
      "                )\n",
      "              )\n",
      "            )\n",
      "          )\n",
      "        )\n",
      "      )\n",
      "      (proj_updater): ProjectionUpdater(\n",
      "        (instance): SequentialSequence(\n",
      "          (layers): ModuleList(\n",
      "            (0): ModuleList(\n",
      "              (0): PreLayerNorm(\n",
      "                (norm): LayerNorm((128,), eps=1e-05, elementwise_affine=True)\n",
      "                (fn): SelfAttention(\n",
      "                  (fast_attention): FastAttention(\n",
      "                    (kernel_fn): ReLU()\n",
      "                  )\n",
      "                  (to_q): Linear(in_features=128, out_features=128, bias=True)\n",
      "                  (to_k): Linear(in_features=128, out_features=128, bias=True)\n",
      "                  (to_v): Linear(in_features=128, out_features=128, bias=True)\n",
      "                  (to_out): Linear(in_features=128, out_features=128, bias=True)\n",
      "                  (dropout): Dropout(p=0.1, inplace=False)\n",
      "                )\n",
      "              )\n",
      "              (1): PreLayerNorm(\n",
      "                (norm): LayerNorm((128,), eps=1e-05, elementwise_affine=True)\n",
      "                (fn): Chunk(\n",
      "                  (fn): FeedForward(\n",
      "                    (w1): Linear(in_features=128, out_features=512, bias=True)\n",
      "                    (act): GELU(approximate='none')\n",
      "                    (dropout): Dropout(p=0.1, inplace=False)\n",
      "                    (w2): Linear(in_features=512, out_features=128, bias=True)\n",
      "                  )\n",
      "                )\n",
      "              )\n",
      "            )\n",
      "            (1): ModuleList(\n",
      "              (0): PreLayerNorm(\n",
      "                (norm): LayerNorm((128,), eps=1e-05, elementwise_affine=True)\n",
      "                (fn): SelfAttention(\n",
      "                  (fast_attention): FastAttention(\n",
      "                    (kernel_fn): ReLU()\n",
      "                  )\n",
      "                  (to_q): Linear(in_features=128, out_features=128, bias=True)\n",
      "                  (to_k): Linear(in_features=128, out_features=128, bias=True)\n",
      "                  (to_v): Linear(in_features=128, out_features=128, bias=True)\n",
      "                  (to_out): Linear(in_features=128, out_features=128, bias=True)\n",
      "                  (dropout): Dropout(p=0.1, inplace=False)\n",
      "                )\n",
      "              )\n",
      "              (1): PreLayerNorm(\n",
      "                (norm): LayerNorm((128,), eps=1e-05, elementwise_affine=True)\n",
      "                (fn): Chunk(\n",
      "                  (fn): FeedForward(\n",
      "                    (w1): Linear(in_features=128, out_features=512, bias=True)\n",
      "                    (act): GELU(approximate='none')\n",
      "                    (dropout): Dropout(p=0.1, inplace=False)\n",
      "                    (w2): Linear(in_features=512, out_features=128, bias=True)\n",
      "                  )\n",
      "                )\n",
      "              )\n",
      "            )\n",
      "            (2): ModuleList(\n",
      "              (0): PreLayerNorm(\n",
      "                (norm): LayerNorm((128,), eps=1e-05, elementwise_affine=True)\n",
      "                (fn): SelfAttention(\n",
      "                  (fast_attention): FastAttention(\n",
      "                    (kernel_fn): ReLU()\n",
      "                  )\n",
      "                  (to_q): Linear(in_features=128, out_features=128, bias=True)\n",
      "                  (to_k): Linear(in_features=128, out_features=128, bias=True)\n",
      "                  (to_v): Linear(in_features=128, out_features=128, bias=True)\n",
      "                  (to_out): Linear(in_features=128, out_features=128, bias=True)\n",
      "                  (dropout): Dropout(p=0.1, inplace=False)\n",
      "                )\n",
      "              )\n",
      "              (1): PreLayerNorm(\n",
      "                (norm): LayerNorm((128,), eps=1e-05, elementwise_affine=True)\n",
      "                (fn): Chunk(\n",
      "                  (fn): FeedForward(\n",
      "                    (w1): Linear(in_features=128, out_features=512, bias=True)\n",
      "                    (act): GELU(approximate='none')\n",
      "                    (dropout): Dropout(p=0.1, inplace=False)\n",
      "                    (w2): Linear(in_features=512, out_features=128, bias=True)\n",
      "                  )\n",
      "                )\n",
      "              )\n",
      "            )\n",
      "            (3): ModuleList(\n",
      "              (0): PreLayerNorm(\n",
      "                (norm): LayerNorm((128,), eps=1e-05, elementwise_affine=True)\n",
      "                (fn): SelfAttention(\n",
      "                  (fast_attention): FastAttention(\n",
      "                    (kernel_fn): ReLU()\n",
      "                  )\n",
      "                  (to_q): Linear(in_features=128, out_features=128, bias=True)\n",
      "                  (to_k): Linear(in_features=128, out_features=128, bias=True)\n",
      "                  (to_v): Linear(in_features=128, out_features=128, bias=True)\n",
      "                  (to_out): Linear(in_features=128, out_features=128, bias=True)\n",
      "                  (dropout): Dropout(p=0.1, inplace=False)\n",
      "                )\n",
      "              )\n",
      "              (1): PreLayerNorm(\n",
      "                (norm): LayerNorm((128,), eps=1e-05, elementwise_affine=True)\n",
      "                (fn): Chunk(\n",
      "                  (fn): FeedForward(\n",
      "                    (w1): Linear(in_features=128, out_features=512, bias=True)\n",
      "                    (act): GELU(approximate='none')\n",
      "                    (dropout): Dropout(p=0.1, inplace=False)\n",
      "                    (w2): Linear(in_features=512, out_features=128, bias=True)\n",
      "                  )\n",
      "                )\n",
      "              )\n",
      "            )\n",
      "          )\n",
      "        )\n",
      "      )\n",
      "    )\n",
      "    (dropout): Dropout(p=0.1, inplace=False)\n",
      "    (expression_head): ProjectionExpressionHead(\n",
      "      (model): Sequential(\n",
      "        (projection): Linear(in_features=128, out_features=8, bias=True)\n",
      "        (activation): Identity()\n",
      "      )\n",
      "    )\n",
      "  )\n",
      "  (criterion): CrossEntropyLoss()\n",
      ")\n",
      "/home/ec2-user/cell_census/tabula_sapiens__sample_donor_id__label_cell_type.h5ad\n"
     ]
    }
   ],
   "source": [
    "import hydra\n",
    "from glob import  glob\n",
    "from rosa.data import  RosaDataModule, create_io_paths\n",
    "from rosa.modeling import  RosaLightningModule\n",
    "\n",
    "\n",
    "BASE_DIR = \"/home/ec2-user/rosa/conf/\" # /Users/nsofroniew/Documents/GitHub/ or /home/ec2-user/\n",
    "\n",
    "with hydra.initialize_config_dir(config_dir=BASE_DIR):\n",
    "    config = hydra.compose(config_name=\"config\")\n",
    "    config.paths.base = '/home/ec2-user/cell_census' # '/Users/nsofroniew/Documents/data/multiomics/cell_census'\n",
    "\n",
    "    _, output_path = create_io_paths(config.paths)\n",
    "\n",
    "    config.data_module.data.mask = 0.01\n",
    "    config.data_module.data.n_var_sample = 1000\n",
    "    # Create Data Module\n",
    "    rdm = RosaDataModule(\n",
    "        output_path,\n",
    "        config=config.data_module,\n",
    "    )\n",
    "    rdm.setup()\n",
    "\n",
    "    # Load model from checkpoint\n",
    "    rlm = RosaLightningModule(\n",
    "        var_input=rdm.var_input,\n",
    "        config=config.module,\n",
    "    )\n",
    "    print(rlm)\n",
    "    print(output_path)"
   ]
  },
  {
   "cell_type": "code",
   "execution_count": 38,
   "metadata": {},
   "outputs": [
    {
     "data": {
      "text/plain": [
       "{'expression_input': tensor([1, 0, 0, 0, 0, 3, 5, 0, 0, 6, 4, 0, 0, 5, 2, 1, 0, 2, 2, 2, 0, 2, 0, 1,\n",
       "         0, 0, 1, 0, 3, 0, 3, 0, 1, 0, 0, 0, 2, 1, 0, 0, 0, 2, 1, 0, 0, 0, 2, 2,\n",
       "         2, 2, 0, 0, 1, 0, 0, 1, 0, 0, 1, 2, 5, 1, 2, 0, 1, 3, 2, 0, 1, 1, 0, 8,\n",
       "         0, 5, 2, 0, 1, 0, 1, 3, 2, 1, 0, 1, 0, 2, 1, 0, 0, 0, 5, 0, 1, 0, 0, 0,\n",
       "         0, 1, 1, 1, 0, 0, 2, 0, 2, 3, 3, 0, 5, 0, 0, 5, 0, 2, 0, 2, 0, 0, 1, 0,\n",
       "         2, 0, 0, 0, 1, 5, 0, 2, 0, 1, 0, 0, 2, 1, 0, 0, 3, 0, 1, 0, 1, 0, 1, 1,\n",
       "         0, 1, 0, 1, 0, 3, 1, 2, 1, 0, 2, 3, 0, 1, 1, 3, 6, 0, 1, 1, 1, 1, 2, 1,\n",
       "         1, 3, 0, 1, 3, 0, 0, 1, 1, 1, 0, 0, 0, 2, 1, 0, 0, 3, 0, 0, 3, 4, 2, 0,\n",
       "         1, 0, 4, 7, 1, 0, 2, 1, 1, 0, 0, 1, 0, 0, 0, 0, 4, 3, 2, 2, 0, 0, 5, 0,\n",
       "         3, 0, 0, 5, 0, 6, 0, 1, 0, 1, 1, 0, 0, 1, 1, 1, 0, 0, 3, 0, 0, 2, 3, 0,\n",
       "         0, 0, 1, 3, 4, 0, 2, 1, 6, 0, 0, 2, 0, 1, 3, 0, 1, 1, 0, 0, 0, 3, 0, 0,\n",
       "         1, 0, 0, 2, 0, 0, 6, 0, 0, 2, 1, 1, 0, 4, 1, 0, 0, 0, 0, 0, 0, 0, 1, 3,\n",
       "         1, 0, 0, 1, 0, 0, 6, 5, 0, 2, 0, 0, 0, 3, 0, 0, 1, 1, 8, 0, 2, 0, 5, 0,\n",
       "         0, 1, 1, 1, 1, 0, 2, 0, 0, 1, 1, 0, 1, 0, 3, 0, 0, 1, 0, 0, 0, 1, 1, 5,\n",
       "         1, 1, 1, 0, 0, 1, 1, 0, 2, 1, 1, 0, 3, 1, 1, 1, 0, 2, 2, 0, 2, 1, 0, 2,\n",
       "         2, 0, 1, 0, 0, 0, 1, 0, 5, 0, 1, 0, 0, 0, 1, 0, 2, 1, 0, 1, 1, 5, 1, 1,\n",
       "         2, 0, 0, 0, 4, 8, 0, 0, 0, 1, 2, 0, 2, 0, 4, 4, 0, 0, 1, 1, 3, 1, 3, 2,\n",
       "         0, 0, 2, 0, 1, 1, 4, 1, 0, 2, 0, 0, 3, 0, 0, 0, 3, 0, 1, 0, 0, 2, 0, 0,\n",
       "         1, 0, 1, 1, 2, 1, 1, 0, 1, 0, 0, 4, 3, 0, 0, 2, 0, 0, 1, 5, 3, 1, 0, 0,\n",
       "         0, 1, 0, 3, 3, 1, 1, 0, 1, 3, 0, 0, 0, 1, 0, 2, 1, 0, 1, 8, 0, 0, 2, 7,\n",
       "         1, 0, 1, 3, 1, 0, 2, 1, 0, 4, 1, 0, 0, 1, 3, 1, 1, 0, 1, 1, 2, 0, 0, 1,\n",
       "         1, 0, 3, 0, 3, 0, 1, 0, 3, 2, 0, 1, 0, 1, 0, 3, 0, 0, 2, 2, 0, 0, 0, 0,\n",
       "         0, 0, 3, 3, 0, 3, 1, 0, 0, 0, 0, 0, 1, 4, 1, 2, 0, 1, 0, 2, 0, 2, 1, 0,\n",
       "         1, 0, 0, 1, 1, 1, 0, 0, 0, 0, 0, 0, 0, 1, 2, 0, 1, 2, 0, 1, 0, 3, 0, 0,\n",
       "         6, 0, 0, 1, 3, 0, 0, 4, 0, 0, 0, 1, 2, 0, 2, 0, 1, 0, 2, 2, 3, 1, 0, 0,\n",
       "         1, 8, 2, 0, 3, 2, 2, 0, 1, 0, 1, 0, 0, 2, 0, 3, 0, 5, 0, 1, 0, 0, 1, 7,\n",
       "         0, 1, 1, 0, 1, 0, 2, 0, 0, 1, 0, 0, 0, 0, 0, 0, 1, 0, 0, 1, 3, 0, 1, 3,\n",
       "         1, 3, 0, 0, 1, 3, 0, 0, 3, 2, 3, 1, 0, 1, 0, 1, 0, 0, 0, 3, 0, 1, 2, 0,\n",
       "         0, 1, 1, 4, 2, 1, 0, 0, 0, 1, 2, 2, 1, 1, 0, 3, 0, 0, 0, 0, 1, 0, 4, 0,\n",
       "         1, 3, 0, 0, 2, 4, 8, 0, 0, 2, 0, 0, 0, 0, 0, 1, 2, 3, 1, 0, 0, 1, 3, 1,\n",
       "         0, 0, 0, 0, 0, 0, 1, 0, 0, 2, 0, 1, 0, 0, 0, 3, 0, 1, 0, 0, 2, 0, 1, 2,\n",
       "         0, 4, 1, 4, 0, 1, 0, 0, 3, 0, 3, 0, 0, 0, 2, 0, 0, 1, 2, 1, 1, 0, 1, 0,\n",
       "         2, 1, 1, 0, 0, 0, 1, 3, 8, 4, 0, 0, 0, 1, 0, 0, 0, 0, 0, 2, 0, 1, 0, 1,\n",
       "         3, 1, 0, 7, 0, 1, 3, 2, 1, 0, 2, 0, 0, 1, 2, 0, 1, 0, 1, 2, 0, 0, 0, 2,\n",
       "         2, 0, 1, 1, 0, 3, 4, 0, 0, 0, 0, 0, 0, 2, 0, 0, 0, 0, 5, 0, 0, 1, 1, 2,\n",
       "         3, 0, 0, 0, 0, 1, 0, 0, 0, 0, 1, 2, 1, 1, 0, 0, 1, 0, 0, 3, 1, 1, 2, 0,\n",
       "         2, 0, 0, 1, 0, 0, 4, 0, 0, 1, 3, 1, 0, 0, 0, 2, 1, 1, 0, 0, 0, 1, 0, 0,\n",
       "         1, 0, 1, 3, 0, 0, 5, 2, 0, 4, 0, 0, 0, 2, 0, 1, 4, 1, 0, 0, 0, 0, 0, 0,\n",
       "         0, 0, 0, 0, 0, 0, 6, 0, 0, 0, 0, 1, 0, 1, 1, 1, 1, 1, 0, 4, 0, 3, 1, 0,\n",
       "         0, 0, 0, 0, 3, 3, 1, 6, 6, 0, 0, 0, 0, 0, 0, 1, 1, 0, 0, 0, 0, 0, 0, 3,\n",
       "         1, 0, 0, 0, 5, 0, 0, 0, 1, 1, 1, 1, 1, 0, 1, 0, 0, 0, 0, 2, 0, 0, 8, 0,\n",
       "         0, 1, 0, 2, 0, 2, 0, 0, 0, 2, 0, 0, 1, 2, 0, 1]),\n",
       " 'expression_target': tensor([1, 0, 0, 0, 0, 3, 5, 0, 0, 6, 4, 0, 0, 5, 2, 1, 0, 2, 2, 2, 0, 2, 0, 1,\n",
       "         0, 0, 1, 0, 3, 0, 3, 0, 1, 0, 0, 0, 2, 1, 0, 0, 0, 2, 1, 0, 0, 0, 2, 2,\n",
       "         2, 2, 0, 0, 1, 0, 0, 1, 0, 0, 1, 2, 5, 1, 2, 0, 1, 3, 2, 0, 1, 1, 0, 6,\n",
       "         0, 5, 2, 0, 1, 0, 1, 3, 2, 1, 0, 1, 0, 2, 1, 0, 0, 0, 5, 0, 1, 0, 0, 0,\n",
       "         0, 1, 1, 1, 0, 0, 2, 0, 2, 3, 3, 0, 5, 0, 0, 5, 0, 2, 0, 2, 0, 0, 1, 0,\n",
       "         2, 0, 0, 0, 1, 5, 0, 2, 0, 1, 0, 0, 2, 1, 0, 0, 3, 0, 1, 0, 1, 0, 1, 1,\n",
       "         0, 1, 0, 1, 0, 3, 1, 2, 1, 0, 2, 3, 0, 1, 1, 3, 6, 0, 1, 1, 1, 1, 2, 1,\n",
       "         1, 3, 0, 1, 3, 0, 0, 1, 1, 1, 0, 0, 0, 2, 1, 0, 0, 3, 0, 0, 3, 4, 2, 0,\n",
       "         1, 0, 4, 7, 1, 0, 2, 1, 1, 0, 0, 1, 0, 0, 0, 0, 4, 3, 2, 2, 0, 0, 5, 0,\n",
       "         3, 0, 0, 5, 0, 6, 0, 1, 0, 1, 1, 0, 0, 1, 1, 1, 0, 0, 3, 0, 0, 2, 3, 0,\n",
       "         0, 0, 1, 3, 4, 0, 2, 1, 6, 0, 0, 2, 0, 1, 3, 0, 1, 1, 0, 0, 0, 3, 0, 0,\n",
       "         1, 0, 0, 2, 0, 0, 6, 0, 0, 2, 1, 1, 0, 4, 1, 0, 0, 0, 0, 0, 0, 0, 1, 3,\n",
       "         1, 0, 0, 1, 0, 0, 6, 5, 0, 2, 0, 0, 0, 3, 0, 0, 1, 1, 4, 0, 2, 0, 5, 0,\n",
       "         0, 1, 1, 1, 1, 0, 2, 0, 0, 1, 1, 0, 1, 0, 3, 0, 0, 1, 0, 0, 0, 1, 1, 5,\n",
       "         1, 1, 1, 0, 0, 1, 1, 0, 2, 1, 1, 0, 3, 1, 1, 1, 0, 2, 2, 0, 2, 1, 0, 2,\n",
       "         2, 0, 1, 0, 0, 0, 1, 7, 5, 0, 1, 0, 0, 0, 1, 0, 2, 1, 0, 1, 1, 5, 1, 1,\n",
       "         2, 0, 0, 0, 4, 0, 0, 0, 0, 1, 2, 0, 2, 0, 4, 4, 0, 0, 1, 1, 3, 1, 3, 2,\n",
       "         0, 0, 2, 0, 1, 1, 4, 1, 0, 2, 0, 0, 3, 0, 0, 0, 3, 0, 1, 0, 0, 2, 0, 0,\n",
       "         1, 0, 1, 1, 2, 1, 1, 0, 1, 0, 0, 4, 3, 0, 0, 2, 0, 0, 1, 5, 3, 1, 0, 0,\n",
       "         0, 1, 0, 3, 3, 1, 1, 0, 1, 3, 0, 0, 0, 1, 0, 2, 1, 0, 1, 0, 0, 0, 2, 7,\n",
       "         1, 0, 1, 3, 1, 0, 2, 1, 0, 4, 1, 0, 0, 1, 3, 1, 1, 0, 1, 1, 2, 0, 0, 1,\n",
       "         1, 0, 3, 0, 3, 0, 1, 0, 3, 2, 0, 1, 0, 1, 0, 3, 0, 0, 2, 2, 0, 0, 0, 0,\n",
       "         0, 0, 3, 3, 0, 3, 1, 0, 0, 0, 0, 0, 1, 4, 1, 2, 0, 1, 0, 2, 0, 2, 1, 0,\n",
       "         1, 0, 0, 1, 1, 1, 0, 0, 0, 0, 0, 0, 0, 1, 2, 0, 1, 2, 0, 1, 0, 3, 0, 0,\n",
       "         6, 0, 0, 1, 3, 0, 0, 4, 0, 0, 0, 1, 2, 0, 2, 0, 1, 0, 2, 2, 3, 1, 0, 0,\n",
       "         1, 4, 2, 0, 3, 2, 2, 0, 1, 0, 1, 0, 0, 2, 0, 3, 0, 5, 0, 1, 0, 0, 1, 7,\n",
       "         0, 1, 1, 0, 1, 0, 2, 0, 0, 1, 0, 0, 0, 0, 0, 0, 1, 0, 0, 1, 3, 0, 1, 3,\n",
       "         1, 3, 0, 0, 1, 3, 0, 0, 3, 2, 3, 1, 0, 1, 0, 1, 0, 0, 0, 3, 0, 1, 2, 0,\n",
       "         0, 1, 1, 4, 2, 1, 0, 0, 0, 1, 2, 2, 1, 1, 0, 3, 0, 0, 0, 0, 1, 0, 4, 0,\n",
       "         1, 3, 0, 0, 2, 4, 7, 0, 0, 2, 0, 0, 0, 0, 0, 1, 2, 3, 1, 0, 0, 1, 3, 1,\n",
       "         0, 0, 0, 0, 0, 0, 1, 0, 0, 2, 0, 1, 0, 0, 0, 3, 0, 1, 0, 0, 2, 0, 1, 2,\n",
       "         0, 4, 1, 4, 0, 1, 0, 0, 3, 0, 3, 0, 0, 0, 2, 0, 0, 1, 2, 1, 1, 0, 1, 0,\n",
       "         2, 1, 1, 0, 0, 0, 1, 3, 3, 4, 0, 0, 0, 1, 0, 0, 0, 0, 0, 2, 0, 1, 0, 1,\n",
       "         3, 1, 0, 7, 0, 1, 3, 2, 1, 0, 2, 0, 0, 1, 2, 0, 1, 0, 1, 2, 0, 0, 0, 2,\n",
       "         2, 0, 1, 1, 0, 3, 4, 0, 0, 0, 0, 0, 0, 2, 0, 0, 0, 0, 5, 0, 0, 1, 1, 2,\n",
       "         3, 0, 0, 0, 0, 1, 0, 0, 0, 0, 1, 2, 1, 1, 0, 0, 1, 0, 0, 3, 1, 1, 2, 0,\n",
       "         2, 0, 0, 1, 0, 0, 4, 0, 0, 1, 3, 1, 0, 0, 0, 2, 1, 1, 0, 0, 0, 1, 0, 0,\n",
       "         1, 0, 1, 3, 0, 0, 5, 2, 0, 4, 0, 0, 0, 2, 0, 1, 4, 1, 0, 0, 0, 0, 0, 0,\n",
       "         0, 0, 0, 0, 0, 0, 6, 0, 0, 0, 0, 1, 0, 1, 1, 1, 1, 1, 0, 4, 0, 3, 1, 0,\n",
       "         0, 0, 0, 0, 3, 3, 1, 6, 6, 0, 0, 0, 0, 0, 0, 1, 1, 0, 0, 0, 0, 0, 0, 3,\n",
       "         1, 0, 0, 0, 5, 0, 0, 0, 1, 1, 1, 1, 1, 0, 1, 0, 0, 0, 0, 2, 0, 0, 7, 0,\n",
       "         0, 1, 0, 2, 0, 2, 0, 0, 0, 2, 0, 0, 1, 2, 0, 1]),\n",
       " 'mask': tensor([False, False, False, False, False, False, False, False, False, False,\n",
       "         False, False, False, False, False, False, False, False, False, False,\n",
       "         False, False, False, False, False, False, False, False, False, False,\n",
       "         False, False, False, False, False, False, False, False, False, False,\n",
       "         False, False, False, False, False, False, False, False, False, False,\n",
       "         False, False, False, False, False, False, False, False, False, False,\n",
       "         False, False, False, False, False, False, False, False, False, False,\n",
       "         False,  True, False, False, False, False, False, False, False, False,\n",
       "         False, False, False, False, False, False, False, False, False, False,\n",
       "         False, False, False, False, False, False, False, False, False, False,\n",
       "         False, False, False, False, False, False, False, False, False, False,\n",
       "         False, False, False, False, False, False, False, False, False, False,\n",
       "         False, False, False, False, False, False, False, False, False, False,\n",
       "         False, False, False, False, False, False, False, False, False, False,\n",
       "         False, False, False, False, False, False, False, False, False, False,\n",
       "         False, False, False, False, False, False, False, False, False, False,\n",
       "         False, False, False, False, False, False, False, False, False, False,\n",
       "         False, False, False, False, False, False, False, False, False, False,\n",
       "         False, False, False, False, False, False, False, False, False, False,\n",
       "         False, False, False, False, False, False, False, False, False, False,\n",
       "         False, False, False, False, False, False, False, False, False, False,\n",
       "         False, False, False, False, False, False, False, False, False, False,\n",
       "         False, False, False, False, False, False, False, False, False, False,\n",
       "         False, False, False, False, False, False, False, False, False, False,\n",
       "         False, False, False, False, False, False, False, False, False, False,\n",
       "         False, False, False, False, False, False, False, False, False, False,\n",
       "         False, False, False, False, False, False, False, False, False, False,\n",
       "         False, False, False, False, False, False, False, False, False, False,\n",
       "         False, False, False, False, False, False, False, False, False, False,\n",
       "         False, False, False, False, False, False, False, False, False, False,\n",
       "         False, False, False, False, False, False,  True, False, False, False,\n",
       "         False, False, False, False, False, False, False, False, False, False,\n",
       "         False, False, False, False, False, False, False, False, False, False,\n",
       "         False, False, False, False, False, False, False, False, False, False,\n",
       "         False, False, False, False, False, False, False, False, False, False,\n",
       "         False, False, False, False, False, False, False, False, False, False,\n",
       "         False, False, False, False, False, False, False,  True, False, False,\n",
       "         False, False, False, False, False, False, False, False, False, False,\n",
       "         False, False, False, False, False, False, False, False, False,  True,\n",
       "         False, False, False, False, False, False, False, False, False, False,\n",
       "         False, False, False, False, False, False, False, False, False, False,\n",
       "         False, False, False, False, False, False, False, False, False, False,\n",
       "         False, False, False, False, False, False, False, False, False, False,\n",
       "         False, False, False, False, False, False, False, False, False, False,\n",
       "         False, False, False, False, False, False, False, False, False, False,\n",
       "         False, False, False,  True, False, False, False, False, False, False,\n",
       "         False, False, False, False, False, False, False, False, False, False,\n",
       "         False, False, False, False, False,  True, False, False, False, False,\n",
       "         False, False, False, False, False, False, False, False, False, False,\n",
       "         False, False, False, False, False, False, False, False, False, False,\n",
       "         False, False, False, False, False, False, False, False, False, False,\n",
       "         False, False, False, False, False, False, False, False, False, False,\n",
       "         False, False, False, False, False, False, False, False, False, False,\n",
       "         False, False, False, False, False, False, False, False, False, False,\n",
       "         False, False, False, False, False, False, False, False, False, False,\n",
       "         False, False, False, False, False, False, False, False, False, False,\n",
       "         False, False, False, False, False, False, False, False, False, False,\n",
       "         False, False, False, False, False, False, False, False, False, False,\n",
       "         False, False, False, False, False, False, False, False, False, False,\n",
       "         False, False, False, False, False, False, False, False, False, False,\n",
       "         False,  True, False, False, False, False, False, False, False, False,\n",
       "         False, False, False, False, False, False, False, False, False, False,\n",
       "         False, False, False, False, False, False, False, False, False, False,\n",
       "         False, False, False, False, False, False, False, False, False, False,\n",
       "         False, False, False, False, False, False, False, False, False, False,\n",
       "         False, False, False, False, False, False, False, False, False, False,\n",
       "         False, False, False, False, False, False, False, False, False, False,\n",
       "         False, False, False, False, False, False, False, False, False, False,\n",
       "         False, False, False, False, False, False, False, False, False, False,\n",
       "         False, False, False, False, False, False, False, False, False, False,\n",
       "         False, False,  True, False, False, False, False, False, False, False,\n",
       "         False, False, False, False, False, False, False, False, False, False,\n",
       "         False, False, False, False, False, False, False, False, False, False,\n",
       "         False, False, False, False, False, False, False, False, False, False,\n",
       "         False, False, False, False, False, False, False, False, False, False,\n",
       "         False, False, False, False, False, False, False, False, False, False,\n",
       "         False, False, False, False, False, False, False, False, False, False,\n",
       "         False, False, False, False, False, False,  True, False, False, False,\n",
       "         False, False, False, False, False, False, False, False, False, False,\n",
       "         False, False, False, False, False, False, False, False, False, False,\n",
       "         False, False, False, False, False, False, False, False, False, False,\n",
       "         False, False, False, False, False, False, False, False, False, False,\n",
       "         False, False, False, False, False, False, False, False, False, False,\n",
       "         False, False, False, False, False, False, False, False, False, False,\n",
       "         False, False, False, False, False, False, False, False, False, False,\n",
       "         False, False, False, False, False, False, False, False, False, False,\n",
       "         False, False, False, False, False, False, False, False, False, False,\n",
       "         False, False, False, False, False, False, False, False, False, False,\n",
       "         False, False, False, False, False, False, False, False, False, False,\n",
       "         False, False, False, False, False, False, False, False, False, False,\n",
       "         False, False, False, False, False, False, False, False, False, False,\n",
       "         False, False, False, False, False, False, False, False, False, False,\n",
       "         False, False, False, False, False, False, False, False, False, False,\n",
       "         False, False, False, False, False, False, False, False, False, False,\n",
       "         False, False, False, False, False, False, False, False, False, False,\n",
       "         False, False, False, False, False, False, False, False, False, False,\n",
       "         False, False, False, False, False, False, False, False, False, False,\n",
       "         False, False, False, False, False, False, False, False, False, False,\n",
       "         False, False,  True, False, False, False, False, False, False, False,\n",
       "         False, False, False, False, False, False, False, False, False, False]),\n",
       " 'var_indices': tensor([ 6512, 17778, 15483, 13731, 13481, 11707,  1688,  4570,  8396,  1982,\n",
       "          7318,  9898,  6790, 14798, 11461,  4016, 11825,   632, 10856, 13425,\n",
       "          6343,  3403, 14361, 19140, 18977, 15725, 18292, 13651, 17745,  1773,\n",
       "          2656, 18098,  8088,  2174, 19048, 18396, 13515,  3380,   938, 15318,\n",
       "         18890,  4867, 15298,  4606, 14947, 14481,  1328,  1725,  5470,  5741,\n",
       "         15590, 10477,  2682, 16529, 18888, 16508, 18605,  2632,  1654,  1152,\n",
       "          4447,  7235, 10610, 13421, 11170,  5017, 16345, 13896,  4692,  7218,\n",
       "         18561,  4620,  7887,  3436, 11175, 16500, 16849,  7344,  2197, 14117,\n",
       "          5712, 16839, 13723,  6180, 17954,  7244,  4914, 11153, 14083, 18611,\n",
       "          4676, 10020, 10219, 16473, 19293, 13612,  7595,   630, 11569,  8919,\n",
       "         15523,  3332, 11568, 18448,  1198, 11185,    49,  8664,   343,  4964,\n",
       "         12869,  5533,  6693,   648, 17505,  2732,  5998, 14941,  7903, 19119,\n",
       "         13237,  1970,  9220, 11144,  8655,  5014, 10264, 13619,  5244, 14385,\n",
       "         11535, 11951, 12255, 16557, 19165, 18107, 15332, 15026, 16471, 16516,\n",
       "          6213,  5768, 18293,  6397, 14315, 15717, 18794,  3387, 12547,  4659,\n",
       "         13664,  7829, 15184, 13408, 16356, 12057, 12155, 11072,  1436,  6181,\n",
       "          1267,  1637, 15839,  6204,  1578,  5863,  9500,  6227,  8475,  1776,\n",
       "         18287,  7836,  4091,  7191, 14513,  2163, 16611,   608, 18049,  5986,\n",
       "         19353, 13190,  3018, 15034,  4188, 14063,  1675, 12296,  5773,   303,\n",
       "          3909,  5247,   378,  7262, 12464, 12405,  2114, 11661,  1244,  1239,\n",
       "         12886, 15503,  5682, 18058, 14101, 14417,  4805, 18303,  7187,  3037,\n",
       "          7630,  1612,  3125,  4062, 10993, 16046,  3543,   386,  6710, 17544,\n",
       "         11890,  4315, 16603,  3199, 16431,   360, 14228, 18464,  2059,  5606,\n",
       "          3152, 14242, 14029,  6923,  3619,  2517,  6313, 14435, 17644, 13435,\n",
       "         11214,  6095,  2012,  6959,  9599,  7457,  3042,  4808, 17845,  9754,\n",
       "          6579, 14629,  2854, 15317,  5452, 13620, 12898,  6186, 17873, 17959,\n",
       "         16958, 12664, 17161, 17861,  8377, 15406, 10917, 13404,  9648, 14186,\n",
       "          1963, 18784, 17614, 18760,  4811, 14004, 18761,  8875, 11868,  7856,\n",
       "          9622, 19252,  5197, 10312, 16325, 13832, 16551, 13139, 11941, 17066,\n",
       "         13291,  5540, 19263, 11547,  1006,  2889,  3550,  3673,  1522, 11242,\n",
       "         18408, 13560,  2693, 19351,  3398, 14142,  7839,  8610, 12386, 16555,\n",
       "          7581,  9210, 17512,  5734,  2387,  8373, 14116, 13362, 12859,  5597,\n",
       "          1922,  3626, 10689, 10245, 14944,  6947, 11282, 15951,  5126,  4896,\n",
       "         13675,  4157,  3255,  7156, 15787,  4464,  6597,  7633,  1336, 11828,\n",
       "          6425,  6130,  6021, 12821, 16644, 14571,  3258, 15086, 10382, 15926,\n",
       "         11812,  4244, 11065,  9134,  2166, 10810,  1422, 10306, 13766,  3888,\n",
       "          5880, 14973, 14782, 12277,  3469, 12171, 10043, 13910,  5177,  7525,\n",
       "          8934, 13533, 11361,  6685,  2273,  4640,  2361,  6073,   283,  9455,\n",
       "          1862,  1415, 13858,  6438,  8960,  8883, 17559,  2033, 14735,  6611,\n",
       "          5314, 18676, 18930, 12390,  1337, 13039, 10397, 17623,  5603, 15486,\n",
       "         11761, 17884,  8386,  8566,  2037, 12404,  3517,    57, 17192,  1826,\n",
       "          3964,  7718, 10151,  8235,  6398, 12566,  4200, 15552, 18956,  1508,\n",
       "         11031, 10273,  4592,  7037,  2646,  5699,  3104,  3011, 14432,  9421,\n",
       "         12008, 12674, 16397, 19282,   625, 11160,  4684,    45,  7159,  4670,\n",
       "         13561, 16750,  9542,  1835, 12262, 13382,  4251,  4482, 15650, 12893,\n",
       "          9977,  8879, 10100, 12795,  6612, 18869, 18210, 16406, 18680,  8806,\n",
       "          7093,  8247,  2064,  3039,  6209,  8066, 15216,  8107,  8083, 12029,\n",
       "         11563, 12689,  1376,  7086,  9918,   473, 11719, 11058, 17685, 14510,\n",
       "          1758, 11650,   610, 15675,  8763, 16470,  6697,  9978, 12695,  9036,\n",
       "          4938, 19074,  6510, 10285, 13118,  4365,  7556,  9464, 14802,  2282,\n",
       "         19157,  1444,  9523,  5469, 12018,  4681, 18370, 12632,  6867, 13674,\n",
       "          5413,   294,  6943, 18567, 13872,  2639,  9106, 16610, 16767, 11874,\n",
       "         15890, 19411, 10461,  8450,  4750, 18979, 17157,   834,  3708, 17015,\n",
       "         15166,  2728,  5293,  4617,  3031,  8568,  4624, 12312,  5594, 17388,\n",
       "          4525, 17429,  4882, 14984, 12258,  4065, 10946,   803, 12346, 12899,\n",
       "          5684, 16522, 11035, 10872,  8683,  8239, 10614, 14333, 13758, 10135,\n",
       "         10394, 11205, 19106, 13981, 14756, 14982,  4610,  6359, 11843,  6080,\n",
       "         12580, 10169, 14667,  6241,  1085, 15699,  6412, 17606,  7448,  2246,\n",
       "          9413, 16068, 11597,  7520,  8662, 18244, 12787,  3892,   320,  5600,\n",
       "          7908,  1105, 16287, 11145,  7762, 11532,  9727,  3382,  5528,  8967,\n",
       "         16191, 10343, 17530, 12506,  3747,  4944,  1007, 19189, 10542, 18955,\n",
       "          1787, 14258,  1521, 11615, 18204,  3369,  8098,   460,  2356,  7982,\n",
       "          4184, 13816, 13079, 13085, 11199,  1366,  7668,  1357, 12816,  5395,\n",
       "          7998, 19400, 11044,  7826,   315, 16730,  8197, 17394,  7687,  7631,\n",
       "         11883,  3951,  3413,  3751,  4190,  6177,  5063,  2918,   534,   876,\n",
       "          1354,  9057,  4900,  1034,  7022, 18431, 10876, 12851,  8640,  5583,\n",
       "          5763, 16014,  9433, 18380, 18750, 19023, 10018,  8203,  8214,  3977,\n",
       "          3395, 13765, 15527,  9326,  7435, 17593,  7756,  8090,  1012,  8726,\n",
       "         11006, 17152, 13005, 17274,  5010, 16146, 10311,  3314,  1531, 13474,\n",
       "          7703,  5808,   786, 18079,   875,  1329,   744,  8016, 18418, 14828,\n",
       "          3297,  2269,  9204, 19170, 14434,  4026, 15497, 19337,   198, 19290,\n",
       "          5490, 14442,  1051,  8418,  6949, 18512,  4178, 10215,  8276,  7364,\n",
       "          8534, 12916,  8382,  9478, 11961, 12395, 14591, 13072, 17933,  2155,\n",
       "          9209,  3887, 14919, 11763,  9069,  7683, 11258,  6223, 16385,  9489,\n",
       "          8170,  6305,   810, 10962, 15167,  3815, 10372, 11440,  2327,  1599,\n",
       "         15803,   746, 18452, 12231, 15143,  4123, 17225,  9474, 17534,  4346,\n",
       "          1693, 12041,  2777,  7396,  6793, 10425, 16288, 17787,  3863, 17469,\n",
       "           596, 12206,  5183, 10364,  6236,  7186, 10518, 15897, 15104, 10463,\n",
       "         13469, 19241,  7466, 12610, 12925,  7311, 19246, 12217, 18881,  9052,\n",
       "         17450,  1703,  7162,  3631, 10389, 16810, 17692, 12381, 10999, 13842,\n",
       "          5653, 16901,   433, 14992, 18486,   881,  5285,  2564, 16721,  2058,\n",
       "           545,  6132, 17496, 14507,  4259, 12307, 16748,  7997,  9963, 18191,\n",
       "          3059,  4824, 15884, 13794,  2921,  5589,  7470, 16335, 11847,  8294,\n",
       "         16544,  3789, 12497,  9103,  1694,  3991, 12214,  2608,  8329, 18317,\n",
       "          4512, 14086, 18780, 14201, 10107, 11041,  9560, 17448,  9797,   334,\n",
       "          4758,  8902, 13361,  7079, 17243,  8867, 10147, 13743,  3407, 17517,\n",
       "         14999, 10600,  3769, 16009,  4783,  9915, 17732, 12022,  7757, 19068,\n",
       "           429, 19299, 10759, 11466,  9878, 10873,   579, 10847, 11333,  8682,\n",
       "         11317, 12138, 15154, 11776, 18997,  2217, 15673,  7097,  3028,  3654,\n",
       "          2106,  9870, 15301,  6737, 11454, 13140, 17488,  3229,  8679,  5308,\n",
       "         10391,  4701, 13535,   593, 10920,  6183, 18737, 18033,  1100, 10980,\n",
       "         11508, 10447, 15101,  2185, 18790,   511, 11762, 17032,   506, 17259,\n",
       "         15016, 13171, 13831,  6656, 15208,  2822,  3232, 13329, 11641, 10409,\n",
       "          4199,  5770,  9936,  5140,  4155, 12434,   571, 16538,  6106, 11620,\n",
       "         11590,  5601,  4424,  8105,  9714,   973,  6617, 14497, 16351, 16868,\n",
       "         14654, 16754,  5093,  1451,  1676, 17682, 12988, 10972, 16991,   219,\n",
       "          8077, 19108, 14387, 10487, 10892, 15187, 18570, 10195, 15593,  3431,\n",
       "          9564,  5548, 10414, 16953,  8057,   111, 11488,  5556,  5748, 11216,\n",
       "         11633, 12585, 13965,  8991, 10067,  2009, 14866, 16122,  8295, 11106,\n",
       "          4850, 18839,  8551,  2169, 17508,  7411,  2133, 14324, 16237, 14014]),\n",
       " 'obs_idx': tensor(4)}"
      ]
     },
     "execution_count": 38,
     "metadata": {},
     "output_type": "execute_result"
    }
   ],
   "source": [
    "# rdm.val_dataset.transform(rdm.val_dataset.expression[0]).min()\n",
    "rdm.val_dataset[0]"
   ]
  },
  {
   "cell_type": "code",
   "execution_count": 39,
   "metadata": {},
   "outputs": [
    {
     "name": "stdout",
     "output_type": "stream",
     "text": [
      "tensor(10)\n",
      "1000\n"
     ]
    }
   ],
   "source": [
    "item = rdm.val_dataset[0]\n",
    "print(item['mask'].sum())\n",
    "print(len(item['mask']))"
   ]
  },
  {
   "cell_type": "code",
   "execution_count": 40,
   "metadata": {},
   "outputs": [
    {
     "name": "stdout",
     "output_type": "stream",
     "text": [
      "tensor(10)\n",
      "1000\n"
     ]
    }
   ],
   "source": [
    "item = rdm.train_dataset[0]\n",
    "print(item['mask'].sum())\n",
    "print(len(item['mask']))"
   ]
  },
  {
   "cell_type": "code",
   "execution_count": 54,
   "metadata": {},
   "outputs": [
    {
     "name": "stderr",
     "output_type": "stream",
     "text": [
      "100%|██████████| 272/272 [00:02<00:00, 128.09it/s]\n"
     ]
    }
   ],
   "source": [
    "from tqdm import tqdm\n",
    "import torch\n",
    "\n",
    "\n",
    "expression = []\n",
    "expression_masked = []\n",
    "for item in tqdm(rdm.train_dataset):\n",
    "    expression.append(item['expression_target'])\n",
    "    expression_masked.append(item['expression_target'][item['mask']])\n",
    "expression = torch.stack(expression, dim=0)\n",
    "expression_masked = torch.stack(expression_masked, dim=0)\n",
    "values, counts = torch.unique(expression, return_counts=True)\n",
    "values, counts_masked = torch.unique(expression_masked, return_counts=True)\n",
    "counts_norm = counts / counts.sum()\n",
    "counts_masked_norm = counts_masked / counts_masked.sum()"
   ]
  },
  {
   "cell_type": "code",
   "execution_count": 62,
   "metadata": {},
   "outputs": [
    {
     "data": {
      "text/plain": [
       "[<matplotlib.lines.Line2D at 0x7f8a14bbcca0>]"
      ]
     },
     "execution_count": 62,
     "metadata": {},
     "output_type": "execute_result"
    },
    {
     "data": {
      "image/png": "[encoded data removed]",
      "text/plain": [
       "<Figure size 640x480 with 1 Axes>"
      ]
     },
     "metadata": {},
     "output_type": "display_data"
    }
   ],
   "source": [
    "import matplotlib.pyplot as plt\n",
    "\n",
    "plt.plot(counts / 1e2)\n",
    "plt.plot(counts_masked)"
   ]
  },
  {
   "cell_type": "code",
   "execution_count": 63,
   "metadata": {},
   "outputs": [
    {
     "data": {
      "text/plain": [
       "[<matplotlib.lines.Line2D at 0x7f8a14b26ee0>]"
      ]
     },
     "execution_count": 63,
     "metadata": {},
     "output_type": "execute_result"
    },
    {
     "data": {
      "image/png": "[encoded data removed]",
      "text/plain": [
       "<Figure size 640x480 with 1 Axes>"
      ]
     },
     "metadata": {},
     "output_type": "display_data"
    }
   ],
   "source": [
    "plt.plot(counts_norm)\n",
    "plt.plot(counts_masked_norm)"
   ]
  },
  {
   "cell_type": "code",
   "execution_count": 64,
   "metadata": {},
   "outputs": [
    {
     "name": "stderr",
     "output_type": "stream",
     "text": [
      "100%|██████████| 97/97 [00:00<00:00, 117.23it/s]\n"
     ]
    }
   ],
   "source": [
    "expression = []\n",
    "expression_masked = []\n",
    "for item in tqdm(rdm.val_dataset):\n",
    "    expression.append(item['expression_target'])\n",
    "    expression_masked.append(item['expression_target'][item['mask']])\n",
    "expression = torch.stack(expression, dim=0)\n",
    "expression_masked = torch.stack(expression_masked, dim=0)\n",
    "values, counts = torch.unique(expression, return_counts=True)\n",
    "values, counts_masked = torch.unique(expression_masked, return_counts=True)\n",
    "counts_norm = counts / counts.sum()\n",
    "counts_masked_norm = counts_masked / counts_masked.sum()"
   ]
  },
  {
   "cell_type": "code",
   "execution_count": 65,
   "metadata": {},
   "outputs": [
    {
     "data": {
      "text/plain": [
       "[<matplotlib.lines.Line2D at 0x7f8a14a98fd0>]"
      ]
     },
     "execution_count": 65,
     "metadata": {},
     "output_type": "execute_result"
    },
    {
     "data": {
      "image/png": "[encoded data removed]",
      "text/plain": [
       "<Figure size 640x480 with 1 Axes>"
      ]
     },
     "metadata": {},
     "output_type": "display_data"
    }
   ],
   "source": [
    "plt.plot(counts / 1e2)\n",
    "plt.plot(counts_masked)"
   ]
  },
  {
   "cell_type": "code",
   "execution_count": 66,
   "metadata": {},
   "outputs": [
    {
     "data": {
      "text/plain": [
       "[<matplotlib.lines.Line2D at 0x7f8a14a07b80>]"
      ]
     },
     "execution_count": 66,
     "metadata": {},
     "output_type": "execute_result"
    },
    {
     "data": {
      "image/png": "[encoded data removed]",
      "text/plain": [
       "<Figure size 640x480 with 1 Axes>"
      ]
     },
     "metadata": {},
     "output_type": "display_data"
    }
   ],
   "source": [
    "plt.plot(counts_norm)\n",
    "plt.plot(counts_masked_norm)"
   ]
  },
  {
   "cell_type": "code",
   "execution_count": 45,
   "metadata": {},
   "outputs": [],
   "source": [
    "train_var = rdm.train_dataset.var_indices\n",
    "test_var = torch.where(rdm.val_dataset.mask_bool)[0]"
   ]
  },
  {
   "cell_type": "code",
   "execution_count": 46,
   "metadata": {},
   "outputs": [
    {
     "name": "stdout",
     "output_type": "stream",
     "text": [
      "tensor(True)\n",
      "tensor(True)\n"
     ]
    }
   ],
   "source": [
    "print(torch.all(~torch.isin(train_var, test_var)))\n",
    "print(torch.all(~torch.isin(test_var, train_var)))"
   ]
  },
  {
   "cell_type": "code",
   "execution_count": 47,
   "metadata": {},
   "outputs": [
    {
     "name": "stdout",
     "output_type": "stream",
     "text": [
      "tensor(True)\n",
      "tensor(True)\n"
     ]
    }
   ],
   "source": [
    "item = rdm.train_dataset[10]\n",
    "print(torch.all(torch.isin(item['var_indices'], train_var)))\n",
    "print(torch.all(~torch.isin(item['var_indices'], test_var)))"
   ]
  },
  {
   "cell_type": "code",
   "execution_count": 48,
   "metadata": {},
   "outputs": [
    {
     "name": "stdout",
     "output_type": "stream",
     "text": [
      "tensor(True)\n",
      "tensor(True)\n"
     ]
    }
   ],
   "source": [
    "item = rdm.train_dataset[10]\n",
    "mask_var = item['var_indices'][item['mask']]\n",
    "print(torch.all(torch.isin(mask_var, train_var)))\n",
    "print(torch.all(~torch.isin(mask_var, test_var)))"
   ]
  },
  {
   "cell_type": "code",
   "execution_count": 49,
   "metadata": {},
   "outputs": [
    {
     "name": "stdout",
     "output_type": "stream",
     "text": [
      "tensor(True)\n",
      "tensor(True)\n"
     ]
    }
   ],
   "source": [
    "item = rdm.val_dataset[10]\n",
    "mask_var = item['var_indices'][item['mask']]\n",
    "print(torch.all(~torch.isin(mask_var, train_var)))\n",
    "print(torch.all(torch.isin(mask_var, test_var)))"
   ]
  },
  {
   "attachments": {},
   "cell_type": "markdown",
   "metadata": {},
   "source": [
    "#### Look at predict dataset"
   ]
  },
  {
   "cell_type": "code",
   "execution_count": 50,
   "metadata": {},
   "outputs": [
    {
     "name": "stdout",
     "output_type": "stream",
     "text": [
      "tensor(5792)\n",
      "19431\n"
     ]
    }
   ],
   "source": [
    "item = rdm.predict_dataset[0]\n",
    "print(item['mask'].sum())\n",
    "print(len(item['mask']))"
   ]
  },
  {
   "cell_type": "code",
   "execution_count": 51,
   "metadata": {},
   "outputs": [
    {
     "name": "stdout",
     "output_type": "stream",
     "text": [
      "tensor(True)\n",
      "tensor(True)\n",
      "tensor(True)\n"
     ]
    }
   ],
   "source": [
    "item = rdm.predict_dataset[10]\n",
    "mask_var = item['var_indices'][item['mask']]\n",
    "print(torch.all(~torch.isin(mask_var, train_var)))\n",
    "print(torch.all(torch.isin(mask_var, test_var)))\n",
    "print(torch.all(torch.isin(test_var, mask_var)))"
   ]
  },
  {
   "cell_type": "code",
   "execution_count": 52,
   "metadata": {},
   "outputs": [
    {
     "name": "stderr",
     "output_type": "stream",
     "text": [
      "100%|██████████| 97/97 [00:00<00:00, 140.99it/s]\n"
     ]
    }
   ],
   "source": [
    "expression = []\n",
    "expression_masked = []\n",
    "for item in tqdm(rdm.predict_dataset):\n",
    "    expression.append(item['expression_target'])\n",
    "    expression_masked.append(item['expression_target'][item['mask']])\n",
    "expression = torch.stack(expression, dim=0)\n",
    "expression_masked = torch.stack(expression_masked, dim=0)\n",
    "values, counts = torch.unique(expression, return_counts=True)\n",
    "values, counts_masked = torch.unique(expression_masked, return_counts=True)\n",
    "counts = counts / counts.sum()\n",
    "counts_masked = counts_masked / counts_masked.sum()"
   ]
  },
  {
   "cell_type": "code",
   "execution_count": 53,
   "metadata": {},
   "outputs": [
    {
     "data": {
      "text/plain": [
       "[<matplotlib.lines.Line2D at 0x7f8a17488850>]"
      ]
     },
     "execution_count": 53,
     "metadata": {},
     "output_type": "execute_result"
    },
    {
     "data": {
      "image/png": "[encoded data removed]",
      "text/plain": [
       "<Figure size 640x480 with 1 Axes>"
      ]
     },
     "metadata": {},
     "output_type": "display_data"
    }
   ],
   "source": [
    "plt.plot(counts)\n",
    "plt.plot(counts_masked)"
   ]
  },
  {
   "cell_type": "code",
   "execution_count": null,
   "metadata": {},
   "outputs": [],
   "source": []
  },
  {
   "cell_type": "code",
   "execution_count": null,
   "metadata": {},
   "outputs": [],
   "source": []
  },
  {
   "cell_type": "code",
   "execution_count": null,
   "metadata": {},
   "outputs": [],
   "source": []
  },
  {
   "cell_type": "code",
   "execution_count": null,
   "metadata": {},
   "outputs": [],
   "source": []
  },
  {
   "cell_type": "code",
   "execution_count": null,
   "metadata": {},
   "outputs": [],
   "source": []
  },
  {
   "cell_type": "code",
   "execution_count": null,
   "metadata": {},
   "outputs": [],
   "source": []
  },
  {
   "attachments": {},
   "cell_type": "markdown",
   "metadata": {},
   "source": [
    "## Binning"
   ]
  },
  {
   "cell_type": "code",
   "execution_count": 19,
   "metadata": {},
   "outputs": [],
   "source": [
    "import torch"
   ]
  },
  {
   "cell_type": "code",
   "execution_count": 21,
   "metadata": {},
   "outputs": [
    {
     "data": {
      "text/plain": [
       "(tensor([ 0,  1,  2,  3,  4,  5,  6,  7,  8,  9, 10, 11, 12, 13, 14, 15]),\n",
       " tensor([5822, 3048,  268,  233,  227,  209,  228,  214,  221,  209,  208,  216,\n",
       "          219,  223,  227,  228]))"
      ]
     },
     "execution_count": 21,
     "metadata": {},
     "output_type": "execute_result"
    }
   ],
   "source": [
    "torch.unique(rdm.val_dataset[0]['expression_target'], return_counts=True)"
   ]
  },
  {
   "cell_type": "code",
   "execution_count": 22,
   "metadata": {},
   "outputs": [
    {
     "data": {
      "text/plain": [
       "{'expression_input': tensor([ 6,  0,  0,  ...,  2, 16,  1]),\n",
       " 'expression_target': tensor([6, 0, 0,  ..., 2, 5, 1]),\n",
       " 'mask': tensor([False, False, False,  ..., False,  True, False]),\n",
       " 'var_indices': tensor([ 1206, 13006,  7506,  ...,  3247,   192, 14994]),\n",
       " 'obs_idx': tensor(4)}"
      ]
     },
     "execution_count": 22,
     "metadata": {},
     "output_type": "execute_result"
    }
   ],
   "source": [
    "rdm.val_dataset[0]"
   ]
  },
  {
   "cell_type": "code",
   "execution_count": 24,
   "metadata": {},
   "outputs": [],
   "source": [
    "tensor = torch.Tensor(rdm.val_dataset.expression[4])"
   ]
  },
  {
   "cell_type": "code",
   "execution_count": 25,
   "metadata": {},
   "outputs": [],
   "source": [
    "import numpy as np"
   ]
  },
  {
   "cell_type": "code",
   "execution_count": 26,
   "metadata": {},
   "outputs": [],
   "source": [
    "val, counts = torch.unique(tensor, return_counts=True)"
   ]
  },
  {
   "cell_type": "code",
   "execution_count": 27,
   "metadata": {},
   "outputs": [],
   "source": [
    "n_bins = 16"
   ]
  },
  {
   "cell_type": "code",
   "execution_count": 28,
   "metadata": {},
   "outputs": [
    {
     "data": {
      "text/plain": [
       "(tensor([ 0,  3,  5,  6,  7,  8,  9, 10, 11, 12, 13, 14, 15]),\n",
       " tensor([9362, 1813,  966, 1015,  855,  713,  676,  674,  672,  669,  673,  671,\n",
       "          672]))"
      ]
     },
     "execution_count": 28,
     "metadata": {},
     "output_type": "execute_result"
    }
   ],
   "source": [
    "# Put all zero values in their own bin and then distribute others evenly\n",
    "boundaries = torch.quantile(tensor[tensor>0], torch.linspace(0, 1, n_bins))\n",
    "boundaries = torch.concat([torch.tensor([0]), boundaries])\n",
    "boundaries[-1] = torch.inf\n",
    "aa = torch.bucketize(tensor, boundaries, right=True) - 1\n",
    "torch.unique(aa, return_counts=True)"
   ]
  },
  {
   "cell_type": "code",
   "execution_count": null,
   "metadata": {},
   "outputs": [],
   "source": [
    "# Put all zero values in their own bin and then distribute others evenly\n",
    "boundaries = torch.quantile(tensor, torch.linspace(0, 1, n_bins))\n",
    "ab = torch.bucketize(tensor, boundaries)\n",
    "torch.unique(ab, return_counts=True)"
   ]
  },
  {
   "cell_type": "code",
   "execution_count": null,
   "metadata": {},
   "outputs": [],
   "source": [
    "boundaries = torch.quantile(tensor[tensor>0], torch.linspace(0, 1, n_bins - 1))\n",
    "tmp = torch.bucketize(tensor[tensor>0], boundaries) + 1\n",
    "new = torch.zeros_like(tensor).long()\n",
    "new[tensor > 0] = tmp\n",
    "torch.unique(new, return_counts=True)"
   ]
  },
  {
   "cell_type": "code",
   "execution_count": null,
   "metadata": {},
   "outputs": [],
   "source": [
    "torch.quantile(tensor, torch.linspace(0, 1, n_bins))"
   ]
  },
  {
   "cell_type": "code",
   "execution_count": null,
   "metadata": {},
   "outputs": [],
   "source": []
  },
  {
   "cell_type": "code",
   "execution_count": null,
   "metadata": {},
   "outputs": [],
   "source": [
    "torch.unique(aa, return_counts=True)"
   ]
  },
  {
   "cell_type": "code",
   "execution_count": null,
   "metadata": {},
   "outputs": [],
   "source": [
    "boundaries"
   ]
  },
  {
   "cell_type": "code",
   "execution_count": null,
   "metadata": {},
   "outputs": [],
   "source": [
    "import matplotlib.pyplot as plt"
   ]
  },
  {
   "cell_type": "code",
   "execution_count": null,
   "metadata": {},
   "outputs": [],
   "source": [
    "plt.bar(val, counts)\n",
    "plt.ylim([0, 50]);"
   ]
  },
  {
   "cell_type": "code",
   "execution_count": null,
   "metadata": {},
   "outputs": [],
   "source": [
    "torch.quantile(tensor, torch.linspace(0, 1, n_bins))"
   ]
  },
  {
   "cell_type": "code",
   "execution_count": null,
   "metadata": {},
   "outputs": [],
   "source": [
    "torch.quantile(tensor, torch.logspace(0, .301, n_bins) - 1)"
   ]
  },
  {
   "cell_type": "code",
   "execution_count": null,
   "metadata": {},
   "outputs": [],
   "source": [
    "torch.logspace(0, .301, n_bins) - 1"
   ]
  },
  {
   "cell_type": "code",
   "execution_count": null,
   "metadata": {},
   "outputs": [],
   "source": [
    "10**2"
   ]
  },
  {
   "cell_type": "code",
   "execution_count": null,
   "metadata": {},
   "outputs": [],
   "source": []
  },
  {
   "cell_type": "code",
   "execution_count": null,
   "metadata": {},
   "outputs": [],
   "source": []
  },
  {
   "cell_type": "code",
   "execution_count": null,
   "metadata": {},
   "outputs": [],
   "source": [
    "from rosa.utils import score_predictions, plot_expression_and_correlation, plot_marker_gene_heatmap\n",
    "\n",
    "\n",
    "adata_test, results = score_predictions(adata)"
   ]
  },
  {
   "cell_type": "code",
   "execution_count": null,
   "metadata": {},
   "outputs": [],
   "source": [
    "plot_expression_and_correlation(adata_test, results)"
   ]
  },
  {
   "cell_type": "code",
   "execution_count": null,
   "metadata": {},
   "outputs": [],
   "source": [
    "import numpy as np\n",
    "\n",
    "\n",
    "marker_genes = adata_test.var[adata_test.var['highly_variable']]['feature_name'].values\n",
    "np.random.seed(42)\n",
    "marker_genes = np.random.choice(marker_genes, 50)\n",
    "\n",
    "plot_marker_gene_heatmap(adata_test, marker_genes)"
   ]
  },
  {
   "cell_type": "code",
   "execution_count": null,
   "metadata": {},
   "outputs": [],
   "source": [
    "marker_genes_dict = adata_test.obs.set_index('label').to_dict()['marker_feature_name']\n",
    "plot_marker_gene_heatmap(adata_test, marker_genes_dict)"
   ]
  },
  {
   "cell_type": "code",
   "execution_count": null,
   "metadata": {},
   "outputs": [],
   "source": []
  },
  {
   "cell_type": "code",
   "execution_count": null,
   "metadata": {},
   "outputs": [],
   "source": []
  }
 ],
 "metadata": {
  "kernelspec": {
   "display_name": "multiomics",
   "language": "python",
   "name": "python3"
  },
  "language_info": {
   "codemirror_mode": {
    "name": "ipython",
    "version": 3
   },
   "file_extension": ".py",
   "mimetype": "text/x-python",
   "name": "python",
   "nbconvert_exporter": "python",
   "pygments_lexer": "ipython3",
   "version": "3.9.13"
  },
  "orig_nbformat": 4,
  "vscode": {
   "interpreter": {
    "hash": "5c78ef6e1dc348573331f887aa1706c62aacac0373dba7ce1cc27999251039c5"
   }
  }
 },
 "nbformat": 4,
 "nbformat_minor": 2
}
