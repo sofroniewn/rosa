{
 "cells": [
  {
   "cell_type": "code",
   "execution_count": 1,
   "metadata": {},
   "outputs": [
    {
     "name": "stderr",
     "output_type": "stream",
     "text": [
      "/tmp/ipykernel_19121/2318672697.py:9: UserWarning: \n",
      "The version_base parameter is not specified.\n",
      "Please specify a compatability version level, or None.\n",
      "Will assume defaults for version 1.1\n",
      "  with hydra.initialize_config_dir(config_dir=BASE_DIR):\n",
      "/opt/conda/envs/pytorch/lib/python3.9/site-packages/hydra/_internal/defaults_list.py:251: UserWarning: In 'config': Defaults list is missing `_self_`. See https://hydra.cc/docs/1.2/upgrades/1.0_to_1.1/default_composition_order for more information\n",
      "  warnings.warn(msg, UserWarning)\n",
      "/opt/conda/envs/pytorch/lib/python3.9/site-packages/anndata/compat/_overloaded_dict.py:106: ImplicitModificationWarning: Trying to modify attribute `._uns` of view, initializing view as actual.\n",
      "  self.data[key] = value\n"
     ]
    },
    {
     "name": "stdout",
     "output_type": "stream",
     "text": [
      "RosaLightningModule(\n",
      "  (model): RosaTransformer(\n",
      "    (expression_embedding): BinnedEmbed(\n",
      "      (model): Sequential(\n",
      "        (embedding): Embedding(9, 128)\n",
      "        (layer_norm): LayerNorm((128,), eps=1e-05, elementwise_affine=True)\n",
      "        (dropout): Dropout(p=0.2, inplace=False)\n",
      "      )\n",
      "    )\n",
      "    (var_embedding): Sequential(\n",
      "      (layer_norm_1): LayerNorm((3072,), eps=1e-05, elementwise_affine=True)\n",
      "      (input_embed_1): InputEmbed(\n",
      "        (model): Sequential(\n",
      "          (projection): Linear(in_features=3072, out_features=128, bias=True)\n",
      "          (layer_norm): LayerNorm((128,), eps=1e-05, elementwise_affine=True)\n",
      "          (dropout): Dropout(p=0.2, inplace=False)\n",
      "        )\n",
      "      )\n",
      "    )\n",
      "    (transformer): Performer(\n",
      "      (net): SequentialSequence(\n",
      "        (layers): ModuleList(\n",
      "          (0): ModuleList(\n",
      "            (0): PreLayerNorm(\n",
      "              (norm): LayerNorm((128,), eps=1e-05, elementwise_affine=True)\n",
      "              (fn): SelfAttention(\n",
      "                (fast_attention): FastAttention(\n",
      "                  (kernel_fn): ReLU()\n",
      "                )\n",
      "                (to_q): Linear(in_features=128, out_features=128, bias=True)\n",
      "                (to_k): Linear(in_features=128, out_features=128, bias=True)\n",
      "                (to_v): Linear(in_features=128, out_features=128, bias=True)\n",
      "                (to_out): Linear(in_features=128, out_features=128, bias=True)\n",
      "                (dropout): Dropout(p=0.2, inplace=False)\n",
      "              )\n",
      "            )\n",
      "            (1): PreLayerNorm(\n",
      "              (norm): LayerNorm((128,), eps=1e-05, elementwise_affine=True)\n",
      "              (fn): Chunk(\n",
      "                (fn): FeedForward(\n",
      "                  (w1): Linear(in_features=128, out_features=512, bias=True)\n",
      "                  (act): GELU(approximate='none')\n",
      "                  (dropout): Dropout(p=0.2, inplace=False)\n",
      "                  (w2): Linear(in_features=512, out_features=128, bias=True)\n",
      "                )\n",
      "              )\n",
      "            )\n",
      "          )\n",
      "          (1): ModuleList(\n",
      "            (0): PreLayerNorm(\n",
      "              (norm): LayerNorm((128,), eps=1e-05, elementwise_affine=True)\n",
      "              (fn): SelfAttention(\n",
      "                (fast_attention): FastAttention(\n",
      "                  (kernel_fn): ReLU()\n",
      "                )\n",
      "                (to_q): Linear(in_features=128, out_features=128, bias=True)\n",
      "                (to_k): Linear(in_features=128, out_features=128, bias=True)\n",
      "                (to_v): Linear(in_features=128, out_features=128, bias=True)\n",
      "                (to_out): Linear(in_features=128, out_features=128, bias=True)\n",
      "                (dropout): Dropout(p=0.2, inplace=False)\n",
      "              )\n",
      "            )\n",
      "            (1): PreLayerNorm(\n",
      "              (norm): LayerNorm((128,), eps=1e-05, elementwise_affine=True)\n",
      "              (fn): Chunk(\n",
      "                (fn): FeedForward(\n",
      "                  (w1): Linear(in_features=128, out_features=512, bias=True)\n",
      "                  (act): GELU(approximate='none')\n",
      "                  (dropout): Dropout(p=0.2, inplace=False)\n",
      "                  (w2): Linear(in_features=512, out_features=128, bias=True)\n",
      "                )\n",
      "              )\n",
      "            )\n",
      "          )\n",
      "          (2): ModuleList(\n",
      "            (0): PreLayerNorm(\n",
      "              (norm): LayerNorm((128,), eps=1e-05, elementwise_affine=True)\n",
      "              (fn): SelfAttention(\n",
      "                (fast_attention): FastAttention(\n",
      "                  (kernel_fn): ReLU()\n",
      "                )\n",
      "                (to_q): Linear(in_features=128, out_features=128, bias=True)\n",
      "                (to_k): Linear(in_features=128, out_features=128, bias=True)\n",
      "                (to_v): Linear(in_features=128, out_features=128, bias=True)\n",
      "                (to_out): Linear(in_features=128, out_features=128, bias=True)\n",
      "                (dropout): Dropout(p=0.2, inplace=False)\n",
      "              )\n",
      "            )\n",
      "            (1): PreLayerNorm(\n",
      "              (norm): LayerNorm((128,), eps=1e-05, elementwise_affine=True)\n",
      "              (fn): Chunk(\n",
      "                (fn): FeedForward(\n",
      "                  (w1): Linear(in_features=128, out_features=512, bias=True)\n",
      "                  (act): GELU(approximate='none')\n",
      "                  (dropout): Dropout(p=0.2, inplace=False)\n",
      "                  (w2): Linear(in_features=512, out_features=128, bias=True)\n",
      "                )\n",
      "              )\n",
      "            )\n",
      "          )\n",
      "          (3): ModuleList(\n",
      "            (0): PreLayerNorm(\n",
      "              (norm): LayerNorm((128,), eps=1e-05, elementwise_affine=True)\n",
      "              (fn): SelfAttention(\n",
      "                (fast_attention): FastAttention(\n",
      "                  (kernel_fn): ReLU()\n",
      "                )\n",
      "                (to_q): Linear(in_features=128, out_features=128, bias=True)\n",
      "                (to_k): Linear(in_features=128, out_features=128, bias=True)\n",
      "                (to_v): Linear(in_features=128, out_features=128, bias=True)\n",
      "                (to_out): Linear(in_features=128, out_features=128, bias=True)\n",
      "                (dropout): Dropout(p=0.2, inplace=False)\n",
      "              )\n",
      "            )\n",
      "            (1): PreLayerNorm(\n",
      "              (norm): LayerNorm((128,), eps=1e-05, elementwise_affine=True)\n",
      "              (fn): Chunk(\n",
      "                (fn): FeedForward(\n",
      "                  (w1): Linear(in_features=128, out_features=512, bias=True)\n",
      "                  (act): GELU(approximate='none')\n",
      "                  (dropout): Dropout(p=0.2, inplace=False)\n",
      "                  (w2): Linear(in_features=512, out_features=128, bias=True)\n",
      "                )\n",
      "              )\n",
      "            )\n",
      "          )\n",
      "        )\n",
      "      )\n",
      "      (proj_updater): ProjectionUpdater(\n",
      "        (instance): SequentialSequence(\n",
      "          (layers): ModuleList(\n",
      "            (0): ModuleList(\n",
      "              (0): PreLayerNorm(\n",
      "                (norm): LayerNorm((128,), eps=1e-05, elementwise_affine=True)\n",
      "                (fn): SelfAttention(\n",
      "                  (fast_attention): FastAttention(\n",
      "                    (kernel_fn): ReLU()\n",
      "                  )\n",
      "                  (to_q): Linear(in_features=128, out_features=128, bias=True)\n",
      "                  (to_k): Linear(in_features=128, out_features=128, bias=True)\n",
      "                  (to_v): Linear(in_features=128, out_features=128, bias=True)\n",
      "                  (to_out): Linear(in_features=128, out_features=128, bias=True)\n",
      "                  (dropout): Dropout(p=0.2, inplace=False)\n",
      "                )\n",
      "              )\n",
      "              (1): PreLayerNorm(\n",
      "                (norm): LayerNorm((128,), eps=1e-05, elementwise_affine=True)\n",
      "                (fn): Chunk(\n",
      "                  (fn): FeedForward(\n",
      "                    (w1): Linear(in_features=128, out_features=512, bias=True)\n",
      "                    (act): GELU(approximate='none')\n",
      "                    (dropout): Dropout(p=0.2, inplace=False)\n",
      "                    (w2): Linear(in_features=512, out_features=128, bias=True)\n",
      "                  )\n",
      "                )\n",
      "              )\n",
      "            )\n",
      "            (1): ModuleList(\n",
      "              (0): PreLayerNorm(\n",
      "                (norm): LayerNorm((128,), eps=1e-05, elementwise_affine=True)\n",
      "                (fn): SelfAttention(\n",
      "                  (fast_attention): FastAttention(\n",
      "                    (kernel_fn): ReLU()\n",
      "                  )\n",
      "                  (to_q): Linear(in_features=128, out_features=128, bias=True)\n",
      "                  (to_k): Linear(in_features=128, out_features=128, bias=True)\n",
      "                  (to_v): Linear(in_features=128, out_features=128, bias=True)\n",
      "                  (to_out): Linear(in_features=128, out_features=128, bias=True)\n",
      "                  (dropout): Dropout(p=0.2, inplace=False)\n",
      "                )\n",
      "              )\n",
      "              (1): PreLayerNorm(\n",
      "                (norm): LayerNorm((128,), eps=1e-05, elementwise_affine=True)\n",
      "                (fn): Chunk(\n",
      "                  (fn): FeedForward(\n",
      "                    (w1): Linear(in_features=128, out_features=512, bias=True)\n",
      "                    (act): GELU(approximate='none')\n",
      "                    (dropout): Dropout(p=0.2, inplace=False)\n",
      "                    (w2): Linear(in_features=512, out_features=128, bias=True)\n",
      "                  )\n",
      "                )\n",
      "              )\n",
      "            )\n",
      "            (2): ModuleList(\n",
      "              (0): PreLayerNorm(\n",
      "                (norm): LayerNorm((128,), eps=1e-05, elementwise_affine=True)\n",
      "                (fn): SelfAttention(\n",
      "                  (fast_attention): FastAttention(\n",
      "                    (kernel_fn): ReLU()\n",
      "                  )\n",
      "                  (to_q): Linear(in_features=128, out_features=128, bias=True)\n",
      "                  (to_k): Linear(in_features=128, out_features=128, bias=True)\n",
      "                  (to_v): Linear(in_features=128, out_features=128, bias=True)\n",
      "                  (to_out): Linear(in_features=128, out_features=128, bias=True)\n",
      "                  (dropout): Dropout(p=0.2, inplace=False)\n",
      "                )\n",
      "              )\n",
      "              (1): PreLayerNorm(\n",
      "                (norm): LayerNorm((128,), eps=1e-05, elementwise_affine=True)\n",
      "                (fn): Chunk(\n",
      "                  (fn): FeedForward(\n",
      "                    (w1): Linear(in_features=128, out_features=512, bias=True)\n",
      "                    (act): GELU(approximate='none')\n",
      "                    (dropout): Dropout(p=0.2, inplace=False)\n",
      "                    (w2): Linear(in_features=512, out_features=128, bias=True)\n",
      "                  )\n",
      "                )\n",
      "              )\n",
      "            )\n",
      "            (3): ModuleList(\n",
      "              (0): PreLayerNorm(\n",
      "                (norm): LayerNorm((128,), eps=1e-05, elementwise_affine=True)\n",
      "                (fn): SelfAttention(\n",
      "                  (fast_attention): FastAttention(\n",
      "                    (kernel_fn): ReLU()\n",
      "                  )\n",
      "                  (to_q): Linear(in_features=128, out_features=128, bias=True)\n",
      "                  (to_k): Linear(in_features=128, out_features=128, bias=True)\n",
      "                  (to_v): Linear(in_features=128, out_features=128, bias=True)\n",
      "                  (to_out): Linear(in_features=128, out_features=128, bias=True)\n",
      "                  (dropout): Dropout(p=0.2, inplace=False)\n",
      "                )\n",
      "              )\n",
      "              (1): PreLayerNorm(\n",
      "                (norm): LayerNorm((128,), eps=1e-05, elementwise_affine=True)\n",
      "                (fn): Chunk(\n",
      "                  (fn): FeedForward(\n",
      "                    (w1): Linear(in_features=128, out_features=512, bias=True)\n",
      "                    (act): GELU(approximate='none')\n",
      "                    (dropout): Dropout(p=0.2, inplace=False)\n",
      "                    (w2): Linear(in_features=512, out_features=128, bias=True)\n",
      "                  )\n",
      "                )\n",
      "              )\n",
      "            )\n",
      "          )\n",
      "        )\n",
      "      )\n",
      "    )\n",
      "    (dropout): Dropout(p=0.2, inplace=False)\n",
      "    (expression_head): ProjectionExpressionHead(\n",
      "      (model): Sequential(\n",
      "        (projection): Linear(in_features=128, out_features=8, bias=True)\n",
      "        (activation): Identity()\n",
      "      )\n",
      "    )\n",
      "  )\n",
      "  (criterion): CrossEntropyLoss()\n",
      ")\n",
      "/home/ec2-user/cell_census/tabula_sapiens__sample_donor_id__label_cell_type.h5ad\n"
     ]
    }
   ],
   "source": [
    "import hydra\n",
    "from glob import  glob\n",
    "from rosa.data import  RosaDataModule, create_io_paths\n",
    "from rosa.modeling import  RosaLightningModule\n",
    "\n",
    "\n",
    "BASE_DIR = \"/home/ec2-user/rosa/conf/\" # /Users/nsofroniew/Documents/GitHub/ or /home/ec2-user/\n",
    "\n",
    "with hydra.initialize_config_dir(config_dir=BASE_DIR):\n",
    "    config = hydra.compose(config_name=\"config\")\n",
    "    config.paths.base = '/home/ec2-user/cell_census' # '/Users/nsofroniew/Documents/data/multiomics/cell_census'\n",
    "\n",
    "    _, output_path = create_io_paths(config.paths)\n",
    "\n",
    "    # config.data_module.data.mask = 0.01\n",
    "    # config.data_module.data.n_var_sample = 1000\n",
    "    # Create Data Module\n",
    "    rdm = RosaDataModule(\n",
    "        output_path,\n",
    "        config=config.data_module,\n",
    "    )\n",
    "    rdm.setup()\n",
    "\n",
    "    adata = rdm.val_dataset.adata\n",
    "    obs_indices = rdm.val_dataset.obs_indices.detach().numpy()\n",
    "    var_bool = rdm.val_dataset.mask_bool.detach().numpy()\n",
    "    adata_predict = adata[obs_indices, var_bool]\n",
    "    \n",
    "    rlm = RosaLightningModule(\n",
    "        var_input=rdm.var_input,\n",
    "        config=config.module,\n",
    "        adata=adata_predict,\n",
    "    )\n",
    "    print(rlm)\n",
    "    print(output_path)"
   ]
  },
  {
   "cell_type": "code",
   "execution_count": 2,
   "metadata": {},
   "outputs": [
    {
     "data": {
      "text/plain": [
       "{'expression_input': tensor([1, 8, 8,  ..., 0, 0, 8]),\n",
       " 'expression_target': tensor([1, 0, 1,  ..., 0, 0, 0]),\n",
       " 'mask': tensor([False,  True,  True,  ..., False, False,  True]),\n",
       " 'var_indices': tensor([    0,     1,     2,  ..., 19428, 19429, 19430]),\n",
       " 'obs_idx': tensor(4)}"
      ]
     },
     "execution_count": 2,
     "metadata": {},
     "output_type": "execute_result"
    }
   ],
   "source": [
    "# rdm.val_dataset.transform(rdm.val_dataset.expression[0]).min()\n",
    "rdm.val_dataset[0]"
   ]
  },
  {
   "cell_type": "code",
   "execution_count": 3,
   "metadata": {},
   "outputs": [
    {
     "name": "stdout",
     "output_type": "stream",
     "text": [
      "tensor(5792)\n",
      "19431\n"
     ]
    }
   ],
   "source": [
    "item = rdm.val_dataset[0]\n",
    "print(item['mask'].sum())\n",
    "print(len(item['mask']))"
   ]
  },
  {
   "cell_type": "code",
   "execution_count": 4,
   "metadata": {},
   "outputs": [
    {
     "name": "stdout",
     "output_type": "stream",
     "text": [
      "tensor(2727)\n",
      "13639\n"
     ]
    }
   ],
   "source": [
    "item = rdm.train_dataset[0]\n",
    "print(item['mask'].sum())\n",
    "print(len(item['mask']))"
   ]
  },
  {
   "cell_type": "code",
   "execution_count": 5,
   "metadata": {},
   "outputs": [
    {
     "name": "stderr",
     "output_type": "stream",
     "text": [
      "100%|██████████| 272/272 [00:01<00:00, 240.14it/s]\n"
     ]
    }
   ],
   "source": [
    "from tqdm import tqdm\n",
    "import torch\n",
    "\n",
    "\n",
    "expression = []\n",
    "expression_masked = []\n",
    "mask_var = []\n",
    "for item in tqdm(rdm.train_dataset):\n",
    "    expression.append(item['expression_target'])\n",
    "    expression_masked.append(item['expression_target'][item['mask']])\n",
    "    mask_var.append(torch.where(item['mask'])[0])\n",
    "expression = torch.stack(expression, dim=0)\n",
    "expression_masked = torch.stack(expression_masked, dim=0)\n",
    "mask_var = torch.stack(mask_var, dim=0)\n",
    "values, counts = torch.unique(expression, return_counts=True)\n",
    "values, counts_masked = torch.unique(expression_masked, return_counts=True)\n",
    "counts_norm = counts / counts.sum()\n",
    "counts_masked_norm = counts_masked / counts_masked.sum()"
   ]
  },
  {
   "cell_type": "code",
   "execution_count": 6,
   "metadata": {},
   "outputs": [
    {
     "data": {
      "text/plain": [
       "[<matplotlib.lines.Line2D at 0x7ff38f220100>]"
      ]
     },
     "execution_count": 6,
     "metadata": {},
     "output_type": "execute_result"
    },
    {
     "data": {
      "image/png": "[encoded data removed]",
      "text/plain": [
       "<Figure size 640x480 with 1 Axes>"
      ]
     },
     "metadata": {},
     "output_type": "display_data"
    }
   ],
   "source": [
    "import matplotlib.pyplot as plt\n",
    "\n",
    "plt.plot(counts / 1e1)\n",
    "plt.plot(counts_masked)"
   ]
  },
  {
   "cell_type": "code",
   "execution_count": 7,
   "metadata": {},
   "outputs": [
    {
     "data": {
      "text/plain": [
       "[<matplotlib.lines.Line2D at 0x7ff38f113ac0>]"
      ]
     },
     "execution_count": 7,
     "metadata": {},
     "output_type": "execute_result"
    },
    {
     "data": {
      "image/png": "[encoded data removed]",
      "text/plain": [
       "<Figure size 640x480 with 1 Axes>"
      ]
     },
     "metadata": {},
     "output_type": "display_data"
    }
   ],
   "source": [
    "plt.plot(counts_norm)\n",
    "plt.plot(counts_masked_norm)"
   ]
  },
  {
   "cell_type": "code",
   "execution_count": 8,
   "metadata": {},
   "outputs": [
    {
     "data": {
      "text/plain": [
       "torch.Size([272, 2727])"
      ]
     },
     "execution_count": 8,
     "metadata": {},
     "output_type": "execute_result"
    }
   ],
   "source": [
    "expression_masked.shape"
   ]
  },
  {
   "cell_type": "code",
   "execution_count": 9,
   "metadata": {},
   "outputs": [
    {
     "data": {
      "text/plain": [
       "torch.Size([272, 2727])"
      ]
     },
     "execution_count": 9,
     "metadata": {},
     "output_type": "execute_result"
    }
   ],
   "source": [
    "mask_var.shape"
   ]
  },
  {
   "cell_type": "code",
   "execution_count": 10,
   "metadata": {},
   "outputs": [],
   "source": [
    "mask_freq = torch.bincount(mask_var.ravel(), minlength=expression.shape[1])"
   ]
  },
  {
   "cell_type": "code",
   "execution_count": 11,
   "metadata": {},
   "outputs": [
    {
     "data": {
      "text/plain": [
       "[<matplotlib.lines.Line2D at 0x7ff36c731a60>]"
      ]
     },
     "execution_count": 11,
     "metadata": {},
     "output_type": "execute_result"
    },
    {
     "data": {
      "image/png": "[encoded data removed]",
      "text/plain": [
       "<Figure size 640x480 with 1 Axes>"
      ]
     },
     "metadata": {},
     "output_type": "display_data"
    }
   ],
   "source": [
    "plt.plot(mask_freq)\n",
    "val = expression.shape[0] * config.data_module.data.mask\n",
    "plt.plot([0, expression.shape[1]], [val, val])"
   ]
  },
  {
   "cell_type": "code",
   "execution_count": 12,
   "metadata": {},
   "outputs": [],
   "source": [
    "masked_cat = torch.stack([mask_var, expression_masked], dim=0)"
   ]
  },
  {
   "cell_type": "code",
   "execution_count": 13,
   "metadata": {},
   "outputs": [
    {
     "data": {
      "text/plain": [
       "(tensor([[[    0,     0,     1,  ...,     0,     1,     0],\n",
       "          [    1,     3,     1,  ...,     1,     0,     1],\n",
       "          [    2,     2,     3,  ...,     0,     0,     0],\n",
       "          ...,\n",
       "          [    2,     2,     1,  ...,     1,     0,     1],\n",
       "          [    4,     1,     3,  ...,     0,     0,     0],\n",
       "          [    4,     3,     1,  ...,     1,     0,     0]],\n",
       " \n",
       "         [[    4,     9,    13,  ..., 13614, 13628, 13630],\n",
       "          [    3,     5,     9,  ..., 13622, 13626, 13636],\n",
       "          [    1,     7,    14,  ..., 13617, 13623, 13631],\n",
       "          ...,\n",
       "          [    7,     8,    11,  ..., 13619, 13622, 13635],\n",
       "          [    0,     1,     4,  ..., 13626, 13628, 13633],\n",
       "          [    4,    10,    16,  ..., 13608, 13609, 13628]]]),\n",
       " tensor([1, 1]))"
      ]
     },
     "execution_count": 13,
     "metadata": {},
     "output_type": "execute_result"
    }
   ],
   "source": [
    "torch.unique(masked_cat, return_counts=True, dim=0)"
   ]
  },
  {
   "cell_type": "code",
   "execution_count": 14,
   "metadata": {},
   "outputs": [],
   "source": [
    "n_var = expression.shape[1]\n",
    "n_bins = 8\n",
    "# rows, cols = torch.arange(n_var)[:, None, None, None], torch.arange(n_bins)[:, None, None]\n",
    "\n",
    "# # Add extra dimensions to A and B for broadcasting\n",
    "# A_exp = mask_var[None, None, :, :]\n",
    "# B_exp = expression_masked[None, None, :, :]\n",
    "\n",
    "# # Count occurrences using broadcasting and advanced indexing\n",
    "# C = torch.sum((A_exp == rows) & (B_exp == cols), dim=(-1, -2)).T\n",
    "\n",
    "N = n_var\n",
    "M = n_bins\n",
    "# Flatten A and B, and calculate the linear indices for the bincount operation\n",
    "A_flat = mask_var.view(-1)\n",
    "B_flat = expression_masked.view(-1)\n",
    "linear_indices = A_flat * M + B_flat\n",
    "\n",
    "# Count occurrences using bincount and reshape the result to the desired shape\n",
    "counts = torch.bincount(linear_indices, minlength=N * M)\n",
    "C = counts.view(N, M)\n"
   ]
  },
  {
   "cell_type": "code",
   "execution_count": 15,
   "metadata": {},
   "outputs": [
    {
     "data": {
      "text/plain": [
       "tensor([139555, 202816, 149808, 107072,  68934,  39697,  21001,  12861])"
      ]
     },
     "execution_count": 15,
     "metadata": {},
     "output_type": "execute_result"
    }
   ],
   "source": [
    "C.sum(dim=0)"
   ]
  },
  {
   "cell_type": "code",
   "execution_count": 16,
   "metadata": {},
   "outputs": [
    {
     "data": {
      "text/plain": [
       "tensor([139555, 202816, 149808, 107072,  68934,  39697,  21001,  12861])"
      ]
     },
     "execution_count": 16,
     "metadata": {},
     "output_type": "execute_result"
    }
   ],
   "source": [
    "counts_masked"
   ]
  },
  {
   "cell_type": "code",
   "execution_count": 17,
   "metadata": {},
   "outputs": [],
   "source": [
    "counts = torch.stack([torch.bincount(x, minlength=8) for x in expression.T])"
   ]
  },
  {
   "cell_type": "code",
   "execution_count": 25,
   "metadata": {},
   "outputs": [
    {
     "data": {
      "text/plain": [
       "tensor([ 37, 131,  36,  22,  18,  11,   8,   9])"
      ]
     },
     "execution_count": 25,
     "metadata": {},
     "output_type": "execute_result"
    }
   ],
   "source": [
    "counts[3]"
   ]
  },
  {
   "cell_type": "code",
   "execution_count": 28,
   "metadata": {},
   "outputs": [
    {
     "data": {
      "text/plain": [
       "tensor([19, 24, 19, 12, 11,  8,  8,  7])"
      ]
     },
     "execution_count": 28,
     "metadata": {},
     "output_type": "execute_result"
    }
   ],
   "source": [
    "C[3]"
   ]
  },
  {
   "cell_type": "code",
   "execution_count": null,
   "metadata": {},
   "outputs": [],
   "source": [
    "272 *.2 / 8"
   ]
  },
  {
   "cell_type": "code",
   "execution_count": null,
   "metadata": {},
   "outputs": [],
   "source": [
    "expression_masked.max()"
   ]
  },
  {
   "cell_type": "code",
   "execution_count": null,
   "metadata": {},
   "outputs": [],
   "source": [
    "rdm.train_dataset.counts"
   ]
  },
  {
   "cell_type": "code",
   "execution_count": null,
   "metadata": {},
   "outputs": [],
   "source": [
    "expression_vector = expression[0][:1000]\n",
    "\n",
    "result = rdm.train_dataset.counts[expression_vector, torch.arange(expression_vector.shape[0])]"
   ]
  },
  {
   "cell_type": "code",
   "execution_count": null,
   "metadata": {},
   "outputs": [],
   "source": [
    "result.shape"
   ]
  },
  {
   "cell_type": "code",
   "execution_count": null,
   "metadata": {},
   "outputs": [],
   "source": [
    "rdm.train_dataset.counts.shape"
   ]
  },
  {
   "cell_type": "code",
   "execution_count": null,
   "metadata": {},
   "outputs": [],
   "source": []
  },
  {
   "cell_type": "code",
   "execution_count": null,
   "metadata": {},
   "outputs": [],
   "source": []
  },
  {
   "cell_type": "code",
   "execution_count": null,
   "metadata": {},
   "outputs": [],
   "source": []
  },
  {
   "cell_type": "code",
   "execution_count": null,
   "metadata": {},
   "outputs": [],
   "source": []
  },
  {
   "cell_type": "code",
   "execution_count": null,
   "metadata": {},
   "outputs": [],
   "source": []
  },
  {
   "cell_type": "code",
   "execution_count": null,
   "metadata": {},
   "outputs": [],
   "source": [
    "expression = []\n",
    "expression_masked = []\n",
    "for item in tqdm(rdm.val_dataset):\n",
    "    expression.append(item['expression_target'])\n",
    "    expression_masked.append(item['expression_target'][item['mask']])\n",
    "expression = torch.stack(expression, dim=0)\n",
    "expression_masked = torch.stack(expression_masked, dim=0)\n",
    "values, counts = torch.unique(expression, return_counts=True)\n",
    "values, counts_masked = torch.unique(expression_masked, return_counts=True)\n",
    "counts_norm = counts / counts.sum()\n",
    "counts_masked_norm = counts_masked / counts_masked.sum()"
   ]
  },
  {
   "cell_type": "code",
   "execution_count": null,
   "metadata": {},
   "outputs": [],
   "source": [
    "plt.plot(counts / 1e2)\n",
    "plt.plot(counts_masked)"
   ]
  },
  {
   "cell_type": "code",
   "execution_count": null,
   "metadata": {},
   "outputs": [],
   "source": [
    "plt.plot(counts_norm)\n",
    "plt.plot(counts_masked_norm)"
   ]
  },
  {
   "cell_type": "code",
   "execution_count": null,
   "metadata": {},
   "outputs": [],
   "source": [
    "values, counts = torch.unique(expression, return_counts=True)\n",
    "counts = counts / counts.sum()"
   ]
  },
  {
   "cell_type": "code",
   "execution_count": null,
   "metadata": {},
   "outputs": [],
   "source": [
    "counts"
   ]
  },
  {
   "cell_type": "code",
   "execution_count": null,
   "metadata": {},
   "outputs": [],
   "source": [
    "counts = torch.bincount(expression.ravel(), minlength=8)\n",
    "counts / counts.sum()"
   ]
  },
  {
   "cell_type": "code",
   "execution_count": null,
   "metadata": {},
   "outputs": [],
   "source": [
    "counts = torch.stack([torch.bincount(x, minlength=8) for x in expression.T]).T\n",
    "counts = counts / expression.shape[0]"
   ]
  },
  {
   "cell_type": "code",
   "execution_count": null,
   "metadata": {},
   "outputs": [],
   "source": [
    "inv_counts = 1 / counts"
   ]
  },
  {
   "cell_type": "code",
   "execution_count": null,
   "metadata": {},
   "outputs": [],
   "source": [
    "expression_vector = expression[0]"
   ]
  },
  {
   "cell_type": "code",
   "execution_count": null,
   "metadata": {},
   "outputs": [],
   "source": [
    "result = inv_counts[expression_vector, torch.arange(expression_vector.shape[0])]"
   ]
  },
  {
   "cell_type": "code",
   "execution_count": null,
   "metadata": {},
   "outputs": [],
   "source": [
    "counts"
   ]
  },
  {
   "cell_type": "code",
   "execution_count": null,
   "metadata": {},
   "outputs": [],
   "source": [
    "result.max()"
   ]
  },
  {
   "cell_type": "code",
   "execution_count": null,
   "metadata": {},
   "outputs": [],
   "source": [
    "expression_vector"
   ]
  },
  {
   "cell_type": "code",
   "execution_count": null,
   "metadata": {},
   "outputs": [],
   "source": [
    "inv_counts.T[expression_vector]"
   ]
  },
  {
   "cell_type": "code",
   "execution_count": null,
   "metadata": {},
   "outputs": [],
   "source": [
    "expression_vector"
   ]
  },
  {
   "cell_type": "code",
   "execution_count": null,
   "metadata": {},
   "outputs": [],
   "source": [
    "expression_vector.shape"
   ]
  },
  {
   "cell_type": "code",
   "execution_count": null,
   "metadata": {},
   "outputs": [],
   "source": [
    "inv_counts.shape"
   ]
  },
  {
   "cell_type": "code",
   "execution_count": null,
   "metadata": {},
   "outputs": [],
   "source": []
  },
  {
   "cell_type": "code",
   "execution_count": null,
   "metadata": {},
   "outputs": [],
   "source": []
  },
  {
   "cell_type": "code",
   "execution_count": null,
   "metadata": {},
   "outputs": [],
   "source": [
    "counts = counts / expression.shape[0]"
   ]
  },
  {
   "cell_type": "code",
   "execution_count": null,
   "metadata": {},
   "outputs": [],
   "source": [
    "counts"
   ]
  },
  {
   "cell_type": "code",
   "execution_count": null,
   "metadata": {},
   "outputs": [],
   "source": [
    "values, counts = torch.unique(expression, return_counts=True, dim=1)"
   ]
  },
  {
   "cell_type": "code",
   "execution_count": null,
   "metadata": {},
   "outputs": [],
   "source": [
    "values.shape"
   ]
  },
  {
   "cell_type": "code",
   "execution_count": null,
   "metadata": {},
   "outputs": [],
   "source": []
  },
  {
   "cell_type": "code",
   "execution_count": null,
   "metadata": {},
   "outputs": [],
   "source": [
    "train_var = rdm.train_dataset.var_indices\n",
    "test_var = torch.where(rdm.val_dataset.mask_bool)[0]"
   ]
  },
  {
   "cell_type": "code",
   "execution_count": null,
   "metadata": {},
   "outputs": [],
   "source": [
    "print(torch.all(~torch.isin(train_var, test_var)))\n",
    "print(torch.all(~torch.isin(test_var, train_var)))"
   ]
  },
  {
   "cell_type": "code",
   "execution_count": null,
   "metadata": {},
   "outputs": [],
   "source": [
    "item = rdm.train_dataset[10]\n",
    "print(torch.all(torch.isin(item['var_indices'], train_var)))\n",
    "print(torch.all(~torch.isin(item['var_indices'], test_var)))"
   ]
  },
  {
   "cell_type": "code",
   "execution_count": null,
   "metadata": {},
   "outputs": [],
   "source": [
    "item = rdm.train_dataset[10]\n",
    "mask_var = item['var_indices'][item['mask']]\n",
    "print(torch.all(torch.isin(mask_var, train_var)))\n",
    "print(torch.all(~torch.isin(mask_var, test_var)))"
   ]
  },
  {
   "cell_type": "code",
   "execution_count": null,
   "metadata": {},
   "outputs": [],
   "source": [
    "item = rdm.val_dataset[10]\n",
    "mask_var = item['var_indices'][item['mask']]\n",
    "print(torch.all(~torch.isin(mask_var, train_var)))\n",
    "print(torch.all(torch.isin(mask_var, test_var)))"
   ]
  },
  {
   "attachments": {},
   "cell_type": "markdown",
   "metadata": {},
   "source": [
    "#### Look at predict dataset"
   ]
  },
  {
   "cell_type": "code",
   "execution_count": null,
   "metadata": {},
   "outputs": [],
   "source": [
    "item = rdm.predict_dataset[0]\n",
    "print(item['mask'].sum())\n",
    "print(len(item['mask']))"
   ]
  },
  {
   "cell_type": "code",
   "execution_count": null,
   "metadata": {},
   "outputs": [],
   "source": [
    "item = rdm.predict_dataset[10]\n",
    "mask_var = item['var_indices'][item['mask']]\n",
    "print(torch.all(~torch.isin(mask_var, train_var)))\n",
    "print(torch.all(torch.isin(mask_var, test_var)))\n",
    "print(torch.all(torch.isin(test_var, mask_var)))"
   ]
  },
  {
   "cell_type": "code",
   "execution_count": null,
   "metadata": {},
   "outputs": [],
   "source": [
    "expression = []\n",
    "expression_masked = []\n",
    "for item in tqdm(rdm.predict_dataset):\n",
    "    expression.append(item['expression_target'])\n",
    "    expression_masked.append(item['expression_target'][item['mask']])\n",
    "expression = torch.stack(expression, dim=0)\n",
    "expression_masked = torch.stack(expression_masked, dim=0)\n",
    "values, counts = torch.unique(expression, return_counts=True)\n",
    "values, counts_masked = torch.unique(expression_masked, return_counts=True)\n",
    "counts = counts / counts.sum()\n",
    "counts_masked = counts_masked / counts_masked.sum()"
   ]
  },
  {
   "cell_type": "code",
   "execution_count": null,
   "metadata": {},
   "outputs": [],
   "source": [
    "plt.plot(counts)\n",
    "plt.plot(counts_masked)"
   ]
  },
  {
   "cell_type": "code",
   "execution_count": null,
   "metadata": {},
   "outputs": [],
   "source": []
  },
  {
   "cell_type": "code",
   "execution_count": null,
   "metadata": {},
   "outputs": [],
   "source": []
  },
  {
   "cell_type": "code",
   "execution_count": null,
   "metadata": {},
   "outputs": [],
   "source": []
  },
  {
   "cell_type": "code",
   "execution_count": null,
   "metadata": {},
   "outputs": [],
   "source": []
  },
  {
   "cell_type": "code",
   "execution_count": null,
   "metadata": {},
   "outputs": [],
   "source": []
  },
  {
   "cell_type": "code",
   "execution_count": null,
   "metadata": {},
   "outputs": [],
   "source": []
  },
  {
   "attachments": {},
   "cell_type": "markdown",
   "metadata": {},
   "source": [
    "## Binning"
   ]
  },
  {
   "cell_type": "code",
   "execution_count": null,
   "metadata": {},
   "outputs": [],
   "source": [
    "import torch"
   ]
  },
  {
   "cell_type": "code",
   "execution_count": null,
   "metadata": {},
   "outputs": [],
   "source": [
    "torch.unique(rdm.val_dataset[0]['expression_target'], return_counts=True)"
   ]
  },
  {
   "cell_type": "code",
   "execution_count": null,
   "metadata": {},
   "outputs": [],
   "source": [
    "rdm.val_dataset[0]"
   ]
  },
  {
   "cell_type": "code",
   "execution_count": null,
   "metadata": {},
   "outputs": [],
   "source": [
    "tensor = torch.Tensor(rdm.val_dataset.expression[4])"
   ]
  },
  {
   "cell_type": "code",
   "execution_count": null,
   "metadata": {},
   "outputs": [],
   "source": [
    "import numpy as np"
   ]
  },
  {
   "cell_type": "code",
   "execution_count": null,
   "metadata": {},
   "outputs": [],
   "source": [
    "val, counts = torch.unique(tensor, return_counts=True)"
   ]
  },
  {
   "cell_type": "code",
   "execution_count": null,
   "metadata": {},
   "outputs": [],
   "source": [
    "n_bins = 16"
   ]
  },
  {
   "cell_type": "code",
   "execution_count": null,
   "metadata": {},
   "outputs": [],
   "source": [
    "# Put all zero values in their own bin and then distribute others evenly\n",
    "boundaries = torch.quantile(tensor[tensor>0], torch.linspace(0, 1, n_bins))\n",
    "boundaries = torch.concat([torch.tensor([0]), boundaries])\n",
    "boundaries[-1] = torch.inf\n",
    "aa = torch.bucketize(tensor, boundaries, right=True) - 1\n",
    "torch.unique(aa, return_counts=True)"
   ]
  },
  {
   "cell_type": "code",
   "execution_count": null,
   "metadata": {},
   "outputs": [],
   "source": [
    "# Put all zero values in their own bin and then distribute others evenly\n",
    "boundaries = torch.quantile(tensor, torch.linspace(0, 1, n_bins))\n",
    "ab = torch.bucketize(tensor, boundaries)\n",
    "torch.unique(ab, return_counts=True)"
   ]
  },
  {
   "cell_type": "code",
   "execution_count": null,
   "metadata": {},
   "outputs": [],
   "source": [
    "boundaries = torch.quantile(tensor[tensor>0], torch.linspace(0, 1, n_bins - 1))\n",
    "tmp = torch.bucketize(tensor[tensor>0], boundaries) + 1\n",
    "new = torch.zeros_like(tensor).long()\n",
    "new[tensor > 0] = tmp\n",
    "torch.unique(new, return_counts=True)"
   ]
  },
  {
   "cell_type": "code",
   "execution_count": null,
   "metadata": {},
   "outputs": [],
   "source": [
    "torch.quantile(tensor, torch.linspace(0, 1, n_bins))"
   ]
  },
  {
   "cell_type": "code",
   "execution_count": null,
   "metadata": {},
   "outputs": [],
   "source": []
  },
  {
   "cell_type": "code",
   "execution_count": null,
   "metadata": {},
   "outputs": [],
   "source": [
    "torch.unique(aa, return_counts=True)"
   ]
  },
  {
   "cell_type": "code",
   "execution_count": null,
   "metadata": {},
   "outputs": [],
   "source": [
    "boundaries"
   ]
  },
  {
   "cell_type": "code",
   "execution_count": null,
   "metadata": {},
   "outputs": [],
   "source": [
    "import matplotlib.pyplot as plt"
   ]
  },
  {
   "cell_type": "code",
   "execution_count": null,
   "metadata": {},
   "outputs": [],
   "source": [
    "plt.bar(val, counts)\n",
    "plt.ylim([0, 50]);"
   ]
  },
  {
   "cell_type": "code",
   "execution_count": null,
   "metadata": {},
   "outputs": [],
   "source": [
    "torch.quantile(tensor, torch.linspace(0, 1, n_bins))"
   ]
  },
  {
   "cell_type": "code",
   "execution_count": null,
   "metadata": {},
   "outputs": [],
   "source": [
    "torch.quantile(tensor, torch.logspace(0, .301, n_bins) - 1)"
   ]
  },
  {
   "cell_type": "code",
   "execution_count": null,
   "metadata": {},
   "outputs": [],
   "source": [
    "torch.logspace(0, .301, n_bins) - 1"
   ]
  },
  {
   "cell_type": "code",
   "execution_count": null,
   "metadata": {},
   "outputs": [],
   "source": [
    "10**2"
   ]
  },
  {
   "cell_type": "code",
   "execution_count": null,
   "metadata": {},
   "outputs": [],
   "source": []
  },
  {
   "cell_type": "code",
   "execution_count": null,
   "metadata": {},
   "outputs": [],
   "source": []
  },
  {
   "cell_type": "code",
   "execution_count": null,
   "metadata": {},
   "outputs": [],
   "source": [
    "from rosa.utils import score_predictions, plot_expression_and_correlation, plot_marker_gene_heatmap\n",
    "\n",
    "\n",
    "adata_test, results = score_predictions(adata)"
   ]
  },
  {
   "cell_type": "code",
   "execution_count": null,
   "metadata": {},
   "outputs": [],
   "source": [
    "plot_expression_and_correlation(adata_test, results)"
   ]
  },
  {
   "cell_type": "code",
   "execution_count": null,
   "metadata": {},
   "outputs": [],
   "source": [
    "import numpy as np\n",
    "\n",
    "\n",
    "marker_genes = adata_test.var[adata_test.var['highly_variable']]['feature_name'].values\n",
    "np.random.seed(42)\n",
    "marker_genes = np.random.choice(marker_genes, 50)\n",
    "\n",
    "plot_marker_gene_heatmap(adata_test, marker_genes)"
   ]
  },
  {
   "cell_type": "code",
   "execution_count": null,
   "metadata": {},
   "outputs": [],
   "source": [
    "marker_genes_dict = adata_test.obs.set_index('label').to_dict()['marker_feature_name']\n",
    "plot_marker_gene_heatmap(adata_test, marker_genes_dict)"
   ]
  },
  {
   "cell_type": "code",
   "execution_count": null,
   "metadata": {},
   "outputs": [],
   "source": []
  },
  {
   "cell_type": "code",
   "execution_count": null,
   "metadata": {},
   "outputs": [],
   "source": []
  }
 ],
 "metadata": {
  "kernelspec": {
   "display_name": "multiomics",
   "language": "python",
   "name": "python3"
  },
  "language_info": {
   "codemirror_mode": {
    "name": "ipython",
    "version": 3
   },
   "file_extension": ".py",
   "mimetype": "text/x-python",
   "name": "python",
   "nbconvert_exporter": "python",
   "pygments_lexer": "ipython3",
   "version": "3.9.13"
  },
  "orig_nbformat": 4,
  "vscode": {
   "interpreter": {
    "hash": "5c78ef6e1dc348573331f887aa1706c62aacac0373dba7ce1cc27999251039c5"
   }
  }
 },
 "nbformat": 4,
 "nbformat_minor": 2
}
