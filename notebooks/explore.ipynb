{
 "cells": [
  {
   "cell_type": "code",
   "execution_count": 65,
   "metadata": {},
   "outputs": [
    {
     "name": "stderr",
     "output_type": "stream",
     "text": [
      "/var/folders/6n/b_zkz2ns3_l02s3g4lnlklxr0000gq/T/ipykernel_70633/3667613276.py:9: UserWarning: \n",
      "The version_base parameter is not specified.\n",
      "Please specify a compatability version level, or None.\n",
      "Will assume defaults for version 1.1\n",
      "  with hydra.initialize_config_dir(config_dir=BASE_DIR):\n",
      "/Users/nsofroniew/opt/anaconda3/envs/multiomics/lib/python3.9/site-packages/hydra/_internal/defaults_list.py:251: UserWarning: In 'config': Defaults list is missing `_self_`. See https://hydra.cc/docs/1.2/upgrades/1.0_to_1.1/default_composition_order for more information\n",
      "  warnings.warn(msg, UserWarning)\n"
     ]
    },
    {
     "name": "stdout",
     "output_type": "stream",
     "text": [
      "RosaLightningModule(\n",
      "  (model): RosaTransformer(\n",
      "    (expression_embedding): BinnedEmbed(\n",
      "      (model): Sequential(\n",
      "        (embedding): Embedding(17, 64)\n",
      "        (layer_norm): Identity()\n",
      "        (dropout): Dropout(p=0, inplace=False)\n",
      "      )\n",
      "    )\n",
      "    (var_embedding): Sequential(\n",
      "      (layer_norm_1): Identity()\n",
      "      (input_embed_1): InputEmbed(\n",
      "        (model): Sequential(\n",
      "          (projection): Linear(in_features=3072, out_features=64, bias=True)\n",
      "          (layer_norm): Identity()\n",
      "          (dropout): Dropout(p=0, inplace=False)\n",
      "        )\n",
      "      )\n",
      "    )\n",
      "    (transformer): Performer(\n",
      "      (net): SequentialSequence(\n",
      "        (layers): ModuleList(\n",
      "          (0): ModuleList(\n",
      "            (0): PreLayerNorm(\n",
      "              (norm): LayerNorm((64,), eps=1e-05, elementwise_affine=True)\n",
      "              (fn): SelfAttention(\n",
      "                (fast_attention): FastAttention(\n",
      "                  (kernel_fn): ReLU()\n",
      "                )\n",
      "                (to_q): Linear(in_features=64, out_features=64, bias=True)\n",
      "                (to_k): Linear(in_features=64, out_features=64, bias=True)\n",
      "                (to_v): Linear(in_features=64, out_features=64, bias=True)\n",
      "                (to_out): Linear(in_features=64, out_features=64, bias=True)\n",
      "                (dropout): Dropout(p=0.1, inplace=False)\n",
      "              )\n",
      "            )\n",
      "            (1): PreLayerNorm(\n",
      "              (norm): LayerNorm((64,), eps=1e-05, elementwise_affine=True)\n",
      "              (fn): Chunk(\n",
      "                (fn): FeedForward(\n",
      "                  (w1): Linear(in_features=64, out_features=256, bias=True)\n",
      "                  (act): GELU(approximate='none')\n",
      "                  (dropout): Dropout(p=0.1, inplace=False)\n",
      "                  (w2): Linear(in_features=256, out_features=64, bias=True)\n",
      "                )\n",
      "              )\n",
      "            )\n",
      "          )\n",
      "          (1): ModuleList(\n",
      "            (0): PreLayerNorm(\n",
      "              (norm): LayerNorm((64,), eps=1e-05, elementwise_affine=True)\n",
      "              (fn): SelfAttention(\n",
      "                (fast_attention): FastAttention(\n",
      "                  (kernel_fn): ReLU()\n",
      "                )\n",
      "                (to_q): Linear(in_features=64, out_features=64, bias=True)\n",
      "                (to_k): Linear(in_features=64, out_features=64, bias=True)\n",
      "                (to_v): Linear(in_features=64, out_features=64, bias=True)\n",
      "                (to_out): Linear(in_features=64, out_features=64, bias=True)\n",
      "                (dropout): Dropout(p=0.1, inplace=False)\n",
      "              )\n",
      "            )\n",
      "            (1): PreLayerNorm(\n",
      "              (norm): LayerNorm((64,), eps=1e-05, elementwise_affine=True)\n",
      "              (fn): Chunk(\n",
      "                (fn): FeedForward(\n",
      "                  (w1): Linear(in_features=64, out_features=256, bias=True)\n",
      "                  (act): GELU(approximate='none')\n",
      "                  (dropout): Dropout(p=0.1, inplace=False)\n",
      "                  (w2): Linear(in_features=256, out_features=64, bias=True)\n",
      "                )\n",
      "              )\n",
      "            )\n",
      "          )\n",
      "        )\n",
      "      )\n",
      "      (proj_updater): ProjectionUpdater(\n",
      "        (instance): SequentialSequence(\n",
      "          (layers): ModuleList(\n",
      "            (0): ModuleList(\n",
      "              (0): PreLayerNorm(\n",
      "                (norm): LayerNorm((64,), eps=1e-05, elementwise_affine=True)\n",
      "                (fn): SelfAttention(\n",
      "                  (fast_attention): FastAttention(\n",
      "                    (kernel_fn): ReLU()\n",
      "                  )\n",
      "                  (to_q): Linear(in_features=64, out_features=64, bias=True)\n",
      "                  (to_k): Linear(in_features=64, out_features=64, bias=True)\n",
      "                  (to_v): Linear(in_features=64, out_features=64, bias=True)\n",
      "                  (to_out): Linear(in_features=64, out_features=64, bias=True)\n",
      "                  (dropout): Dropout(p=0.1, inplace=False)\n",
      "                )\n",
      "              )\n",
      "              (1): PreLayerNorm(\n",
      "                (norm): LayerNorm((64,), eps=1e-05, elementwise_affine=True)\n",
      "                (fn): Chunk(\n",
      "                  (fn): FeedForward(\n",
      "                    (w1): Linear(in_features=64, out_features=256, bias=True)\n",
      "                    (act): GELU(approximate='none')\n",
      "                    (dropout): Dropout(p=0.1, inplace=False)\n",
      "                    (w2): Linear(in_features=256, out_features=64, bias=True)\n",
      "                  )\n",
      "                )\n",
      "              )\n",
      "            )\n",
      "            (1): ModuleList(\n",
      "              (0): PreLayerNorm(\n",
      "                (norm): LayerNorm((64,), eps=1e-05, elementwise_affine=True)\n",
      "                (fn): SelfAttention(\n",
      "                  (fast_attention): FastAttention(\n",
      "                    (kernel_fn): ReLU()\n",
      "                  )\n",
      "                  (to_q): Linear(in_features=64, out_features=64, bias=True)\n",
      "                  (to_k): Linear(in_features=64, out_features=64, bias=True)\n",
      "                  (to_v): Linear(in_features=64, out_features=64, bias=True)\n",
      "                  (to_out): Linear(in_features=64, out_features=64, bias=True)\n",
      "                  (dropout): Dropout(p=0.1, inplace=False)\n",
      "                )\n",
      "              )\n",
      "              (1): PreLayerNorm(\n",
      "                (norm): LayerNorm((64,), eps=1e-05, elementwise_affine=True)\n",
      "                (fn): Chunk(\n",
      "                  (fn): FeedForward(\n",
      "                    (w1): Linear(in_features=64, out_features=256, bias=True)\n",
      "                    (act): GELU(approximate='none')\n",
      "                    (dropout): Dropout(p=0.1, inplace=False)\n",
      "                    (w2): Linear(in_features=256, out_features=64, bias=True)\n",
      "                  )\n",
      "                )\n",
      "              )\n",
      "            )\n",
      "          )\n",
      "        )\n",
      "      )\n",
      "    )\n",
      "    (dropout): Dropout(p=0.1, inplace=False)\n",
      "    (expression_head): ProjectionExpressionHead(\n",
      "      (model): Sequential(\n",
      "        (projection): Linear(in_features=64, out_features=16, bias=True)\n",
      "        (activation): Identity()\n",
      "      )\n",
      "    )\n",
      "  )\n",
      "  (criterion): CrossEntropyLoss()\n",
      ")\n",
      "/Users/nsofroniew/Documents/data/multiomics/cell_census/tabula_sapiens__sample_donor_id__label_cell_type.h5ad\n"
     ]
    }
   ],
   "source": [
    "import hydra\n",
    "from glob import  glob\n",
    "from rosa.data import  RosaDataModule, create_io_paths\n",
    "from rosa.modeling import  RosaLightningModule\n",
    "\n",
    "\n",
    "BASE_DIR = \"/Users/nsofroniew/Documents/GitHub/rosa/conf/\" # /Users/nsofroniew/Documents/GitHub/ or /home/ec2-user/\n",
    "\n",
    "with hydra.initialize_config_dir(config_dir=BASE_DIR):\n",
    "    config = hydra.compose(config_name=\"config\")\n",
    "    config.paths.base = '/Users/nsofroniew/Documents/data/multiomics/cell_census'\n",
    "\n",
    "    _, output_path = create_io_paths(config.paths)\n",
    "\n",
    "    config.data_module.data.mask = 0.05\n",
    "    # Create Data Module\n",
    "    rdm = RosaDataModule(\n",
    "        output_path,\n",
    "        config=config.data_module,\n",
    "    )\n",
    "    rdm.setup()\n",
    "\n",
    "    # Load model from checkpoint\n",
    "    rlm = RosaLightningModule(\n",
    "        var_input=rdm.var_input,\n",
    "        config=config.module,\n",
    "    )\n",
    "    print(rlm)\n",
    "    print(output_path)"
   ]
  },
  {
   "cell_type": "code",
   "execution_count": 66,
   "metadata": {},
   "outputs": [
    {
     "data": {
      "text/plain": [
       "{'expression_input': tensor([1, 2, 0,  ..., 0, 1, 8]),\n",
       " 'expression_target': tensor([1, 2, 0,  ..., 0, 1, 8]),\n",
       " 'mask': tensor([False, False, False,  ..., False, False, False]),\n",
       " 'var_indices': tensor([18126,  9042,  9295,  ...,  5465, 16055,  7931]),\n",
       " 'obs_idx': tensor(4)}"
      ]
     },
     "execution_count": 66,
     "metadata": {},
     "output_type": "execute_result"
    }
   ],
   "source": [
    "rdm.val_dataset[0]"
   ]
  },
  {
   "cell_type": "code",
   "execution_count": 67,
   "metadata": {},
   "outputs": [
    {
     "name": "stdout",
     "output_type": "stream",
     "text": [
      "tensor(600)\n",
      "12000\n"
     ]
    }
   ],
   "source": [
    "item = rdm.val_dataset[0]\n",
    "print(item['mask'].sum())\n",
    "print(len(item['mask']))"
   ]
  },
  {
   "cell_type": "code",
   "execution_count": 68,
   "metadata": {},
   "outputs": [
    {
     "name": "stdout",
     "output_type": "stream",
     "text": [
      "tensor(600)\n",
      "12000\n"
     ]
    }
   ],
   "source": [
    "item = rdm.train_dataset[0]\n",
    "print(item['mask'].sum())\n",
    "print(len(item['mask']))"
   ]
  },
  {
   "cell_type": "code",
   "execution_count": 69,
   "metadata": {},
   "outputs": [
    {
     "name": "stderr",
     "output_type": "stream",
     "text": [
      "100%|██████████| 272/272 [00:02<00:00, 124.25it/s]\n"
     ]
    }
   ],
   "source": [
    "from tqdm import tqdm\n",
    "import torch\n",
    "\n",
    "\n",
    "expression = []\n",
    "expression_masked = []\n",
    "for item in tqdm(rdm.train_dataset):\n",
    "    expression.append(item['expression_target'])\n",
    "    expression_masked.append(item['expression_target'][item['mask']])\n",
    "expression = torch.stack(expression, dim=0)\n",
    "expression_masked = torch.stack(expression_masked, dim=0)\n",
    "values, counts = torch.unique(expression, return_counts=True)\n",
    "values, counts_masked = torch.unique(expression_masked, return_counts=True)\n",
    "counts = counts / counts.sum()\n",
    "counts_masked = counts_masked / counts_masked.sum()"
   ]
  },
  {
   "cell_type": "code",
   "execution_count": 70,
   "metadata": {},
   "outputs": [
    {
     "data": {
      "text/plain": [
       "[<matplotlib.lines.Line2D at 0x32ff58520>]"
      ]
     },
     "execution_count": 70,
     "metadata": {},
     "output_type": "execute_result"
    },
    {
     "data": {
      "image/png": "[encoded data removed]",
      "text/plain": [
       "<Figure size 640x480 with 1 Axes>"
      ]
     },
     "metadata": {},
     "output_type": "display_data"
    }
   ],
   "source": [
    "import matplotlib.pyplot as plt\n",
    "\n",
    "plt.plot(counts)\n",
    "plt.plot(counts_masked)"
   ]
  },
  {
   "cell_type": "code",
   "execution_count": 71,
   "metadata": {},
   "outputs": [
    {
     "name": "stderr",
     "output_type": "stream",
     "text": [
      "100%|██████████| 97/97 [00:00<00:00, 124.51it/s]\n"
     ]
    }
   ],
   "source": [
    "expression = []\n",
    "expression_masked = []\n",
    "for item in tqdm(rdm.val_dataset):\n",
    "    expression.append(item['expression_target'])\n",
    "    expression_masked.append(item['expression_target'][item['mask']])\n",
    "expression = torch.stack(expression, dim=0)\n",
    "expression_masked = torch.stack(expression_masked, dim=0)\n",
    "values, counts = torch.unique(expression, return_counts=True)\n",
    "values, counts_masked = torch.unique(expression_masked, return_counts=True)\n",
    "counts = counts / counts.sum()\n",
    "counts_masked = counts_masked / counts_masked.sum()"
   ]
  },
  {
   "cell_type": "code",
   "execution_count": 72,
   "metadata": {},
   "outputs": [
    {
     "data": {
      "text/plain": [
       "[<matplotlib.lines.Line2D at 0x32ff4d400>]"
      ]
     },
     "execution_count": 72,
     "metadata": {},
     "output_type": "execute_result"
    },
    {
     "data": {
      "image/png": "[encoded data removed]",
      "text/plain": [
       "<Figure size 640x480 with 1 Axes>"
      ]
     },
     "metadata": {},
     "output_type": "display_data"
    }
   ],
   "source": [
    "plt.plot(counts)\n",
    "plt.plot(counts_masked)"
   ]
  },
  {
   "cell_type": "code",
   "execution_count": 73,
   "metadata": {},
   "outputs": [],
   "source": [
    "train_var = rdm.train_dataset.var_indices\n",
    "test_var = torch.where(rdm.val_dataset.mask_bool)[0]"
   ]
  },
  {
   "cell_type": "code",
   "execution_count": 74,
   "metadata": {},
   "outputs": [
    {
     "name": "stdout",
     "output_type": "stream",
     "text": [
      "tensor(True)\n",
      "tensor(True)\n"
     ]
    }
   ],
   "source": [
    "print(torch.all(~torch.isin(train_var, test_var)))\n",
    "print(torch.all(~torch.isin(test_var, train_var)))"
   ]
  },
  {
   "cell_type": "code",
   "execution_count": 75,
   "metadata": {},
   "outputs": [
    {
     "name": "stdout",
     "output_type": "stream",
     "text": [
      "tensor(True)\n",
      "tensor(True)\n"
     ]
    }
   ],
   "source": [
    "item = rdm.train_dataset[10]\n",
    "print(torch.all(torch.isin(item['var_indices'], train_var)))\n",
    "print(torch.all(~torch.isin(item['var_indices'], test_var)))"
   ]
  },
  {
   "cell_type": "code",
   "execution_count": 76,
   "metadata": {},
   "outputs": [
    {
     "name": "stdout",
     "output_type": "stream",
     "text": [
      "tensor(True)\n",
      "tensor(True)\n"
     ]
    }
   ],
   "source": [
    "item = rdm.train_dataset[10]\n",
    "mask_var = item['var_indices'][item['mask']]\n",
    "print(torch.all(torch.isin(mask_var, train_var)))\n",
    "print(torch.all(~torch.isin(mask_var, test_var)))"
   ]
  },
  {
   "cell_type": "code",
   "execution_count": 77,
   "metadata": {},
   "outputs": [
    {
     "name": "stdout",
     "output_type": "stream",
     "text": [
      "tensor(True)\n",
      "tensor(True)\n"
     ]
    }
   ],
   "source": [
    "item = rdm.val_dataset[10]\n",
    "mask_var = item['var_indices'][item['mask']]\n",
    "print(torch.all(~torch.isin(mask_var, train_var)))\n",
    "print(torch.all(torch.isin(mask_var, test_var)))"
   ]
  },
  {
   "attachments": {},
   "cell_type": "markdown",
   "metadata": {},
   "source": [
    "#### Look at predict dataset"
   ]
  },
  {
   "cell_type": "code",
   "execution_count": 78,
   "metadata": {},
   "outputs": [
    {
     "name": "stdout",
     "output_type": "stream",
     "text": [
      "tensor(5792)\n",
      "19431\n"
     ]
    }
   ],
   "source": [
    "item = rdm.predict_dataset[0]\n",
    "print(item['mask'].sum())\n",
    "print(len(item['mask']))"
   ]
  },
  {
   "cell_type": "code",
   "execution_count": 80,
   "metadata": {},
   "outputs": [
    {
     "name": "stdout",
     "output_type": "stream",
     "text": [
      "tensor(True)\n",
      "tensor(True)\n",
      "tensor(True)\n"
     ]
    }
   ],
   "source": [
    "item = rdm.predict_dataset[10]\n",
    "mask_var = item['var_indices'][item['mask']]\n",
    "print(torch.all(~torch.isin(mask_var, train_var)))\n",
    "print(torch.all(torch.isin(mask_var, test_var)))\n",
    "print(torch.all(torch.isin(test_var, mask_var)))"
   ]
  },
  {
   "cell_type": "code",
   "execution_count": 81,
   "metadata": {},
   "outputs": [
    {
     "name": "stderr",
     "output_type": "stream",
     "text": [
      "100%|██████████| 97/97 [00:00<00:00, 130.20it/s]\n"
     ]
    }
   ],
   "source": [
    "expression = []\n",
    "expression_masked = []\n",
    "for item in tqdm(rdm.predict_dataset):\n",
    "    expression.append(item['expression_target'])\n",
    "    expression_masked.append(item['expression_target'][item['mask']])\n",
    "expression = torch.stack(expression, dim=0)\n",
    "expression_masked = torch.stack(expression_masked, dim=0)\n",
    "values, counts = torch.unique(expression, return_counts=True)\n",
    "values, counts_masked = torch.unique(expression_masked, return_counts=True)\n",
    "counts = counts / counts.sum()\n",
    "counts_masked = counts_masked / counts_masked.sum()"
   ]
  },
  {
   "cell_type": "code",
   "execution_count": 82,
   "metadata": {},
   "outputs": [
    {
     "data": {
      "text/plain": [
       "[<matplotlib.lines.Line2D at 0x33e284100>]"
      ]
     },
     "execution_count": 82,
     "metadata": {},
     "output_type": "execute_result"
    },
    {
     "data": {
      "image/png": "[encoded data removed]",
      "text/plain": [
       "<Figure size 640x480 with 1 Axes>"
      ]
     },
     "metadata": {},
     "output_type": "display_data"
    }
   ],
   "source": [
    "plt.plot(counts)\n",
    "plt.plot(counts_masked)"
   ]
  },
  {
   "cell_type": "code",
   "execution_count": null,
   "metadata": {},
   "outputs": [],
   "source": []
  },
  {
   "cell_type": "code",
   "execution_count": null,
   "metadata": {},
   "outputs": [],
   "source": []
  },
  {
   "cell_type": "code",
   "execution_count": null,
   "metadata": {},
   "outputs": [],
   "source": []
  },
  {
   "cell_type": "code",
   "execution_count": null,
   "metadata": {},
   "outputs": [],
   "source": []
  },
  {
   "cell_type": "code",
   "execution_count": null,
   "metadata": {},
   "outputs": [],
   "source": []
  },
  {
   "cell_type": "code",
   "execution_count": null,
   "metadata": {},
   "outputs": [],
   "source": []
  },
  {
   "cell_type": "markdown",
   "metadata": {},
   "source": [
    "## More"
   ]
  },
  {
   "cell_type": "code",
   "execution_count": null,
   "metadata": {},
   "outputs": [],
   "source": [
    "import torch"
   ]
  },
  {
   "cell_type": "code",
   "execution_count": null,
   "metadata": {},
   "outputs": [],
   "source": [
    "torch.unique(rdm.val_dataset[0]['expression'], return_counts=True)"
   ]
  },
  {
   "cell_type": "code",
   "execution_count": null,
   "metadata": {},
   "outputs": [],
   "source": [
    "rdm.val_dataset[0]"
   ]
  },
  {
   "cell_type": "code",
   "execution_count": null,
   "metadata": {},
   "outputs": [],
   "source": [
    "tensor = torch.Tensor(rdm.val_dataset.expression[4].toarray())"
   ]
  },
  {
   "cell_type": "code",
   "execution_count": null,
   "metadata": {},
   "outputs": [],
   "source": [
    "import numpy as np"
   ]
  },
  {
   "cell_type": "code",
   "execution_count": null,
   "metadata": {},
   "outputs": [],
   "source": [
    "val, counts = torch.unique(tensor, return_counts=True)"
   ]
  },
  {
   "cell_type": "code",
   "execution_count": null,
   "metadata": {},
   "outputs": [],
   "source": [
    "n_bins = 16"
   ]
  },
  {
   "cell_type": "code",
   "execution_count": null,
   "metadata": {},
   "outputs": [],
   "source": [
    "# Put all zero values in their own bin and then distribute others evenly\n",
    "boundaries = torch.quantile(tensor[tensor>0], torch.linspace(0, 1, n_bins))\n",
    "boundaries = torch.concat([torch.tensor([0]), boundaries])\n",
    "boundaries[-1] = torch.inf\n",
    "aa = torch.bucketize(tensor, boundaries, right=True) - 1\n",
    "torch.unique(aa, return_counts=True)"
   ]
  },
  {
   "cell_type": "code",
   "execution_count": null,
   "metadata": {},
   "outputs": [],
   "source": [
    "# Put all zero values in their own bin and then distribute others evenly\n",
    "boundaries = torch.quantile(tensor, torch.linspace(0, 1, n_bins))\n",
    "ab = torch.bucketize(tensor, boundaries)\n",
    "torch.unique(ab, return_counts=True)"
   ]
  },
  {
   "cell_type": "code",
   "execution_count": null,
   "metadata": {},
   "outputs": [],
   "source": [
    "boundaries = torch.quantile(tensor[tensor>0], torch.linspace(0, 1, n_bins - 1))\n",
    "tmp = torch.bucketize(tensor[tensor>0], boundaries) + 1\n",
    "new = torch.zeros_like(tensor).long()\n",
    "new[tensor > 0] = tmp\n",
    "torch.unique(new, return_counts=True)"
   ]
  },
  {
   "cell_type": "code",
   "execution_count": null,
   "metadata": {},
   "outputs": [],
   "source": [
    "torch.quantile(tensor, torch.linspace(0, 1, n_bins))"
   ]
  },
  {
   "cell_type": "code",
   "execution_count": null,
   "metadata": {},
   "outputs": [],
   "source": []
  },
  {
   "cell_type": "code",
   "execution_count": null,
   "metadata": {},
   "outputs": [],
   "source": [
    "torch.unique(aa, return_counts=True)"
   ]
  },
  {
   "cell_type": "code",
   "execution_count": null,
   "metadata": {},
   "outputs": [],
   "source": [
    "boundaries"
   ]
  },
  {
   "cell_type": "code",
   "execution_count": null,
   "metadata": {},
   "outputs": [],
   "source": [
    "import matplotlib.pyplot as plt"
   ]
  },
  {
   "cell_type": "code",
   "execution_count": null,
   "metadata": {},
   "outputs": [],
   "source": [
    "plt.bar(val, counts)\n",
    "plt.ylim([0, 50]);"
   ]
  },
  {
   "cell_type": "code",
   "execution_count": null,
   "metadata": {},
   "outputs": [],
   "source": [
    "torch.quantile(tensor, torch.linspace(0, 1, n_bins))"
   ]
  },
  {
   "cell_type": "code",
   "execution_count": null,
   "metadata": {},
   "outputs": [],
   "source": [
    "torch.quantile(tensor, torch.logspace(0, .301, n_bins) - 1)"
   ]
  },
  {
   "cell_type": "code",
   "execution_count": null,
   "metadata": {},
   "outputs": [],
   "source": [
    "torch.logspace(0, .301, n_bins) - 1"
   ]
  },
  {
   "cell_type": "code",
   "execution_count": null,
   "metadata": {},
   "outputs": [],
   "source": [
    "10**2"
   ]
  },
  {
   "cell_type": "code",
   "execution_count": null,
   "metadata": {},
   "outputs": [],
   "source": []
  },
  {
   "cell_type": "code",
   "execution_count": null,
   "metadata": {},
   "outputs": [],
   "source": []
  },
  {
   "cell_type": "code",
   "execution_count": null,
   "metadata": {},
   "outputs": [],
   "source": [
    "from rosa.utils import score_predictions, plot_expression_and_correlation, plot_marker_gene_heatmap\n",
    "\n",
    "\n",
    "adata_test, results = score_predictions(adata)"
   ]
  },
  {
   "cell_type": "code",
   "execution_count": null,
   "metadata": {},
   "outputs": [],
   "source": [
    "plot_expression_and_correlation(adata_test, results)"
   ]
  },
  {
   "cell_type": "code",
   "execution_count": null,
   "metadata": {},
   "outputs": [],
   "source": [
    "import numpy as np\n",
    "\n",
    "\n",
    "marker_genes = adata_test.var[adata_test.var['highly_variable']]['feature_name'].values\n",
    "np.random.seed(42)\n",
    "marker_genes = np.random.choice(marker_genes, 50)\n",
    "\n",
    "plot_marker_gene_heatmap(adata_test, marker_genes)"
   ]
  },
  {
   "cell_type": "code",
   "execution_count": null,
   "metadata": {},
   "outputs": [],
   "source": [
    "marker_genes_dict = adata_test.obs.set_index('label').to_dict()['marker_feature_name']\n",
    "plot_marker_gene_heatmap(adata_test, marker_genes_dict)"
   ]
  },
  {
   "cell_type": "code",
   "execution_count": null,
   "metadata": {},
   "outputs": [],
   "source": []
  },
  {
   "cell_type": "code",
   "execution_count": null,
   "metadata": {},
   "outputs": [],
   "source": []
  }
 ],
 "metadata": {
  "kernelspec": {
   "display_name": "multiomics",
   "language": "python",
   "name": "python3"
  },
  "language_info": {
   "codemirror_mode": {
    "name": "ipython",
    "version": 3
   },
   "file_extension": ".py",
   "mimetype": "text/x-python",
   "name": "python",
   "nbconvert_exporter": "python",
   "pygments_lexer": "ipython3",
   "version": "3.9.13"
  },
  "orig_nbformat": 4,
  "vscode": {
   "interpreter": {
    "hash": "5c78ef6e1dc348573331f887aa1706c62aacac0373dba7ce1cc27999251039c5"
   }
  }
 },
 "nbformat": 4,
 "nbformat_minor": 2
}
