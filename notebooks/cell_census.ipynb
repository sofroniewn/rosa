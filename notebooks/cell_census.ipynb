{
 "cells": [
  {
   "cell_type": "code",
   "execution_count": 13,
   "metadata": {},
   "outputs": [],
   "source": [
    "import cellxgene_census\n",
    "from pathlib import Path\n",
    "\n",
    "\n",
    "BASE = \"/home/ec2-user/cell_census\"  # \"/Users/nsofroniew/Documents/data/multiomics/cell_census\"\n",
    "DATASET = \"tabula_musculus\"\n",
    "\n",
    "dataset_id = \"48b37086-25f7-4ecd-be66-f5bb378e3aea\" # tabula muris all\n",
    "organism = \"Mus musculus\"\n",
    "\n",
    "# dataset_id = \"53d208b0-2cfd-4366-9866-c3c6114081bc\" # tabula sapiens all \n",
    "# organism = \"Homo sapiens\"\n",
    "\n",
    "path = Path(BASE) / (DATASET + \".h5ad\")"
   ]
  },
  {
   "cell_type": "code",
   "execution_count": 10,
   "metadata": {},
   "outputs": [
    {
     "name": "stderr",
     "output_type": "stream",
     "text": [
      "The \"stable\" Census version is not yet available. Using \"latest\" Census version instead.\n",
      "The \"latest\" release is currently 2023-04-25. Specify 'census_version=\"2023-04-25\"' in future calls to open_soma() to ensure data consistency.\n"
     ]
    }
   ],
   "source": [
    "with cellxgene_census.open_soma() as census:\n",
    "    adata = cellxgene_census.get_anndata(\n",
    "        census = census,\n",
    "        organism = organism,\n",
    "        obs_value_filter = f\"dataset_id == '{dataset_id}'\",\n",
    "    )"
   ]
  },
  {
   "cell_type": "code",
   "execution_count": 12,
   "metadata": {},
   "outputs": [
    {
     "data": {
      "text/plain": [
       "(245389, 52392)"
      ]
     },
     "execution_count": 12,
     "metadata": {},
     "output_type": "execute_result"
    }
   ],
   "source": [
    "adata.shape"
   ]
  },
  {
   "cell_type": "code",
   "execution_count": 15,
   "metadata": {},
   "outputs": [
    {
     "name": "stdout",
     "output_type": "stream",
     "text": [
      "Save adata\n"
     ]
    }
   ],
   "source": [
    "# Save anndata object\n",
    "print(\"Save adata\")\n",
    "adata.write(path)"
   ]
  },
  {
   "cell_type": "code",
   "execution_count": null,
   "metadata": {},
   "outputs": [],
   "source": []
  },
  {
   "cell_type": "code",
   "execution_count": 16,
   "metadata": {},
   "outputs": [],
   "source": [
    "from pyensembl import EnsemblRelease"
   ]
  },
  {
   "cell_type": "code",
   "execution_count": 28,
   "metadata": {},
   "outputs": [],
   "source": [
    "genome = EnsemblRelease(109, species='Mouse')"
   ]
  },
  {
   "cell_type": "code",
   "execution_count": 29,
   "metadata": {},
   "outputs": [
    {
     "data": {
      "text/plain": [
       "EnsemblRelease(release=109, species='mus_musculus')"
      ]
     },
     "execution_count": 29,
     "metadata": {},
     "output_type": "execute_result"
    }
   ],
   "source": [
    "genome.g"
   ]
  },
  {
   "cell_type": "code",
   "execution_count": null,
   "metadata": {},
   "outputs": [],
   "source": []
  }
 ],
 "metadata": {
  "kernelspec": {
   "display_name": "pytorch",
   "language": "python",
   "name": "python3"
  },
  "language_info": {
   "codemirror_mode": {
    "name": "ipython",
    "version": 3
   },
   "file_extension": ".py",
   "mimetype": "text/x-python",
   "name": "python",
   "nbconvert_exporter": "python",
   "pygments_lexer": "ipython3",
   "version": "3.9.13"
  },
  "orig_nbformat": 4
 },
 "nbformat": 4,
 "nbformat_minor": 2
}
